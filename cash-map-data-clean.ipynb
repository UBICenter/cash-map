{
 "cells": [
  {
   "cell_type": "code",
   "execution_count": 57,
   "metadata": {},
   "outputs": [],
   "source": [
    "import pandas as pd\n",
    "import numpy as np\n",
    "import plotly.graph_objects as go\n",
    "import plotly.express as px\n",
    "from plotly.subplots import make_subplots"
   ]
  },
  {
   "cell_type": "code",
   "execution_count": 2,
   "metadata": {},
   "outputs": [],
   "source": [
    "url = \"http://documents1.worldbank.org/curated/en/104411592570575580/Global-Database-on-Social-Protection-and-Jobs-Responses-to-COVID-19.xlsx\"\n",
    "raw_data = pd.ExcelFile(url)"
   ]
  },
  {
   "cell_type": "code",
   "execution_count": 20,
   "metadata": {},
   "outputs": [],
   "source": [
    "raw_social_assistance = pd.read_excel(raw_data, 'Social assistance measures', header = None)\n",
    "raw_social_assistance.dropna(axis = 0, how = 'all', inplace = True)"
   ]
  },
  {
   "cell_type": "code",
   "execution_count": 22,
   "metadata": {},
   "outputs": [],
   "source": [
    "sa_headers = raw_social_assistance.iloc[1:3].copy()\n",
    "sa_headers.fillna(method='pad', axis = 1, inplace = True)\n",
    "sa_headers.fillna('Project Data', inplace = True)"
   ]
  },
  {
   "cell_type": "code",
   "execution_count": 24,
   "metadata": {},
   "outputs": [
    {
     "data": {
      "text/html": [
       "<div>\n",
       "<style scoped>\n",
       "    .dataframe tbody tr th:only-of-type {\n",
       "        vertical-align: middle;\n",
       "    }\n",
       "\n",
       "    .dataframe tbody tr th {\n",
       "        vertical-align: top;\n",
       "    }\n",
       "\n",
       "    .dataframe thead tr th {\n",
       "        text-align: left;\n",
       "    }\n",
       "</style>\n",
       "<table border=\"1\" class=\"dataframe\">\n",
       "  <thead>\n",
       "    <tr>\n",
       "      <th>Category</th>\n",
       "      <th colspan=\"10\" halign=\"left\">Project Data</th>\n",
       "      <th>...</th>\n",
       "      <th>School feeding</th>\n",
       "      <th colspan=\"9\" halign=\"left\">Utility support</th>\n",
       "    </tr>\n",
       "    <tr>\n",
       "      <th>Variable</th>\n",
       "      <th>Countries</th>\n",
       "      <th>Region</th>\n",
       "      <th>Income level</th>\n",
       "      <th>population</th>\n",
       "      <th>average hh size</th>\n",
       "      <th>GDPpc (local currency)</th>\n",
       "      <th># SA programs</th>\n",
       "      <th>Total SA spending (US$)</th>\n",
       "      <th>Social assistance # of ben in millions</th>\n",
       "      <th>Ben unit</th>\n",
       "      <th>...</th>\n",
       "      <th>Source</th>\n",
       "      <th>utility support Buget allocation (US$)</th>\n",
       "      <th>Utility support function</th>\n",
       "      <th>Start date</th>\n",
       "      <th>End date</th>\n",
       "      <th>Program status (planned, ongoing or ended)</th>\n",
       "      <th>Planned beneficiaries (ind)</th>\n",
       "      <th>Actual beneficiaries (ind)</th>\n",
       "      <th>Utility and financial obligation support (waiver/postponement) description</th>\n",
       "      <th>Source</th>\n",
       "    </tr>\n",
       "  </thead>\n",
       "  <tbody>\n",
       "    <tr>\n",
       "      <th>0</th>\n",
       "      <td>Afghanistan</td>\n",
       "      <td>SAR</td>\n",
       "      <td>LIC</td>\n",
       "      <td>37172386</td>\n",
       "      <td>8</td>\n",
       "      <td>41152.4</td>\n",
       "      <td>0</td>\n",
       "      <td>0</td>\n",
       "      <td>2500000</td>\n",
       "      <td>ind</td>\n",
       "      <td>...</td>\n",
       "      <td>NaN</td>\n",
       "      <td>NaN</td>\n",
       "      <td>NaN</td>\n",
       "      <td>NaN</td>\n",
       "      <td>NaN</td>\n",
       "      <td>NaN</td>\n",
       "      <td>NaN</td>\n",
       "      <td>NaN</td>\n",
       "      <td>NaN</td>\n",
       "      <td>NaN</td>\n",
       "    </tr>\n",
       "    <tr>\n",
       "      <th>1</th>\n",
       "      <td>Albania</td>\n",
       "      <td>ECA</td>\n",
       "      <td>UMIC</td>\n",
       "      <td>2866376</td>\n",
       "      <td>3.65957</td>\n",
       "      <td>594268</td>\n",
       "      <td>0</td>\n",
       "      <td>0</td>\n",
       "      <td>NaN</td>\n",
       "      <td>NaN</td>\n",
       "      <td>...</td>\n",
       "      <td>NaN</td>\n",
       "      <td>NaN</td>\n",
       "      <td>new/ad hoc</td>\n",
       "      <td>2020-03-26 00:00:00</td>\n",
       "      <td>NaN</td>\n",
       "      <td>NaN</td>\n",
       "      <td>772258</td>\n",
       "      <td>NaN</td>\n",
       "      <td>Decision No. 58 date 26.3.2020 of the Energy R...</td>\n",
       "      <td>https://www.reuters.com/article/health-coronav...</td>\n",
       "    </tr>\n",
       "    <tr>\n",
       "      <th>2</th>\n",
       "      <td>Albania</td>\n",
       "      <td>ECA</td>\n",
       "      <td>UMIC</td>\n",
       "      <td>2866376</td>\n",
       "      <td>3.65957</td>\n",
       "      <td>594268</td>\n",
       "      <td>NaN</td>\n",
       "      <td>0</td>\n",
       "      <td>NaN</td>\n",
       "      <td>NaN</td>\n",
       "      <td>...</td>\n",
       "      <td>NaN</td>\n",
       "      <td>NaN</td>\n",
       "      <td>new/ad hoc</td>\n",
       "      <td>2020-03-15 00:00:00</td>\n",
       "      <td>NaN</td>\n",
       "      <td>NaN</td>\n",
       "      <td>NaN</td>\n",
       "      <td>NaN</td>\n",
       "      <td>Normative Act No.3, date 15.3.2020, ‘On specia...</td>\n",
       "      <td>NaN</td>\n",
       "    </tr>\n",
       "    <tr>\n",
       "      <th>3</th>\n",
       "      <td>Algeria</td>\n",
       "      <td>MNA</td>\n",
       "      <td>UMIC</td>\n",
       "      <td>42228429</td>\n",
       "      <td>NaN</td>\n",
       "      <td>471018</td>\n",
       "      <td>0</td>\n",
       "      <td>0</td>\n",
       "      <td>NaN</td>\n",
       "      <td>NaN</td>\n",
       "      <td>...</td>\n",
       "      <td>NaN</td>\n",
       "      <td>NaN</td>\n",
       "      <td>NaN</td>\n",
       "      <td>NaN</td>\n",
       "      <td>NaN</td>\n",
       "      <td>NaN</td>\n",
       "      <td>NaN</td>\n",
       "      <td>NaN</td>\n",
       "      <td>NaN</td>\n",
       "      <td>NaN</td>\n",
       "    </tr>\n",
       "    <tr>\n",
       "      <th>4</th>\n",
       "      <td>Algeria</td>\n",
       "      <td>MNA</td>\n",
       "      <td>UMIC</td>\n",
       "      <td>42228429</td>\n",
       "      <td>5.9</td>\n",
       "      <td>471018</td>\n",
       "      <td>NaN</td>\n",
       "      <td>171875000</td>\n",
       "      <td>12980000</td>\n",
       "      <td>ind</td>\n",
       "      <td>...</td>\n",
       "      <td>NaN</td>\n",
       "      <td>NaN</td>\n",
       "      <td>NaN</td>\n",
       "      <td>NaN</td>\n",
       "      <td>NaN</td>\n",
       "      <td>NaN</td>\n",
       "      <td>NaN</td>\n",
       "      <td>NaN</td>\n",
       "      <td>NaN</td>\n",
       "      <td>NaN</td>\n",
       "    </tr>\n",
       "    <tr>\n",
       "      <th>...</th>\n",
       "      <td>...</td>\n",
       "      <td>...</td>\n",
       "      <td>...</td>\n",
       "      <td>...</td>\n",
       "      <td>...</td>\n",
       "      <td>...</td>\n",
       "      <td>...</td>\n",
       "      <td>...</td>\n",
       "      <td>...</td>\n",
       "      <td>...</td>\n",
       "      <td>...</td>\n",
       "      <td>...</td>\n",
       "      <td>...</td>\n",
       "      <td>...</td>\n",
       "      <td>...</td>\n",
       "      <td>...</td>\n",
       "      <td>...</td>\n",
       "      <td>...</td>\n",
       "      <td>...</td>\n",
       "      <td>...</td>\n",
       "      <td>...</td>\n",
       "    </tr>\n",
       "    <tr>\n",
       "      <th>380</th>\n",
       "      <td>Vietnam</td>\n",
       "      <td>EAP</td>\n",
       "      <td>LMIC</td>\n",
       "      <td>95540397</td>\n",
       "      <td>NaN</td>\n",
       "      <td>6.37218e+07</td>\n",
       "      <td>NaN</td>\n",
       "      <td>0</td>\n",
       "      <td>NaN</td>\n",
       "      <td>NaN</td>\n",
       "      <td>...</td>\n",
       "      <td>NaN</td>\n",
       "      <td>NaN</td>\n",
       "      <td>NaN</td>\n",
       "      <td>NaN</td>\n",
       "      <td>NaN</td>\n",
       "      <td>NaN</td>\n",
       "      <td>NaN</td>\n",
       "      <td>NaN</td>\n",
       "      <td>NaN</td>\n",
       "      <td>NaN</td>\n",
       "    </tr>\n",
       "    <tr>\n",
       "      <th>381</th>\n",
       "      <td>West Bank and Gaza</td>\n",
       "      <td>MNA</td>\n",
       "      <td>LMIC</td>\n",
       "      <td>4569087</td>\n",
       "      <td>4</td>\n",
       "      <td>NaN</td>\n",
       "      <td>0</td>\n",
       "      <td>0</td>\n",
       "      <td>36000</td>\n",
       "      <td>ind</td>\n",
       "      <td>...</td>\n",
       "      <td>NaN</td>\n",
       "      <td>NaN</td>\n",
       "      <td>new/ad hoc</td>\n",
       "      <td>NaN</td>\n",
       "      <td>NaN</td>\n",
       "      <td>NaN</td>\n",
       "      <td>NaN</td>\n",
       "      <td>NaN</td>\n",
       "      <td>Cancel penalties for late submission of tax re...</td>\n",
       "      <td>COVID-19 and the world of work. Country policy...</td>\n",
       "    </tr>\n",
       "    <tr>\n",
       "      <th>382</th>\n",
       "      <td>Zambia</td>\n",
       "      <td>AFR</td>\n",
       "      <td>LMIC</td>\n",
       "      <td>17351822</td>\n",
       "      <td>5.31762</td>\n",
       "      <td>17111.3</td>\n",
       "      <td>0</td>\n",
       "      <td>0</td>\n",
       "      <td>NaN</td>\n",
       "      <td>NaN</td>\n",
       "      <td>...</td>\n",
       "      <td>NaN</td>\n",
       "      <td>NaN</td>\n",
       "      <td>new/ad hoc</td>\n",
       "      <td>NaN</td>\n",
       "      <td>NaN</td>\n",
       "      <td>NaN</td>\n",
       "      <td>NaN</td>\n",
       "      <td>NaN</td>\n",
       "      <td>Waived charges for person to person electronic...</td>\n",
       "      <td>ZambiaGovernment and institution measures in r...</td>\n",
       "    </tr>\n",
       "    <tr>\n",
       "      <th>383</th>\n",
       "      <td>Zimbabwe</td>\n",
       "      <td>AFR</td>\n",
       "      <td>LMIC</td>\n",
       "      <td>14439018</td>\n",
       "      <td>4.1</td>\n",
       "      <td>6538.61</td>\n",
       "      <td>NaN</td>\n",
       "      <td>0</td>\n",
       "      <td>4.1e+06</td>\n",
       "      <td>ind</td>\n",
       "      <td>...</td>\n",
       "      <td>NaN</td>\n",
       "      <td>NaN</td>\n",
       "      <td>NaN</td>\n",
       "      <td>NaN</td>\n",
       "      <td>NaN</td>\n",
       "      <td>NaN</td>\n",
       "      <td>NaN</td>\n",
       "      <td>NaN</td>\n",
       "      <td>NaN</td>\n",
       "      <td>NaN</td>\n",
       "    </tr>\n",
       "    <tr>\n",
       "      <th>384</th>\n",
       "      <td>Zimbabwe</td>\n",
       "      <td>AFR</td>\n",
       "      <td>LMIC</td>\n",
       "      <td>14439018</td>\n",
       "      <td>4.1</td>\n",
       "      <td>6538.61</td>\n",
       "      <td>0</td>\n",
       "      <td>1650000</td>\n",
       "      <td>NaN</td>\n",
       "      <td>NaN</td>\n",
       "      <td>...</td>\n",
       "      <td>NaN</td>\n",
       "      <td>NaN</td>\n",
       "      <td>NaN</td>\n",
       "      <td>NaN</td>\n",
       "      <td>NaN</td>\n",
       "      <td>NaN</td>\n",
       "      <td>NaN</td>\n",
       "      <td>NaN</td>\n",
       "      <td>NaN</td>\n",
       "      <td>NaN</td>\n",
       "    </tr>\n",
       "  </tbody>\n",
       "</table>\n",
       "<p>385 rows × 88 columns</p>\n",
       "</div>"
      ],
      "text/plain": [
       "Category        Project Data                                                 \\\n",
       "Variable           Countries Region Income level population average hh size   \n",
       "0                Afghanistan    SAR          LIC   37172386               8   \n",
       "1                   Albania     ECA         UMIC    2866376         3.65957   \n",
       "2                   Albania     ECA         UMIC    2866376         3.65957   \n",
       "3                    Algeria    MNA         UMIC   42228429             NaN   \n",
       "4                    Algeria    MNA         UMIC   42228429             5.9   \n",
       "..                       ...    ...          ...        ...             ...   \n",
       "380                  Vietnam    EAP         LMIC   95540397             NaN   \n",
       "381       West Bank and Gaza    MNA         LMIC    4569087               4   \n",
       "382                   Zambia    AFR         LMIC   17351822         5.31762   \n",
       "383                 Zimbabwe    AFR         LMIC   14439018             4.1   \n",
       "384                 Zimbabwe    AFR         LMIC   14439018             4.1   \n",
       "\n",
       "Category                                                               \\\n",
       "Variable GDPpc (local currency) # SA programs Total SA spending (US$)   \n",
       "0                       41152.4             0                       0   \n",
       "1                        594268             0                       0   \n",
       "2                        594268           NaN                       0   \n",
       "3                        471018             0                       0   \n",
       "4                        471018           NaN               171875000   \n",
       "..                          ...           ...                     ...   \n",
       "380                 6.37218e+07           NaN                       0   \n",
       "381                         NaN             0                       0   \n",
       "382                     17111.3             0                       0   \n",
       "383                     6538.61           NaN                       0   \n",
       "384                     6538.61             0                 1650000   \n",
       "\n",
       "Category                                                  ... School feeding  \\\n",
       "Variable Social assistance # of ben in millions Ben unit  ...         Source   \n",
       "0                                       2500000      ind  ...            NaN   \n",
       "1                                           NaN      NaN  ...            NaN   \n",
       "2                                           NaN      NaN  ...            NaN   \n",
       "3                                           NaN      NaN  ...            NaN   \n",
       "4                                      12980000      ind  ...            NaN   \n",
       "..                                          ...      ...  ...            ...   \n",
       "380                                         NaN      NaN  ...            NaN   \n",
       "381                                       36000      ind  ...            NaN   \n",
       "382                                         NaN      NaN  ...            NaN   \n",
       "383                                     4.1e+06      ind  ...            NaN   \n",
       "384                                         NaN      NaN  ...            NaN   \n",
       "\n",
       "Category                        Utility support                           \\\n",
       "Variable utility support Buget allocation (US$) Utility support function   \n",
       "0                                           NaN                      NaN   \n",
       "1                                           NaN               new/ad hoc   \n",
       "2                                           NaN               new/ad hoc   \n",
       "3                                           NaN                      NaN   \n",
       "4                                           NaN                      NaN   \n",
       "..                                          ...                      ...   \n",
       "380                                         NaN                      NaN   \n",
       "381                                         NaN               new/ad hoc   \n",
       "382                                         NaN               new/ad hoc   \n",
       "383                                         NaN                      NaN   \n",
       "384                                         NaN                      NaN   \n",
       "\n",
       "Category                                \\\n",
       "Variable           Start date End date   \n",
       "0                         NaN      NaN   \n",
       "1         2020-03-26 00:00:00      NaN   \n",
       "2         2020-03-15 00:00:00      NaN   \n",
       "3                         NaN      NaN   \n",
       "4                         NaN      NaN   \n",
       "..                        ...      ...   \n",
       "380                       NaN      NaN   \n",
       "381                       NaN      NaN   \n",
       "382                       NaN      NaN   \n",
       "383                       NaN      NaN   \n",
       "384                       NaN      NaN   \n",
       "\n",
       "Category                                             \\\n",
       "Variable Program status (planned, ongoing or ended)   \n",
       "0                                               NaN   \n",
       "1                                               NaN   \n",
       "2                                               NaN   \n",
       "3                                               NaN   \n",
       "4                                               NaN   \n",
       "..                                              ...   \n",
       "380                                             NaN   \n",
       "381                                             NaN   \n",
       "382                                             NaN   \n",
       "383                                             NaN   \n",
       "384                                             NaN   \n",
       "\n",
       "Category                                                         \\\n",
       "Variable Planned beneficiaries (ind) Actual beneficiaries (ind)   \n",
       "0                                NaN                        NaN   \n",
       "1                             772258                        NaN   \n",
       "2                                NaN                        NaN   \n",
       "3                                NaN                        NaN   \n",
       "4                                NaN                        NaN   \n",
       "..                               ...                        ...   \n",
       "380                              NaN                        NaN   \n",
       "381                              NaN                        NaN   \n",
       "382                              NaN                        NaN   \n",
       "383                              NaN                        NaN   \n",
       "384                              NaN                        NaN   \n",
       "\n",
       "Category                                                                             \\\n",
       "Variable Utility and financial obligation support (waiver/postponement) description   \n",
       "0                                                       NaN                           \n",
       "1         Decision No. 58 date 26.3.2020 of the Energy R...                           \n",
       "2         Normative Act No.3, date 15.3.2020, ‘On specia...                           \n",
       "3                                                       NaN                           \n",
       "4                                                       NaN                           \n",
       "..                                                      ...                           \n",
       "380                                                     NaN                           \n",
       "381       Cancel penalties for late submission of tax re...                           \n",
       "382       Waived charges for person to person electronic...                           \n",
       "383                                                     NaN                           \n",
       "384                                                     NaN                           \n",
       "\n",
       "Category                                                     \n",
       "Variable                                             Source  \n",
       "0                                                       NaN  \n",
       "1         https://www.reuters.com/article/health-coronav...  \n",
       "2                                                       NaN  \n",
       "3                                                       NaN  \n",
       "4                                                       NaN  \n",
       "..                                                      ...  \n",
       "380                                                     NaN  \n",
       "381       COVID-19 and the world of work. Country policy...  \n",
       "382       ZambiaGovernment and institution measures in r...  \n",
       "383                                                     NaN  \n",
       "384                                                     NaN  \n",
       "\n",
       "[385 rows x 88 columns]"
      ]
     },
     "execution_count": 24,
     "metadata": {},
     "output_type": "execute_result"
    }
   ],
   "source": [
    "social_assistance = raw_social_assistance[3:].reset_index(drop = True)\n",
    "social_assistance.columns=pd.MultiIndex.from_frame(sa_headers.T, names = ['Category', 'Variable'])\n",
    "social_assistance.rename(columns=lambda x: x.strip(), inplace = True)\n",
    "social_assistance"
   ]
  },
  {
   "cell_type": "code",
   "execution_count": 25,
   "metadata": {},
   "outputs": [
    {
     "data": {
      "text/html": [
       "<div>\n",
       "<style scoped>\n",
       "    .dataframe tbody tr th:only-of-type {\n",
       "        vertical-align: middle;\n",
       "    }\n",
       "\n",
       "    .dataframe tbody tr th {\n",
       "        vertical-align: top;\n",
       "    }\n",
       "\n",
       "    .dataframe thead th {\n",
       "        text-align: right;\n",
       "    }\n",
       "</style>\n",
       "<table border=\"1\" class=\"dataframe\">\n",
       "  <thead>\n",
       "    <tr style=\"text-align: right;\">\n",
       "      <th>Variable</th>\n",
       "      <th>Countries</th>\n",
       "      <th>Region</th>\n",
       "      <th>Income level</th>\n",
       "      <th>population</th>\n",
       "      <th>average hh size</th>\n",
       "      <th>GDPpc (local currency)</th>\n",
       "      <th># SA programs</th>\n",
       "      <th>Total SA spending (US$)</th>\n",
       "      <th>Social assistance # of ben in millions</th>\n",
       "      <th>Ben unit</th>\n",
       "      <th>...</th>\n",
       "      <th>Transfers Adquacy (GDPpc)</th>\n",
       "      <th>Transfers % increase (C19 transfers increase compared to pre-C19)</th>\n",
       "      <th>CT Buget allocation (US$)</th>\n",
       "      <th>CT Nature</th>\n",
       "      <th>Start date</th>\n",
       "      <th>End date</th>\n",
       "      <th>Program status (planned, ongoing or ended)</th>\n",
       "      <th>Ben actual (ind)</th>\n",
       "      <th>CT measure description</th>\n",
       "      <th>Source</th>\n",
       "    </tr>\n",
       "  </thead>\n",
       "  <tbody>\n",
       "    <tr>\n",
       "      <th>1</th>\n",
       "      <td>Albania</td>\n",
       "      <td>ECA</td>\n",
       "      <td>UMIC</td>\n",
       "      <td>2866376</td>\n",
       "      <td>3.65957</td>\n",
       "      <td>594268</td>\n",
       "      <td>0</td>\n",
       "      <td>0</td>\n",
       "      <td>NaN</td>\n",
       "      <td>NaN</td>\n",
       "      <td>...</td>\n",
       "      <td>NaN</td>\n",
       "      <td>NaN</td>\n",
       "      <td>NaN</td>\n",
       "      <td>new/ad hoc</td>\n",
       "      <td>NaN</td>\n",
       "      <td>NaN</td>\n",
       "      <td>NaN</td>\n",
       "      <td>NaN</td>\n",
       "      <td>Self-employed families will receive a special ...</td>\n",
       "      <td>NaN</td>\n",
       "    </tr>\n",
       "    <tr>\n",
       "      <th>2</th>\n",
       "      <td>Albania</td>\n",
       "      <td>ECA</td>\n",
       "      <td>UMIC</td>\n",
       "      <td>2866376</td>\n",
       "      <td>3.65957</td>\n",
       "      <td>594268</td>\n",
       "      <td>NaN</td>\n",
       "      <td>0</td>\n",
       "      <td>NaN</td>\n",
       "      <td>NaN</td>\n",
       "      <td>...</td>\n",
       "      <td>NaN</td>\n",
       "      <td>1</td>\n",
       "      <td>NaN</td>\n",
       "      <td>Vertical expansion</td>\n",
       "      <td>NaN</td>\n",
       "      <td>NaN</td>\n",
       "      <td>NaN</td>\n",
       "      <td>NaN</td>\n",
       "      <td>Recipients of Ndihma Economike (flagship cash ...</td>\n",
       "      <td>NaN</td>\n",
       "    </tr>\n",
       "    <tr>\n",
       "      <th>3</th>\n",
       "      <td>Algeria</td>\n",
       "      <td>MNA</td>\n",
       "      <td>UMIC</td>\n",
       "      <td>42228429</td>\n",
       "      <td>NaN</td>\n",
       "      <td>471018</td>\n",
       "      <td>0</td>\n",
       "      <td>0</td>\n",
       "      <td>NaN</td>\n",
       "      <td>NaN</td>\n",
       "      <td>...</td>\n",
       "      <td>NaN</td>\n",
       "      <td>NaN</td>\n",
       "      <td>NaN</td>\n",
       "      <td>Admin simplification</td>\n",
       "      <td>NaN</td>\n",
       "      <td>NaN</td>\n",
       "      <td>NaN</td>\n",
       "      <td>NaN</td>\n",
       "      <td>To avoid crowding in post offices, beneficiari...</td>\n",
       "      <td>NaN</td>\n",
       "    </tr>\n",
       "    <tr>\n",
       "      <th>4</th>\n",
       "      <td>Algeria</td>\n",
       "      <td>MNA</td>\n",
       "      <td>UMIC</td>\n",
       "      <td>42228429</td>\n",
       "      <td>5.9</td>\n",
       "      <td>471018</td>\n",
       "      <td>NaN</td>\n",
       "      <td>171875000</td>\n",
       "      <td>12980000</td>\n",
       "      <td>ind</td>\n",
       "      <td>...</td>\n",
       "      <td>0.0254767</td>\n",
       "      <td>NaN</td>\n",
       "      <td>171875000</td>\n",
       "      <td>one-off</td>\n",
       "      <td>2020-04-13 00:00:00</td>\n",
       "      <td>duration of lockdown</td>\n",
       "      <td>ongoing</td>\n",
       "      <td>NaN</td>\n",
       "      <td>The President decided to allocate a benefit of...</td>\n",
       "      <td>http://www.premier-ministre.gov.dz/ar/premier-...</td>\n",
       "    </tr>\n",
       "    <tr>\n",
       "      <th>6</th>\n",
       "      <td>Angola</td>\n",
       "      <td>AFR</td>\n",
       "      <td>LMIC</td>\n",
       "      <td>30809762</td>\n",
       "      <td>5.16144</td>\n",
       "      <td>1.0447e+06</td>\n",
       "      <td>0</td>\n",
       "      <td>0</td>\n",
       "      <td>11,473</td>\n",
       "      <td>ind</td>\n",
       "      <td>...</td>\n",
       "      <td>0.0574329</td>\n",
       "      <td>0.666667</td>\n",
       "      <td>NaN</td>\n",
       "      <td>Vertical expansion and extra payment</td>\n",
       "      <td>2020-05-15 00:00:00</td>\n",
       "      <td>NaN</td>\n",
       "      <td>ongoing</td>\n",
       "      <td>11473</td>\n",
       "      <td>As part of a package of social protection resp...</td>\n",
       "      <td>NaN</td>\n",
       "    </tr>\n",
       "    <tr>\n",
       "      <th>...</th>\n",
       "      <td>...</td>\n",
       "      <td>...</td>\n",
       "      <td>...</td>\n",
       "      <td>...</td>\n",
       "      <td>...</td>\n",
       "      <td>...</td>\n",
       "      <td>...</td>\n",
       "      <td>...</td>\n",
       "      <td>...</td>\n",
       "      <td>...</td>\n",
       "      <td>...</td>\n",
       "      <td>...</td>\n",
       "      <td>...</td>\n",
       "      <td>...</td>\n",
       "      <td>...</td>\n",
       "      <td>...</td>\n",
       "      <td>...</td>\n",
       "      <td>...</td>\n",
       "      <td>...</td>\n",
       "      <td>...</td>\n",
       "      <td>...</td>\n",
       "    </tr>\n",
       "    <tr>\n",
       "      <th>379</th>\n",
       "      <td>Vietnam</td>\n",
       "      <td>EAP</td>\n",
       "      <td>LMIC</td>\n",
       "      <td>95540396</td>\n",
       "      <td>NaN</td>\n",
       "      <td>6.37218e+07</td>\n",
       "      <td>NaN</td>\n",
       "      <td>0</td>\n",
       "      <td>NaN</td>\n",
       "      <td>NaN</td>\n",
       "      <td>...</td>\n",
       "      <td>0.188319</td>\n",
       "      <td>NaN</td>\n",
       "      <td>NaN</td>\n",
       "      <td>new/ad hoc</td>\n",
       "      <td>2020-04-01 00:00:00</td>\n",
       "      <td>NaN</td>\n",
       "      <td>ongoing</td>\n",
       "      <td>NaN</td>\n",
       "      <td>Contracted employees/workers who lost jobs but...</td>\n",
       "      <td>NaN</td>\n",
       "    </tr>\n",
       "    <tr>\n",
       "      <th>380</th>\n",
       "      <td>Vietnam</td>\n",
       "      <td>EAP</td>\n",
       "      <td>LMIC</td>\n",
       "      <td>95540397</td>\n",
       "      <td>NaN</td>\n",
       "      <td>6.37218e+07</td>\n",
       "      <td>NaN</td>\n",
       "      <td>0</td>\n",
       "      <td>NaN</td>\n",
       "      <td>NaN</td>\n",
       "      <td>...</td>\n",
       "      <td>0.188319</td>\n",
       "      <td>NaN</td>\n",
       "      <td>NaN</td>\n",
       "      <td>new/ad hoc</td>\n",
       "      <td>2020-04-01 00:00:00</td>\n",
       "      <td>NaN</td>\n",
       "      <td>ongoing</td>\n",
       "      <td>NaN</td>\n",
       "      <td>Un-contracted workers (from informal sector) w...</td>\n",
       "      <td>NaN</td>\n",
       "    </tr>\n",
       "    <tr>\n",
       "      <th>381</th>\n",
       "      <td>West Bank and Gaza</td>\n",
       "      <td>MNA</td>\n",
       "      <td>LMIC</td>\n",
       "      <td>4569087</td>\n",
       "      <td>4</td>\n",
       "      <td>NaN</td>\n",
       "      <td>0</td>\n",
       "      <td>0</td>\n",
       "      <td>36000</td>\n",
       "      <td>ind</td>\n",
       "      <td>...</td>\n",
       "      <td>NaN</td>\n",
       "      <td>NaN</td>\n",
       "      <td>NaN</td>\n",
       "      <td>Horizontal expansion</td>\n",
       "      <td>NaN</td>\n",
       "      <td>NaN</td>\n",
       "      <td>NaN</td>\n",
       "      <td>NaN</td>\n",
       "      <td>The Palestinian Authority Ministry of Social D...</td>\n",
       "      <td>NaN</td>\n",
       "    </tr>\n",
       "    <tr>\n",
       "      <th>383</th>\n",
       "      <td>Zimbabwe</td>\n",
       "      <td>AFR</td>\n",
       "      <td>LMIC</td>\n",
       "      <td>14439018</td>\n",
       "      <td>4.1</td>\n",
       "      <td>6538.61</td>\n",
       "      <td>NaN</td>\n",
       "      <td>0</td>\n",
       "      <td>4.1e+06</td>\n",
       "      <td>ind</td>\n",
       "      <td>...</td>\n",
       "      <td>NaN</td>\n",
       "      <td>NaN</td>\n",
       "      <td>NaN</td>\n",
       "      <td>new/ad hoc</td>\n",
       "      <td>NaN</td>\n",
       "      <td>NaN</td>\n",
       "      <td>NaN</td>\n",
       "      <td>NaN</td>\n",
       "      <td>One-million households identified through the ...</td>\n",
       "      <td>COVID-19 and the world of work. Country policy...</td>\n",
       "    </tr>\n",
       "    <tr>\n",
       "      <th>384</th>\n",
       "      <td>Zimbabwe</td>\n",
       "      <td>AFR</td>\n",
       "      <td>LMIC</td>\n",
       "      <td>14439018</td>\n",
       "      <td>4.1</td>\n",
       "      <td>6538.61</td>\n",
       "      <td>0</td>\n",
       "      <td>1650000</td>\n",
       "      <td>NaN</td>\n",
       "      <td>NaN</td>\n",
       "      <td>...</td>\n",
       "      <td>NaN</td>\n",
       "      <td>NaN</td>\n",
       "      <td>1650000</td>\n",
       "      <td>new/ad hoc</td>\n",
       "      <td>NaN</td>\n",
       "      <td>NaN</td>\n",
       "      <td>NaN</td>\n",
       "      <td>NaN</td>\n",
       "      <td>On 31 March, the Government of Zimbabwe announ...</td>\n",
       "      <td>NaN</td>\n",
       "    </tr>\n",
       "  </tbody>\n",
       "</table>\n",
       "<p>284 rows × 26 columns</p>\n",
       "</div>"
      ],
      "text/plain": [
       "Variable           Countries Region Income level population average hh size  \\\n",
       "1                    Albania    ECA         UMIC    2866376         3.65957   \n",
       "2                    Albania    ECA         UMIC    2866376         3.65957   \n",
       "3                    Algeria    MNA         UMIC   42228429             NaN   \n",
       "4                    Algeria    MNA         UMIC   42228429             5.9   \n",
       "6                     Angola    AFR         LMIC   30809762         5.16144   \n",
       "..                       ...    ...          ...        ...             ...   \n",
       "379                  Vietnam    EAP         LMIC   95540396             NaN   \n",
       "380                  Vietnam    EAP         LMIC   95540397             NaN   \n",
       "381       West Bank and Gaza    MNA         LMIC    4569087               4   \n",
       "383                 Zimbabwe    AFR         LMIC   14439018             4.1   \n",
       "384                 Zimbabwe    AFR         LMIC   14439018             4.1   \n",
       "\n",
       "Variable GDPpc (local currency) # SA programs Total SA spending (US$)  \\\n",
       "1                        594268             0                       0   \n",
       "2                        594268           NaN                       0   \n",
       "3                        471018             0                       0   \n",
       "4                        471018           NaN               171875000   \n",
       "6                    1.0447e+06             0                       0   \n",
       "..                          ...           ...                     ...   \n",
       "379                 6.37218e+07           NaN                       0   \n",
       "380                 6.37218e+07           NaN                       0   \n",
       "381                         NaN             0                       0   \n",
       "383                     6538.61           NaN                       0   \n",
       "384                     6538.61             0                 1650000   \n",
       "\n",
       "Variable Social assistance # of ben in millions Ben unit  ...  \\\n",
       "1                                           NaN      NaN  ...   \n",
       "2                                           NaN      NaN  ...   \n",
       "3                                           NaN      NaN  ...   \n",
       "4                                      12980000      ind  ...   \n",
       "6                                       11,473       ind  ...   \n",
       "..                                          ...      ...  ...   \n",
       "379                                         NaN      NaN  ...   \n",
       "380                                         NaN      NaN  ...   \n",
       "381                                       36000      ind  ...   \n",
       "383                                     4.1e+06      ind  ...   \n",
       "384                                         NaN      NaN  ...   \n",
       "\n",
       "Variable Transfers Adquacy (GDPpc)  \\\n",
       "1                              NaN   \n",
       "2                              NaN   \n",
       "3                              NaN   \n",
       "4                        0.0254767   \n",
       "6                        0.0574329   \n",
       "..                             ...   \n",
       "379                       0.188319   \n",
       "380                       0.188319   \n",
       "381                            NaN   \n",
       "383                            NaN   \n",
       "384                            NaN   \n",
       "\n",
       "Variable Transfers % increase (C19 transfers increase compared to pre-C19)  \\\n",
       "1                                                       NaN                  \n",
       "2                                                         1                  \n",
       "3                                                       NaN                  \n",
       "4                                                       NaN                  \n",
       "6                                                  0.666667                  \n",
       "..                                                      ...                  \n",
       "379                                                     NaN                  \n",
       "380                                                     NaN                  \n",
       "381                                                     NaN                  \n",
       "383                                                     NaN                  \n",
       "384                                                     NaN                  \n",
       "\n",
       "Variable CT Buget allocation (US$)                             CT Nature  \\\n",
       "1                              NaN                            new/ad hoc   \n",
       "2                              NaN                    Vertical expansion   \n",
       "3                              NaN                  Admin simplification   \n",
       "4                        171875000                               one-off   \n",
       "6                              NaN  Vertical expansion and extra payment   \n",
       "..                             ...                                   ...   \n",
       "379                            NaN                            new/ad hoc   \n",
       "380                            NaN                            new/ad hoc   \n",
       "381                            NaN                  Horizontal expansion   \n",
       "383                            NaN                            new/ad hoc   \n",
       "384                        1650000                            new/ad hoc   \n",
       "\n",
       "Variable           Start date              End date  \\\n",
       "1                         NaN                   NaN   \n",
       "2                         NaN                   NaN   \n",
       "3                         NaN                   NaN   \n",
       "4         2020-04-13 00:00:00  duration of lockdown   \n",
       "6         2020-05-15 00:00:00                   NaN   \n",
       "..                        ...                   ...   \n",
       "379       2020-04-01 00:00:00                   NaN   \n",
       "380       2020-04-01 00:00:00                   NaN   \n",
       "381                       NaN                   NaN   \n",
       "383                       NaN                   NaN   \n",
       "384                       NaN                   NaN   \n",
       "\n",
       "Variable Program status (planned, ongoing or ended) Ben actual (ind)  \\\n",
       "1                                               NaN              NaN   \n",
       "2                                               NaN              NaN   \n",
       "3                                               NaN              NaN   \n",
       "4                                          ongoing               NaN   \n",
       "6                                          ongoing             11473   \n",
       "..                                              ...              ...   \n",
       "379                                         ongoing              NaN   \n",
       "380                                         ongoing              NaN   \n",
       "381                                             NaN              NaN   \n",
       "383                                             NaN              NaN   \n",
       "384                                             NaN              NaN   \n",
       "\n",
       "Variable                             CT measure description  \\\n",
       "1         Self-employed families will receive a special ...   \n",
       "2         Recipients of Ndihma Economike (flagship cash ...   \n",
       "3         To avoid crowding in post offices, beneficiari...   \n",
       "4         The President decided to allocate a benefit of...   \n",
       "6         As part of a package of social protection resp...   \n",
       "..                                                      ...   \n",
       "379       Contracted employees/workers who lost jobs but...   \n",
       "380       Un-contracted workers (from informal sector) w...   \n",
       "381       The Palestinian Authority Ministry of Social D...   \n",
       "383       One-million households identified through the ...   \n",
       "384       On 31 March, the Government of Zimbabwe announ...   \n",
       "\n",
       "Variable                                             Source  \n",
       "1                                                       NaN  \n",
       "2                                                       NaN  \n",
       "3                                                       NaN  \n",
       "4         http://www.premier-ministre.gov.dz/ar/premier-...  \n",
       "6                                                       NaN  \n",
       "..                                                      ...  \n",
       "379                                                     NaN  \n",
       "380                                                     NaN  \n",
       "381                                                     NaN  \n",
       "383       COVID-19 and the world of work. Country policy...  \n",
       "384                                                     NaN  \n",
       "\n",
       "[284 rows x 26 columns]"
      ]
     },
     "execution_count": 25,
     "metadata": {},
     "output_type": "execute_result"
    }
   ],
   "source": [
    "cash_transfers = social_assistance[['Project Data', 'Cash transfers (conditional and unconditional)']]\n",
    "cash_transfers.columns = cash_transfers.columns.droplevel()\n",
    "cash_transfers = cash_transfers[social_assistance['Cash transfers (conditional and unconditional)', 'CT measure description'].notna()]\n",
    "# cash_transfers.set_index('Countries', inplace = True)\n",
    "# cash_transfers.rename(index=lambda x: x.strip(), inplace = True)\n",
    "cash_transfers['Countries'] = cash_transfers['Countries'].str.strip()\n",
    "cash_transfers"
   ]
  },
  {
   "cell_type": "code",
   "execution_count": 26,
   "metadata": {},
   "outputs": [
    {
     "data": {
      "text/plain": [
       "array(['Adults will get $1,200 each and children $500 each. The benefit will start decreasing at a rate of $5 for every additional $100 in income. The phaseout starts at $75,000 in adjusted gross income for singles, $112,500 for heads of household, and $150,000 for married couples filing jointly; it will phase out entirely by $99,000 for singles and $198,000 for couples (with no children).   '],\n",
       "      dtype=object)"
      ]
     },
     "execution_count": 26,
     "metadata": {},
     "output_type": "execute_result"
    }
   ],
   "source": [
    "cash_transfers[cash_transfers['Countries'] == 'US']['CT measure description'].values"
   ]
  },
  {
   "cell_type": "code",
   "execution_count": 47,
   "metadata": {},
   "outputs": [
    {
     "data": {
      "application/vnd.plotly.v1+json": {
       "config": {
        "displayModeBar": false,
        "plotlyServerURL": "https://plot.ly"
       },
       "data": [
        {
         "colorscale": [
          [
           0,
           "#636efa"
          ],
          [
           1,
           "#636efa"
          ]
         ],
         "customdata": [
          [
           "Self-employed families will receive a special benefit equivalent to a state-set monthly salary"
          ],
          [
           "Recipients of Ndihma Economike (flagship cash transfer program) will receive double the amount of benefit "
          ]
         ],
         "geo": "geo",
         "hovertemplate": "population=2866376<br>Countries=%{location}<br>CT measure description=%{customdata[0]}<extra></extra>",
         "locationmode": "country names",
         "locations": [
          "Albania",
          "Albania"
         ],
         "name": "2866376",
         "showlegend": true,
         "showscale": false,
         "type": "choropleth",
         "z": [
          1,
          1
         ]
        },
        {
         "colorscale": [
          [
           0,
           "#EF553B"
          ],
          [
           1,
           "#EF553B"
          ]
         ],
         "customdata": [
          [
           "To avoid crowding in post offices, beneficiaries (1M) can receive Solidarity Allowance benefits at any time without a specific deadline (in normal circumstances on the 30th/31st of the month the uncollected benefits to beneficiaries is automatically returned to the Social Development Agency). (admin adaptation)"
          ],
          [
           "The President decided to allocate a benefit of 10000 Algerian Dinars (79 USD) to cover Ramadhan expenses for the poor families impacted by the Covid19. The President urged the Government to identify the beneficiaries. "
          ]
         ],
         "geo": "geo",
         "hovertemplate": "population=42228429<br>Countries=%{location}<br>CT measure description=%{customdata[0]}<extra></extra>",
         "locationmode": "country names",
         "locations": [
          "Algeria",
          "Algeria"
         ],
         "name": "42228429",
         "showlegend": true,
         "showscale": false,
         "type": "choropleth",
         "z": [
          1,
          1
         ]
        },
        {
         "colorscale": [
          [
           0,
           "#00cc96"
          ],
          [
           1,
           "#00cc96"
          ]
         ],
         "customdata": [
          [
           "As part of a package of social protection responses, the Ministry of Social Affairs, Family, and Women’s Promotion (MASFAMU) announced that the Child Grant implemented in Bie, Moxico, and Uige provinces will be topped up (from 3000 to 5000 Kwanzas, or approximately US$6 to US$10 monthly) and a double payment will be made. The government has also adapted the payment procedures to ensure adequate sanitation and worker protection during the transfers."
          ],
          [
           "To improve the income of the poorest families affected by the depth of the economic crisis that the country is experiencing, in May 2020 the first phase of the Social Monetary Transfer Program will begin, which will have 1,600,000 beneficiaries"
          ]
         ],
         "geo": "geo",
         "hovertemplate": "population=30809762<br>Countries=%{location}<br>CT measure description=%{customdata[0]}<extra></extra>",
         "locationmode": "country names",
         "locations": [
          "Angola",
          "Angola"
         ],
         "name": "30809762",
         "showlegend": true,
         "showscale": false,
         "type": "choropleth",
         "z": [
          1,
          1
         ]
        },
        {
         "colorscale": [
          [
           0,
           "#ab63fa"
          ],
          [
           1,
           "#ab63fa"
          ]
         ],
         "customdata": [
          [
           "For those that do not qualify for the Unemployment Benefit offered by the social security system, the Government will provide support direct financial support of up to EC$800 (US$296) per month,"
          ],
          [
           "As well as vertical and horizontal expansion of public assistance programme"
          ]
         ],
         "geo": "geo",
         "hovertemplate": "population=15094<br>Countries=%{location}<br>CT measure description=%{customdata[0]}<extra></extra>",
         "locationmode": "country names",
         "locations": [
          "Anguilla (UK)",
          "Anguilla (UK)"
         ],
         "name": "15094",
         "showlegend": true,
         "showscale": false,
         "type": "choropleth",
         "z": [
          1,
          1
         ]
        },
        {
         "colorscale": [
          [
           0,
           "#FFA15A"
          ],
          [
           1,
           "#FFA15A"
          ]
         ],
         "customdata": [
          [
           "On March 27, the government announced that relief packages will be made available to single-parent and no-income households, with further details of that package to be disclosed ."
          ]
         ],
         "geo": "geo",
         "hovertemplate": "population=96286<br>Countries=%{location}<br>CT measure description=%{customdata[0]}<extra></extra>",
         "locationmode": "country names",
         "locations": [
          "Antigua and Barbuda"
         ],
         "name": "96286",
         "showlegend": true,
         "showscale": false,
         "type": "choropleth",
         "z": [
          1
         ]
        },
        {
         "colorscale": [
          [
           0,
           "#19d3f3"
          ],
          [
           1,
           "#19d3f3"
          ]
         ],
         "customdata": [
          [
           "Argentina has instituted an Increase in money transfers, equivalent to an additional payment of the Universal Child Allowance (AUH) and the Universal Pregnancy Allowance for $3,100 Argentine pesos (US$47) for 4.3 million people (Total: $14 billion Argentine pesos or US$215 million). "
          ],
          [
           "The government introduced the Emergency Family Income (Ingreso Familiar de Emergencia) (non-contributory). A lump sum payment of $10,000 (US$155) provided for the month of April to one member of the family. The total number of expected beneficiaries: 3.6 million families including; Informal workers, “Monotributistas” of category A and B, Domestic workers (all new). *UPDATE* the government officially announced on June 1st 2020,  that the national government will again pay the $ 10,000 of the Emergency Family Income (IFE) to the almost 9 million people who collected it the first time, with a payment schedule that will start on June 8. "
          ],
          [
           "There will be an extraordinary bonus of $3,000 Argentine pesos (US$45) for the people who receive social programs (565,000 people)."
          ]
         ],
         "geo": "geo",
         "hovertemplate": "population=44494502<br>Countries=%{location}<br>CT measure description=%{customdata[0]}<extra></extra>",
         "locationmode": "country names",
         "locations": [
          "Argentina",
          "Argentina",
          "Argentina"
         ],
         "name": "44494502",
         "showlegend": true,
         "showscale": false,
         "type": "choropleth",
         "z": [
          1,
          1,
          1
         ]
        },
        {
         "colorscale": [
          [
           0,
           "#FF6692"
          ],
          [
           1,
           "#FF6692"
          ]
         ],
         "customdata": [
          [
           "MLSA and SRC (State Revenue Committee) are closely cooperating to provide cash payments to those who sent to mandatory leave and/or being laid off (about 70,000 registered employees)"
          ],
          [
           "The government will provide $60M as extra social assistance payments.  Specifically, the Ministry of Labor and Social Affairs (MLSA) is planning a 3-months emergency benefit (54,000 AMD = $108) to households registered in the Family Benefit Program, but not yet receiving it (about 20,000 households); "
          ],
          [
           "On 25 and 30 March the Government approved a comprehensive action plan to counter the adverse coronavirus impact and several measures to offset its economic and social consequences with a total envelope of at least 300 mln USD. These included: \n•\tAssistance to families with children under 14, who face bottlenecks due to the shrinking labor market (formal employees (with certain criteria) released from work after March 13, 100,000 AMD (US$201) lump sum payment for every child)).\n•\tSupport to persons in formal employment (receiving less that 500,000 AMD for the past two months) who lost their job after 13 March in the amount of monthly minimum wage.\n•\tSupport to pregnant women who are not employed until 30 March and whose husband lost the job after 13 March in the amount of a 100,000 AMD (US$201) lump sum payment.\n•\tSupport to hired workers and individual entrepreneurs (formal employment) in Armenia’s private sector most affected by the spread of coronavirus, specifically, in hotel and hostel, public catering, tourism, barber shops and beauty parlors, retail trade. The amounts would range between 68,000 and 136,000 AMD. (US$137-274). "
          ],
          [
           "On 13 and 14 April, the Government announced a new package of measures, which include:\n-\tSupport package number 9 (social): \n-\tBeneficiary: Family with a child aged 0-18, where both parents do not have a registered job as of March 12, 2020, and no part-time or full-time work from March 12-March 31.\n-\tSupport type: lump-sum assistance for each child in the amount of AMD 26,500 (about 55 USD).\n-\tBasic conditions: the children and at least one of the parents reside in the Republic of Armenia, the family is not eligible for a family benefit; at least one of the parents did not have a job with a monthly salary of over 500,000 drams before March 1, 2020."
          ],
          [
           "Support package No 13: One-time assistance at the rate of 50% of the amount of the social benefit or family benefit for those families enrolled in the family benefit system and eligible as of April 2020. There is no need to apply. 70% of the assistance will be available as a cash payment in addition to the amount of the family allowance for April; the balance of 30% will be transferred to the utility operator on behalf of the subscriber of electricity. If the beneficiary has a debt, the funds will be used to settle the arrears. In the absence of overdue bills, they will come as a prepayment for services. If the beneficiary is not an electricity subscriber, this part of the funds shall be offered to the beneficiary as a cash payment.  For example, if a family receives an average family benefit of 31,350 AMD (app. 66 USD), then 21,945 AMD (46.2 USD) would go as top-up cash payment and 9,405 AMD (19.8 USD) for electricity (or if no electricity, then also as cash)."
          ],
          [
           "Support package No 14: three different options of assistance for students. 1) semester tuition fees for Bachelor’s, Master’s, and PhD students with a GPA of 90 or more and in graduate course of the existing system of state universities will be 100% paid by the Government. Semester tuition fees for non-graduate students with a GPA of 90 or more will be paid 75 percent. Graduate students who do not have a tuition fee debt may turn down the assistance, or receive the amount if it has been paid by an individual. And if the graduating student's fee is paid through a student loan, the money will be directed to pay the loan. 2) the procedure for providing student loans will be simplified. Interest rates on current and new loans for students with a GPA of more than 80 will be zeroed for 2020, including for the students state-accredited universities; 3) Loan interest rates for students with a GPA less than 80 will be subsidized by 5%; that is, loans will be available at 4 percent"
          ]
         ],
         "geo": "geo",
         "hovertemplate": "population=2951776<br>Countries=%{location}<br>CT measure description=%{customdata[0]}<extra></extra>",
         "locationmode": "country names",
         "locations": [
          "Armenia",
          "Armenia",
          "Armenia",
          "Armenia",
          "Armenia",
          "Armenia"
         ],
         "name": "2951776",
         "showlegend": true,
         "showscale": false,
         "type": "choropleth",
         "z": [
          1,
          1,
          1,
          1,
          1,
          1
         ]
        },
        {
         "colorscale": [
          [
           0,
           "#B6E880"
          ],
          [
           1,
           "#B6E880"
          ]
         ],
         "customdata": [
          [
           "The Government is providing two separate $750 payments to social security, veteran and other income support recipients and eligible concession card holders. The first payment was made from 31 March 2020 and the second payment will be made from 13 July 2020. Around half of those that benefit are pensioners. These payments will help to support confidence and domestic demand in the economy. The second payment will not be made to those eligible for the Coronavirus supplement. "
          ],
          [
           "In the second package, the government announced a time-limited coronavirus supplement to be paid at a rate of AUD 550 per fortnight (around USD 330) to recipients of Jobseeker payment, parenting payment, youth allowances and other payment types. This supplement will be in place for the next six months at a cost of AUD 14.1bn (USD 8.5bn).1"
          ],
          [
           "The State Government will provide a one-off emergency relief payment of $250 for individuals and up to $1,000 for families who are required to self- quarantine. This will be available to informal casual workers and those on low incomes ."
          ]
         ],
         "geo": "geo",
         "hovertemplate": "population=24982688<br>Countries=%{location}<br>CT measure description=%{customdata[0]}<extra></extra>",
         "locationmode": "country names",
         "locations": [
          "Australia",
          "Australia",
          "Australia"
         ],
         "name": "24982688",
         "showlegend": true,
         "showscale": false,
         "type": "choropleth",
         "z": [
          1,
          1,
          1
         ]
        },
        {
         "colorscale": [
          [
           0,
           "#FF97FF"
          ],
          [
           1,
           "#FF97FF"
          ]
         ],
         "customdata": [
          [
           "Cash assistance for one-person companies and freelancers affected by the crisis (e.g. service providers, artists, etc.) through a hardship fund, implemented by the Austrian Economic Chamber. Design details to be announced ."
          ]
         ],
         "geo": "geo",
         "hovertemplate": "population=8840521<br>Countries=%{location}<br>CT measure description=%{customdata[0]}<extra></extra>",
         "locationmode": "country names",
         "locations": [
          "Austria"
         ],
         "name": "8840521",
         "showlegend": true,
         "showscale": false,
         "type": "choropleth",
         "z": [
          1
         ]
        },
        {
         "colorscale": [
          [
           0,
           "#FECB52"
          ],
          [
           1,
           "#FECB52"
          ]
         ],
         "customdata": [
          [
           "As one of the measures to increase government support for low-income families in Azerbaijan, the coverage of the targeted state social assistance program is expanding. According to the ministry of of Labor and Social Protection of the Population, from April 1 to date, the number of citizens receiving targeted social assistance has grown by 12,000 families and reached 82,000. Meanwhile, the number of family members receiving social assistance this month increased by 50,000 and currently stands at 340,000 people. The average monthly amount of social assistance for each family continues to grow, reaching 222 manat ($130.5). As the ministry noted, the support was also provided to low-income families whose term for receiving targeted state social assistance during the special quarantine regime has expired. The term for the provision of this assistance to them has been extended to one month following the end of the quarantine regime. "
          ],
          [
           "Another key support tool in the social protection sphere is lump-sum payments in the amount of living wage - 190 manats ($112) to 200,000 unemployed citizens of the country. The payment is considered for two months. "
          ]
         ],
         "geo": "geo",
         "hovertemplate": "population=9939800<br>Countries=%{location}<br>CT measure description=%{customdata[0]}<extra></extra>",
         "locationmode": "country names",
         "locations": [
          "Azerbaijan",
          "Azerbaijan"
         ],
         "name": "9939800",
         "showlegend": true,
         "showscale": false,
         "type": "choropleth",
         "z": [
          1,
          1
         ]
        },
        {
         "colorscale": [
          [
           0,
           "#636efa"
          ],
          [
           1,
           "#636efa"
          ]
         ],
         "customdata": [
          [
           "Government is funding a Government Funded Unemployment Assistance for COVID-19 that will provide weekly payments of $200 to persons to self employed tourism workers for a period of up to eight weeks. The delivery of the transfer is being managed by the National Insurance Board. "
          ]
         ],
         "geo": "geo",
         "hovertemplate": "population=385640<br>Countries=%{location}<br>CT measure description=%{customdata[0]}<extra></extra>",
         "locationmode": "country names",
         "locations": [
          "Bahamas, the"
         ],
         "name": "385640",
         "showlegend": true,
         "showscale": false,
         "type": "choropleth",
         "z": [
          1
         ]
        },
        {
         "colorscale": [
          [
           0,
           "#EF553B"
          ],
          [
           1,
           "#EF553B"
          ]
         ],
         "customdata": [
          [
           "Prime Minister Sheikh Hasina announced the disbursement of Taka 1,250 crore cash assistance among 50 lakh poor families (5 million households) hit hard amid the novel coronavirus (COVID-19) crisis.  The total fund of Taka 2,250 will be distributed among the 50 lakh families through the mobile financial services (MFSs)"
          ],
          [
           "Benefit under key safety net programs will be increased (amount not determined yet)."
          ]
         ],
         "geo": "geo",
         "hovertemplate": "population=161356039<br>Countries=%{location}<br>CT measure description=%{customdata[0]}<extra></extra>",
         "locationmode": "country names",
         "locations": [
          "Bangladesh",
          "Bangladesh"
         ],
         "name": "161356039",
         "showlegend": true,
         "showscale": false,
         "type": "choropleth",
         "z": [
          1,
          1
         ]
        },
        {
         "colorscale": [
          [
           0,
           "#00cc96"
          ],
          [
           1,
           "#00cc96"
          ]
         ],
         "customdata": [
          [
           "Assisting 1,500 vulnerable families identified by the Welfare Department and the Household Mitigation Unit with BBD 600 monthly (total of BBD10 million)"
          ],
          [
           "An increase of 40 per cent in all rates and fees paid by the Welfare Department to its clientele that it services on an annual basis (up to BBD 10 million)"
          ]
         ],
         "geo": "geo",
         "hovertemplate": "population=286641<br>Countries=%{location}<br>CT measure description=%{customdata[0]}<extra></extra>",
         "locationmode": "country names",
         "locations": [
          "Barbados",
          "Barbados"
         ],
         "name": "286641",
         "showlegend": true,
         "showscale": false,
         "type": "choropleth",
         "z": [
          1,
          1
         ]
        },
        {
         "colorscale": [
          [
           0,
           "#ab63fa"
          ],
          [
           1,
           "#ab63fa"
          ]
         ],
         "customdata": [
          [
           "•\tOn May 18th, 2020, the President signed the Decree “On Financial Incentives for Staff Members of the Organizations Providing Social Services”, which stipulates additional fees for staff members of the public social support institutions working with persons who have infectious diseases and their first contacts who are not admitted to health institutions by medical indications. These additional fees are paid to staff members working in the rotating scheme. The rotating scheme means working for 14 days continuously not leaving the institution. The amount of the additional fee depends on the category of the employee and the frequency of their contact with the infected persons. When infections or contacts with infected persons or with first contacts are found in such organizations, the additional fees should be 1,500 Belarusian roubles (621 USD) for medical workers who are physicians, 1,300 Belarusian roubles (538 USD) for medical workers who have secondary special medical education, and 900 Belarusian roubles (373 USD) for other workers. When no cases of infection and/or first contacts are found in the organizations, the relevant additional fees should make: 500 Belarusian roubles (207 USD) for medical workers who are physicians, 400 Belarusian roubles (166 USD) for medical workers who have secondary special medical education, and 250 Belarusian roubles (103 USD) for other workers. In addition, social service workers who work according to the rotating scheme are provided with living accommodations in such organizations and additional remunerations (9 Belarusian roubles, or 3.7 USD) per working day according to such scheme, as stipulated by the legislation. When a new staff team is employed, mandatory testing should be made in order to identify persons who may be infected.   "
          ],
          [
           "On May 18th, 2020, the President issued the Decree “On Social Support for Specific Categories of Individuals”. This Decree stipulates a longer period of public targeted social support to families with many children in the form of a monthly social benefit which is extended up to 12 months (up from the current 6 months), as well as higher means-testing from 100% to 115% of the minimum subsistence budget (MSB) per capita which is used to appoint such benefit (increased to 283.80 Belarusian  roubles, or 117.5 USD, from the current amount of 246.78 Belarusian roubles, or 102.1 USD). "
          ]
         ],
         "geo": "geo",
         "hovertemplate": "population=9483499<br>Countries=%{location}<br>CT measure description=%{customdata[0]}<extra></extra>",
         "locationmode": "country names",
         "locations": [
          "Belarus",
          "Belarus"
         ],
         "name": "9483499",
         "showlegend": true,
         "showscale": false,
         "type": "choropleth",
         "z": [
          1,
          1
         ]
        },
        {
         "colorscale": [
          [
           0,
           "#FFA15A"
          ],
          [
           1,
           "#FFA15A"
          ]
         ],
         "customdata": [
          [
           "The government will also upscale transfers through ВООЅТ, thе соndіtіоnаl саѕh trаnѕfеr рrоgrаmme ."
          ]
         ],
         "geo": "geo",
         "hovertemplate": "population=383071<br>Countries=%{location}<br>CT measure description=%{customdata[0]}<extra></extra>",
         "locationmode": "country names",
         "locations": [
          "Belize"
         ],
         "name": "383071",
         "showlegend": true,
         "showscale": false,
         "type": "choropleth",
         "z": [
          1
         ]
        },
        {
         "colorscale": [
          [
           0,
           "#19d3f3"
          ],
          [
           1,
           "#19d3f3"
          ]
         ],
         "customdata": [
          [
           "Introduction of an unemployment benefit for laid-off employees who are not on financial assistance. The transfer amount was set at 60% of gross earnings up to a maximum of $500 a week. Where the eligible applicant is receiving a percentage of their salary from their employer, and the amount is less than $500 per week, the applicant will be entitled to the different up to a gross amount of $500. Eligible applicants must meet the definition of an employee under employment legislation, and be Bermudian, the spouse of a Bermudian, a permanent resident’s certificate holder, or a work-permit holder unable to leave Bermuda because of travel restrictions. They must have been in full-time employment and have been laid off or had their employment terminated because of the Covid-19 pandemic, put on mandatory medical quarantine without compensation from their employer, or be self-employed and no longer at work because of the illness"
          ]
         ],
         "geo": "geo",
         "hovertemplate": "population=63973<br>Countries=%{location}<br>CT measure description=%{customdata[0]}<extra></extra>",
         "locationmode": "country names",
         "locations": [
          "Bermuda"
         ],
         "name": "63973",
         "showlegend": true,
         "showscale": false,
         "type": "choropleth",
         "z": [
          1
         ]
        },
        {
         "colorscale": [
          [
           0,
           "#FF6692"
          ],
          [
           1,
           "#FF6692"
          ]
         ],
         "customdata": [
          [
           "The goverboment introduced Druk Gyalpo’s Relief Kidu which provides Immediate financial support for people who have been laid off or placed on reduced salaries, or their livelihood is impacted. Eligibility based on application: individuals who have been laid off, placed on unpaid leave or on reduced pay from businesses as well as self-employed individuals who have lost their earnings either partially or completely. The Relief Kidu benefit amount is at Nu. 12,000 (~USD 160) per person per month for recipients of the full amount of the Kidu and Nu. 8,000 (~USD 106)  per month for recipients of the partial amount of the Kidu. Additional support of Nu. 800 (~USD 10.5)per child per month is granted to eligible beneficiaries with children. By May 25th, the Druk Gyalpo's Relief Kidu has granted Nu. 150 million (USD 1.95 million) as the first disbursement of the Relief Kidu to 13,006 people. "
          ]
         ],
         "geo": "geo",
         "hovertemplate": "population=754000<br>Countries=%{location}<br>CT measure description=%{customdata[0]}<extra></extra>",
         "locationmode": "country names",
         "locations": [
          "Bhutan"
         ],
         "name": "754000",
         "showlegend": true,
         "showscale": false,
         "type": "choropleth",
         "z": [
          1
         ]
        },
        {
         "colorscale": [
          [
           0,
           "#B6E880"
          ],
          [
           1,
           "#B6E880"
          ]
         ],
         "customdata": [
          [
           "The GoB has created three new temporary cash transfer programs Bono Familia (BF), Bono Canasta Familiar (BFC) and Bono Universal (BU) that together provide economic support for households impacted by the COVID-19 pandemic. Initially two cash transfer programs were designed – BF and BCF – that both rely on a temporary increase of the value of existing social protection interventions to meet the additional needs of the current beneficiaries (vertical expansion). \n• The Bono Familia is a one-time only transfer of Bs500 (US$72) for each child enrolled in elementary, primary and secondary schools (public or private). BF is expected to directly and indirectly cover 65.3 percent of the population"
          ],
          [
           "The Bono Canasta Familiar is a one-time payment Bs400 (US$58) transfer to 1.6 million low income households in rural and urban areas to cover the cost a monthly basic food basket. BCF is expected to indirectly and directly cover 23.9 percent of the population and the transfer amount is Bs $ 400. By design, it mostly reaches the elderly (86.2 percent of the population 65 years or older), but also pregnant women, mothers of children below 2 years old, and people with disabilities accessing subsidies.\n"
          ],
          [
           "Despite significant inclusion errors of BF and BCF, the GoB introduced a third program, the Bono Universal, in order to minimize the exclusion of informal workers and self-employed. Bono Universal is estimated to directly and indirectly cover 46.5 percent of the population and the transfer amount is Bs $ 500.\nTogether, BF, BCF and BU are expected to reach 3.3 million households and their 11.1 million members (comprising both direct recipients and indirect beneficiaries, who are other household members), or 97.9 percent of the entire population."
          ]
         ],
         "geo": "geo",
         "hovertemplate": "population=11353142<br>Countries=%{location}<br>CT measure description=%{customdata[0]}<extra></extra>",
         "locationmode": "country names",
         "locations": [
          "Bolivia",
          "Bolivia",
          "Bolivia"
         ],
         "name": "11353142",
         "showlegend": true,
         "showscale": false,
         "type": "choropleth",
         "z": [
          1,
          1,
          1
         ]
        },
        {
         "colorscale": [
          [
           0,
           "#FF97FF"
          ],
          [
           1,
           "#FF97FF"
          ]
         ],
         "customdata": [
          [
           "Individual local governments are providing significant sums to assist the elderly and families with low or no income ($250,000 thus far from Sarajevo municipality Stari Grad). Plans are underway for larger-scale assistance.  "
          ]
         ],
         "geo": "geo",
         "hovertemplate": "population=3323929<br>Countries=%{location}<br>CT measure description=%{customdata[0]}<extra></extra>",
         "locationmode": "country names",
         "locations": [
          "Bosnia & Herzegovina"
         ],
         "name": "3323929",
         "showlegend": true,
         "showscale": false,
         "type": "choropleth",
         "z": [
          1
         ]
        },
        {
         "colorscale": [
          [
           0,
           "#FECB52"
          ],
          [
           1,
           "#FECB52"
          ]
         ],
         "customdata": [
          [
           "The government is allocating R$3 billion for the Bolsa Familia program to add 1 million families. "
          ],
          [
           "The city of Maricá in Brazil will increase the existing cash transfers amount from R$130 ($25) to R$300 per month ($60) at least through June. Total beneficiaries of this scheme will 42,000 of the city’s lowest-income residents."
          ],
          [
           "In Brazil, a 3-month emergency cash transfer of $115 per month (or 60% of the minimum wage) for adults who don’t have a formal job (informal workers) up to a maximum of two benefits per family; have per capita family income lower than half of the minimum wage or 3 minimum wages in total family income; and don’t receive other government transfers (except Bolsa Familia). The beneficiaries will be identified through Cadastro Unico, the country’s social registry, but those eligible individuals not in the social registry will be able to apply through an online platform to be launched April 7. Single mothers will receive double benefit, i.e., $230 per month."
          ]
         ],
         "geo": "geo",
         "hovertemplate": "population=209469333<br>Countries=%{location}<br>CT measure description=%{customdata[0]}<extra></extra>",
         "locationmode": "country names",
         "locations": [
          "Brazil",
          "Brazil",
          "Brazil"
         ],
         "name": "209469333",
         "showlegend": true,
         "showscale": false,
         "type": "choropleth",
         "z": [
          1,
          1,
          1
         ]
        },
        {
         "colorscale": [
          [
           0,
           "#636efa"
          ],
          [
           1,
           "#636efa"
          ]
         ],
         "customdata": [
          [
           "As part of the government's $62.9m stimulus package, $10 millions will be allocated to the Covid-19 Unemployment Relief Fund, which will support residents affected by the pandemic for a period of up to three months. Compensation will be on a case by case basis and individuals have to provide the relevant information on how they were affected by the pandemic. The SSB will administer and monitor the initiative. Those applying must have paid at least 13 out of 20 weeks of SSB contributions before March 30, 2020; be financially impacted by Covid-19; and be actively seeking employment. The benefit will be calculated at a rate of 50 percent of insurable earnings up to a maximum of $1,000 and a minimum of $500 a month.  "
          ]
         ],
         "geo": "geo",
         "hovertemplate": "population=29802<br>Countries=%{location}<br>CT measure description=%{customdata[0]}<extra></extra>",
         "locationmode": "country names",
         "locations": [
          "British Virgin Islands"
         ],
         "name": "29802",
         "showlegend": true,
         "showscale": false,
         "type": "choropleth",
         "z": [
          1
         ]
        },
        {
         "colorscale": [
          [
           0,
           "#EF553B"
          ],
          [
           1,
           "#EF553B"
          ]
         ],
         "customdata": [
          [
           "The Government decided to expand the coverage of the one-off cash transfer to include parents of children up to 14 years as well as Cash TransfersPublic WorksIn-kind TransfersUtility waiversHealth insurance support Unemployment & Paid leavePensions & disability benefitsSocial security contributionsActivation measures Labor regulation adjustment Reduced work timeWage subsidy\n95\nfamilies in which one or both parents have lost their jobs but are not entitled to unemployment benefits. The aid will be paid in the event that the parents applying for it are not covered by the job-saving compensation scheme, which has gained popularity as the measure 60/40. Both parents or the single parent must be insured under the Social Insurance Code within the last 6 months. This condition will not apply to unemployed parents without the right to unemployment benefits. The assistance may be granted if the child/children in the family attended a nursery, kindergarten or school before 13 March 2020. It will also be granted to foster families and families of relatives, in which the child is placed under the Child Protection Act. They must meet the criteria."
          ],
          [
           "The Ministry of Labour and Social Policy is introducing a one-off cash transfer of BGN 375 (EUR 192) to parents of children under 12 who are on unpaid leave for at least 20 days due to inability to work from home during the state of emergency. This assistance will be means tested as the monthly income per family member should not be higher than the minimum wage BGN 610. Other conditions: parents should not have any other income from rents, services or additional contracts, should not receive other assistance under the Social Assistance Act, should not to be included in the scheme for wage subsidies to employers 60/40 and should have exhausted their paid leave Children should have attended kindergarten or school before 13 March 2020, and the parents should have been insured in the last six months. Recently The Government decided to expand the coverage of the one-off cash transfer to include parents of children up to 14 years as well as families in which one or both parents have lost their jobs but are not entitled to unemployment benefits. The aid will be paid in the event that the parents applying for it are not covered by the job-saving compensation scheme, which has gained popularity as the measure 60/40. Both parents or the single parent must be insured under the Social Insurance Code within the last 6 months. This condition will not apply to unemployed parents without the right to unemployment benefits. The assistance may be granted if the child/children in the family attended a nursery, kindergarten or school before 13 March 2020. It will also be granted to foster families and families of relatives, in which the child is placed under the Child Protection Act. They must meet the criteria."
          ]
         ],
         "geo": "geo",
         "hovertemplate": "population=7025037<br>Countries=%{location}<br>CT measure description=%{customdata[0]}<extra></extra>",
         "locationmode": "country names",
         "locations": [
          "Bulgaria",
          "Bulgaria"
         ],
         "name": "7025037",
         "showlegend": true,
         "showscale": false,
         "type": "choropleth",
         "z": [
          1,
          1
         ]
        },
        {
         "colorscale": [
          [
           0,
           "#00cc96"
          ],
          [
           1,
           "#00cc96"
          ]
         ],
         "customdata": [
          [
           "Cash transfers to informal sector workers (fruits and vegetable sellers). Total cost of US$10 million (5 billion CFA) to help the fruits and vegetable informal retailers affected by the situation, particularly women. More details to be announced36."
          ]
         ],
         "geo": "geo",
         "hovertemplate": "population=19751535<br>Countries=%{location}<br>CT measure description=%{customdata[0]}<extra></extra>",
         "locationmode": "country names",
         "locations": [
          "Burkina Faso"
         ],
         "name": "19751535",
         "showlegend": true,
         "showscale": false,
         "type": "choropleth",
         "z": [
          1
         ]
        },
        {
         "colorscale": [
          [
           0,
           "#ab63fa"
          ],
          [
           1,
           "#ab63fa"
          ]
         ],
         "customdata": [
          [
           "Support for workers in micro and small enterprises and self-employed in the informal sector, including sellers of informal commerce and municipal markets. These workers are guaranteed a value of 10,000 escudos (US$100) for one month. 30,000 workers are expected to benefit"
          ],
          [
           "Expansion of CTs under the existing SP project to 8,000 families (from original 5,000) a monthly income of 5,500 escudos ( US$53)97"
          ]
         ],
         "geo": "geo",
         "hovertemplate": "population=543767<br>Countries=%{location}<br>CT measure description=%{customdata[0]}<extra></extra>",
         "locationmode": "country names",
         "locations": [
          "Cabo Verde",
          "Cabo Verde"
         ],
         "name": "543767",
         "showlegend": true,
         "showscale": false,
         "type": "choropleth",
         "z": [
          1,
          1
         ]
        },
        {
         "colorscale": [
          [
           0,
           "#FFA15A"
          ],
          [
           1,
           "#FFA15A"
          ]
         ],
         "customdata": [
          [
           "The government will spend $25 million a month to provide money to 400,000 households identified by an existing program as the poorest. The program will provide 80,000 ren (USD $20) to rural families and 120,000 (USD $30) to urban families. "
          ]
         ],
         "geo": "geo",
         "hovertemplate": "population=16249798<br>Countries=%{location}<br>CT measure description=%{customdata[0]}<extra></extra>",
         "locationmode": "country names",
         "locations": [
          "Cambodia"
         ],
         "name": "16249798",
         "showlegend": true,
         "showscale": false,
         "type": "choropleth",
         "z": [
          1
         ]
        },
        {
         "colorscale": [
          [
           0,
           "#19d3f3"
          ],
          [
           1,
           "#19d3f3"
          ]
         ],
         "customdata": [
          [
           "Increase in family allowance from CFAF 2,800 to CFAF 4,500 "
          ]
         ],
         "geo": "geo",
         "hovertemplate": "population=25216237<br>Countries=%{location}<br>CT measure description=%{customdata[0]}<extra></extra>",
         "locationmode": "country names",
         "locations": [
          "Cameron"
         ],
         "name": "25216237",
         "showlegend": true,
         "showscale": false,
         "type": "choropleth",
         "z": [
          1
         ]
        },
        {
         "colorscale": [
          [
           0,
           "#FF6692"
          ],
          [
           1,
           "#FF6692"
          ]
         ],
         "customdata": [
          [
           "Income support is provided for those who don’t qualify for employment insurance, including a payment of $2,000 per month for the next 4 months"
          ],
          [
           "British Columbia will provide a one-time CAD 1,000 payment to people who lost their incomes due to COVID-19.  Other provisions under the B.C. Emergency Benefit for Workers include tax credits, suspension of evictions of tenants in subsidized and affordable housing, temporary rent supplements of up to CAD 500 per month paid to landlords, six-month freeze on student loan payments, and payment deferral and/or subsidies for water bills."
          ]
         ],
         "geo": "geo",
         "hovertemplate": "population=37057765<br>Countries=%{location}<br>CT measure description=%{customdata[0]}<extra></extra>",
         "locationmode": "country names",
         "locations": [
          "Canada",
          "Canada"
         ],
         "name": "37057765",
         "showlegend": true,
         "showscale": false,
         "type": "choropleth",
         "z": [
          1,
          1
         ]
        },
        {
         "colorscale": [
          [
           0,
           "#B6E880"
          ],
          [
           1,
           "#B6E880"
          ]
         ],
         "customdata": [
          [
           "An additional KY$425 (US$510) stipend to those on permanent financial assistance, as well as to seamen and veterans"
          ]
         ],
         "geo": "geo",
         "hovertemplate": "population=64174<br>Countries=%{location}<br>CT measure description=%{customdata[0]}<extra></extra>",
         "locationmode": "country names",
         "locations": [
          "Cayman Islands"
         ],
         "name": "64174",
         "showlegend": true,
         "showscale": false,
         "type": "choropleth",
         "z": [
          1
         ]
        },
        {
         "colorscale": [
          [
           0,
           "#FF97FF"
          ],
          [
           1,
           "#FF97FF"
          ]
         ],
         "customdata": [
          [
           "The Ministry of Social Development has introduced the Ingreso Familiar de Emergencia – a new, transitory transfer program intended for households that depend on informal work for their livelihood. Nearly 2 million households are expected to receive the transfer which will be granted for a maximum of three months. The first payout corresponds to 100 percent of the full transfer amount, the second payout 85 percent and the third 65 percent. The transfer amount depends on household type (whether the households is exclusively informal, or  whether the households is vulnerable and partially informal) and size of the household. As an example, a household with four members that are exclusively dependent on income from the informal sector will receive a first transfer corresponding to CLP $ 280,000 (USD $ 340). Partially informal households will receive half of that amount. Payment is as follow: first $65,000; $ 55,250 in June, and $ 45,500"
          ],
          [
           "\nThis grant is awarded to those families that belong to the Chile Seguridades y Oportunidades program and the Family Subsidy, especially those in extreme poverty."
          ]
         ],
         "geo": "geo",
         "hovertemplate": "population=18729160<br>Countries=%{location}<br>CT measure description=%{customdata[0]}<extra></extra>",
         "locationmode": "country names",
         "locations": [
          "Chile",
          "Chile"
         ],
         "name": "18729160",
         "showlegend": true,
         "showscale": false,
         "type": "choropleth",
         "z": [
          1,
          1
         ]
        },
        {
         "colorscale": [
          [
           0,
           "#FECB52"
          ],
          [
           1,
           "#FECB52"
          ]
         ],
         "customdata": [
          [
           "The latest government policy directive (6 March 2020) instructed local governments to extend coverage of dibao and temporary assistance programs, simplify the application and approval process, and increase the benefit level to cover the families who are affected by the epidemic (both directly through infection and indirectly through economic impacts). Examples are available at local level (information collected by WBG):  \n\n-\tIn Hubei province, RMB 500 for urban Dibao recipients and RMB 300 for rural Dibao recipients were transferred as temporary living allowance subsidies. Temporary assistance (emergency help in nature) supported more than 13000 people with cash transfer of RMB 30 million and provided temporary resettlement for more than 6000 people in 69 sites.\n-\tIn Chongqing, a transfer of twice the monthly Dibao amount was introduced to some recipients if they were infected as temporary assistance. \n-\t In Shenzhen, the amount of cash transfer as temporary assistance could range between 2-18 times of the local Dibao threshold based on the individual recipient's situation"
          ],
          [
           "Cash transfer for retention migrant population in Wuhan. One-time cash assistance of RMB 3000"
          ],
          [
           "Unemployment social assistance for up to 6 months for the unemployed not eligible for unemployment social insurance benefits. Increased social assistance to families in difficulties."
          ]
         ],
         "geo": "geo",
         "hovertemplate": "population=1392730000<br>Countries=%{location}<br>CT measure description=%{customdata[0]}<extra></extra>",
         "locationmode": "country names",
         "locations": [
          "China",
          "China",
          "China"
         ],
         "name": "1392730000",
         "showlegend": true,
         "showscale": false,
         "type": "choropleth",
         "z": [
          1,
          1,
          1
         ]
        },
        {
         "colorscale": [
          [
           0,
           "#636efa"
          ],
          [
           1,
           "#636efa"
          ]
         ],
         "customdata": [
          [
           "The Government of Côte d’Ivoire established a Solidarity Fund in April 2020 to provide financial support to households impacted by Covid-19. Poor households and individuals (active in the formal and informal sector) who have lost their job or face substantial income losses due to measures in place are eligible for support. For the transitory phase, the 170 billion FCFA Fund is planning to assist 177 000 households in the Greater Abidjan area, through a three-month emergency cash transfer program. Discussions are currently underway to decide whether support will be expanded to the rest of the country, potentially targeting up to 1 million households"
          ]
         ],
         "geo": "geo",
         "hovertemplate": "population=25000000<br>Countries=%{location}<br>CT measure description=%{customdata[0]}<extra></extra>",
         "locationmode": "country names",
         "locations": [
          "Code d’lvoire"
         ],
         "name": "25000000",
         "showlegend": true,
         "showscale": false,
         "type": "choropleth",
         "z": [
          1
         ]
        },
        {
         "colorscale": [
          [
           0,
           "#EF553B"
          ],
          [
           1,
           "#EF553B"
          ]
         ],
         "customdata": [
          [
           "New cash transfer program, “solidarity income”, includes a one-off payment of COP 160,000 ($108)  for informal workers and their families. These include 3M households identified by via SISBEN and tax collection databases. Payment is planned for week of March 30-April 5 through bank account for half of identified households who have those; through electronic payments through cells phones for others"
          ],
          [
           "Two existing programs will pay additional benefits: \n-\tOne additional cash payment to 2.6M households that are beneficiaries of Familias en Acción. Transfer is of COP 145,000 ($98 in 2011 PPP)\n-\tOne additional cash payment to 204,000 beneficiaries of Jóvenes en Acción (COP 356,000, or $240)\n- Remove conditionality\n"
          ],
          [
           "Another special measure consists in anticipating the implementation of the VAT Refund to the Poor Program that is expected to distribute 3% of the funds collected as VAT to the most vulnerable families. The transfer is nearly COP 80,000 per household ($47). This program was scheduled to start on January 2021, with a pilot of 100.000 families; however, now it will start on April 8, 2020, and will include around 1M people among the most vulnerable segments of the population . "
          ],
          [
           "A program called “Bogotá Solidaria En Casa” will provide poor and vulnerable families of the District with cash for the 23-day quarantine (03/25-04/13) to prevent them to have to get out their home to a daily subsistence income. The transfer is estimated to cover ~70% of their expenditure. Conditions and requirements include comply with quarantine and not having been reported of domestic violence. It will benefit 500,000 families (350,000 ‘poor’ and 150,000 ‘vulnerable’ ones) identified via 2018 Census, SISBEN, and District’s own data (plus data from cell phone operators). Transfer includes COP 423,000 ($286) for the poor, COP 178,000 for the vulnerable ($120)."
          ]
         ],
         "geo": "geo",
         "hovertemplate": "population=49648685<br>Countries=%{location}<br>CT measure description=%{customdata[0]}<extra></extra>",
         "locationmode": "country names",
         "locations": [
          "Colombia",
          "Colombia",
          "Colombia",
          "Colombia"
         ],
         "name": "49648685",
         "showlegend": true,
         "showscale": false,
         "type": "choropleth",
         "z": [
          1,
          1,
          1,
          1
         ]
        },
        {
         "colorscale": [
          [
           0,
           "#00cc96"
          ],
          [
           1,
           "#00cc96"
          ]
         ],
         "customdata": [
          [
           "The Government plans to provide emergency support to the vulnerable in need, through social cash transfers. The number of beneficiaries is estimated to be equal to 23.5 percent of the total population, approx 160 000 people"
          ]
         ],
         "geo": "geo",
         "hovertemplate": "population=832322<br>Countries=%{location}<br>CT measure description=%{customdata[0]}<extra></extra>",
         "locationmode": "country names",
         "locations": [
          "Comoros"
         ],
         "name": "832322",
         "showlegend": true,
         "showscale": false,
         "type": "choropleth",
         "z": [
          1
         ]
        },
        {
         "colorscale": [
          [
           0,
           "#ab63fa"
          ],
          [
           1,
           "#ab63fa"
          ]
         ],
         "customdata": [
          [
           "The government is planning a cash transfers in Kinshasa and other affected provinces within the context of COVID-19. 2 million social transfer beneficiaries are expected to benefit from this transfer. Total budget allocated is US$50 million "
          ]
         ],
         "geo": "geo",
         "hovertemplate": "population=84068091<br>Countries=%{location}<br>CT measure description=%{customdata[0]}<extra></extra>",
         "locationmode": "country names",
         "locations": [
          "Congo, Dem. Rep"
         ],
         "name": "84068091",
         "showlegend": true,
         "showscale": false,
         "type": "choropleth",
         "z": [
          1
         ]
        },
        {
         "colorscale": [
          [
           0,
           "#FFA15A"
          ],
          [
           1,
           "#FFA15A"
          ]
         ],
         "customdata": [
          [
           "100 000 families affected by COVID-19 to receive around 50 000 CFA each (around 5 billion CFA)"
          ]
         ],
         "geo": "geo",
         "hovertemplate": "population=5518087<br>Countries=%{location}<br>CT measure description=%{customdata[0]}<extra></extra>",
         "locationmode": "country names",
         "locations": [
          "Congo, Rep."
         ],
         "name": "5518087",
         "showlegend": true,
         "showscale": false,
         "type": "choropleth",
         "z": [
          1
         ]
        },
        {
         "colorscale": [
          [
           0,
           "#19d3f3"
          ],
          [
           1,
           "#19d3f3"
          ]
         ],
         "customdata": [
          [
           "One Off Payment to be paid on top of the current welfare payment next fortnight in the amount $400.00 per beneficiary. This one off support is to assist the most vulnerable as they are not only at health risk from the COVID19 but also likely to be exposed to its economic impact.  The cash is only available to those who are currently on the welfare list of INFIRM/DESTITUTE/PENSIONERS + CAREGIVERS"
          ],
          [
           "For each child (age 0-16), currently already on the child benefit, an additional $100 on top of the current $50 will be allocated for every fortnight during closure of school outside of the school holidays. Application process not required."
          ]
         ],
         "geo": "geo",
         "hovertemplate": "population=17562<br>Countries=%{location}<br>CT measure description=%{customdata[0]}<extra></extra>",
         "locationmode": "country names",
         "locations": [
          "Cook Island",
          "Cook Island"
         ],
         "name": "17562",
         "showlegend": true,
         "showscale": false,
         "type": "choropleth",
         "z": [
          1,
          1
         ]
        },
        {
         "colorscale": [
          [
           0,
           "#FF6692"
          ],
          [
           1,
           "#FF6692"
          ]
         ],
         "customdata": [
          [
           "Monthly subsidy of 200K colones (USD 352) for three months to 375,000 families economically affected by COVID-19"
          ],
          [
           "Emergency benefit (one-off 125k colones – USD 223K) for 33K poor families in the social registry (SINIRUBE) who do not receive any social transfers "
          ],
          [
           "The implementation of the conditional cash transfer program Avancemos will keep being active with transfers depending on grade levels ($40-$62). Similarly, the Crecemos program, which delivers an average of $35 scholarship per student, will not be interrupted"
          ]
         ],
         "geo": "geo",
         "hovertemplate": "population=4999441<br>Countries=%{location}<br>CT measure description=%{customdata[0]}<extra></extra>",
         "locationmode": "country names",
         "locations": [
          "Costa Rica",
          "Costa Rica",
          "Costa Rica"
         ],
         "name": "4999441",
         "showlegend": true,
         "showscale": false,
         "type": "choropleth",
         "z": [
          1,
          1,
          1
         ]
        },
        {
         "colorscale": [
          [
           0,
           "#B6E880"
          ],
          [
           1,
           "#B6E880"
          ]
         ],
         "customdata": [
          [
           "EC)$8 million approved from the Dominica Social Security to help people who would have lost their jobs (from the Redundancy Fund and the Employment Injury branch of the DSS),"
          ],
          [
           "Plus, a minimum of $9.5 million from the government for relief payments to those who are financially challenged. More details expected new week."
          ],
          [
           "Heads of families and single persons who are unemployed will receive income support in the amount of $600 and $400 respectively, for the period April 2020 to June 2020 in the first instance. This assistance will be administered by social security. "
          ]
         ],
         "geo": "geo",
         "hovertemplate": "population=71625<br>Countries=%{location}<br>CT measure description=%{customdata[0]}<extra></extra>",
         "locationmode": "country names",
         "locations": [
          "Dominica",
          "Dominica",
          "Dominica"
         ],
         "name": "71625",
         "showlegend": true,
         "showscale": false,
         "type": "choropleth",
         "z": [
          1,
          1,
          1
         ]
        },
        {
         "colorscale": [
          [
           0,
           "#FF97FF"
          ],
          [
           1,
           "#FF97FF"
          ]
         ],
         "customdata": [
          [
           "Government has rolled out a ‘Stay at Home’ program (Quédate en Casa) with different elements, including (i) top-up to safety net of 5,000 pesos (US$92) for two months to 811,000 beneficiary families that have the Solidarity payment card to purchase food and basic necessities; (ii) horizontal expansion at the same amount 5,000 pesos (US$92) to 690,000 nonpoor and vulnerable non-beneficiary families in the SIUBEN social registry. The payments are expected from April 1 to May 30; a special transfer totaling 7,000 pesos (US129) to over 350,000 households where the household head is vulnerable to COVID19."
          ],
          [
           "Expansion of the Comer Es Primero cash transfer programme, as follows:cVertical expansion of conditional transfers of the CEP - 100% increase in the\namount transferred to families. Horizontal expansion - inclusion of 100,000 families in extreme poverty, moderate poverty and vulnerable sectors on the verge of becoming poor due to the shock of COVID 19. This expansion will deliver the same increased benefits that will be delivered to families that already participate in the program. These inclusions are temporary. Horizontal expansion  - inclusion of formalized own-account workers who are listed in the Social Security Treasury (TSS) and who are at risk of falling into poverty due to the impact of the shock of the COVID 19"
          ]
         ],
         "geo": "geo",
         "hovertemplate": "population=10627165<br>Countries=%{location}<br>CT measure description=%{customdata[0]}<extra></extra>",
         "locationmode": "country names",
         "locations": [
          "Dominican Republic",
          "Dominican Republic"
         ],
         "name": "10627165",
         "showlegend": true,
         "showscale": false,
         "type": "choropleth",
         "z": [
          1,
          1
         ]
        },
        {
         "colorscale": [
          [
           0,
           "#FECB52"
          ],
          [
           1,
           "#FECB52"
          ]
         ],
         "customdata": [
          [
           "New cash transfer of $60 has been introduced for informal workers earning less than $400 per month . (The main cash transfer is Bono de Proteccion Familiar, a transfer of USD 60 to 950,000 poor households and informal sector workers. The first transfer was made in early April and the second transfer was initiated in mid-May. (new) "
          ]
         ],
         "geo": "geo",
         "hovertemplate": "population=17084357<br>Countries=%{location}<br>CT measure description=%{customdata[0]}<extra></extra>",
         "locationmode": "country names",
         "locations": [
          "Ecuador"
         ],
         "name": "17084357",
         "showlegend": true,
         "showscale": false,
         "type": "choropleth",
         "z": [
          1
         ]
        },
        {
         "colorscale": [
          [
           0,
           "#636efa"
          ],
          [
           1,
           "#636efa"
          ]
         ],
         "customdata": [
          [
           "Ministry of Social Solidarity added 160,000 new households to Takaful and Karama Program (TKP) bringing the total number of people under to TKP to 3.11 million households (approx. 11 million individuals)  The TKP budget will also increase in the new fiscal year from EGP 18.5 billion o EGP "
          ],
          [
           "A one-off monetary compensation  of EGP 500 for 3 months is being offered to informal workers registered at the database of Ministry of Labor and Manpower Payment will be done through post offices and banks Registration is still opened and is expected to cover 1.9 million individuals (out of 4.4 million applicants) working in construction, ports, agriculture, fishing, plumber, electrician, etc. The first payment was processed in April 2020 via Post Offices (4,000 branches) and Agriculture Bank of Egypt (1,100 branches) as well as 600 schools used as payment site – a total of 5,700 outlets. Beneficiaries receive a free ATM card with their first payment in order to cash their 2nd and 3rd payment via post offices and/or banks. Accepted beneficiaries are notified via SMS regarding the location and time to visit to collect their first payment and ATM card, to avoid overcrowding and ensure the safety of beneficiaries."
          ],
          [
           "Increased payments are envisioned to women leaders in rural areas (EGP 900 per month instead of EGP 350)."
          ]
         ],
         "geo": "geo",
         "hovertemplate": "population=98423595<br>Countries=%{location}<br>CT measure description=%{customdata[0]}<extra></extra>",
         "locationmode": "country names",
         "locations": [
          "Egypt",
          "Egypt",
          "Egypt"
         ],
         "name": "98423595",
         "showlegend": true,
         "showscale": false,
         "type": "choropleth",
         "z": [
          1,
          1,
          1
         ]
        },
        {
         "colorscale": [
          [
           0,
           "#EF553B"
          ],
          [
           1,
           "#EF553B"
          ]
         ],
         "customdata": [
          [
           "The government of President Nayib Bukele has pledged to give $300 to some 1.5 million households (75 percent ) who work in the informal economy such as house cleaners and street vendors who lack a financial safety net. The government targeted households using electricity usage: any household with monthly consumption of 0-250 kilowatts/ per hour got the transfers. This criterion spurred some protests from people who demand to be included in the new scheme "
          ]
         ],
         "geo": "geo",
         "hovertemplate": "population=6420744<br>Countries=%{location}<br>CT measure description=%{customdata[0]}<extra></extra>",
         "locationmode": "country names",
         "locations": [
          "El Salvador"
         ],
         "name": "6420744",
         "showlegend": true,
         "showscale": false,
         "type": "choropleth",
         "z": [
          1
         ]
        },
        {
         "colorscale": [
          [
           0,
           "#00cc96"
          ],
          [
           1,
           "#00cc96"
          ]
         ],
         "customdata": [
          [
           "The government announced on June 6ht that it has sourced E25 million to create a Relief Fund in order to mitigate the effects of COVID-19 on laid off and unpaid workers in the country. This Fund will be managed by Government, employer and employee representatives, ENPF and NDMA. The Ministry of Labour and Social Security will in due course announce the distribution guidelines of the Relief Fund"
          ]
         ],
         "geo": "geo",
         "hovertemplate": "population=1136191<br>Countries=%{location}<br>CT measure description=%{customdata[0]}<extra></extra>",
         "locationmode": "country names",
         "locations": [
          "Eswatini"
         ],
         "name": "1136191",
         "showlegend": true,
         "showscale": false,
         "type": "choropleth",
         "z": [
          1
         ]
        },
        {
         "colorscale": [
          [
           0,
           "#ab63fa"
          ],
          [
           1,
           "#ab63fa"
          ]
         ],
         "customdata": [
          [
           "•\tInformal sector in the lockdown areas entitled to one-off Government relief payment of FJ$150 (US$66) where holding a street trader or hawker license"
          ],
          [
           "•\tFijians in the informal sector who tested positive for the virus to be paid a one-off sum of FJ$1,000 (US$443)  "
          ]
         ],
         "geo": "geo",
         "hovertemplate": "population=883483<br>Countries=%{location}<br>CT measure description=%{customdata[0]}<extra></extra>",
         "locationmode": "country names",
         "locations": [
          "Fiji",
          "Fiji"
         ],
         "name": "883483",
         "showlegend": true,
         "showscale": false,
         "type": "choropleth",
         "z": [
          1,
          1
         ]
        },
        {
         "colorscale": [
          [
           0,
           "#FFA15A"
          ],
          [
           1,
           "#FFA15A"
          ]
         ],
         "customdata": [
          [
           "A transfer of Euro 1,500 will be provided to the self-employed and other SMEs as part of the solidarity fund"
          ],
          [
           "Guarantee payment of benefits by the Family Allowance Funds if the quarterly declaration of resources is not possible"
          ],
          [
           "An \"emergency aid\" of 150 euros per family receiving active solidarity income (RSA) or specific solidarity allowance (ASS), to which will be added 100 euros per child will be paid on May 15. Families who do not benefit from the RSA or SSA, but who receive housing assistance, will receive 100 euros per child. Their payment \"will be automatic, without any action being necessary\" and will concern \"more than four million households"
          ],
          [
           "A bonus for all civil servants who pursue their public service mission, despite confinement, up to 1,000 euros in tax-free bonuses are provided "
          ],
          [
           "At the national level, on April 15th, the Government has announced a one-off payment of 100 euros per child for vulnerable families to mitigate the additional financial burden for families because of coronavirus, including the unavailability of nearly free school meals for children. "
          ]
         ],
         "geo": "geo",
         "hovertemplate": "population=66977107<br>Countries=%{location}<br>CT measure description=%{customdata[0]}<extra></extra>",
         "locationmode": "country names",
         "locations": [
          "France",
          "France",
          "France",
          "France",
          "France"
         ],
         "name": "66977107",
         "showlegend": true,
         "showscale": false,
         "type": "choropleth",
         "z": [
          1,
          1,
          1,
          1,
          1
         ]
        },
        {
         "colorscale": [
          [
           0,
           "#19d3f3"
          ],
          [
           1,
           "#19d3f3"
          ]
         ],
         "customdata": [
          [
           "•\tOn May 4th, the Government signed the resolution introducing the three following temporary cash transfers (monthly benefits): \n-\tFamilies with a PMT rating score of 65,000 - 100,000 will receive a flat benefit of 100 GEL for up to 6 months. This will benefit about 70,000 families and 45 million GEL (about $14.13m/€13.10m) is allocated for it.\n-\tFamilies with a PMT rating score of 0 - 100,000 who have three and more children under the age 16will receive a top-up benefit of 100 GEL for Targeted Social Assistance for up to 6 months. This will benefit about 21,000 families. The budget for this assistance is 13 million GEL (about $4.08m/€3.78m).\n-\tPersons with severe disabilities and children with disabilities will receive a a direct transfer of 100 GEL for up to 6 months. About 40,000 citizens will benefit and 25 million GEL (about $7.85m/€7.28m) will be spent on this assistance ."
          ],
          [
           "Government postpone recertification procedures of TSA beneficiaries, simplified the TSA application and enrollment procedures"
          ],
          [
           "People employed in the informal sector or the self-employed will receive a one-time assistance of 300 GEL (about $94.19/€87.34) if they can substantiate claims of job loss – the budget for this is 75 million GEL (about $23.55m/€21.84m) ."
          ]
         ],
         "geo": "geo",
         "hovertemplate": "population=3726549<br>Countries=%{location}<br>CT measure description=%{customdata[0]}<extra></extra>",
         "locationmode": "country names",
         "locations": [
          "Georgia",
          "Georgia",
          "Georgia"
         ],
         "name": "3726549",
         "showlegend": true,
         "showscale": false,
         "type": "choropleth",
         "z": [
          1,
          1,
          1
         ]
        },
        {
         "colorscale": [
          [
           0,
           "#FF6692"
          ],
          [
           1,
           "#FF6692"
          ]
         ],
         "customdata": [
          [
           "Solo freelancers such as artists and nurses are to receive direct grants of up to Euro 15,000 over 3 months. A total of Euro 50B is planned for this purpose ."
          ]
         ],
         "geo": "geo",
         "hovertemplate": "population=82905782<br>Countries=%{location}<br>CT measure description=%{customdata[0]}<extra></extra>",
         "locationmode": "country names",
         "locations": [
          "Germany"
         ],
         "name": "82905782",
         "showlegend": true,
         "showscale": false,
         "type": "choropleth",
         "z": [
          1
         ]
        },
        {
         "colorscale": [
          [
           0,
           "#B6E880"
          ],
          [
           1,
           "#B6E880"
          ]
         ],
         "customdata": [
          [
           "A transfer of Euro 800 (to be made in the first half of April) to about 500,000 employees in companies/businesses closed because of COVID (also self-employed workers); this also includes payment of their social security contributions"
          ],
          [
           "Financial assistance of Euro 400 was introduced for 155,000 long-term unemployed individuals, registered with the Hellenic Manpower Employment Organization (OAED) from April 1, 2019, maintaining their status until April 16, 2020 and not receiving any other benefit from the State. "
          ],
          [
           "Beneficiaries of the Social Solidary Income (SSI) Guaranteed Minimum Income program will not be required to submit a new application upon expiration of the benefit recertification period, unless they chose to do so. Three consecutive extensions have been granted for the approved benefits that have been expiring since February. The same extensions are also granted for the housing benefit"
          ],
          [
           "•\tA special financial support of Euro 534 was introduced for employees in businesses whose operation has been suspended under a State decision. The amount is tax-free, cannot be seized and cannot be offset against any debt.  "
          ],
          [
           "One-off income support was granted to households with minor dependents that are GMI/SSI-beneficiaries: Euro 100 for the first child + Euro 50 for all other children and up to max Euro 300 for each beneficiary (single-parent or co-parent families). The decision was published in the government gazette on May 4, 2020 and the benefit is intended to be paid out in May."
          ],
          [
           "Financial aid of Euro 600 to specific professionals i.e. economists / accountants, engineers, lawyers, doctors, teachers and researchers."
          ],
          [
           "Employees in the wider national healthcare system as well as civil protection staff, who are in the frontline of the fight against the epidemic received the Easter bonus - a benefit that had been abolished in the public sector during the economic crisis. "
          ]
         ],
         "geo": "geo",
         "hovertemplate": "population=10731726<br>Countries=%{location}<br>CT measure description=%{customdata[0]}<extra></extra>",
         "locationmode": "country names",
         "locations": [
          "Greece",
          "Greece",
          "Greece",
          "Greece",
          "Greece",
          "Greece",
          "Greece"
         ],
         "name": "10731726",
         "showlegend": true,
         "showscale": false,
         "type": "choropleth",
         "z": [
          1,
          1,
          1,
          1,
          1,
          1,
          1
         ]
        },
        {
         "colorscale": [
          [
           0,
           "#FF97FF"
          ],
          [
           1,
           "#FF97FF"
          ]
         ],
         "customdata": [
          [
           "The SEED CCT adjusted payment delivery, including initiating payment delivery to beneficiaries aged 60 and over at their homes in March; and introducing additional payment points for all beneficiaries in each Parish (district) in April."
          ]
         ],
         "geo": "geo",
         "hovertemplate": "population=111454<br>Countries=%{location}<br>CT measure description=%{customdata[0]}<extra></extra>",
         "locationmode": "country names",
         "locations": [
          "Grenada"
         ],
         "name": "111454",
         "showlegend": true,
         "showscale": false,
         "type": "choropleth",
         "z": [
          1
         ]
        },
        {
         "colorscale": [
          [
           0,
           "#FECB52"
          ],
          [
           1,
           "#FECB52"
          ]
         ],
         "customdata": [
          [
           "The government introduced an emergency cash transfer “Bono Familia”  to reach 2 million beneficiaries during 3 months (1000 quetzals or US$130 per month/beneficiary) Targeting is based on electricity consumption (<200whz) for areas with electricity (90% of beneficiaries). In areas with limited access to electricity, targeting is based on socio-economic characteristics (10% of beneficiaries)."
          ],
          [
           "Bono Social “Conditional Cash Transfer”. Government is waiving conditionality and making more agile payments.  "
          ]
         ],
         "geo": "geo",
         "hovertemplate": "population=17247807<br>Countries=%{location}<br>CT measure description=%{customdata[0]}<extra></extra>",
         "locationmode": "country names",
         "locations": [
          "Guatemala",
          "Guatemala"
         ],
         "name": "17247807",
         "showlegend": true,
         "showscale": false,
         "type": "choropleth",
         "z": [
          1,
          1
         ]
        },
        {
         "colorscale": [
          [
           0,
           "#636efa"
          ],
          [
           1,
           "#636efa"
          ]
         ],
         "customdata": [
          [
           "The States of Guernsey has set up a Hardship Fund to provide emergency support for people in immediate financial need who may not otherwise qualify for unemployment benefit, sickness benefit or income support. Payments are for essential items such as food, toiletries, cleaning products, etc. The Hardship Fund does not cover rent or mortgage interest payments. The weekly rates payable are:\n-\t£100 for the first adult in the household\n-\t£80 for the second adult in the household\n-\t£55 per child in the household "
          ]
         ],
         "geo": "geo",
         "hovertemplate": "population= 63,196.<br>Countries=%{location}<br>CT measure description=%{customdata[0]}<extra></extra>",
         "locationmode": "country names",
         "locations": [
          "Guernsey"
         ],
         "name": " 63,196.",
         "showlegend": true,
         "showscale": false,
         "type": "choropleth",
         "z": [
          1
         ]
        },
        {
         "colorscale": [
          [
           0,
           "#EF553B"
          ],
          [
           1,
           "#EF553B"
          ]
         ],
         "customdata": [
          [
           "ANIES also has introduced a new cash transfers program of 250.000GNF per month for 240,000 households (1.6 million people) in various parts of Guinea including Conakry. The program take place from June to December 2020"
          ]
         ],
         "geo": "geo",
         "hovertemplate": "population=12414318<br>Countries=%{location}<br>CT measure description=%{customdata[0]}<extra></extra>",
         "locationmode": "country names",
         "locations": [
          "Guinea"
         ],
         "name": "12414318",
         "showlegend": true,
         "showscale": false,
         "type": "choropleth",
         "z": [
          1
         ]
        },
        {
         "colorscale": [
          [
           0,
           "#00cc96"
          ],
          [
           1,
           "#00cc96"
          ]
         ],
         "customdata": [
          [
           "The government announced a one-off cash transfer to 1.5 million vulnerable families"
          ]
         ],
         "geo": "geo",
         "hovertemplate": "population=11123176<br>Countries=%{location}<br>CT measure description=%{customdata[0]}<extra></extra>",
         "locationmode": "country names",
         "locations": [
          "Haiti"
         ],
         "name": "11123176",
         "showlegend": true,
         "showscale": false,
         "type": "choropleth",
         "z": [
          1
         ]
        },
        {
         "colorscale": [
          [
           0,
           "#ab63fa"
          ],
          [
           1,
           "#ab63fa"
          ]
         ],
         "customdata": [
          [
           "The government is implementing an emergency cash transfer program focused on self-employed and informal workers receiving government support under the Covid-19 crisis. The program will benefit around 500,000 people, who are all new beneficiaries"
          ]
         ],
         "geo": "geo",
         "hovertemplate": "population=9587522<br>Countries=%{location}<br>CT measure description=%{customdata[0]}<extra></extra>",
         "locationmode": "country names",
         "locations": [
          "Honduras"
         ],
         "name": "9587522",
         "showlegend": true,
         "showscale": false,
         "type": "choropleth",
         "z": [
          1
         ]
        },
        {
         "colorscale": [
          [
           0,
           "#FFA15A"
          ],
          [
           1,
           "#FFA15A"
          ]
         ],
         "customdata": [
          [
           "An extra 1-month allowance is planned for CSSA payment, Old Age Allowance, Old Age Living Allowance, or Disability Allowance. Similar arrangements will apply to the Work Incentive Transport Subsidy "
          ]
         ],
         "geo": "geo",
         "hovertemplate": "population=7451000<br>Countries=%{location}<br>CT measure description=%{customdata[0]}<extra></extra>",
         "locationmode": "country names",
         "locations": [
          "Hong-Kong"
         ],
         "name": "7451000",
         "showlegend": true,
         "showscale": false,
         "type": "choropleth",
         "z": [
          1
         ]
        },
        {
         "colorscale": [
          [
           0,
           "#19d3f3"
          ],
          [
           1,
           "#19d3f3"
          ]
         ],
         "customdata": [
          [
           "Tentative plans are underway to stimulate private consumption via tax reduction or increased benefits ."
          ],
          [
           "Families with children under the age of 18 will receive a one-time child benefit payment on June 1, 2020 of ISK 20,000 (US$ 140) or ISK 40,000 (US$ 285) per child, depending on their income"
          ]
         ],
         "geo": "geo",
         "hovertemplate": "population=352721<br>Countries=%{location}<br>CT measure description=%{customdata[0]}<extra></extra>",
         "locationmode": "country names",
         "locations": [
          "Iceland",
          "Iceland"
         ],
         "name": "352721",
         "showlegend": true,
         "showscale": false,
         "type": "choropleth",
         "z": [
          1,
          1
         ]
        },
        {
         "colorscale": [
          [
           0,
           "#FF6692"
          ],
          [
           1,
           "#FF6692"
          ]
         ],
         "customdata": [
          [
           "Cash transfers of Rs 500 ($6.5) for 3 months from April to June to 200M women with a Pradhan Mantri Jan Dhan Yojana (PMJDY) (financial inclusion) account"
          ],
          [
           "•\tThe Government of Bihar has decided to transfer funds from the Chief Minister Relief Fund at the rate of Rs.1000 / - per family to the bank account of the labourers and needy persons residing in other states stranded due to lockdown. This scheme is only for those who are in residents of Bihar a and are stranded in other states due to the lockdown announced due to corona virus. The Bihar government has transferred money to 10.11 lakh workers, of the total applications from over 13 lakh registered workers "
          ],
          [
           "87 million farmers who are beneficiaries of the Pradhan Mantri Kisan Samman Nidhi (PM-Kisan) program will receive a top up of Rs2000 (US$ 26.50) for 3 month"
          ],
          [
           "The state of Uttar Pradesh transferred Rs 611 crore ($80M) in cash transfers directly to 27.5M workers of the Mahatma Gandhi National Rural Employment Guarantee Scheme"
          ],
          [
           "The state of Uttar Pradesh will provide compensation to poor workers via online payments if they lost their job due to the pandemic. Vegetable vendors, construction workers, rickshaw pullers, autorickshaw drivers, and temporary staff at shops will be targeted by this measure . "
          ]
         ],
         "geo": "geo",
         "hovertemplate": "population=1352617328<br>Countries=%{location}<br>CT measure description=%{customdata[0]}<extra></extra>",
         "locationmode": "country names",
         "locations": [
          "India",
          "India",
          "India",
          "India",
          "India"
         ],
         "name": "1352617328",
         "showlegend": true,
         "showscale": false,
         "type": "choropleth",
         "z": [
          1,
          1,
          1,
          1,
          1
         ]
        },
        {
         "colorscale": [
          [
           0,
           "#B6E880"
          ],
          [
           1,
           "#B6E880"
          ]
         ],
         "customdata": [
          [
           "The second new unconditional cash transfer program (BLT Dana Desa) is introduced for village residents, who have been negative affected but have not registered in the social registry and are not recipients of PKH/Food Assistance Program/BST. This program is funded via Village Fund and will cover approximately 11-12 million households with the benefit of IDR 600,000 per household per month for 3 months, starting in April. "
          ],
          [
           "The Government also allocates IDR 21 Trillion from Village Fund for social assistance for village residents, targeting approximately 10 million households with the benefit of IDR 600,000 per household per month for the next 3 months. (edit: A new unconditional cash transfer program (BST) is introduced for eligible residents outside the Greater Jakarta region who have already registered in the social registry but are not recipients of PKH or the Food Assistance Program. Approximately 9 million households will each receive IDR 600,000 (US$ 40) per month for 3 months, starting in April)"
          ],
          [
           "Indonesia’s flagship CCT program, Program Keluarga Harapan (PKH), will expand the program coverage from 9.2 to 10 million beneficiary families (or 15 percent of the population) and double the benefit level for 3 months (April, May, and June). The PKH program budget has been increased by nearly 29% to reach IDR 37.4 trillion (US$2.5 billion). Furthermore, benefit payments have become monthly instead of quarterly. "
          ]
         ],
         "geo": "geo",
         "hovertemplate": "population=267663435<br>Countries=%{location}<br>CT measure description=%{customdata[0]}<extra></extra>",
         "locationmode": "country names",
         "locations": [
          "Indonesia",
          "Indonesia",
          "Indonesia"
         ],
         "name": "267663435",
         "showlegend": true,
         "showscale": false,
         "type": "choropleth",
         "z": [
          1,
          1,
          1
         ]
        },
        {
         "colorscale": [
          [
           0,
           "#FF97FF"
          ],
          [
           1,
           "#FF97FF"
          ]
         ],
         "customdata": [
          [
           "The government has also announced loans and amenities to the 4 million low-income families whose livelihoods have been affected by the outbreak of Covid-19 (approximately 500 million US$); cash transfers to households (approximately 1.3 billion USD); and loans to 23 million households which receive cash subsidies."
          ],
          [
           "Iran is planning to support around 3 million lower-income families with no permanent jobs with cash transfers up to 6 million rails (around $400) in 4 stages ."
          ]
         ],
         "geo": "geo",
         "hovertemplate": "population=81800269<br>Countries=%{location}<br>CT measure description=%{customdata[0]}<extra></extra>",
         "locationmode": "country names",
         "locations": [
          "Iran",
          "Iran"
         ],
         "name": "81800269",
         "showlegend": true,
         "showscale": false,
         "type": "choropleth",
         "z": [
          1,
          1
         ]
        },
        {
         "colorscale": [
          [
           0,
           "#FECB52"
          ],
          [
           1,
           "#FECB52"
          ]
         ],
         "customdata": [
          [
           "The Supreme Committee for National Health and Safety, in collaboration with the Ministry of Labour and Social Affairs (MoLSA), launched an assistance package of 30,000 IQD (US$ 253) per person. This program, called Minha, aims to support the most vulnerable people who have been impacted by the COVID-19 curfew and lockdown measures. In order to be eligible, Iraqis had to self-register by April 16th using a newly launched website. By the deadline, approximately 2.5 million people self-registered"
          ]
         ],
         "geo": "geo",
         "hovertemplate": "population=38433600<br>Countries=%{location}<br>CT measure description=%{customdata[0]}<extra></extra>",
         "locationmode": "country names",
         "locations": [
          "Iraq"
         ],
         "name": "38433600",
         "showlegend": true,
         "showscale": false,
         "type": "choropleth",
         "z": [
          1
         ]
        },
        {
         "colorscale": [
          [
           0,
           "#636efa"
          ],
          [
           1,
           "#636efa"
          ]
         ],
         "customdata": [
          [
           "A benefit of €350 (US$ 385) per week will be paid to the unemployed (self-employed or employees) for the duration of the crisis. It is designed to provide income security for a period during which the unemployed can apply for a full Jobseekers payment. Non-EU/EEA migrant workers are also eligible for this program."
          ]
         ],
         "geo": "geo",
         "hovertemplate": "population=4867309<br>Countries=%{location}<br>CT measure description=%{customdata[0]}<extra></extra>",
         "locationmode": "country names",
         "locations": [
          "Ireland"
         ],
         "name": "4867309",
         "showlegend": true,
         "showscale": false,
         "type": "choropleth",
         "z": [
          1
         ]
        },
        {
         "colorscale": [
          [
           0,
           "#EF553B"
          ],
          [
           1,
           "#EF553B"
          ]
         ],
         "customdata": [
          [
           "The Decreto di Rilancio - “Relaunch decree”  - a stimulus package of €55B signed on May 19, 2020– suspends all conditionalities related to the Guaranteed Minimum Income program, or Reddito di Cittadinanza (RdC), for two additional months, until July 2020, with the exception of accepting an adequate job offer in the municipality of residence. The rationale is the minimization of movement of beneficiaries to social services or to public employment services, where they are expected to sign a social inclusion pact or a labor pact. A separate note stressed the importance of ensuring continuity of social services during the emergency, with a focus on protecting social workers and beneficiaries from contagion, promoting the use of telephone and technology to maintain contact with families, and paying special attention to situation of vulnerability for women and minors. Existing resources aimed at strengthening services for RdC can be reoriented towards activities most needed in response to the pandemic"
          ],
          [
           "The Relaunch decree announced a temporary means tested cash transfer, Reddito di Emergenza, Emergency Income, for those vulnerable households not protected by any other social assistance measure. The benefit lasts for two months and the amount varies between €400 to €800 per month, depending on the equivalence scale. Applications are open till the end of June and payments will be disbursed during the months of July and August. The total available budget for the measure amounts to €954.6 million."
          ],
          [
           "Workers with income less than €40,000 (US$ 44,000) per year are entitled to a nontaxable, one-off benefit of €100 (US$ 110) for March 2020 if their job required the worker to go to the regular workplace. Workers who carried out their job remotely are not entitled to the bonus."
          ],
          [
           "The Relaunch Decree extends the one-off €600 (US$ 660) bonus to self-employed and professional workers, including agricultural, tourism, cultural sector workers by one additional month for April 2020. In May the bonus increases to €1,000 for those self-professional workers who can demonstrate a 30% reduction in income during March-April with respect to the same period of last year"
          ]
         ],
         "geo": "geo",
         "hovertemplate": "population=60421760<br>Countries=%{location}<br>CT measure description=%{customdata[0]}<extra></extra>",
         "locationmode": "country names",
         "locations": [
          "Italy",
          "Italy",
          "Italy",
          "Italy"
         ],
         "name": "60421760",
         "showlegend": true,
         "showscale": false,
         "type": "choropleth",
         "z": [
          1,
          1,
          1,
          1
         ]
        },
        {
         "colorscale": [
          [
           0,
           "#00cc96"
          ],
          [
           1,
           "#00cc96"
          ]
         ],
         "customdata": [
          [
           "PATH payments will be paid earlier than scheduled. "
          ],
          [
           "PATH families with children enrolled in primary and secondary schools are receiving a top-up of J$150 per day while children in ECD are receiving J$100 per day for school feeding while school is closed. A total or 23 school days were paid for this benefit in May."
          ],
          [
           "Under Government’s COVID Allocation of Resources for Employees (CARE) Program, a direct transfer will be made to workers who lost their jobs (details to be announced). Supporting Employees with Transfer of Cash (SET Cash ) – which will provide temporary cash transfer to individuals where it can be verified that they lost their employment since March 10, (the date of the first COVID19 case in Jamaica). Individuals who apply and qualify will receive J$9,000 (US$63) per fortnight, paid monthly from the month of their application through to June 2020"
          ],
          [
           "Persons enrolled in PATH will receive a ‘COVID-19 PATH grant’ which will add another payment for the April-June payment period under the CARE program. PATH beneficiaries will therefore receive three payments instead of two payments for this payment period"
          ],
          [
           "‘COVID General Grant’ under the CARE program will provide one-time grants to different categories of small businesses and self-employed persons, including (i) J$25,000 (US$174) to barbers, hairdressers, beauty therapists, cosmetologists, market vendors, taxi and bus operators (who are registered with a Municipal or Transport Authority by April 30, 2020; (ii) J$40,000 (US$279) to bar and night club operators registered with a Municipal Authority by April 30, 2020; and (iii) J$40,000 (US$279) to craft vendors, and transport operators registered with the Tourism Product Development Company by April 30, 2020."
          ],
          [
           "The CARE program’s Compassionate Grant of J$10,000 (US$70) is available to anyone in need (e.g. tertiary students, unemployed, informally employed, elderly, pensioners, etc.) who completes the required application form, is not formally employed, has not received, and does not intend to apply"
          ],
          [
           "for any other cash benefit under the CARE Programme, with the exception of the Covid-19 PATH Grant. Persons must possess a valid taxpayer registration number and not be in formal employment. Aa of May 6, 2020 - 250,000 applicants were eligible and scheduled to receive payment."
          ]
         ],
         "geo": "geo",
         "hovertemplate": "population=2934855<br>Countries=%{location}<br>CT measure description=%{customdata[0]}<extra></extra>",
         "locationmode": "country names",
         "locations": [
          "Jamaica",
          "Jamaica",
          "Jamaica",
          "Jamaica",
          "Jamaica",
          "Jamaica",
          "Jamaica"
         ],
         "name": "2934855",
         "showlegend": true,
         "showscale": false,
         "type": "choropleth",
         "z": [
          1,
          1,
          1,
          1,
          1,
          1,
          1
         ]
        },
        {
         "colorscale": [
          [
           0,
           "#ab63fa"
          ],
          [
           1,
           "#ab63fa"
          ]
         ],
         "customdata": [
          [
           "Japan’s planned spending package of up to 20 trillion yen ($190 billion) includes: \n- unconditional cash disbursement for all individual residents with a registered residence, including expat workers"
          ]
         ],
         "geo": "geo",
         "hovertemplate": "population=126529100<br>Countries=%{location}<br>CT measure description=%{customdata[0]}<extra></extra>",
         "locationmode": "country names",
         "locations": [
          "Japan"
         ],
         "name": "126529100",
         "showlegend": true,
         "showscale": false,
         "type": "choropleth",
         "z": [
          1
         ]
        },
        {
         "colorscale": [
          [
           0,
           "#FFA15A"
          ],
          [
           1,
           "#FFA15A"
          ]
         ],
         "customdata": [
          [
           "Due to the curfew, the government will deliver cash to the houses of all the current beneficiaries of the National Aid Fund (NAF) monthly cash transfer and quarterly Takaful programs for March 2020 [around 145,000 households]. \n\nNAF started the registration of the Bread Subsidy Cash Compensation Program, which targets up to 80% of the population with a small amount of money annually. Payments will occur over April-November 2020. Registration is using the same form for the Takaful Program."
          ],
          [
           "The government announced a program to provide cash support to poor and vulnerable households affected by COVID-19. The Program will provide: (i) temporary (6 month) CTs to 200,000 vulnerable households; and temporary (6 month) benefit top-ups for NAF beneficiaries whose benefits are below a certain threshold. The number of households benefiting from the Program will be about 293,000.  The Program will add about 210,000 household to the existing caseload of NAF (146,000). The set benefit for this program is JOD136 (US$ 193) for households of 3 members and more and JOD 70 (US$ 99) for households of two members.  "
          ]
         ],
         "geo": "geo",
         "hovertemplate": "population=9956011<br>Countries=%{location}<br>CT measure description=%{customdata[0]}<extra></extra>",
         "locationmode": "country names",
         "locations": [
          "Jordan",
          "Jordan"
         ],
         "name": "9956011",
         "showlegend": true,
         "showscale": false,
         "type": "choropleth",
         "z": [
          1,
          1
         ]
        },
        {
         "colorscale": [
          [
           0,
           "#19d3f3"
          ],
          [
           1,
           "#19d3f3"
          ]
         ],
         "customdata": [
          [
           "During the state of emergency one minimum monthly wage (KZT42,500) is paid to citizens who had lost their income because of the state of emergency. Approx. 3 mln citizens could expect this compensation"
          ]
         ],
         "geo": "geo",
         "hovertemplate": "population=18272430<br>Countries=%{location}<br>CT measure description=%{customdata[0]}<extra></extra>",
         "locationmode": "country names",
         "locations": [
          "Kazakhstan"
         ],
         "name": "18272430",
         "showlegend": true,
         "showscale": false,
         "type": "choropleth",
         "z": [
          1
         ]
        },
        {
         "colorscale": [
          [
           0,
           "#FF6692"
          ],
          [
           1,
           "#FF6692"
          ]
         ],
         "customdata": [
          [
           "1,094,238 Inua Jamii beneficiaries will start receiving Ksh8,000 (US$ 80) each from the state to cushion them against the effects of the coronavirus. At the queue at the payment centers, the beneficiaries will be required to maintain 1.5 meters of social distance"
          ],
          [
           "The National Treasury appropriated an additional Ksh10B (equivalent to US$ 100M) for supporting the elderly, orphans and other vulnerable members with cash transfers."
          ],
          [
           "3,000,000 new households’ beneficiaries will be added under NSNP/KSEIP"
          ]
         ],
         "geo": "geo",
         "hovertemplate": "population=51393010<br>Countries=%{location}<br>CT measure description=%{customdata[0]}<extra></extra>",
         "locationmode": "country names",
         "locations": [
          "Kenya",
          "Kenya",
          "Kenya"
         ],
         "name": "51393010",
         "showlegend": true,
         "showscale": false,
         "type": "choropleth",
         "z": [
          1,
          1,
          1
         ]
        },
        {
         "colorscale": [
          [
           0,
           "#B6E880"
          ],
          [
           1,
           "#B6E880"
          ]
         ],
         "customdata": [
          [
           "Early payment of 2 months-worth social assistance benefits. A measure amounting to seven million six hundred fifty thousand (€7,650,000.00) Euros Also, early payment of farming grants and subsidies (for 1,702 farmers) is planned."
          ],
          [
           "All verification procedures for social assistance (and pensions) benefits are suspended until further notice (beneficiaries are required to visit public offices, etc.). "
          ],
          [
           "Payment of an additional sum of thirty (€30) Euros per month to all beneficiaries of social assistance and pension schemes who receive a monthly payment lower than one-hundred (€100) Euros, for April, May and June, provided that they are beneficiaries of only one scheme"
          ],
          [
           "Payment of monthly assistance in the amount of one hundred and thirty (€130) Euros to citizens who lose their jobs due to the public health emergency situation, for April, May and June, amounting up to four million (€4,000,000.00) Euros"
          ]
         ],
         "geo": "geo",
         "hovertemplate": "population=1845300<br>Countries=%{location}<br>CT measure description=%{customdata[0]}<extra></extra>",
         "locationmode": "country names",
         "locations": [
          "Kosovo",
          "Kosovo",
          "Kosovo",
          "Kosovo"
         ],
         "name": "1845300",
         "showlegend": true,
         "showscale": false,
         "type": "choropleth",
         "z": [
          1,
          1,
          1,
          1
         ]
        },
        {
         "colorscale": [
          [
           0,
           "#FF97FF"
          ],
          [
           1,
           "#FF97FF"
          ]
         ],
         "customdata": [
          [
           "* Automatic extension of the standard one-year enrollment term for beneficiaries of poverty-targeted cash transfer which term was due to finish during the quarantine period. \n* Low-income families with children do not need to report on their income and visit district social protection offices.\nCategorical cash transfer to persons with disabilities [children and adults] will be prolonged automatically if their term finishes in time of quarantine"
          ],
          [
           "Categorical cash transfers to persons with disabilities (children and adults) will be prolonged automatically if their term finishes in time of quarantine."
          ]
         ],
         "geo": "geo",
         "hovertemplate": "population=6322800<br>Countries=%{location}<br>CT measure description=%{customdata[0]}<extra></extra>",
         "locationmode": "country names",
         "locations": [
          "Kyrgyz Republic",
          "Kyrgyz Republic"
         ],
         "name": "6322800",
         "showlegend": true,
         "showscale": false,
         "type": "choropleth",
         "z": [
          1,
          1
         ]
        },
        {
         "colorscale": [
          [
           0,
           "#FECB52"
          ],
          [
           1,
           "#FECB52"
          ]
         ],
         "customdata": [
          [
           "Given that Lao PDR lacks a national cash transfer program, Government is planning on rapidly designing and implementing an Emergency Cash Transfer (ECT) programs to support affected people in the contexts of COVID-19. The program design will rely on the existing experience in setting up a nutrition sensitive conditional cash transfer (CCT) program in the north of the country and aims to build on the building blocks that the country has been developing to rapidly register and pay beneficiaries. While the program design is still under discussion, it would target poor and new poor families and informal workers in affected industries such as tourism and manufacturing, and also migrant workers from Thailand and other countries. Approx. 250,000 household beneficiaries (national) will benefit from this program"
          ]
         ],
         "geo": "geo",
         "hovertemplate": "population=7061507<br>Countries=%{location}<br>CT measure description=%{customdata[0]}<extra></extra>",
         "locationmode": "country names",
         "locations": [
          "Lao PDR"
         ],
         "name": "7061507",
         "showlegend": true,
         "showscale": false,
         "type": "choropleth",
         "z": [
          1
         ]
        },
        {
         "colorscale": [
          [
           0,
           "#636efa"
          ],
          [
           1,
           "#636efa"
          ]
         ],
         "customdata": [
          [
           "On 26 March 2020, the government announced [1] that it will allocate 75 billion Lebanese pounds (about 5 million US dollars) as a social assistance package to those in need, against the backdrop of measures to tackle the spread of COVID-19. The aid package is a treasury advance to the High Relief Authority to help people suffering from the effects of lockdown measures taken to counter the spread of the emerging Corona virus."
          ]
         ],
         "geo": "geo",
         "hovertemplate": "population=6848925<br>Countries=%{location}<br>CT measure description=%{customdata[0]}<extra></extra>",
         "locationmode": "country names",
         "locations": [
          "Lebanon"
         ],
         "name": "6848925",
         "showlegend": true,
         "showscale": false,
         "type": "choropleth",
         "z": [
          1
         ]
        },
        {
         "colorscale": [
          [
           0,
           "#EF553B"
          ],
          [
           1,
           "#EF553B"
          ]
         ],
         "customdata": [
          [
           "Increase the cash benefit amount for existing beneficiaries, especially child grant support. Identify and add new vulnerable people – children, elderly (60-70yrs), people living with disabilities and informal sector operators. . The project is expected to benefit close to 200,000 social grant beneficiaries"
          ]
         ],
         "geo": "geo",
         "hovertemplate": "population=2108132<br>Countries=%{location}<br>CT measure description=%{customdata[0]}<extra></extra>",
         "locationmode": "country names",
         "locations": [
          "Lesotho"
         ],
         "name": "2108132",
         "showlegend": true,
         "showscale": false,
         "type": "choropleth",
         "z": [
          1
         ]
        },
        {
         "colorscale": [
          [
           0,
           "#00cc96"
          ],
          [
           1,
           "#00cc96"
          ]
         ],
         "customdata": [
          [
           "For COVID-19 support to vulnerable households, the Government of Liberia plans to use existing Liberia Social Safety Nets Project to provide immediate relief in Greater Monrovia area and scale up cash transfers in the four most food insecure counties. Specifically, the government plans to: \n•\tProvide one-off emergency cash transfers to approximately 25,000 poorest households in Greater Monrovia via mobile money\n•\tScale up the Social Cash Transfer (SCT) program from 3,500 to 15,000 extreme poor households in Liberia’s four most food insecure counties (Maryland, Grand Kru, River Gee and Bomi) via mobile money \n•\tThe expected beneficiaries of 40,000 families are as follows: 25,000 poorest households in Greater Monrovia (new); 3,500 rural extreme poor households (current); and 11,500 new extreme poor households"
          ]
         ],
         "geo": "geo",
         "hovertemplate": "population=4818977<br>Countries=%{location}<br>CT measure description=%{customdata[0]}<extra></extra>",
         "locationmode": "country names",
         "locations": [
          "Liberia"
         ],
         "name": "4818977",
         "showlegend": true,
         "showscale": false,
         "type": "choropleth",
         "z": [
          1
         ]
        },
        {
         "colorscale": [
          [
           0,
           "#ab63fa"
          ],
          [
           1,
           "#ab63fa"
          ]
         ],
         "customdata": [
          [
           "Grant self-employed people with less than 10 employees a non-refundable and non-taxable support of €2,500. "
          ],
          [
           "Grant self-employed people (regardless of the number of their employees) a direct aid in the amount of EUR 3,000, 3,500 or 4,000 depending on the income level of the person concerned."
          ]
         ],
         "geo": "geo",
         "hovertemplate": "population=607950<br>Countries=%{location}<br>CT measure description=%{customdata[0]}<extra></extra>",
         "locationmode": "country names",
         "locations": [
          "Luxembourg",
          "Luxembourg"
         ],
         "name": "607950",
         "showlegend": true,
         "showscale": false,
         "type": "choropleth",
         "z": [
          1,
          1
         ]
        },
        {
         "colorscale": [
          [
           0,
           "#FFA15A"
          ],
          [
           1,
           "#FFA15A"
          ]
         ],
         "customdata": [
          [
           "Unconditional cash transfers of 100,000 Ariary to poor and vulnerable households in Antananarivo and Toamasina city. This transfer will be given out to households for the April and May. The program aims to target 150,000 households as first phase (to be revised depending on the evolution of the situation). Total project budget is 10,000,000 US $"
          ]
         ],
         "geo": "geo",
         "hovertemplate": "population=26262368<br>Countries=%{location}<br>CT measure description=%{customdata[0]}<extra></extra>",
         "locationmode": "country names",
         "locations": [
          "Madagascar"
         ],
         "name": "26262368",
         "showlegend": true,
         "showscale": false,
         "type": "choropleth",
         "z": [
          1
         ]
        },
        {
         "colorscale": [
          [
           0,
           "#19d3f3"
          ],
          [
           1,
           "#19d3f3"
          ]
         ],
         "customdata": [
          [
           "As part of the government of Malawi’s National COVID-19 Preparedness and Response Plan, the government has proposed measures to accelerate payment of Social Cash Transfer Program (SCTP) benefits, as follows: in April, SCTP payments will be fast-tracked, with a four-month payment covering up to June delivered in April."
          ],
          [
           "The Government is also proposing to provide top-ups to SCTP beneficiaries and increase SCTP coverage in both rural areas (as of June), and increase SCTP coverage in urban areas from April-June"
          ]
         ],
         "geo": "geo",
         "hovertemplate": "population=18143315<br>Countries=%{location}<br>CT measure description=%{customdata[0]}<extra></extra>",
         "locationmode": "country names",
         "locations": [
          "Malawi",
          "Malawi"
         ],
         "name": "18143315",
         "showlegend": true,
         "showscale": false,
         "type": "choropleth",
         "z": [
          1,
          1
         ]
        },
        {
         "colorscale": [
          [
           0,
           "#FF6692"
          ],
          [
           1,
           "#FF6692"
          ]
         ],
         "customdata": [
          [
           "The Malaysian government has budgeted RM10 billion to provide one-off cash transfer to depending on income level\n•\tRM1600 to 4 million households earning <RM4000/month \n•\tRM1000 to 1.1 million households earning RM4000-8000/month \n•\tRM800 to 3 million single individuals aged 21+ earning <RM2000/month \n•\tRM500 to 400,000  single individuals aged 21+ earning RM2000-4000/month"
          ],
          [
           "Civil servants will be given a one-off cash transfor of RM500 per person in April 2020. This will benefit 1.5 million workers. Public pensioners will also be given a one-off cash transfer of RM500 per person in April 2020. This will benefit 850,000 pensioners."
          ],
          [
           "120,000 e-hailing drivers will be given a one-off cash transfer of RM500 (US$125). The allocation for this transfer is RM60 million. "
          ],
          [
           "As part of the Bantuan Sara Hidup (BSH) program, the payment of RM200 expected in May 2020 will be anticipated to March 2020. Such payments amount to RM760M and will benefit 3.8M BSH households.   Also, BSH 2020 recipients will receive an additional RM100 as well as RM50 as e-cash, which will be disbursed in May 2020. This will cost RM500M and benefit an additional 5M BSH recipients.  "
          ],
          [
           "The government will also provide a special monthly critical worker allowance of RM400 (US$96) for medical doctors and other medical personnel, as well as RM200 (US$48) for immigration and related frontline staff until the end of the outbreak."
          ],
          [
           "One-off payment of RM600 (US$144) to taxi, tourist and trishaw drivers and tourist guides. "
          ],
          [
           "A one-off cash transfer of RM200 will be given to all students enrolled in institutes of higher learning in May 2020. This is expected to cost RM270 million"
          ]
         ],
         "geo": "geo",
         "hovertemplate": "population=31528585<br>Countries=%{location}<br>CT measure description=%{customdata[0]}<extra></extra>",
         "locationmode": "country names",
         "locations": [
          "Malaysia",
          "Malaysia",
          "Malaysia",
          "Malaysia",
          "Malaysia",
          "Malaysia",
          "Malaysia"
         ],
         "name": "31528585",
         "showlegend": true,
         "showscale": false,
         "type": "choropleth",
         "z": [
          1,
          1,
          1,
          1,
          1,
          1,
          1
         ]
        },
        {
         "colorscale": [
          [
           0,
           "#B6E880"
          ],
          [
           1,
           "#B6E880"
          ]
         ],
         "customdata": [
          [
           "The government is planning COVID-19 related emergency cash transfers to 75,000 households. These are composed of 25,000 households in the capital and largest urban center, Bamako, and 50,000 households in the regional and departmental capitals across the country (targeting a total of 35 urban municipalities)."
          ]
         ],
         "geo": "geo",
         "hovertemplate": "population=19077690<br>Countries=%{location}<br>CT measure description=%{customdata[0]}<extra></extra>",
         "locationmode": "country names",
         "locations": [
          "Mali"
         ],
         "name": "19077690",
         "showlegend": true,
         "showscale": false,
         "type": "choropleth",
         "z": [
          1
         ]
        },
        {
         "colorscale": [
          [
           0,
           "#FF97FF"
          ],
          [
           1,
           "#FF97FF"
          ]
         ],
         "customdata": [
          [
           "•\tA benefit of €800 per month (€500 in case of part-timers) to one of the parents (including single parents) who take additional unpaid leave to take care of children whilst schools remain closed, when both parents work in the private sector ."
          ]
         ],
         "geo": "geo",
         "hovertemplate": "population=484630<br>Countries=%{location}<br>CT measure description=%{customdata[0]}<extra></extra>",
         "locationmode": "country names",
         "locations": [
          "Malta"
         ],
         "name": "484630",
         "showlegend": true,
         "showscale": false,
         "type": "choropleth",
         "z": [
          1
         ]
        },
        {
         "colorscale": [
          [
           0,
           "#FECB52"
          ],
          [
           1,
           "#FECB52"
          ]
         ],
         "customdata": [
          [
           "The allocation of 5 billion ouguiya to support 30 thousand dependent families by women, the elderly and people with disabilities, most of which are in Nouakchott, with a monthly financial aid for three months."
          ]
         ],
         "geo": "geo",
         "hovertemplate": "population=4403319<br>Countries=%{location}<br>CT measure description=%{customdata[0]}<extra></extra>",
         "locationmode": "country names",
         "locations": [
          "Mauritania"
         ],
         "name": "4403319",
         "showlegend": true,
         "showscale": false,
         "type": "choropleth",
         "z": [
          1
         ]
        },
        {
         "colorscale": [
          [
           0,
           "#636efa"
          ],
          [
           1,
           "#636efa"
          ]
         ],
         "customdata": [
          [
           "Eligible Self-Employed individuals will receive a financial support of\nRs 5,100 (i.e. 50% of Guaranteed Income) for the period\n16th March 2020 to 15th April 2020.\n- Self-employed individuals who are either in business (examples: shops, hawkers, hair dressers, etc.) or are casual workers (examples: masons, plumbers, artists etc.) are eligible under the Scheme\n- Self-employed individuals in business or self-employed casual workers whose total monthly household income does not exceed Rs 50,000 will be eligible under the Scheme."
          ]
         ],
         "geo": "geo",
         "hovertemplate": "population=1265303<br>Countries=%{location}<br>CT measure description=%{customdata[0]}<extra></extra>",
         "locationmode": "country names",
         "locations": [
          "Mauritius"
         ],
         "name": "1265303",
         "showlegend": true,
         "showscale": false,
         "type": "choropleth",
         "z": [
          1
         ]
        },
        {
         "colorscale": [
          [
           0,
           "#EF553B"
          ],
          [
           1,
           "#EF553B"
          ]
         ],
         "customdata": [
          [
           "Advance of the payment of (non-contributory) disability pensions (payments of for 4 months at once, instead of 2) by four months."
          ]
         ],
         "geo": "geo",
         "hovertemplate": "population=126190788<br>Countries=%{location}<br>CT measure description=%{customdata[0]}<extra></extra>",
         "locationmode": "country names",
         "locations": [
          "Mexico"
         ],
         "name": "126190788",
         "showlegend": true,
         "showscale": false,
         "type": "choropleth",
         "z": [
          1
         ]
        },
        {
         "colorscale": [
          [
           0,
           "#00cc96"
          ],
          [
           1,
           "#00cc96"
          ]
         ],
         "customdata": [
          [
           "•\tTemporary increase of social assistance benefit (guaranteed minimum income threshold increased to 1300 lei (US$73.5) from 1107 lei (US$62.6)) per adult equivalent during the emergency period) "
          ],
          [
           "•\tPermanent increase of social assistance benefit for families with children with increased adult equivalency coefficient for children from 50 to 75%."
          ]
         ],
         "geo": "geo",
         "hovertemplate": "population=2706049<br>Countries=%{location}<br>CT measure description=%{customdata[0]}<extra></extra>",
         "locationmode": "country names",
         "locations": [
          "Moldova",
          "Moldova"
         ],
         "name": "2706049",
         "showlegend": true,
         "showscale": false,
         "type": "choropleth",
         "z": [
          1,
          1
         ]
        },
        {
         "colorscale": [
          [
           0,
           "#ab63fa"
          ],
          [
           1,
           "#ab63fa"
          ]
         ],
         "customdata": [
          [
           "The ‘Child Money’ monthly allowance, given for a total of 1.14 million children in Mongolia, will be raised to MNT 100,000 (about $32.80) until October 1 (6 months), 2020. As the previously increased MNT 30,000 from initial MNT 10,000 within the framework of the government’s first package of measures, was already granted to children in April 2020, the leftover amount MNT 70,000 will be compensated in the coming days"
          ]
         ],
         "geo": "geo",
         "hovertemplate": "population=3170208<br>Countries=%{location}<br>CT measure description=%{customdata[0]}<extra></extra>",
         "locationmode": "country names",
         "locations": [
          "Mongolia"
         ],
         "name": "3170208",
         "showlegend": true,
         "showscale": false,
         "type": "choropleth",
         "z": [
          1
         ]
        },
        {
         "colorscale": [
          [
           0,
           "#FFA15A"
          ],
          [
           1,
           "#FFA15A"
          ]
         ],
         "customdata": [
          [
           "Nearly 11,900 pensioners receiving the lowest pension and 8,500 beneficiaries of family allowance (social assistance as per the Law on Social and Child Protection) will receive a one-off amount of Euro50. For this purpose, the Government has committed Eur 1M. Payments are processed through the Post office and home deliveries, to enforce social distancing ."
          ],
          [
           "Support to Agro budget through: one-off assistance to commercial fishermen; payment of contributions to insured persons on the basis of agriculture; one-off support for benefits for the elderly; support for the purchase of local products; support for payment of products to domestic producers within 15 days; favourable loans for the purchase of working capital and payment of interest to the beneficiaries of these loans in the grace period; prepayment of 80% of individual premiums"
          ],
          [
           "The Government will provide one-off assistance in the amount of EUR 50 to all unemployed persons on the records of the Employment Agency of Montenegro, who do not receive any social transfers"
          ]
         ],
         "geo": "geo",
         "hovertemplate": "population=622227<br>Countries=%{location}<br>CT measure description=%{customdata[0]}<extra></extra>",
         "locationmode": "country names",
         "locations": [
          "Montenegro",
          "Montenegro",
          "Montenegro"
         ],
         "name": "622227",
         "showlegend": true,
         "showscale": false,
         "type": "choropleth",
         "z": [
          1,
          1,
          1
         ]
        },
        {
         "colorscale": [
          [
           0,
           "#19d3f3"
          ],
          [
           1,
           "#19d3f3"
          ]
         ],
         "customdata": [
          [
           "A three-month temporary transfer of  EC$900  (US$333) a month (food package and cash support) to persons who do not have any work and unable to access other Social Security benefits and other financial support"
          ]
         ],
         "geo": "geo",
         "hovertemplate": "population=4992<br>Countries=%{location}<br>CT measure description=%{customdata[0]}<extra></extra>",
         "locationmode": "country names",
         "locations": [
          "Montserrat (UK)"
         ],
         "name": "4992",
         "showlegend": true,
         "showscale": false,
         "type": "choropleth",
         "z": [
          1
         ]
        },
        {
         "colorscale": [
          [
           0,
           "#FF6692"
          ],
          [
           1,
           "#FF6692"
          ]
         ],
         "customdata": [
          [
           "The Economic Watch Committee (Comité de veille économique (CVE) members decided to activate a mobile payment device to transfer cash to workers operating in the informal sector adversely affected by COVID-19 (only for those who have been directly affected by the GoM compulsory confinement policy). . \nThe electronic cash transfer program will reach half of the informal sector workers (estimated 3 million workers to receive payment). Registration has started on March 30, 2020 and the first payments are due to start of Monday April 6th.  The speed and scale is facilitated by the use of a health insurance fee waiver registry in the first phase and a simple payment mechanism. \nThe program will be served by the Coronavirus fund created by King Mohammed VI, determined as follows:\n-\t800 dirhams per month for households of two people or less;\n-\t1,000 dirhams per month for households of three to four people;\n-\t1,200 dirhams per month for households of more than four people."
          ]
         ],
         "geo": "geo",
         "hovertemplate": "population=36029138<br>Countries=%{location}<br>CT measure description=%{customdata[0]}<extra></extra>",
         "locationmode": "country names",
         "locations": [
          "Morocco"
         ],
         "name": "36029138",
         "showlegend": true,
         "showscale": false,
         "type": "choropleth",
         "z": [
          1
         ]
        },
        {
         "colorscale": [
          [
           0,
           "#B6E880"
          ],
          [
           1,
           "#B6E880"
          ]
         ],
         "customdata": [
          [
           "Cash Transfer -. Myanmar government has launched the COVID-19 Economic Relief Plan (CERP) on April 27. The cost of all action plans in CERP is estimated to be around $2 billion.\n•\tSPJ related cost is estimated around $ 200 million with a focus on cash transfers to most vulnerable and affected workers and households and it aims to reach around 5 million households. \n"
          ],
          [
           "Beneficiaries of the Maternal and Child Cash Transfer Programme (supporting mothers of children under the age of two, pregnant women) will receive a one-off MMK30,000 cash payment (in addition to the existing monthly payment of MMK15,000). Total budget is USD4.93m benefiting 241,425 households "
          ]
         ],
         "geo": "geo",
         "hovertemplate": "population=53708395<br>Countries=%{location}<br>CT measure description=%{customdata[0]}<extra></extra>",
         "locationmode": "country names",
         "locations": [
          "Myanmar",
          "Myanmar"
         ],
         "name": "53708395",
         "showlegend": true,
         "showscale": false,
         "type": "choropleth",
         "z": [
          1,
          1
         ]
        },
        {
         "colorscale": [
          [
           0,
           "#FF97FF"
          ],
          [
           1,
           "#FF97FF"
          ]
         ],
         "customdata": [
          [
           "To support the households cope with reduced income, increased health related spending and other hardships due to the virus outbreak, the following measure has been proposed: \n\n\tAn Emergency Income Grant, to support those employees who have lost their jobs due to the pandemic and its fallout. This is a once-off payment of N$750 to people who have lost their jobs, either in the informal or in the formal sector, essentially to stave off the vulnerabilities which arise. Applications may be made by Namibians citizens between 18 and 60 years of age who have lost their jobs and not receiving any other social grants. \n\tPayment will be made by Government in collaboration with the Social Security Commission within 7 days utilising the banking sector’s ATM infrastructure. The total amount for this measure is costed at a maximum of N$562.00 million, based on the national poverty line of about N$250.00 per person per week"
          ]
         ],
         "geo": "geo",
         "hovertemplate": "population=2448255<br>Countries=%{location}<br>CT measure description=%{customdata[0]}<extra></extra>",
         "locationmode": "country names",
         "locations": [
          "Namibia"
         ],
         "name": "2448255",
         "showlegend": true,
         "showscale": false,
         "type": "choropleth",
         "z": [
          1
         ]
        },
        {
         "colorscale": [
          [
           0,
           "#FECB52"
          ],
          [
           1,
           "#FECB52"
          ]
         ],
         "customdata": [
          [
           "The government announced a three-month provision for self-employed persons with financial problems.  Implemented by municipalities, it can be applied for in the form of an additional allowance for living expenses and/or operating capital. Depending on household income and composition, the living expenses allowance will top up the income to a maximum of the guaranteed minimum income and does not have to be repaid. To avoid delays in the payment of the allowance, the income of a partner or the assets of the self-employed person will not be taken into account. Support for operating capital will take place in the form of a loan at a reduced interest rate according to the Social Assistance (Self-Employed Persons) Decree (Besluit bijstandverlening zelfstandigen)."
          ]
         ],
         "geo": "geo",
         "hovertemplate": "population=17231624<br>Countries=%{location}<br>CT measure description=%{customdata[0]}<extra></extra>",
         "locationmode": "country names",
         "locations": [
          "Netherlands"
         ],
         "name": "17231624",
         "showlegend": true,
         "showscale": false,
         "type": "choropleth",
         "z": [
          1
         ]
        },
        {
         "colorscale": [
          [
           0,
           "#636efa"
          ],
          [
           1,
           "#636efa"
          ]
         ],
         "customdata": [
          [
           "New Zealand's government has announced a total of $2.8 billion for income support for the most vulnerable, including a permanent $25 per week benefit increase and a doubling of the Winter Energy Payment for 2020"
          ]
         ],
         "geo": "geo",
         "hovertemplate": "population=4841000<br>Countries=%{location}<br>CT measure description=%{customdata[0]}<extra></extra>",
         "locationmode": "country names",
         "locations": [
          "New Zealand"
         ],
         "name": "4841000",
         "showlegend": true,
         "showscale": false,
         "type": "choropleth",
         "z": [
          1
         ]
        },
        {
         "colorscale": [
          [
           0,
           "#EF553B"
          ],
          [
           1,
           "#EF553B"
          ]
         ],
         "customdata": [
          [
           "As a part of its response to the COVID-19 crisis, the Government has already adopted the emergency cash transfer program for poor, vulnerable households, and households with members working in the informal sector particularly affected by the pandemics, based on one off payment, and its implementation in starting in June, with the payments in July/August 2020"
          ]
         ],
         "geo": "geo",
         "hovertemplate": "population=22442948<br>Countries=%{location}<br>CT measure description=%{customdata[0]}<extra></extra>",
         "locationmode": "country names",
         "locations": [
          "Niger"
         ],
         "name": "22442948",
         "showlegend": true,
         "showscale": false,
         "type": "choropleth",
         "z": [
          1
         ]
        },
        {
         "colorscale": [
          [
           0,
           "#00cc96"
          ],
          [
           1,
           "#00cc96"
          ]
         ],
         "customdata": [
          [
           "In response to the COVID-19 shock, horizontal and vertical expansion will be adapted for quick scale-up of support using the existing National Social Safety Nets Project (NASSP) platform for existing chronic poor as well as transient poor (vulnerable households and individual to be affected by COVID-19 crisis).  The National Social Register (NSR) currently contains data of over 2.6 million poor and vulnerable households (11 million individuals) across 34 States and the federal capital territory. With the accelerated registration and rapid expansion, it is expected that the NSR will grow to total of 4 million poor and vulnerable households across all the states. Currently, there is a National Beneficiary Register (NBR) with a total of 1,028,416 poor and vulnerable households targeted for CCT support across 32 states. These are HHs registered in the NSR ranked from the 6th poverty decile and below. The government has made the decision to pay this category of HHs an advance payment of 20,000 naira (approximately US$ 52) each as bulk for that monthly payments for 4 months. Based on the current status of the NSR and the potential expansion, it is estimated that up to 3 million poor and vulnerable households may be enrolled under the NASSP CCT eligibility criteria and will be eligible for continued support (regular support + additional emergency relief fund); while it is estimated that 1 million will benefit from the COVID – 19 emergency relief fund."
          ]
         ],
         "geo": "geo",
         "hovertemplate": "population=195874740<br>Countries=%{location}<br>CT measure description=%{customdata[0]}<extra></extra>",
         "locationmode": "country names",
         "locations": [
          "Nigeria"
         ],
         "name": "195874740",
         "showlegend": true,
         "showscale": false,
         "type": "choropleth",
         "z": [
          1
         ]
        },
        {
         "colorscale": [
          [
           0,
           "#ab63fa"
          ],
          [
           1,
           "#ab63fa"
          ]
         ],
         "customdata": [
          [
           "For those who were out of work or part of the informal economy, we provide quick access to the social protection system for April and May. They will receive an average of 7,000 denars (US$124) per household. The estimated coverage of the new measures amounts to about 20,000 new households from the informal economy and 30,000 existing beneficiaries"
          ]
         ],
         "geo": "geo",
         "hovertemplate": "population=2082958<br>Countries=%{location}<br>CT measure description=%{customdata[0]}<extra></extra>",
         "locationmode": "country names",
         "locations": [
          "North Macedonia"
         ],
         "name": "2082958",
         "showlegend": true,
         "showscale": false,
         "type": "choropleth",
         "z": [
          1
         ]
        },
        {
         "colorscale": [
          [
           0,
           "#FFA15A"
          ],
          [
           1,
           "#FFA15A"
          ]
         ],
         "customdata": [
          [
           "Taxpayers in the Northern Mariana Islands will be eligible for the tax rebates provided to U.S. citizens under the CARES Act. These refunds are valued at up to US$ 1,200 for individual filers and US$ 2,400 for joint filers, plus an additional US$ 500 per child"
          ]
         ],
         "geo": "geo",
         "hovertemplate": "population=56882<br>Countries=%{location}<br>CT measure description=%{customdata[0]}<extra></extra>",
         "locationmode": "country names",
         "locations": [
          "Northern Mariana Islands"
         ],
         "name": "56882",
         "showlegend": true,
         "showscale": false,
         "type": "choropleth",
         "z": [
          1
         ]
        },
        {
         "colorscale": [
          [
           0,
           "#19d3f3"
          ],
          [
           1,
           "#19d3f3"
          ]
         ],
         "customdata": [
          [
           "Launch of “Ehsaas Emergency Cash Programme” providing Rs12,000/family and benefit 67 million individuals (10 million families). There are three categories of beneficiaries: 4.5 million existing “Ehsaas Kafaalat” beneficiaries (all women) already getting Rs.2000 will get extra Rs.1000 emergency relief (total=Rs.3000) for the next 4 months; 3M affected households will be identified through the national socioeconomic database (eligibility threshold will be relaxed upwards); and those with income below Rs20,000. An SMS campaign will be launched to inform about the program. "
          ]
         ],
         "geo": "geo",
         "hovertemplate": "population=212215030<br>Countries=%{location}<br>CT measure description=%{customdata[0]}<extra></extra>",
         "locationmode": "country names",
         "locations": [
          "Pakistan"
         ],
         "name": "212215030",
         "showlegend": true,
         "showscale": false,
         "type": "choropleth",
         "z": [
          1
         ]
        },
        {
         "colorscale": [
          [
           0,
           "#FF6692"
          ],
          [
           1,
           "#FF6692"
          ]
         ],
         "customdata": [
          [
           "The Government of Panama estimates that it will benefit to disburse an amount of 6.7 million dollars to support the most vulnerable families in the territory throughout the country."
          ]
         ],
         "geo": "geo",
         "hovertemplate": "population=4176873<br>Countries=%{location}<br>CT measure description=%{customdata[0]}<extra></extra>",
         "locationmode": "country names",
         "locations": [
          "Panama"
         ],
         "name": "4176873",
         "showlegend": true,
         "showscale": false,
         "type": "choropleth",
         "z": [
          1
         ]
        },
        {
         "colorscale": [
          [
           0,
           "#B6E880"
          ],
          [
           1,
           "#B6E880"
          ]
         ],
         "customdata": [
          [
           "Creation of the Ñangareko food security program, for 330,000 families with a\ncash transfer of Gs. $230,000 (US$36) via electronic wallet to purchase food and hygiene products."
          ],
          [
           "An advance payment is set for Senior Citizen Program (del Programa de Adultos Mayores) for 207,000 people."
          ],
          [
           "Additional transfers are planned for the Tekoporá social protection program for 167,000 families.\n\n"
          ],
          [
           "Authorities are planning a subsidy of 25% of the current legal minimum wage to self-employed workers or dependents of MSMEs to 3 million individual recipients (Pytyvo program)"
          ]
         ],
         "geo": "geo",
         "hovertemplate": "population=6956071<br>Countries=%{location}<br>CT measure description=%{customdata[0]}<extra></extra>",
         "locationmode": "country names",
         "locations": [
          "Paraguay",
          "Paraguay",
          "Paraguay",
          "Paraguay"
         ],
         "name": "6956071",
         "showlegend": true,
         "showscale": false,
         "type": "choropleth",
         "z": [
          1,
          1,
          1,
          1
         ]
        },
        {
         "colorscale": [
          [
           0,
           "#FF97FF"
          ],
          [
           1,
           "#FF97FF"
          ]
         ],
         "customdata": [
          [
           "On 16 March 2020, the Peruvian Council of Ministers approved an exceptional payment of about $107 for each vulnerable family to be affected during the 15-day quarantine period (9M vulnerable people). "
          ],
          [
           "Bono Trabajador Independiente.  This grant targets 800,000 self-employed households at risk due to the pandemic. The transfer is divided into two installments of S / 380 each, that is, a total of S / 760 is being delivered to each beneficiary."
          ],
          [
           "The government launched a subsidy of nearly $100 to 3M million poor households to stay home (“I will stay at home\" program)"
          ],
          [
           "Advanced monthly payment of the money transfer programs (Juntos, Pensión 65 and Contigo)"
          ],
          [
           "The S / 760 grant is aimed at those households whose members do not receive any income during the state of emergency. The Government announced that this measure would benefit 75% of the country's households, that is, about 6.8 million families."
          ]
         ],
         "geo": "geo",
         "hovertemplate": "population=31989256<br>Countries=%{location}<br>CT measure description=%{customdata[0]}<extra></extra>",
         "locationmode": "country names",
         "locations": [
          "Peru",
          "Peru",
          "Peru",
          "Peru",
          "Peru"
         ],
         "name": "31989256",
         "showlegend": true,
         "showscale": false,
         "type": "choropleth",
         "z": [
          1,
          1,
          1,
          1,
          1
         ]
        },
        {
         "colorscale": [
          [
           0,
           "#FECB52"
          ],
          [
           1,
           "#FECB52"
          ]
         ],
         "customdata": [
          [
           "Under the Emergency Subsidy Program, the government will provide 18M people (low-income families and households working in the informal economy) with P5,000-P8,000 a month for two months (depending on the prevailing regional minimum wage and considering the current CCT grants and rice subsidy in the computation of emergency aid). "
          ],
          [
           "Government provides P100,000 compensation to public and private health workers who contract the disease while in the line of duty. In case of death, their families will receive P1,000,000. "
          ],
          [
           "Individuals with urgent medical and burial needs can avail of financial assistance from DSWD, through the Assistance to Individuals in Crisis Situation (AICS) program. But the number of beneficiaries to be accepted for processing every day is limited in adherence to social distancing measures"
          ],
          [
           "Affected workers, regardless of status (i.e. permanent, probationary, or contractual) employed in private establishments whose operations are affected due to the Covid-19 pandemic to receive P5,000 from the Department of Labor and Employment (DOLE)"
          ],
          [
           "The Overseas Workers Welfare Administration (OWWA) provided cash aid to Overseas Filipino Workers (OFWs) affected by the travel ban due to COVID-19 as well as those who were repatriated"
          ],
          [
           "The P10,000 cash assistance, drawn from the OWWA Trust Fund of member-OFWs, was given to each stranded OWWA member-OFW. Per instruction of the Department of Labor and Employment to OWWA through a memorandum dated February 3, 2020, the cash assistance was distributed through OWWA regional welfare offices. Such assistance aims to “help stranded OFWs ease their burden and assist them back to their places of origin” during the travel ban. The distribution of cash assistance commenced on February 3 for China, Hong Kong and Macau-bound OFWs; and, February 13 for OFWs going to Taiwan ."
          ],
          [
           "The flagship 4Ps conditional cash transfer program waived the program conditionalities for the months of February and March, continuing the provision of full cash grants under the period."
          ],
          [
           "Affected workers, regardless of status (i.e. permanent, probationary, or contractual) employed in private firms whose operations are affected by the Covid-19 pandemic will receive P5,000 from the Department of Labor and Employment (DOLE)"
          ]
         ],
         "geo": "geo",
         "hovertemplate": "population=106651922<br>Countries=%{location}<br>CT measure description=%{customdata[0]}<extra></extra>",
         "locationmode": "country names",
         "locations": [
          "Philippines",
          "Philippines",
          "Philippines",
          "Philippines",
          "Philippines",
          "Philippines",
          "Philippines",
          "Philippines"
         ],
         "name": "106651922",
         "showlegend": true,
         "showscale": false,
         "type": "choropleth",
         "z": [
          1,
          1,
          1,
          1,
          1,
          1,
          1,
          1
         ]
        },
        {
         "colorscale": [
          [
           0,
           "#636efa"
          ],
          [
           1,
           "#636efa"
          ]
         ],
         "customdata": [
          [
           "Portugal announced plans on 13 March 2020 to provide financial support for the self-employed in the amount of Euro 438 for 6 months. This is designed for parents with children up to 12 years old, and pays an amount of about 2/3 of the average salary."
          ]
         ],
         "geo": "geo",
         "hovertemplate": "population=10283822<br>Countries=%{location}<br>CT measure description=%{customdata[0]}<extra></extra>",
         "locationmode": "country names",
         "locations": [
          "Portugal"
         ],
         "name": "10283822",
         "showlegend": true,
         "showscale": false,
         "type": "choropleth",
         "z": [
          1
         ]
        },
        {
         "colorscale": [
          [
           0,
           "#EF553B"
          ],
          [
           1,
           "#EF553B"
          ]
         ],
         "customdata": [
          [
           "All social assistance benefits can now be claimed electronically (e-mail, online applications). School attendance conditions have been relaxed. "
          ],
          [
           "Unemployed workers will receive a special benefit equivalent to 75% of the gross average salary at the national level (RON 5,163 - approx. US$1,180, taxable) . "
          ]
         ],
         "geo": "geo",
         "hovertemplate": "population=19466145<br>Countries=%{location}<br>CT measure description=%{customdata[0]}<extra></extra>",
         "locationmode": "country names",
         "locations": [
          "Romania",
          "Romania"
         ],
         "name": "19466145",
         "showlegend": true,
         "showscale": false,
         "type": "choropleth",
         "z": [
          1,
          1
         ]
        },
        {
         "colorscale": [
          [
           0,
           "#00cc96"
          ],
          [
           1,
           "#00cc96"
          ]
         ],
         "customdata": [
          [
           "The President Decree of March 20, 2020 introduced new allowances for children from 3 to 7 years will be paid starting from June 2020 for families with per capita income less than the subsistence level (to be continued as long as eligibility criteria are met). The amount of payment is 50% of the subsistence level for a child established by the regional government. The allowance will be set annually. As part of anti-crisis measures it was decided that if a family as of January 1, 2020 had a child aged 3 to 7 years, then the family will receive a lumpsum in June for the first 5 months of 2020. In total, 2 million families will receive a new allowance.  On April, 7, 2020 the new Decree called for acceleration of eligibility determination so that families with children between three and seven years old receive the means-tested monthly family benefits quicker. Almost RUB 105 billion will be earmarked from the Federal budget to this effect, and regional budgets will provide another RUB 31.5 billion. "
          ],
          [
           "All social benefits and special entitlements over the next six months will be extended automatically, without submitting any additional information and no visits to the offices. On May 11, the President Decree established procedures for on-line applications to the new social assistance benefits via government portals"
          ],
          [
           "One-off cash transfer of RUB 10000 (US$136) to all children aged 3–15 irrespective of the family income. Entitled are all children who as of July 1 2020 will not have reached 16"
          ],
          [
           "Additional one-off cash transfer of RUB 10,000 (US$136) to a child under 16 y.o. irrespective of the family income to be paid in July 2020. Entitled are all children born from 05/11/2004 to 06/30/2020. No applications need to be submitted in case parents previously applied for one-off cash transfers for children aged 0-3 and 3-15."
          ],
          [
           "In March a Decree stated that starting in April, all families entitled to Maternity Capital (grant) will be paid an additional RUB 5,000 (US$63) a month for each child under the age of three, for the period of 3 months.  The new Decree of April,  7, 2020 established that  In April-June  2020  monthly allowances in the amount of RUB 5000 (US$68) per month  shall also be paid to mothers who gave birth to their  first and only child in the period between April 1 2017 and January 1 2020. These extended the number of beneficiaries of these allowances because these mothers are not entitled to Maternity Capital (mothers of a single child are entitled to MC only if their child was born after January 1 2020. These one off and permanent additional allowances will cover over 27 mln. children in Russia"
          ],
          [
           "These one off and permanent additional allowances will cover over 27 mln. children in Russia"
          ]
         ],
         "geo": "geo",
         "hovertemplate": "population=144478050<br>Countries=%{location}<br>CT measure description=%{customdata[0]}<extra></extra>",
         "locationmode": "country names",
         "locations": [
          "Russia",
          "Russia",
          "Russia",
          "Russia",
          "Russia",
          "Russia"
         ],
         "name": "144478050",
         "showlegend": true,
         "showscale": false,
         "type": "choropleth",
         "z": [
          1,
          1,
          1,
          1,
          1,
          1
         ]
        },
        {
         "colorscale": [
          [
           0,
           "#ab63fa"
          ],
          [
           1,
           "#ab63fa"
          ]
         ],
         "customdata": [
          [
           "The Government of Rwanda is making following adaptations in the existing cash transfers under the VUP, which will also include expansion in the coverage to additional 56,000 families (over and above the current coverage of 310,000 families):\n-\tTemporary waiver of work requirements for public work beneficiaries to ensure continuity of cash transfers while social distancing protocols are in place in the country \n-\tExpansion in the coverage of Direct Support unconditional cash transfers to additional families with old age, disability, and critical illness as part of COVID-19 response \n-\tVertical expansion of the Nutrition Sensitive Co-responsibility Cash Transfers to include more poorer households in the existing 17 out of 30 districts where the program is currently operational"
          ]
         ],
         "geo": "geo",
         "hovertemplate": "population=12301939<br>Countries=%{location}<br>CT measure description=%{customdata[0]}<extra></extra>",
         "locationmode": "country names",
         "locations": [
          "Rwanda"
         ],
         "name": "12301939",
         "showlegend": true,
         "showscale": false,
         "type": "choropleth",
         "z": [
          1
         ]
        },
        {
         "colorscale": [
          [
           0,
           "#FFA15A"
          ],
          [
           1,
           "#FFA15A"
          ]
         ],
         "customdata": [
          [
           "Monthly payment of $500 for 3 months, preconditioned to enrolling in NIC for informal workers not currently contributing to NIC, unemployed or displaced due to COVID19. Estimated cost of $16.8 million EC"
          ]
         ],
         "geo": "geo",
         "hovertemplate": "population=181889<br>Countries=%{location}<br>CT measure description=%{customdata[0]}<extra></extra>",
         "locationmode": "country names",
         "locations": [
          "Saint Lucia"
         ],
         "name": "181889",
         "showlegend": true,
         "showscale": false,
         "type": "choropleth",
         "z": [
          1
         ]
        },
        {
         "colorscale": [
          [
           0,
           "#19d3f3"
          ],
          [
           1,
           "#19d3f3"
          ]
         ],
         "customdata": [
          [
           "The São Tomé government, through the Ministry of Labor and Solidarity, decided to anticipate, as of this Friday, the payment of two bimonths [2,400 Dobras] to the beneficiary mothers of the “Program Family as a way to mitigate ”the negative impacts of the coronavirus pandemic.  The program involves 2600 needy families in the country"
          ]
         ],
         "geo": "geo",
         "hovertemplate": "population=211028<br>Countries=%{location}<br>CT measure description=%{customdata[0]}<extra></extra>",
         "locationmode": "country names",
         "locations": [
          "Sao Tome and Principe"
         ],
         "name": "211028",
         "showlegend": true,
         "showscale": false,
         "type": "choropleth",
         "z": [
          1
         ]
        },
        {
         "colorscale": [
          [
           0,
           "#FF6692"
          ],
          [
           1,
           "#FF6692"
          ]
         ],
         "customdata": [
          [
           "For SA beneficiaries whose entitlement to SA benefits expire on March 15, 2020 and later, the government extended their entitlement on the basis of previously issued decisions, for a maximum of three months ( i.e. During a state of emergency) . The decision applies to: \n-\tFinancial Social Assistance  \n-\tCaregiver Allowance\n-\tChild Allowance, \n-\tmaternity leave benefit for the purpose of child care."
          ]
         ],
         "geo": "geo",
         "hovertemplate": "population=6982604<br>Countries=%{location}<br>CT measure description=%{customdata[0]}<extra></extra>",
         "locationmode": "country names",
         "locations": [
          "Serbia"
         ],
         "name": "6982604",
         "showlegend": true,
         "showscale": false,
         "type": "choropleth",
         "z": [
          1
         ]
        },
        {
         "colorscale": [
          [
           0,
           "#B6E880"
          ],
          [
           1,
           "#B6E880"
          ]
         ],
         "customdata": [
          [
           "The Government plans to roll out the “COVID-19 Social Safety Net (SSN) Cash Transfers” to vertically and horizontally scale up the Ep Fet Po cash transfer program to provide double the monthly benefits amount from US$ 15 (an estimated 15 percent of the average household consumption) to US$ 30 for a period of nine months. This is the same strategy that the Government had employed in response to the Ebola Crisis. This response effort is expected to reach 70,000 extreme poor households and households with Persons with Disabilities. "
          ],
          [
           "In cities, the informal sector workers are expected to be the hardest hit through the indirect impacts of COVID-19 and the slowing economy. The Government plans to identify a total of 118,000 households in the major cities of Sierra Leone whose main source of income is from the informal sector and provide a one-time cash transfer to these households. The amount is US$ 120 HH ~ level of minimum wage in Freetown for 2-months) targeting households of informal workers in urban areas :Freetown, Bo city, Kenema city, Makeni and Port Loko (total budget of US$4 million)\n"
          ]
         ],
         "geo": "geo",
         "hovertemplate": "population=7650154<br>Countries=%{location}<br>CT measure description=%{customdata[0]}<extra></extra>",
         "locationmode": "country names",
         "locations": [
          "Sierra Leone",
          "Sierra Leone"
         ],
         "name": "7650154",
         "showlegend": true,
         "showscale": false,
         "type": "choropleth",
         "z": [
          1,
          1
         ]
        },
        {
         "colorscale": [
          [
           0,
           "#FF97FF"
          ],
          [
           1,
           "#FF97FF"
          ]
         ],
         "customdata": [
          [
           "All Singaporeans aged 50 and above in 2020 will receive $100 in cash instead of PAssion Card Top-up"
          ],
          [
           "The new (second) stimulus package of S$48 billion ($33 billion) includes cash transfers to self-employed and low-income people.  Apr 2020: Temporary Relief Fund to provide one-off cash assistance of $500 for those who need urgent help with basic living expenses\n"
          ],
          [
           "Cash grant of $800 per month for 3 months, for low- and middle-income Singaporeans who lost their jobs due to COVID-19. Starting in May "
          ],
          [
           "Self Employed Persons (SEP) Income Relief Scheme (SIRS): Eligible Singaporean SEPs will receive 3 quarterly cash payouts of $3,000 each in May, Jul, and Oct 2020"
          ],
          [
           "Enhance Workfare Special Payment to $3,000 in cash in 2020, for Singaporeans who received Workfare payments for work done in 2019"
          ]
         ],
         "geo": "geo",
         "hovertemplate": "population=5638676<br>Countries=%{location}<br>CT measure description=%{customdata[0]}<extra></extra>",
         "locationmode": "country names",
         "locations": [
          "Singapore",
          "Singapore",
          "Singapore",
          "Singapore",
          "Singapore"
         ],
         "name": "5638676",
         "showlegend": true,
         "showscale": false,
         "type": "choropleth",
         "z": [
          1,
          1,
          1,
          1,
          1
         ]
        },
        {
         "colorscale": [
          [
           0,
           "#FECB52"
          ],
          [
           1,
           "#FECB52"
          ]
         ],
         "customdata": [
          [
           "Under Sint Maarten Support Relief Plan (SSRP), self-employed persons such as independent taxi drivers, vendors, tour operators, and artists, etc., can benefit from income support. "
          ]
         ],
         "geo": "geo",
         "hovertemplate": "population=40654<br>Countries=%{location}<br>CT measure description=%{customdata[0]}<extra></extra>",
         "locationmode": "country names",
         "locations": [
          "Sint Maarten (Dutch part)"
         ],
         "name": "40654",
         "showlegend": true,
         "showscale": false,
         "type": "choropleth",
         "z": [
          1
         ]
        },
        {
         "colorscale": [
          [
           0,
           "#636efa"
          ],
          [
           1,
           "#636efa"
          ]
         ],
         "customdata": [
          [
           "•\tSubsidies for individuals who do not receive any income during the State of Emergency, maximum amount EUR 210 / month "
          ]
         ],
         "geo": "geo",
         "hovertemplate": "population=5446771<br>Countries=%{location}<br>CT measure description=%{customdata[0]}<extra></extra>",
         "locationmode": "country names",
         "locations": [
          "Slovak Republic"
         ],
         "name": "5446771",
         "showlegend": true,
         "showscale": false,
         "type": "choropleth",
         "z": [
          1
         ]
        },
        {
         "colorscale": [
          [
           0,
           "#EF553B"
          ],
          [
           1,
           "#EF553B"
          ]
         ],
         "customdata": [
          [
           "Self-employed who are unable to operate due to the crisis or whose operations have been significantly reduced will be entitled to a monthly cash transfer in the amount of 70% of the net minimum wage."
          ]
         ],
         "geo": "geo",
         "hovertemplate": "population=2073894<br>Countries=%{location}<br>CT measure description=%{customdata[0]}<extra></extra>",
         "locationmode": "country names",
         "locations": [
          "Slovenia"
         ],
         "name": "2073894",
         "showlegend": true,
         "showscale": false,
         "type": "choropleth",
         "z": [
          1
         ]
        },
        {
         "colorscale": [
          [
           0,
           "#00cc96"
          ],
          [
           1,
           "#00cc96"
          ]
         ],
         "customdata": [
          [
           "Somalia launched the first ever cash transfers program in the country. The Baxnano program (which costs$65 million) is intended to provide cash transfers to targeted poor and vulnerable households and establish the key building blocks of a national shock-responsive safety net system. The program is anticipated to target 270,000 poor and vulnerable households (approximately 1.2 million individuals or 9.6 percent of the population) across the Federal Member States of Somalia and provide them with nutrition-linked cash transfer. The families will be able to use the money for their immediate needs, such as food and basic services. This programme will be executed in areas of fragility due to widespread poverty, acute drought and long-drawn-out conflicts and insecurity"
          ]
         ],
         "geo": "geo",
         "hovertemplate": "population=15008154<br>Countries=%{location}<br>CT measure description=%{customdata[0]}<extra></extra>",
         "locationmode": "country names",
         "locations": [
          "Somalia"
         ],
         "name": "15008154",
         "showlegend": true,
         "showscale": false,
         "type": "choropleth",
         "z": [
          1
         ]
        },
        {
         "colorscale": [
          [
           0,
           "#ab63fa"
          ],
          [
           1,
           "#ab63fa"
          ]
         ],
         "customdata": [
          [
           "The president announced a R500 billion (approximately US$25 billion or close to 10% of Gross Domestic Product) of emergency expenditure to counter the costs of the lockdown. The package included increased expenditure of R50 billion on social grants.\n-The Child Support Grant – paid to about 7 million parents or other caregivers, for about 12.5 million children – will increase by R300 (US$13) in May and R500 (US$26) per month from June to October;\n-Other social grants – including the Old Age Grant (or pension) - (approx. 3 million individuals)- and the Disability Grant (approx. 1.1 million individuals) – will be increased by R250 per month from May to October; (6 months)\n"
          ],
          [
           "The South African Social Security Agency (SASSA) will provide early payments of social grants to older persons and persons with disabilities (from March 30-31, 2020) . Other beneficiaries will be able to access their grants from April 1, 2020. "
          ],
          [
           "All temporary disability grants that lapsed between February and March will be extended until the end of October this year. The same applies to the Care Dependency and Foster Child Grants that are due to lapse during the lock down period. The payment of these reinstated grants will take place before the end of May"
          ],
          [
           "A new “Covid-19 Social Relief of Distress grant”, of R350 per month (US$18), will be introduced for people who are unemployed but not yet receiving any social grant or support from the Unemployment Insurance Fund. This will also be paid for six months. The president declared that the Department of Social Development would “issue the requirements needed to access and apply for this funding” Already 3.5 million people have applied for this grant and it is estimated that there will be around 20 million South African’s who may be eligible for this special grant and around 6-8 million beneficiaries eventually"
          ]
         ],
         "geo": "geo",
         "hovertemplate": "population=57779622<br>Countries=%{location}<br>CT measure description=%{customdata[0]}<extra></extra>",
         "locationmode": "country names",
         "locations": [
          "South Africa",
          "South Africa",
          "South Africa",
          "South Africa"
         ],
         "name": "57779622",
         "showlegend": true,
         "showscale": false,
         "type": "choropleth",
         "z": [
          1,
          1,
          1,
          1
         ]
        },
        {
         "colorscale": [
          [
           0,
           "#FFA15A"
          ],
          [
           1,
           "#FFA15A"
          ]
         ],
         "customdata": [
          [
           "W200B to low-income households getting unemployed and to those under COVID-19 treatment/quarantine."
          ],
          [
           "Reintroduction of job seekers’ allowance for low-income households, with such allowance being increased from W200,000 to 500,000 for up to 3 months."
          ],
          [
           "The government decided to offer emergency relief payments of 9.1 trillion won to households in the bottom 70 percent income bracket. A total of 14 million households to become recipients. Payments to vary according to the household members: 0.4 million won (single-person households), 0.6 million won (two-person households), 0.8 million won (three-person households), 1.0 million won (four-person households"
          ]
         ],
         "geo": "geo",
         "hovertemplate": "population=51606633<br>Countries=%{location}<br>CT measure description=%{customdata[0]}<extra></extra>",
         "locationmode": "country names",
         "locations": [
          "South Korea",
          "South Korea",
          "South Korea"
         ],
         "name": "51606633",
         "showlegend": true,
         "showscale": false,
         "type": "choropleth",
         "z": [
          1,
          1,
          1
         ]
        },
        {
         "colorscale": [
          [
           0,
           "#19d3f3"
          ],
          [
           1,
           "#19d3f3"
          ]
         ],
         "customdata": [
          [
           "The South Sudan Safety Net Project (SSSNP) will expand access to safety net and provide income security for low income South Sudanese, while strengthening delivery tools and local level capacities. Nearly 430,000 people will receive cash transfers in 10 counties across South Sudan, including Juba. Specifically, the project will provide cash transfers to the poorest and most vulnerable people for working on public works projects. It will also provide direct grants to those who are unable to work, including people with disabilities, the elderly and pregnant or breastfeeding women, among others, Total budge allocate is US$40 million"
          ]
         ],
         "geo": "geo",
         "hovertemplate": "population=10975920<br>Countries=%{location}<br>CT measure description=%{customdata[0]}<extra></extra>",
         "locationmode": "country names",
         "locations": [
          "South Sudan"
         ],
         "name": "10975920",
         "showlegend": true,
         "showscale": false,
         "type": "choropleth",
         "z": [
          1
         ]
        },
        {
         "colorscale": [
          [
           0,
           "#FF6692"
          ],
          [
           1,
           "#FF6692"
          ]
         ],
         "customdata": [
          [
           "Spain is introducing Guaranteed Minimum Income (GMI) for around 5M for low-income people. No specific date was unveiled, given the plan appears to be in its early stages. While the measure is announced to help citizens weather the economic fallout from the novel coronavirus, the government is contemplating make it a permanent instrument"
          ],
          [
           "Among the measures to support families is to guarantee the basic right to food for vulnerable children who are affected by school closures. Specifically, a total of Euro 25M is established to provide income support (wallet cards, wire transfer, voucher in supermarkets). "
          ],
          [
           "300 million euros for an extraordinary contingency fund to support social services with special attention to older persons and dependents (transfers to be made to Autonomous communities and localities to this effect) (e.g. cover basic needs including through social assistance, people that need assistance at home, increases resources in centres, etc..) "
          ]
         ],
         "geo": "geo",
         "hovertemplate": "population=46796540<br>Countries=%{location}<br>CT measure description=%{customdata[0]}<extra></extra>",
         "locationmode": "country names",
         "locations": [
          "Spain",
          "Spain",
          "Spain"
         ],
         "name": "46796540",
         "showlegend": true,
         "showscale": false,
         "type": "choropleth",
         "z": [
          1,
          1,
          1
         ]
        },
        {
         "colorscale": [
          [
           0,
           "#B6E880"
          ],
          [
           1,
           "#B6E880"
          ]
         ],
         "customdata": [
          [
           "To pay LKR 5000 for 1,798,655 people who are the recipients of the “samurdhi” allowance (the largest cash-transfer program here) and for 600,339 families who have been identified as recipients of the “samurdhi” allowance and are in the waiting list"
          ]
         ],
         "geo": "geo",
         "hovertemplate": "population=21670000<br>Countries=%{location}<br>CT measure description=%{customdata[0]}<extra></extra>",
         "locationmode": "country names",
         "locations": [
          "Sri Lanka"
         ],
         "name": "21670000",
         "showlegend": true,
         "showscale": false,
         "type": "choropleth",
         "z": [
          1
         ]
        },
        {
         "colorscale": [
          [
           0,
           "#FF97FF"
          ],
          [
           1,
           "#FF97FF"
          ]
         ],
         "customdata": [
          [
           "$5 million allocated for Poverty Alleviation Program for households that might now fall below the $3,000 per month threshold due to a loss of jobs and income caused by this crisis - part of $120 billion economic stimulus package"
          ]
         ],
         "geo": "geo",
         "hovertemplate": "population=52441<br>Countries=%{location}<br>CT measure description=%{customdata[0]}<extra></extra>",
         "locationmode": "country names",
         "locations": [
          "St Kitts and Nevis"
         ],
         "name": "52441",
         "showlegend": true,
         "showscale": false,
         "type": "choropleth",
         "z": [
          1
         ]
        },
        {
         "colorscale": [
          [
           0,
           "#FECB52"
          ],
          [
           1,
           "#FECB52"
          ]
         ],
         "customdata": [
          [
           "Gov’t support for vulnerable and affected persons by expanding social assistance as part of EC$74.05 million stimulus package incl. Interim Assistance Benefits for persons not on public assistance nor in receipt of a pension (until 31 Dec 2020); providing support for displaced workers in the hotel and tourism sector, including cruise buses and taxis, through a Displacement Supplementary Income for three months in the first instance. "
          ]
         ],
         "geo": "geo",
         "hovertemplate": "population=110210<br>Countries=%{location}<br>CT measure description=%{customdata[0]}<extra></extra>",
         "locationmode": "country names",
         "locations": [
          "St. Vincent and the Grenadines"
         ],
         "name": "110210",
         "showlegend": true,
         "showscale": false,
         "type": "choropleth",
         "z": [
          1
         ]
        },
        {
         "colorscale": [
          [
           0,
           "#636efa"
          ],
          [
           1,
           "#636efa"
          ]
         ],
         "customdata": [
          [
           "•\tAdditional (top-up) monthly payments through Suriname’s COVID-19 Emergency Fund include: \n-\tGeneral Child Benefit: Extra SRD 1000 (US$ 134) per household (in addition to SRD 525 (US$ 70) per child);\n-\tGeneral Old Age Provision (AOV): Extra SRD 525 (US$ 70) for elderly receiving only the AOV;\n-\tFinancial Assistance People with Disabilities (FB MMB): Extra SRD 675 (US$ 90);\n-\tFinancial Assistance for Weak Households (FB ZWH): Extra SRD 250 (US$ 33);\n-\tDeposits: Extra SRD 1000; and\n-\tPension: Extra SRD 500. "
          ]
         ],
         "geo": "geo",
         "hovertemplate": "population=575991<br>Countries=%{location}<br>CT measure description=%{customdata[0]}<extra></extra>",
         "locationmode": "country names",
         "locations": [
          "Suriname"
         ],
         "name": "575991",
         "showlegend": true,
         "showscale": false,
         "type": "choropleth",
         "z": [
          1
         ]
        },
        {
         "colorscale": [
          [
           0,
           "#EF553B"
          ],
          [
           1,
           "#EF553B"
          ]
         ],
         "customdata": [
          [
           "A supplementary temporary cash benefit to certain categories of beneficiaries on the payroll of the Targeted Social Assistance program"
          ]
         ],
         "geo": "geo",
         "hovertemplate": "population=9100837<br>Countries=%{location}<br>CT measure description=%{customdata[0]}<extra></extra>",
         "locationmode": "country names",
         "locations": [
          "Tajikistan"
         ],
         "name": "9100837",
         "showlegend": true,
         "showscale": false,
         "type": "choropleth",
         "z": [
          1
         ]
        },
        {
         "colorscale": [
          [
           0,
           "#00cc96"
          ],
          [
           1,
           "#00cc96"
          ]
         ],
         "customdata": [
          [
           "A cash transfer of 5,000-baht ($153) for 3 months will reach 9M (instead of 3M from last week) workers not covered by the Social Security Fund (21.7M people applied). The total program cost is $4B "
          ]
         ],
         "geo": "geo",
         "hovertemplate": "population=69428524<br>Countries=%{location}<br>CT measure description=%{customdata[0]}<extra></extra>",
         "locationmode": "country names",
         "locations": [
          "Thailand"
         ],
         "name": "69428524",
         "showlegend": true,
         "showscale": false,
         "type": "choropleth",
         "z": [
          1
         ]
        },
        {
         "colorscale": [
          [
           0,
           "#ab63fa"
          ],
          [
           1,
           "#ab63fa"
          ]
         ],
         "customdata": [
          [
           "Cash transfer of US$ 100 to households with monthly incomes under US$ 500 "
          ]
         ],
         "geo": "geo",
         "hovertemplate": "population=1267972<br>Countries=%{location}<br>CT measure description=%{customdata[0]}<extra></extra>",
         "locationmode": "country names",
         "locations": [
          "Timor-Leste"
         ],
         "name": "1267972",
         "showlegend": true,
         "showscale": false,
         "type": "choropleth",
         "z": [
          1
         ]
        },
        {
         "colorscale": [
          [
           0,
           "#FFA15A"
          ],
          [
           1,
           "#FFA15A"
          ]
         ],
         "customdata": [
          [
           "•\tTogo launched a social safety net scheme called “Novissi”. This means solidarity in local dialect and is an unconditional cash transfer scheme designed to support all Togolese informal workers whose incomes are disrupted by the Covid-19 response. All informal workers, above 18 years old, who have a valid voter’s ID and can prove they have lost their income due to the Covid-19 response are eligible to benefit from the scheme. Beneficiaries, women, and men respectively get XOF12,500 (US$21) and XOF10,500 (US$17) per month to meet basic needs (food, water, power, communication). It already has 1.3 million people registered and has sent money to more than 500,000 in the region of Greater Lomé (the capital) alone . The money is sent via the Tmoney and Flooz mobile money platforms. Applicants can check if they are eligible by dialing *855#"
          ],
          [
           "The government will support the ongoing Cash Transfer Program, under the Safety Nets and basic Services Project. The program is in the process of being horizontally scaled up to support the Government’s response to the COVID-19 situation in rural area. While the program currently covers 61,000 households or approximately 274,500 beneficiaries, it will be scaled up to 140,000 households or 630,000 beneficiaries."
          ]
         ],
         "geo": "geo",
         "hovertemplate": "population=7889094<br>Countries=%{location}<br>CT measure description=%{customdata[0]}<extra></extra>",
         "locationmode": "country names",
         "locations": [
          "Togo",
          "Togo"
         ],
         "name": "7889094",
         "showlegend": true,
         "showscale": false,
         "type": "choropleth",
         "z": [
          1,
          1
         ]
        },
        {
         "colorscale": [
          [
           0,
           "#19d3f3"
          ],
          [
           1,
           "#19d3f3"
          ]
         ],
         "customdata": [
          [
           "Rental assistance up to TT$2,500 (US$367) per month for an initial period of 3 month but not more than 6 months, for households where a wage earner was laid off or whose income reduced."
          ],
          [
           "Three-month top-ups for Food Card, Public Assistance and Disability Assistance beneficiaries ranging from TT$150 to TT$450 ($22-US$67) per month for three months, depending on household size"
          ],
          [
           "Suspension of the life certification requirements for elderly social pension recipients (normally required to visit their local board to sign a life certificate register). "
          ]
         ],
         "geo": "geo",
         "hovertemplate": "population=1389858<br>Countries=%{location}<br>CT measure description=%{customdata[0]}<extra></extra>",
         "locationmode": "country names",
         "locations": [
          "Trinidad and Tobago",
          "Trinidad and Tobago",
          "Trinidad and Tobago"
         ],
         "name": "1389858",
         "showlegend": true,
         "showscale": false,
         "type": "choropleth",
         "z": [
          1,
          1,
          1
         ]
        },
        {
         "colorscale": [
          [
           0,
           "#FF6692"
          ],
          [
           1,
           "#FF6692"
          ]
         ],
         "customdata": [
          [
           "One-off cash transfer of TND200 (USD68) to 623,000 households working in the informal sector, who are not covered by any social assistance program and who are vulnerable to shocks (households registered in the social security system with low-cost healthcare card)."
          ],
          [
           "One-off cash transfer of TND50 ($17) to 260,000 households working in the informal sector (a top-up of the already received transfer of TND180 in March, i.e., households registered in the social security system with a free healthcare card)."
          ],
          [
           "One-off cash transfer TND200 ($68) to households hosting an elderly"
          ],
          [
           "One-off cash transfer TND200 ($68) to households fostering children without parental support"
          ],
          [
           "One-off cash transfer TND200 ($68) to households hosting a person with handicap. "
          ]
         ],
         "geo": "geo",
         "hovertemplate": "population=11565204<br>Countries=%{location}<br>CT measure description=%{customdata[0]}<extra></extra>",
         "locationmode": "country names",
         "locations": [
          "Tunisia",
          "Tunisia",
          "Tunisia",
          "Tunisia",
          "Tunisia"
         ],
         "name": "11565204",
         "showlegend": true,
         "showscale": false,
         "type": "choropleth",
         "z": [
          1,
          1,
          1,
          1,
          1
         ]
        },
        {
         "colorscale": [
          [
           0,
           "#B6E880"
          ],
          [
           1,
           "#B6E880"
          ]
         ],
         "customdata": [
          [
           "The Turkish government has announced 3 phases for financial aid to families in need. A one-time transfer of 1000 TL (around $150) are made to over 4 million current social assistance beneficiary households in two separate phases. All existing beneficiary households were eligible for this payment without the need for a separate application and cash payments were delivered to the households. The third phase of the one-time transfer of 1000 TL targets households that are not currently benefitting from any social assistance program but are adversely affected by the Covid-19 outbreak. Individuals except public sector employees, formally registered or retired workers, and those that benefit from the short-term work allowance or unpaid leave support can apply to nominate their households for this cash transfer, and applications are currently being evaluated on a case-by-case basis. "
          ],
          [
           "The Turkish government has announced an additional 2 billion Turkish Lira ($300M) for financial aid to families in need according to criteria defined by the Ministry of Family, Labor and Social Services."
          ],
          [
           "Monthly budget allocated to the 1003 Social Assistance and Solidarity Foundations, who provide social assistance to various disadvantaged groups. are increased from 135 million TL (around $21 million) to 180 million TL (around $27 million) in total"
          ],
          [
           "Healthcare employees will receive the maximum performance payments for 3 months and an additional 32,000 health care staff will be hired"
          ],
          [
           "Social Assistance of elderly and disabled pensions and social assistance for elderly care will be made for three months (until the end of May 2020) without seeking income criteria and severe disability.  (Admin adaptation)."
          ],
          [
           "Cash transfers targeted for women are increased. Amounts of conditional cash transfers are increased by 29% for health, postnatal and pregnancy payments. Cash transfers for new mothers are increased to 100 TL (around $15.5) and monthly transfers for women who recently lost their husbands to 325 TL (around $50)."
          ]
         ],
         "geo": "geo",
         "hovertemplate": "population=82319724<br>Countries=%{location}<br>CT measure description=%{customdata[0]}<extra></extra>",
         "locationmode": "country names",
         "locations": [
          "Turkey",
          "Turkey",
          "Turkey",
          "Turkey",
          "Turkey",
          "Turkey"
         ],
         "name": "82319724",
         "showlegend": true,
         "showscale": false,
         "type": "choropleth",
         "z": [
          1,
          1,
          1,
          1,
          1,
          1
         ]
        },
        {
         "colorscale": [
          [
           0,
           "#FF97FF"
          ],
          [
           1,
           "#FF97FF"
          ]
         ],
         "customdata": [
          [
           "Turks and Caicos Islands Government will be providing approximately $45m in direct financial support and waivers of taxes, fees and charges, including: \n-\t$15 million is to be made available in direct assistance to employees and self-employed within the hospitality industry that would have been laid off, seized operations or terminated since March 16, 2020, with a proposed one-off payment of $1,200 (per employee, not household). This is in addition to the payouts that they may be receiving from their employers."
          ],
          [
           "The government also increasing the social welfare budget by 100 percent, including an additional $500,000 that has been added to the budgetary allocation to further boost the Home-help Programme (doubling its allocation) managed through the social welfare programme for additional persons that may become destitute due to the fall out in global economic activities. "
          ]
         ],
         "geo": "geo",
         "hovertemplate": "population=37665<br>Countries=%{location}<br>CT measure description=%{customdata[0]}<extra></extra>",
         "locationmode": "country names",
         "locations": [
          "Turks and Caicos islands",
          "Turks and Caicos islands"
         ],
         "name": "37665",
         "showlegend": true,
         "showscale": false,
         "type": "choropleth",
         "z": [
          1,
          1
         ]
        },
        {
         "colorscale": [
          [
           0,
           "#FECB52"
          ],
          [
           1,
           "#FECB52"
          ]
         ],
         "customdata": [
          [
           "Cash payment to all citizens in Tuvalu of $17 per person per month "
          ]
         ],
         "geo": "geo",
         "hovertemplate": "population=11508<br>Countries=%{location}<br>CT measure description=%{customdata[0]}<extra></extra>",
         "locationmode": "country names",
         "locations": [
          "Tuvalu"
         ],
         "name": "11508",
         "showlegend": true,
         "showscale": false,
         "type": "choropleth",
         "z": [
          1
         ]
        },
        {
         "colorscale": [
          [
           0,
           "#636efa"
          ],
          [
           1,
           "#636efa"
          ]
         ],
         "customdata": [
          [
           "The “Girls Empowering Girls” urban cash transfer and mentoring programmes for adolescent girls, implemented by the Kampala Capital City Authority (KCCA), has transitioned to remote coordination, adopted a virtual mentoring model to ensure delivery continuity, and implemented remote enrolment for pre-registered beneficiaries"
          ]
         ],
         "geo": "geo",
         "hovertemplate": "population=42723139<br>Countries=%{location}<br>CT measure description=%{customdata[0]}<extra></extra>",
         "locationmode": "country names",
         "locations": [
          "Uganda"
         ],
         "name": "42723139",
         "showlegend": true,
         "showscale": false,
         "type": "choropleth",
         "z": [
          1
         ]
        },
        {
         "colorscale": [
          [
           0,
           "#EF553B"
          ],
          [
           1,
           "#EF553B"
          ]
         ],
         "customdata": [
          [
           "Britain would raise its main state-paid benefit. The universal credit standard allowance for the next 12 months would increase by 1,000 pounds a year, with the working tax credit basic element rising by the same amount as well. It is expected that the measures will benefit over 4 million of the most vulnerable households."
          ],
          [
           "For the duration of the outbreak, the requirements of the Universal Credit Program will be temporarily relaxed for those who have COVID-19 or are self-isolating according to government advice. People will be able to claim Universal Credit and access advance payments upfront without the current requirement to attend a job Centre if they are advised to self-isolate. "
          ]
         ],
         "geo": "geo",
         "hovertemplate": "population=66460344<br>Countries=%{location}<br>CT measure description=%{customdata[0]}<extra></extra>",
         "locationmode": "country names",
         "locations": [
          "UK",
          "UK"
         ],
         "name": "66460344",
         "showlegend": true,
         "showscale": false,
         "type": "choropleth",
         "z": [
          1,
          1
         ]
        },
        {
         "colorscale": [
          [
           0,
           "#00cc96"
          ],
          [
           1,
           "#00cc96"
          ]
         ],
         "customdata": [
          [
           "The Government introduced a payment to support children of individual entrepreneurs who belong to the first and second group of single tax payers and paid a single social contribution, for the period of quarantine and for one month after the date of its abolition. About 300,000 families are expected to benefit from this assistance. It will be provided for each child up to 10 years of age in the amount of the subsistence minimum (for children under 6 years - UAH 1 779 (USD 70); for children aged 6 to 10 years - UAH 2 218 (USD 90)). "
          ],
          [
           "The government introduced one-off cash assistance ($35) for seniors with low pensions. Pensioners whose pension is less than 5 thousand hryvnias receive additional assistance in the amount of 1 thousand hryvnias ($35). Expected to benefit more than 10 million pensioners. "
          ],
          [
           "In addition, the state introduced a one-off payment to the current beneficiaries of child disability payments."
          ],
          [
           "Relaxed eligibility requirements for the GMI program to extend duration of payments and enable simplified enrollment online."
          ],
          [
           "Simplify administrative requirements for enrollment in the Housing Utilities Subsidy program (energy social assistance). Remove restrictions preventing enrollment for those who lost their jobs as a result of the introduced COVID19 quarantine measures.  "
          ],
          [
           "The authorities have extended existing social entitlements for the period of the quarantine without the need to reapply"
          ]
         ],
         "geo": "geo",
         "hovertemplate": "population=44622516<br>Countries=%{location}<br>CT measure description=%{customdata[0]}<extra></extra>",
         "locationmode": "country names",
         "locations": [
          "Ukraine",
          "Ukraine",
          "Ukraine",
          "Ukraine",
          "Ukraine",
          "Ukraine"
         ],
         "name": "44622516",
         "showlegend": true,
         "showscale": false,
         "type": "choropleth",
         "z": [
          1,
          1,
          1,
          1,
          1,
          1
         ]
        },
        {
         "colorscale": [
          [
           0,
           "#ab63fa"
          ],
          [
           1,
           "#ab63fa"
          ]
         ],
         "customdata": [
          [
           "Adults will get $1,200 each and children $500 each. The benefit will start decreasing at a rate of $5 for every additional $100 in income. The phaseout starts at $75,000 in adjusted gross income for singles, $112,500 for heads of household, and $150,000 for married couples filing jointly; it will phase out entirely by $99,000 for singles and $198,000 for couples (with no children).   "
          ]
         ],
         "geo": "geo",
         "hovertemplate": "population=328000000<br>Countries=%{location}<br>CT measure description=%{customdata[0]}<extra></extra>",
         "locationmode": "country names",
         "locations": [
          "US"
         ],
         "name": "328000000",
         "showlegend": true,
         "showscale": false,
         "type": "choropleth",
         "z": [
          1
         ]
        },
        {
         "colorscale": [
          [
           0,
           "#FFA15A"
          ],
          [
           1,
           "#FFA15A"
          ]
         ],
         "customdata": [
          [
           "The number of beneficiaries receiving allowances will increase by at least 10% or to 60,000 households included through the Council of the Federation of Trade Unions of Uzbekistan. "
          ],
          [
           "Extension of the duration of the social allowances for low-income families that expire in March-June for 6 months (or until a child reaches age of 2 or 14, depending on a social allowance) (additional USD 60 million). Moreover, Government is about to approve amendments to simplify the application process and relax the income test (by disregarding certain incomes and categories) to determine eligibility to family allowances"
          ],
          [
           "Additional support will be provided through a 10 trillion soum (~ 1 billion USD) Anti-Crisis Fund.261 Social assistance provisions under this Fund include covering the costs of quarantining persons at risk or in contact with infected persons."
          ]
         ],
         "geo": "geo",
         "hovertemplate": "population=32955400<br>Countries=%{location}<br>CT measure description=%{customdata[0]}<extra></extra>",
         "locationmode": "country names",
         "locations": [
          "Uzbekistan",
          "Uzbekistan",
          "Uzbekistan"
         ],
         "name": "32955400",
         "showlegend": true,
         "showscale": false,
         "type": "choropleth",
         "z": [
          1,
          1,
          1
         ]
        },
        {
         "colorscale": [
          [
           0,
           "#19d3f3"
          ],
          [
           1,
           "#19d3f3"
          ]
         ],
         "customdata": [
          [
           "Increased monthly cash transfers, plus a one-off transfers (reaching 80% of the population), through existing programs and paid through the Sistema Patria platform."
          ]
         ],
         "geo": "geo",
         "hovertemplate": "population=28870195<br>Countries=%{location}<br>CT measure description=%{customdata[0]}<extra></extra>",
         "locationmode": "country names",
         "locations": [
          "Venezuela"
         ],
         "name": "28870195",
         "showlegend": true,
         "showscale": false,
         "type": "choropleth",
         "z": [
          1
         ]
        },
        {
         "colorscale": [
          [
           0,
           "#FF6692"
          ],
          [
           1,
           "#FF6692"
          ]
         ],
         "customdata": [
          [
           "The government has announced an income support package of VND62,000 billion (US$2.6 billion) on March 31, 2020. Each poor and near-poor household member will get a monthly allowance of VND250,000 ($10.5), while social protection beneficiaries and national devotees would receive VND500,000 per person per month"
          ]
         ],
         "geo": "geo",
         "hovertemplate": "population=95540395<br>Countries=%{location}<br>CT measure description=%{customdata[0]}<extra></extra>",
         "locationmode": "country names",
         "locations": [
          "Vietnam"
         ],
         "name": "95540395",
         "showlegend": true,
         "showscale": false,
         "type": "choropleth",
         "z": [
          1
         ]
        },
        {
         "colorscale": [
          [
           0,
           "#B6E880"
          ],
          [
           1,
           "#B6E880"
          ]
         ],
         "customdata": [
          [
           "Financial support from state budget to workers on unpaid leave or reduced working hours, equal to VND 1.8 million/worker/month for the three months. Employers need to supplement with at least an equal contribution, for which they can access loans at 0% interest rate for a period not exceeding 12 months. The total wage received by workers during the period cannot be lower than 85% of the regional minimum wage"
          ],
          [
           "Contracted employees/workers who lost jobs but not eligible for UI benefits, and workers without employment contracts working in business establishments closed due to social distancing measures. Workers will get support of 1.8 million per month. "
          ]
         ],
         "geo": "geo",
         "hovertemplate": "population=95540396<br>Countries=%{location}<br>CT measure description=%{customdata[0]}<extra></extra>",
         "locationmode": "country names",
         "locations": [
          "Vietnam",
          "Vietnam"
         ],
         "name": "95540396",
         "showlegend": true,
         "showscale": false,
         "type": "choropleth",
         "z": [
          1,
          1
         ]
        },
        {
         "colorscale": [
          [
           0,
           "#FF97FF"
          ],
          [
           1,
           "#FF97FF"
          ]
         ],
         "customdata": [
          [
           "Un-contracted workers (from informal sector) who lost jobs, from selected work, with income less than poverty line, will get support of VND 1 million per months for maximum 3 months "
          ]
         ],
         "geo": "geo",
         "hovertemplate": "population=95540397<br>Countries=%{location}<br>CT measure description=%{customdata[0]}<extra></extra>",
         "locationmode": "country names",
         "locations": [
          "Vietnam"
         ],
         "name": "95540397",
         "showlegend": true,
         "showscale": false,
         "type": "choropleth",
         "z": [
          1
         ]
        },
        {
         "colorscale": [
          [
           0,
           "#FECB52"
          ],
          [
           1,
           "#FECB52"
          ]
         ],
         "customdata": [
          [
           "The Palestinian Authority Ministry of Social Development is increasing the number of social allowances to vulnerable families in the West Bank and Gaza. Its quarterly cash transfer program, which usually reached 105,000 vulnerable families, was expanded in April to reach an extra 9,000 families from Gaza, in light of the socioeconomic impacts of COVID-19. "
          ]
         ],
         "geo": "geo",
         "hovertemplate": "population=4569087<br>Countries=%{location}<br>CT measure description=%{customdata[0]}<extra></extra>",
         "locationmode": "country names",
         "locations": [
          "West Bank and Gaza"
         ],
         "name": "4569087",
         "showlegend": true,
         "showscale": false,
         "type": "choropleth",
         "z": [
          1
         ]
        },
        {
         "colorscale": [
          [
           0,
           "#636efa"
          ],
          [
           1,
           "#636efa"
          ]
         ],
         "customdata": [
          [
           "One-million households identified through the Social Welfare Department to benefit from the $600 million kitty availed by the Government to mitigate the effects of Covid-19. These are i) a universal emergency cash transfer to all urban households; ii) a transfer to households employed in the informal sector and iii) a transfer to informal sector vendors organised through their associations."
          ],
          [
           "On 31 March, the Government of Zimbabwe announced that ZW$200 million (approximately $550,000) per month will be set aside for the next three months for an emergency cash transfer program reaching one million vulnerable households."
          ]
         ],
         "geo": "geo",
         "hovertemplate": "population=14439018<br>Countries=%{location}<br>CT measure description=%{customdata[0]}<extra></extra>",
         "locationmode": "country names",
         "locations": [
          "Zimbabwe",
          "Zimbabwe"
         ],
         "name": "14439018",
         "showlegend": true,
         "showscale": false,
         "type": "choropleth",
         "z": [
          1,
          1
         ]
        }
       ],
       "layout": {
        "coloraxis": {
         "showscale": false
        },
        "geo": {
         "center": {},
         "domain": {
          "x": [
           0,
           1
          ],
          "y": [
           0,
           1
          ]
         }
        },
        "height": 600,
        "legend": {
         "title": {
          "text": "population"
         },
         "tracegroupgap": 0
        },
        "template": {
         "data": {
          "bar": [
           {
            "error_x": {
             "color": "#2a3f5f"
            },
            "error_y": {
             "color": "#2a3f5f"
            },
            "marker": {
             "line": {
              "color": "#E5ECF6",
              "width": 0.5
             }
            },
            "type": "bar"
           }
          ],
          "barpolar": [
           {
            "marker": {
             "line": {
              "color": "#E5ECF6",
              "width": 0.5
             }
            },
            "type": "barpolar"
           }
          ],
          "carpet": [
           {
            "aaxis": {
             "endlinecolor": "#2a3f5f",
             "gridcolor": "white",
             "linecolor": "white",
             "minorgridcolor": "white",
             "startlinecolor": "#2a3f5f"
            },
            "baxis": {
             "endlinecolor": "#2a3f5f",
             "gridcolor": "white",
             "linecolor": "white",
             "minorgridcolor": "white",
             "startlinecolor": "#2a3f5f"
            },
            "type": "carpet"
           }
          ],
          "choropleth": [
           {
            "colorbar": {
             "outlinewidth": 0,
             "ticks": ""
            },
            "type": "choropleth"
           }
          ],
          "contour": [
           {
            "colorbar": {
             "outlinewidth": 0,
             "ticks": ""
            },
            "colorscale": [
             [
              0,
              "#0d0887"
             ],
             [
              0.1111111111111111,
              "#46039f"
             ],
             [
              0.2222222222222222,
              "#7201a8"
             ],
             [
              0.3333333333333333,
              "#9c179e"
             ],
             [
              0.4444444444444444,
              "#bd3786"
             ],
             [
              0.5555555555555556,
              "#d8576b"
             ],
             [
              0.6666666666666666,
              "#ed7953"
             ],
             [
              0.7777777777777778,
              "#fb9f3a"
             ],
             [
              0.8888888888888888,
              "#fdca26"
             ],
             [
              1,
              "#f0f921"
             ]
            ],
            "type": "contour"
           }
          ],
          "contourcarpet": [
           {
            "colorbar": {
             "outlinewidth": 0,
             "ticks": ""
            },
            "type": "contourcarpet"
           }
          ],
          "heatmap": [
           {
            "colorbar": {
             "outlinewidth": 0,
             "ticks": ""
            },
            "colorscale": [
             [
              0,
              "#0d0887"
             ],
             [
              0.1111111111111111,
              "#46039f"
             ],
             [
              0.2222222222222222,
              "#7201a8"
             ],
             [
              0.3333333333333333,
              "#9c179e"
             ],
             [
              0.4444444444444444,
              "#bd3786"
             ],
             [
              0.5555555555555556,
              "#d8576b"
             ],
             [
              0.6666666666666666,
              "#ed7953"
             ],
             [
              0.7777777777777778,
              "#fb9f3a"
             ],
             [
              0.8888888888888888,
              "#fdca26"
             ],
             [
              1,
              "#f0f921"
             ]
            ],
            "type": "heatmap"
           }
          ],
          "heatmapgl": [
           {
            "colorbar": {
             "outlinewidth": 0,
             "ticks": ""
            },
            "colorscale": [
             [
              0,
              "#0d0887"
             ],
             [
              0.1111111111111111,
              "#46039f"
             ],
             [
              0.2222222222222222,
              "#7201a8"
             ],
             [
              0.3333333333333333,
              "#9c179e"
             ],
             [
              0.4444444444444444,
              "#bd3786"
             ],
             [
              0.5555555555555556,
              "#d8576b"
             ],
             [
              0.6666666666666666,
              "#ed7953"
             ],
             [
              0.7777777777777778,
              "#fb9f3a"
             ],
             [
              0.8888888888888888,
              "#fdca26"
             ],
             [
              1,
              "#f0f921"
             ]
            ],
            "type": "heatmapgl"
           }
          ],
          "histogram": [
           {
            "marker": {
             "colorbar": {
              "outlinewidth": 0,
              "ticks": ""
             }
            },
            "type": "histogram"
           }
          ],
          "histogram2d": [
           {
            "colorbar": {
             "outlinewidth": 0,
             "ticks": ""
            },
            "colorscale": [
             [
              0,
              "#0d0887"
             ],
             [
              0.1111111111111111,
              "#46039f"
             ],
             [
              0.2222222222222222,
              "#7201a8"
             ],
             [
              0.3333333333333333,
              "#9c179e"
             ],
             [
              0.4444444444444444,
              "#bd3786"
             ],
             [
              0.5555555555555556,
              "#d8576b"
             ],
             [
              0.6666666666666666,
              "#ed7953"
             ],
             [
              0.7777777777777778,
              "#fb9f3a"
             ],
             [
              0.8888888888888888,
              "#fdca26"
             ],
             [
              1,
              "#f0f921"
             ]
            ],
            "type": "histogram2d"
           }
          ],
          "histogram2dcontour": [
           {
            "colorbar": {
             "outlinewidth": 0,
             "ticks": ""
            },
            "colorscale": [
             [
              0,
              "#0d0887"
             ],
             [
              0.1111111111111111,
              "#46039f"
             ],
             [
              0.2222222222222222,
              "#7201a8"
             ],
             [
              0.3333333333333333,
              "#9c179e"
             ],
             [
              0.4444444444444444,
              "#bd3786"
             ],
             [
              0.5555555555555556,
              "#d8576b"
             ],
             [
              0.6666666666666666,
              "#ed7953"
             ],
             [
              0.7777777777777778,
              "#fb9f3a"
             ],
             [
              0.8888888888888888,
              "#fdca26"
             ],
             [
              1,
              "#f0f921"
             ]
            ],
            "type": "histogram2dcontour"
           }
          ],
          "mesh3d": [
           {
            "colorbar": {
             "outlinewidth": 0,
             "ticks": ""
            },
            "type": "mesh3d"
           }
          ],
          "parcoords": [
           {
            "line": {
             "colorbar": {
              "outlinewidth": 0,
              "ticks": ""
             }
            },
            "type": "parcoords"
           }
          ],
          "pie": [
           {
            "automargin": true,
            "type": "pie"
           }
          ],
          "scatter": [
           {
            "marker": {
             "colorbar": {
              "outlinewidth": 0,
              "ticks": ""
             }
            },
            "type": "scatter"
           }
          ],
          "scatter3d": [
           {
            "line": {
             "colorbar": {
              "outlinewidth": 0,
              "ticks": ""
             }
            },
            "marker": {
             "colorbar": {
              "outlinewidth": 0,
              "ticks": ""
             }
            },
            "type": "scatter3d"
           }
          ],
          "scattercarpet": [
           {
            "marker": {
             "colorbar": {
              "outlinewidth": 0,
              "ticks": ""
             }
            },
            "type": "scattercarpet"
           }
          ],
          "scattergeo": [
           {
            "marker": {
             "colorbar": {
              "outlinewidth": 0,
              "ticks": ""
             }
            },
            "type": "scattergeo"
           }
          ],
          "scattergl": [
           {
            "marker": {
             "colorbar": {
              "outlinewidth": 0,
              "ticks": ""
             }
            },
            "type": "scattergl"
           }
          ],
          "scattermapbox": [
           {
            "marker": {
             "colorbar": {
              "outlinewidth": 0,
              "ticks": ""
             }
            },
            "type": "scattermapbox"
           }
          ],
          "scatterpolar": [
           {
            "marker": {
             "colorbar": {
              "outlinewidth": 0,
              "ticks": ""
             }
            },
            "type": "scatterpolar"
           }
          ],
          "scatterpolargl": [
           {
            "marker": {
             "colorbar": {
              "outlinewidth": 0,
              "ticks": ""
             }
            },
            "type": "scatterpolargl"
           }
          ],
          "scatterternary": [
           {
            "marker": {
             "colorbar": {
              "outlinewidth": 0,
              "ticks": ""
             }
            },
            "type": "scatterternary"
           }
          ],
          "surface": [
           {
            "colorbar": {
             "outlinewidth": 0,
             "ticks": ""
            },
            "colorscale": [
             [
              0,
              "#0d0887"
             ],
             [
              0.1111111111111111,
              "#46039f"
             ],
             [
              0.2222222222222222,
              "#7201a8"
             ],
             [
              0.3333333333333333,
              "#9c179e"
             ],
             [
              0.4444444444444444,
              "#bd3786"
             ],
             [
              0.5555555555555556,
              "#d8576b"
             ],
             [
              0.6666666666666666,
              "#ed7953"
             ],
             [
              0.7777777777777778,
              "#fb9f3a"
             ],
             [
              0.8888888888888888,
              "#fdca26"
             ],
             [
              1,
              "#f0f921"
             ]
            ],
            "type": "surface"
           }
          ],
          "table": [
           {
            "cells": {
             "fill": {
              "color": "#EBF0F8"
             },
             "line": {
              "color": "white"
             }
            },
            "header": {
             "fill": {
              "color": "#C8D4E3"
             },
             "line": {
              "color": "white"
             }
            },
            "type": "table"
           }
          ]
         },
         "layout": {
          "annotationdefaults": {
           "arrowcolor": "#2a3f5f",
           "arrowhead": 0,
           "arrowwidth": 1
          },
          "coloraxis": {
           "colorbar": {
            "outlinewidth": 0,
            "ticks": ""
           }
          },
          "colorscale": {
           "diverging": [
            [
             0,
             "#8e0152"
            ],
            [
             0.1,
             "#c51b7d"
            ],
            [
             0.2,
             "#de77ae"
            ],
            [
             0.3,
             "#f1b6da"
            ],
            [
             0.4,
             "#fde0ef"
            ],
            [
             0.5,
             "#f7f7f7"
            ],
            [
             0.6,
             "#e6f5d0"
            ],
            [
             0.7,
             "#b8e186"
            ],
            [
             0.8,
             "#7fbc41"
            ],
            [
             0.9,
             "#4d9221"
            ],
            [
             1,
             "#276419"
            ]
           ],
           "sequential": [
            [
             0,
             "#0d0887"
            ],
            [
             0.1111111111111111,
             "#46039f"
            ],
            [
             0.2222222222222222,
             "#7201a8"
            ],
            [
             0.3333333333333333,
             "#9c179e"
            ],
            [
             0.4444444444444444,
             "#bd3786"
            ],
            [
             0.5555555555555556,
             "#d8576b"
            ],
            [
             0.6666666666666666,
             "#ed7953"
            ],
            [
             0.7777777777777778,
             "#fb9f3a"
            ],
            [
             0.8888888888888888,
             "#fdca26"
            ],
            [
             1,
             "#f0f921"
            ]
           ],
           "sequentialminus": [
            [
             0,
             "#0d0887"
            ],
            [
             0.1111111111111111,
             "#46039f"
            ],
            [
             0.2222222222222222,
             "#7201a8"
            ],
            [
             0.3333333333333333,
             "#9c179e"
            ],
            [
             0.4444444444444444,
             "#bd3786"
            ],
            [
             0.5555555555555556,
             "#d8576b"
            ],
            [
             0.6666666666666666,
             "#ed7953"
            ],
            [
             0.7777777777777778,
             "#fb9f3a"
            ],
            [
             0.8888888888888888,
             "#fdca26"
            ],
            [
             1,
             "#f0f921"
            ]
           ]
          },
          "colorway": [
           "#636efa",
           "#EF553B",
           "#00cc96",
           "#ab63fa",
           "#FFA15A",
           "#19d3f3",
           "#FF6692",
           "#B6E880",
           "#FF97FF",
           "#FECB52"
          ],
          "font": {
           "color": "#2a3f5f"
          },
          "geo": {
           "bgcolor": "white",
           "lakecolor": "white",
           "landcolor": "#E5ECF6",
           "showlakes": true,
           "showland": true,
           "subunitcolor": "white"
          },
          "hoverlabel": {
           "align": "left"
          },
          "hovermode": "closest",
          "mapbox": {
           "style": "light"
          },
          "paper_bgcolor": "white",
          "plot_bgcolor": "#E5ECF6",
          "polar": {
           "angularaxis": {
            "gridcolor": "white",
            "linecolor": "white",
            "ticks": ""
           },
           "bgcolor": "#E5ECF6",
           "radialaxis": {
            "gridcolor": "white",
            "linecolor": "white",
            "ticks": ""
           }
          },
          "scene": {
           "xaxis": {
            "backgroundcolor": "#E5ECF6",
            "gridcolor": "white",
            "gridwidth": 2,
            "linecolor": "white",
            "showbackground": true,
            "ticks": "",
            "zerolinecolor": "white"
           },
           "yaxis": {
            "backgroundcolor": "#E5ECF6",
            "gridcolor": "white",
            "gridwidth": 2,
            "linecolor": "white",
            "showbackground": true,
            "ticks": "",
            "zerolinecolor": "white"
           },
           "zaxis": {
            "backgroundcolor": "#E5ECF6",
            "gridcolor": "white",
            "gridwidth": 2,
            "linecolor": "white",
            "showbackground": true,
            "ticks": "",
            "zerolinecolor": "white"
           }
          },
          "shapedefaults": {
           "line": {
            "color": "#2a3f5f"
           }
          },
          "ternary": {
           "aaxis": {
            "gridcolor": "white",
            "linecolor": "white",
            "ticks": ""
           },
           "baxis": {
            "gridcolor": "white",
            "linecolor": "white",
            "ticks": ""
           },
           "bgcolor": "#E5ECF6",
           "caxis": {
            "gridcolor": "white",
            "linecolor": "white",
            "ticks": ""
           }
          },
          "title": {
           "x": 0.05
          },
          "xaxis": {
           "automargin": true,
           "gridcolor": "white",
           "linecolor": "white",
           "ticks": "",
           "title": {
            "standoff": 15
           },
           "zerolinecolor": "white",
           "zerolinewidth": 2
          },
          "yaxis": {
           "automargin": true,
           "gridcolor": "white",
           "linecolor": "white",
           "ticks": "",
           "title": {
            "standoff": 15
           },
           "zerolinecolor": "white",
           "zerolinewidth": 2
          }
         }
        },
        "title": {
         "text": "Child poverty rate by state and child allowance amount"
        }
       }
      },
      "text/html": [
       "<div>\n",
       "        \n",
       "        \n",
       "            <div id=\"662766e6-cecf-4499-92fa-eef6d0fdb583\" class=\"plotly-graph-div\" style=\"height:600px; width:100%;\"></div>\n",
       "            <script type=\"text/javascript\">\n",
       "                require([\"plotly\"], function(Plotly) {\n",
       "                    window.PLOTLYENV=window.PLOTLYENV || {};\n",
       "                    \n",
       "                if (document.getElementById(\"662766e6-cecf-4499-92fa-eef6d0fdb583\")) {\n",
       "                    Plotly.newPlot(\n",
       "                        '662766e6-cecf-4499-92fa-eef6d0fdb583',\n",
       "                        [{\"colorscale\": [[0.0, \"#636efa\"], [1.0, \"#636efa\"]], \"customdata\": [[\"Self-employed families will receive a special benefit equivalent to a state-set monthly salary\"], [\"Recipients of Ndihma Economike (flagship cash transfer program) will receive double the amount of benefit \"]], \"geo\": \"geo\", \"hovertemplate\": \"population=2866376<br>Countries=%{location}<br>CT measure description=%{customdata[0]}<extra></extra>\", \"locationmode\": \"country names\", \"locations\": [\"Albania\", \"Albania\"], \"name\": \"2866376\", \"showlegend\": true, \"showscale\": false, \"type\": \"choropleth\", \"z\": [1, 1]}, {\"colorscale\": [[0.0, \"#EF553B\"], [1.0, \"#EF553B\"]], \"customdata\": [[\"To avoid crowding in post offices, beneficiaries (1M) can receive Solidarity Allowance benefits at any time without a specific deadline (in normal circumstances on the 30th/31st of the month the uncollected benefits to beneficiaries is automatically returned to the Social Development Agency). (admin adaptation)\"], [\"The President decided to allocate a benefit of 10000 Algerian Dinars (79 USD) to cover Ramadhan expenses for the poor families impacted by the Covid19. The President urged the Government to identify the beneficiaries. \"]], \"geo\": \"geo\", \"hovertemplate\": \"population=42228429<br>Countries=%{location}<br>CT measure description=%{customdata[0]}<extra></extra>\", \"locationmode\": \"country names\", \"locations\": [\"Algeria\", \"Algeria\"], \"name\": \"42228429\", \"showlegend\": true, \"showscale\": false, \"type\": \"choropleth\", \"z\": [1, 1]}, {\"colorscale\": [[0.0, \"#00cc96\"], [1.0, \"#00cc96\"]], \"customdata\": [[\"As part of a package of social protection responses, the Ministry of Social Affairs, Family, and Women\\u2019s Promotion (MASFAMU) announced that the Child Grant implemented in Bie, Moxico, and Uige provinces will be topped up (from 3000 to 5000 Kwanzas, or approximately US$6 to US$10 monthly) and a double payment will be made. The government has also adapted the payment procedures to ensure adequate sanitation and worker protection during the transfers.\"], [\"To improve the income of the poorest families affected by the depth of the economic crisis that the country is experiencing, in May 2020 the first phase of the Social Monetary Transfer Program will begin, which will have 1,600,000 beneficiaries\"]], \"geo\": \"geo\", \"hovertemplate\": \"population=30809762<br>Countries=%{location}<br>CT measure description=%{customdata[0]}<extra></extra>\", \"locationmode\": \"country names\", \"locations\": [\"Angola\", \"Angola\"], \"name\": \"30809762\", \"showlegend\": true, \"showscale\": false, \"type\": \"choropleth\", \"z\": [1, 1]}, {\"colorscale\": [[0.0, \"#ab63fa\"], [1.0, \"#ab63fa\"]], \"customdata\": [[\"For those that do not qualify for the Unemployment Benefit offered by the social security system, the Government will provide support direct financial support of up to EC$800 (US$296) per month,\"], [\"As well as vertical and horizontal expansion of public assistance programme\"]], \"geo\": \"geo\", \"hovertemplate\": \"population=15094<br>Countries=%{location}<br>CT measure description=%{customdata[0]}<extra></extra>\", \"locationmode\": \"country names\", \"locations\": [\"Anguilla (UK)\", \"Anguilla (UK)\"], \"name\": \"15094\", \"showlegend\": true, \"showscale\": false, \"type\": \"choropleth\", \"z\": [1, 1]}, {\"colorscale\": [[0.0, \"#FFA15A\"], [1.0, \"#FFA15A\"]], \"customdata\": [[\"On March 27, the government announced that relief packages will be made available to single-parent and no-income households, with further details of that package to be disclosed .\"]], \"geo\": \"geo\", \"hovertemplate\": \"population=96286<br>Countries=%{location}<br>CT measure description=%{customdata[0]}<extra></extra>\", \"locationmode\": \"country names\", \"locations\": [\"Antigua and Barbuda\"], \"name\": \"96286\", \"showlegend\": true, \"showscale\": false, \"type\": \"choropleth\", \"z\": [1]}, {\"colorscale\": [[0.0, \"#19d3f3\"], [1.0, \"#19d3f3\"]], \"customdata\": [[\"Argentina has instituted an Increase in money transfers, equivalent to an additional payment of the Universal Child Allowance (AUH) and the Universal Pregnancy Allowance for $3,100 Argentine pesos (US$47) for 4.3 million people (Total: $14 billion Argentine pesos or US$215 million). \"], [\"The government introduced the Emergency Family Income (Ingreso Familiar de Emergencia) (non-contributory). A lump sum payment of $10,000 (US$155) provided for the month of April to one member of the family. The total number of expected beneficiaries: 3.6 million families including; Informal workers, \\u201cMonotributistas\\u201d of category A and B, Domestic workers (all new). *UPDATE* the government officially announced on June 1st 2020,  that the national government will again pay the $ 10,000 of the Emergency Family Income (IFE) to the almost 9 million people who collected it the first time, with a payment schedule that will start on June 8. \"], [\"There will be an extraordinary bonus of $3,000 Argentine pesos (US$45) for the people who receive social programs (565,000 people).\"]], \"geo\": \"geo\", \"hovertemplate\": \"population=44494502<br>Countries=%{location}<br>CT measure description=%{customdata[0]}<extra></extra>\", \"locationmode\": \"country names\", \"locations\": [\"Argentina\", \"Argentina\", \"Argentina\"], \"name\": \"44494502\", \"showlegend\": true, \"showscale\": false, \"type\": \"choropleth\", \"z\": [1, 1, 1]}, {\"colorscale\": [[0.0, \"#FF6692\"], [1.0, \"#FF6692\"]], \"customdata\": [[\"MLSA and SRC (State Revenue Committee) are closely cooperating to provide cash payments to those who sent to mandatory leave and/or being laid off (about 70,000 registered employees)\"], [\"The government will provide $60M as extra social assistance payments.  Specifically, the Ministry of Labor and Social Affairs (MLSA) is planning a 3-months emergency benefit (54,000 AMD = $108) to households registered in the Family Benefit Program, but not yet receiving it (about 20,000 households); \"], [\"On 25 and 30 March the Government approved a comprehensive action plan to counter the adverse coronavirus impact and several measures to offset its economic and social consequences with a total envelope of at least 300 mln USD. These included: \\n\\u2022\\tAssistance to families with children under 14, who face bottlenecks due to the shrinking labor market (formal employees (with certain criteria) released from work after March 13, 100,000 AMD (US$201) lump sum payment for every child)).\\n\\u2022\\tSupport to persons in formal employment (receiving less that 500,000 AMD for the past two months) who lost their job after 13 March in the amount of monthly minimum wage.\\n\\u2022\\tSupport to pregnant women who are not employed until 30 March and whose husband lost the job after 13 March in the amount of a 100,000 AMD (US$201) lump sum payment.\\n\\u2022\\tSupport to hired workers and individual entrepreneurs (formal employment) in Armenia\\u2019s private sector most affected by the spread of coronavirus, specifically, in hotel and hostel, public catering, tourism, barber shops and beauty parlors, retail trade. The amounts would range between 68,000 and 136,000 AMD. (US$137-274). \"], [\"On 13 and 14 April, the Government announced a new package of measures, which include:\\n-\\tSupport package number 9 (social): \\n-\\tBeneficiary: Family with a child aged 0-18, where both parents do not have a registered job as of March 12, 2020, and no part-time or full-time work from March 12-March 31.\\n-\\tSupport type: lump-sum assistance for each child in the amount of AMD 26,500 (about 55 USD).\\n-\\tBasic conditions: the children and at least one of the parents reside in the Republic of Armenia, the family is not eligible for a family benefit; at least one of the parents did not have a job with a monthly salary of over 500,000 drams before March 1, 2020.\"], [\"Support package No 13: One-time assistance at the rate of 50% of the amount of the social benefit or family benefit for those families enrolled in the family benefit system and eligible as of April 2020. There is no need to apply. 70% of the assistance will be available as a cash payment in addition to the amount of the family allowance for April; the balance of 30% will be transferred to the utility operator on behalf of the subscriber of electricity. If the beneficiary has a debt, the funds will be used to settle the arrears. In the absence of overdue bills, they will come as a prepayment for services. If the beneficiary is not an electricity subscriber, this part of the funds shall be offered to the beneficiary as a cash payment.  For example, if a family receives an average family benefit of 31,350 AMD (app. 66 USD), then 21,945 AMD (46.2 USD) would go as top-up cash payment and 9,405 AMD (19.8 USD) for electricity (or if no electricity, then also as cash).\"], [\"Support package No 14: three different options of assistance for students. 1) semester tuition fees for Bachelor\\u2019s, Master\\u2019s, and PhD students with a GPA of 90 or more and in graduate course of the existing system of state universities will be 100% paid by the Government. Semester tuition fees for non-graduate students with a GPA of 90 or more will be paid 75 percent. Graduate students who do not have a tuition fee debt may turn down the assistance, or receive the amount if it has been paid by an individual. And if the graduating student's fee is paid through a student loan, the money will be directed to pay the loan. 2) the procedure for providing student loans will be simplified. Interest rates on current and new loans for students with a GPA of more than 80 will be zeroed for 2020, including for the students state-accredited universities; 3) Loan interest rates for students with a GPA less than 80 will be subsidized by 5%; that is, loans will be available at 4 percent\"]], \"geo\": \"geo\", \"hovertemplate\": \"population=2951776<br>Countries=%{location}<br>CT measure description=%{customdata[0]}<extra></extra>\", \"locationmode\": \"country names\", \"locations\": [\"Armenia\", \"Armenia\", \"Armenia\", \"Armenia\", \"Armenia\", \"Armenia\"], \"name\": \"2951776\", \"showlegend\": true, \"showscale\": false, \"type\": \"choropleth\", \"z\": [1, 1, 1, 1, 1, 1]}, {\"colorscale\": [[0.0, \"#B6E880\"], [1.0, \"#B6E880\"]], \"customdata\": [[\"The Government is providing two separate $750 payments to social security, veteran and other income support recipients and eligible concession card holders. The first payment was made from 31 March 2020 and the second payment will be made from 13 July 2020. Around half of those that benefit are pensioners. These payments will help to support confidence and domestic demand in the economy. The second payment will not be made to those eligible for the Coronavirus supplement. \"], [\"In the second package, the government announced a time-limited coronavirus supplement to be paid at a rate of AUD 550 per fortnight (around USD 330) to recipients of Jobseeker payment, parenting payment, youth allowances and other payment types. This supplement will be in place for the next six months at a cost of AUD 14.1bn (USD 8.5bn).1\"], [\"The State Government will provide a one-off emergency relief payment of $250 for individuals and up to $1,000 for families who are required to self- quarantine. This will be available to informal casual workers and those on low incomes .\"]], \"geo\": \"geo\", \"hovertemplate\": \"population=24982688<br>Countries=%{location}<br>CT measure description=%{customdata[0]}<extra></extra>\", \"locationmode\": \"country names\", \"locations\": [\"Australia\", \"Australia\", \"Australia\"], \"name\": \"24982688\", \"showlegend\": true, \"showscale\": false, \"type\": \"choropleth\", \"z\": [1, 1, 1]}, {\"colorscale\": [[0.0, \"#FF97FF\"], [1.0, \"#FF97FF\"]], \"customdata\": [[\"Cash assistance for one-person companies and freelancers affected by the crisis (e.g. service providers, artists, etc.) through a hardship fund, implemented by the Austrian Economic Chamber. Design details to be announced .\"]], \"geo\": \"geo\", \"hovertemplate\": \"population=8840521<br>Countries=%{location}<br>CT measure description=%{customdata[0]}<extra></extra>\", \"locationmode\": \"country names\", \"locations\": [\"Austria\"], \"name\": \"8840521\", \"showlegend\": true, \"showscale\": false, \"type\": \"choropleth\", \"z\": [1]}, {\"colorscale\": [[0.0, \"#FECB52\"], [1.0, \"#FECB52\"]], \"customdata\": [[\"As one of the measures to increase government support for low-income families in Azerbaijan, the coverage of the targeted state social assistance program is expanding. According to the ministry of of Labor and Social Protection of the Population, from April 1 to date, the number of citizens receiving targeted social assistance has grown by 12,000 families and reached 82,000. Meanwhile, the number of family members receiving social assistance this month increased by 50,000 and currently stands at 340,000 people. The average monthly amount of social assistance for each family continues to grow, reaching 222 manat ($130.5). As the ministry noted, the support was also provided to low-income families whose term for receiving targeted state social assistance during the special quarantine regime has expired. The term for the provision of this assistance to them has been extended to one month following the end of the quarantine regime. \"], [\"Another key support tool in the social protection sphere is lump-sum payments in the amount of living wage - 190 manats ($112) to 200,000 unemployed citizens of the country. The payment is considered for two months. \"]], \"geo\": \"geo\", \"hovertemplate\": \"population=9939800<br>Countries=%{location}<br>CT measure description=%{customdata[0]}<extra></extra>\", \"locationmode\": \"country names\", \"locations\": [\"Azerbaijan\", \"Azerbaijan\"], \"name\": \"9939800\", \"showlegend\": true, \"showscale\": false, \"type\": \"choropleth\", \"z\": [1, 1]}, {\"colorscale\": [[0.0, \"#636efa\"], [1.0, \"#636efa\"]], \"customdata\": [[\"Government is funding a Government Funded Unemployment Assistance for COVID-19 that will provide weekly payments of $200 to persons to self employed tourism workers for a period of up to eight weeks. The delivery of the transfer is being managed by the National Insurance Board. \"]], \"geo\": \"geo\", \"hovertemplate\": \"population=385640<br>Countries=%{location}<br>CT measure description=%{customdata[0]}<extra></extra>\", \"locationmode\": \"country names\", \"locations\": [\"Bahamas, the\"], \"name\": \"385640\", \"showlegend\": true, \"showscale\": false, \"type\": \"choropleth\", \"z\": [1]}, {\"colorscale\": [[0.0, \"#EF553B\"], [1.0, \"#EF553B\"]], \"customdata\": [[\"Prime Minister Sheikh Hasina announced the disbursement of Taka 1,250 crore cash assistance among 50 lakh poor families (5 million households) hit hard amid the novel coronavirus (COVID-19) crisis.  The total fund of Taka 2,250 will be distributed among the 50 lakh families through the mobile financial services (MFSs)\"], [\"Benefit under key safety net programs will be increased (amount not determined yet).\"]], \"geo\": \"geo\", \"hovertemplate\": \"population=161356039<br>Countries=%{location}<br>CT measure description=%{customdata[0]}<extra></extra>\", \"locationmode\": \"country names\", \"locations\": [\"Bangladesh\", \"Bangladesh\"], \"name\": \"161356039\", \"showlegend\": true, \"showscale\": false, \"type\": \"choropleth\", \"z\": [1, 1]}, {\"colorscale\": [[0.0, \"#00cc96\"], [1.0, \"#00cc96\"]], \"customdata\": [[\"Assisting 1,500 vulnerable families identified by the Welfare Department and the Household Mitigation Unit with BBD 600 monthly (total of BBD10 million)\"], [\"An increase of 40 per cent in all rates and fees paid by the Welfare Department to its clientele that it services on an annual basis (up to BBD 10 million)\"]], \"geo\": \"geo\", \"hovertemplate\": \"population=286641<br>Countries=%{location}<br>CT measure description=%{customdata[0]}<extra></extra>\", \"locationmode\": \"country names\", \"locations\": [\"Barbados\", \"Barbados\"], \"name\": \"286641\", \"showlegend\": true, \"showscale\": false, \"type\": \"choropleth\", \"z\": [1, 1]}, {\"colorscale\": [[0.0, \"#ab63fa\"], [1.0, \"#ab63fa\"]], \"customdata\": [[\"\\u2022\\tOn May 18th, 2020, the President signed the Decree \\u201cOn Financial Incentives for Staff Members of the Organizations Providing Social Services\\u201d, which stipulates additional fees for staff members of the public social support institutions working with persons who have infectious diseases and their first contacts who are not admitted to health institutions by medical indications. These additional fees are paid to staff members working in the rotating scheme. The rotating scheme means working for 14 days continuously not leaving the institution. The amount of the additional fee depends on the category of the employee and the frequency of their contact with the infected persons. When infections or contacts with infected persons or with first contacts are found in such organizations, the additional fees should be 1,500 Belarusian roubles (621 USD) for medical workers who are physicians, 1,300 Belarusian roubles (538 USD) for medical workers who have secondary special medical education, and 900 Belarusian roubles (373 USD) for other workers. When no cases of infection and/or first contacts are found in the organizations, the relevant additional fees should make: 500 Belarusian roubles (207 USD) for medical workers who are physicians, 400 Belarusian roubles (166 USD) for medical workers who have secondary special medical education, and 250 Belarusian roubles (103 USD) for other workers. In addition, social service workers who work according to the rotating scheme are provided with living accommodations in such organizations and additional remunerations (9 Belarusian roubles, or 3.7 USD) per working day according to such scheme, as stipulated by the legislation. When a new staff team is employed, mandatory testing should be made in order to identify persons who may be infected.   \"], [\"On May 18th, 2020, the President issued the Decree \\u201cOn Social Support for Specific Categories of Individuals\\u201d. This Decree stipulates a longer period of public targeted social support to families with many children in the form of a monthly social benefit which is extended up to 12 months (up from the current 6 months), as well as higher means-testing from 100% to 115% of the minimum subsistence budget (MSB) per capita which is used to appoint such benefit (increased to 283.80 Belarusian  roubles, or 117.5 USD, from the current amount of 246.78 Belarusian roubles, or 102.1 USD). \"]], \"geo\": \"geo\", \"hovertemplate\": \"population=9483499<br>Countries=%{location}<br>CT measure description=%{customdata[0]}<extra></extra>\", \"locationmode\": \"country names\", \"locations\": [\"Belarus\", \"Belarus\"], \"name\": \"9483499\", \"showlegend\": true, \"showscale\": false, \"type\": \"choropleth\", \"z\": [1, 1]}, {\"colorscale\": [[0.0, \"#FFA15A\"], [1.0, \"#FFA15A\"]], \"customdata\": [[\"The government will also upscale transfers through \\u0412\\u041e\\u041e\\u0405\\u0422, th\\u0435 \\u0441\\u043end\\u0456t\\u0456\\u043en\\u0430l \\u0441\\u0430\\u0455h tr\\u0430n\\u0455f\\u0435r \\u0440r\\u043egr\\u0430mme .\"]], \"geo\": \"geo\", \"hovertemplate\": \"population=383071<br>Countries=%{location}<br>CT measure description=%{customdata[0]}<extra></extra>\", \"locationmode\": \"country names\", \"locations\": [\"Belize\"], \"name\": \"383071\", \"showlegend\": true, \"showscale\": false, \"type\": \"choropleth\", \"z\": [1]}, {\"colorscale\": [[0.0, \"#19d3f3\"], [1.0, \"#19d3f3\"]], \"customdata\": [[\"Introduction of an unemployment benefit for laid-off employees who are not on financial assistance. The transfer amount was set at 60% of gross earnings up to a maximum of $500 a week. Where the eligible applicant is receiving a percentage of their salary from their employer, and the amount is less than $500 per week, the applicant will be entitled to the different up to a gross amount of $500. Eligible applicants must meet the definition of an employee under employment legislation, and be Bermudian, the spouse of a Bermudian, a permanent resident\\u2019s certificate holder, or a work-permit holder unable to leave Bermuda because of travel restrictions. They must have been in full-time employment and have been laid off or had their employment terminated because of the Covid-19 pandemic, put on mandatory medical quarantine without compensation from their employer, or be self-employed and no longer at work because of the illness\"]], \"geo\": \"geo\", \"hovertemplate\": \"population=63973<br>Countries=%{location}<br>CT measure description=%{customdata[0]}<extra></extra>\", \"locationmode\": \"country names\", \"locations\": [\"Bermuda\"], \"name\": \"63973\", \"showlegend\": true, \"showscale\": false, \"type\": \"choropleth\", \"z\": [1]}, {\"colorscale\": [[0.0, \"#FF6692\"], [1.0, \"#FF6692\"]], \"customdata\": [[\"The goverboment introduced Druk Gyalpo\\u2019s Relief Kidu which provides Immediate financial support for people who have been laid off or placed on reduced salaries, or their livelihood is impacted. Eligibility based on application: individuals who have been laid off, placed on unpaid leave or on reduced pay from businesses as well as self-employed individuals who have lost their earnings either partially or completely. The Relief Kidu benefit amount is at Nu. 12,000 (~USD 160) per person per month for recipients of the full amount of the Kidu and Nu. 8,000 (~USD 106)  per month for recipients of the partial amount of the Kidu. Additional support of Nu. 800 (~USD 10.5)per child per month is granted to eligible beneficiaries with children. By May 25th, the Druk Gyalpo's Relief Kidu has granted Nu. 150 million (USD 1.95 million) as the first disbursement of the Relief Kidu to 13,006 people. \"]], \"geo\": \"geo\", \"hovertemplate\": \"population=754000<br>Countries=%{location}<br>CT measure description=%{customdata[0]}<extra></extra>\", \"locationmode\": \"country names\", \"locations\": [\"Bhutan\"], \"name\": \"754000\", \"showlegend\": true, \"showscale\": false, \"type\": \"choropleth\", \"z\": [1]}, {\"colorscale\": [[0.0, \"#B6E880\"], [1.0, \"#B6E880\"]], \"customdata\": [[\"The GoB has created three new temporary cash transfer programs Bono Familia (BF), Bono Canasta Familiar (BFC) and Bono Universal (BU) that together provide economic support for households impacted by the COVID-19 pandemic. Initially two cash transfer programs were designed \\u2013 BF and BCF \\u2013 that both rely on a temporary increase of the value of existing social protection interventions to meet the additional needs of the current beneficiaries (vertical expansion). \\n\\u2022 The Bono Familia is a one-time only transfer of Bs500 (US$72) for each child enrolled in elementary, primary and secondary schools (public or private). BF is expected to directly and indirectly cover 65.3 percent of the population\"], [\"The Bono Canasta Familiar is a one-time payment Bs400 (US$58) transfer to 1.6 million low income households in rural and urban areas to cover the cost a monthly basic food basket. BCF is expected to indirectly and directly cover 23.9 percent of the population and the transfer amount is Bs $ 400. By design, it mostly reaches the elderly (86.2 percent of the population 65 years or older), but also pregnant women, mothers of children below 2 years old, and people with disabilities accessing subsidies.\\n\"], [\"Despite significant inclusion errors of BF and BCF, the GoB introduced a third program, the Bono Universal, in order to minimize the exclusion of informal workers and self-employed. Bono Universal is estimated to directly and indirectly cover 46.5 percent of the population and the transfer amount is Bs $ 500.\\nTogether, BF, BCF and BU are expected to reach 3.3 million households and their 11.1 million members (comprising both direct recipients and indirect beneficiaries, who are other household members), or 97.9 percent of the entire population.\"]], \"geo\": \"geo\", \"hovertemplate\": \"population=11353142<br>Countries=%{location}<br>CT measure description=%{customdata[0]}<extra></extra>\", \"locationmode\": \"country names\", \"locations\": [\"Bolivia\", \"Bolivia\", \"Bolivia\"], \"name\": \"11353142\", \"showlegend\": true, \"showscale\": false, \"type\": \"choropleth\", \"z\": [1, 1, 1]}, {\"colorscale\": [[0.0, \"#FF97FF\"], [1.0, \"#FF97FF\"]], \"customdata\": [[\"Individual local governments are providing significant sums to assist the elderly and families with low or no income ($250,000 thus far from Sarajevo municipality Stari Grad). Plans are underway for larger-scale assistance.  \"]], \"geo\": \"geo\", \"hovertemplate\": \"population=3323929<br>Countries=%{location}<br>CT measure description=%{customdata[0]}<extra></extra>\", \"locationmode\": \"country names\", \"locations\": [\"Bosnia & Herzegovina\"], \"name\": \"3323929\", \"showlegend\": true, \"showscale\": false, \"type\": \"choropleth\", \"z\": [1]}, {\"colorscale\": [[0.0, \"#FECB52\"], [1.0, \"#FECB52\"]], \"customdata\": [[\"The government is allocating R$3 billion for the Bolsa Familia program to add 1 million families. \"], [\"The city of Maric\\u00e1 in Brazil will increase the existing cash transfers amount from R$130 ($25) to R$300 per month ($60) at least through June. Total beneficiaries of this scheme will 42,000 of the city\\u2019s lowest-income residents.\"], [\"In Brazil, a 3-month emergency cash transfer of $115 per month (or 60% of the minimum wage) for adults who don\\u2019t have a formal job (informal workers) up to a maximum of two benefits per family; have per capita family income lower than half of the minimum wage or 3 minimum wages in total family income; and don\\u2019t receive other government transfers (except Bolsa Familia). The beneficiaries will be identified through Cadastro Unico, the country\\u2019s social registry, but those eligible individuals not in the social registry will be able to apply through an online platform to be launched April 7. Single mothers will receive double benefit, i.e., $230 per month.\"]], \"geo\": \"geo\", \"hovertemplate\": \"population=209469333<br>Countries=%{location}<br>CT measure description=%{customdata[0]}<extra></extra>\", \"locationmode\": \"country names\", \"locations\": [\"Brazil\", \"Brazil\", \"Brazil\"], \"name\": \"209469333\", \"showlegend\": true, \"showscale\": false, \"type\": \"choropleth\", \"z\": [1, 1, 1]}, {\"colorscale\": [[0.0, \"#636efa\"], [1.0, \"#636efa\"]], \"customdata\": [[\"As part of the government's $62.9m stimulus package, $10 millions will be allocated to the Covid-19 Unemployment Relief Fund, which will support residents affected by the pandemic for a period of up to three months. Compensation will be on a case by case basis and individuals have to provide the relevant information on how they were affected by the pandemic. The SSB will administer and monitor the initiative. Those applying must have paid at least 13 out of 20 weeks of SSB contributions before March 30, 2020; be financially impacted by Covid-19; and be actively seeking employment. The benefit will be calculated at a rate of 50 percent of insurable earnings up to a maximum of $1,000 and a minimum of $500 a month.  \"]], \"geo\": \"geo\", \"hovertemplate\": \"population=29802<br>Countries=%{location}<br>CT measure description=%{customdata[0]}<extra></extra>\", \"locationmode\": \"country names\", \"locations\": [\"British Virgin Islands\"], \"name\": \"29802\", \"showlegend\": true, \"showscale\": false, \"type\": \"choropleth\", \"z\": [1]}, {\"colorscale\": [[0.0, \"#EF553B\"], [1.0, \"#EF553B\"]], \"customdata\": [[\"The Government decided to expand the coverage of the one-off cash transfer to include parents of children up to 14 years as well as Cash TransfersPublic WorksIn-kind TransfersUtility waiversHealth insurance support Unemployment & Paid leavePensions & disability benefitsSocial security contributionsActivation measures Labor regulation adjustment Reduced work timeWage subsidy\\n95\\nfamilies in which one or both parents have lost their jobs but are not entitled to unemployment benefits. The aid will be paid in the event that the parents applying for it are not covered by the job-saving compensation scheme, which has gained popularity as the measure 60/40. Both parents or the single parent must be insured under the Social Insurance Code within the last 6 months. This condition will not apply to unemployed parents without the right to unemployment benefits. The assistance may be granted if the child/children in the family attended a nursery, kindergarten or school before 13 March 2020. It will also be granted to foster families and families of relatives, in which the child is placed under the Child Protection Act. They must meet the criteria.\"], [\"The Ministry of Labour and Social Policy is introducing a one-off cash transfer of BGN 375 (EUR 192) to parents of children under 12 who are on unpaid leave for at least 20 days due to inability to work from home during the state of emergency. This assistance will be means tested as the monthly income per family member should not be higher than the minimum wage BGN 610. Other conditions: parents should not have any other income from rents, services or additional contracts, should not receive other assistance under the Social Assistance Act, should not to be included in the scheme for wage subsidies to employers 60/40 and should have exhausted their paid leave Children should have attended kindergarten or school before 13 March 2020, and the parents should have been insured in the last six months. Recently The Government decided to expand the coverage of the one-off cash transfer to include parents of children up to 14 years as well as families in which one or both parents have lost their jobs but are not entitled to unemployment benefits. The aid will be paid in the event that the parents applying for it are not covered by the job-saving compensation scheme, which has gained popularity as the measure 60/40. Both parents or the single parent must be insured under the Social Insurance Code within the last 6 months. This condition will not apply to unemployed parents without the right to unemployment benefits. The assistance may be granted if the child/children in the family attended a nursery, kindergarten or school before 13 March 2020. It will also be granted to foster families and families of relatives, in which the child is placed under the Child Protection Act. They must meet the criteria.\"]], \"geo\": \"geo\", \"hovertemplate\": \"population=7025037<br>Countries=%{location}<br>CT measure description=%{customdata[0]}<extra></extra>\", \"locationmode\": \"country names\", \"locations\": [\"Bulgaria\", \"Bulgaria\"], \"name\": \"7025037\", \"showlegend\": true, \"showscale\": false, \"type\": \"choropleth\", \"z\": [1, 1]}, {\"colorscale\": [[0.0, \"#00cc96\"], [1.0, \"#00cc96\"]], \"customdata\": [[\"Cash transfers to informal sector workers (fruits and vegetable sellers). Total cost of US$10 million (5 billion CFA) to help the fruits and vegetable informal retailers affected by the situation, particularly women. More details to be announced36.\"]], \"geo\": \"geo\", \"hovertemplate\": \"population=19751535<br>Countries=%{location}<br>CT measure description=%{customdata[0]}<extra></extra>\", \"locationmode\": \"country names\", \"locations\": [\"Burkina Faso\"], \"name\": \"19751535\", \"showlegend\": true, \"showscale\": false, \"type\": \"choropleth\", \"z\": [1]}, {\"colorscale\": [[0.0, \"#ab63fa\"], [1.0, \"#ab63fa\"]], \"customdata\": [[\"Support for workers in micro and small enterprises and self-employed in the informal sector, including sellers of informal commerce and municipal markets. These workers are guaranteed a value of 10,000 escudos (US$100) for one month. 30,000 workers are expected to benefit\"], [\"Expansion of CTs under the existing SP project to 8,000 families (from original 5,000) a monthly income of 5,500 escudos ( US$53)97\"]], \"geo\": \"geo\", \"hovertemplate\": \"population=543767<br>Countries=%{location}<br>CT measure description=%{customdata[0]}<extra></extra>\", \"locationmode\": \"country names\", \"locations\": [\"Cabo Verde\", \"Cabo Verde\"], \"name\": \"543767\", \"showlegend\": true, \"showscale\": false, \"type\": \"choropleth\", \"z\": [1, 1]}, {\"colorscale\": [[0.0, \"#FFA15A\"], [1.0, \"#FFA15A\"]], \"customdata\": [[\"The government will spend $25 million a month to provide money to 400,000 households identified by an existing program as the poorest. The program will provide 80,000 ren (USD $20) to rural families and 120,000 (USD $30) to urban families. \"]], \"geo\": \"geo\", \"hovertemplate\": \"population=16249798<br>Countries=%{location}<br>CT measure description=%{customdata[0]}<extra></extra>\", \"locationmode\": \"country names\", \"locations\": [\"Cambodia\"], \"name\": \"16249798\", \"showlegend\": true, \"showscale\": false, \"type\": \"choropleth\", \"z\": [1]}, {\"colorscale\": [[0.0, \"#19d3f3\"], [1.0, \"#19d3f3\"]], \"customdata\": [[\"Increase in family allowance from CFAF 2,800 to CFAF 4,500 \"]], \"geo\": \"geo\", \"hovertemplate\": \"population=25216237<br>Countries=%{location}<br>CT measure description=%{customdata[0]}<extra></extra>\", \"locationmode\": \"country names\", \"locations\": [\"Cameron\"], \"name\": \"25216237\", \"showlegend\": true, \"showscale\": false, \"type\": \"choropleth\", \"z\": [1]}, {\"colorscale\": [[0.0, \"#FF6692\"], [1.0, \"#FF6692\"]], \"customdata\": [[\"Income support is provided for those who don\\u2019t qualify for employment insurance, including a payment of $2,000 per month for the next 4 months\"], [\"British Columbia will provide a one-time CAD 1,000 payment to people who lost their incomes due to COVID-19.  Other provisions under the B.C. Emergency Benefit for Workers include tax credits, suspension of evictions of tenants in subsidized and affordable housing, temporary rent supplements of up to CAD 500 per month paid to landlords, six-month freeze on student loan payments, and payment deferral and/or subsidies for water bills.\"]], \"geo\": \"geo\", \"hovertemplate\": \"population=37057765<br>Countries=%{location}<br>CT measure description=%{customdata[0]}<extra></extra>\", \"locationmode\": \"country names\", \"locations\": [\"Canada\", \"Canada\"], \"name\": \"37057765\", \"showlegend\": true, \"showscale\": false, \"type\": \"choropleth\", \"z\": [1, 1]}, {\"colorscale\": [[0.0, \"#B6E880\"], [1.0, \"#B6E880\"]], \"customdata\": [[\"An additional KY$425 (US$510) stipend to those on permanent financial assistance, as well as to seamen and veterans\"]], \"geo\": \"geo\", \"hovertemplate\": \"population=64174<br>Countries=%{location}<br>CT measure description=%{customdata[0]}<extra></extra>\", \"locationmode\": \"country names\", \"locations\": [\"Cayman Islands\"], \"name\": \"64174\", \"showlegend\": true, \"showscale\": false, \"type\": \"choropleth\", \"z\": [1]}, {\"colorscale\": [[0.0, \"#FF97FF\"], [1.0, \"#FF97FF\"]], \"customdata\": [[\"The Ministry of Social Development has introduced the Ingreso Familiar de Emergencia \\u2013 a new, transitory transfer program intended for households that depend on informal work for their livelihood. Nearly 2 million households are expected to receive the transfer which will be granted for a maximum of three months. The first payout corresponds to 100 percent of the full transfer amount, the second payout 85 percent and the third 65 percent. The transfer amount depends on household type (whether the households is exclusively informal, or  whether the households is vulnerable and partially informal) and size of the household. As an example, a household with four members that are exclusively dependent on income from the informal sector will receive a first transfer corresponding to CLP $ 280,000 (USD $ 340). Partially informal households will receive half of that amount. Payment is as follow: first $65,000; $ 55,250 in June, and $ 45,500\"], [\"\\nThis grant is awarded to those families that belong to the Chile Seguridades y Oportunidades program and the Family Subsidy, especially those in extreme poverty.\"]], \"geo\": \"geo\", \"hovertemplate\": \"population=18729160<br>Countries=%{location}<br>CT measure description=%{customdata[0]}<extra></extra>\", \"locationmode\": \"country names\", \"locations\": [\"Chile\", \"Chile\"], \"name\": \"18729160\", \"showlegend\": true, \"showscale\": false, \"type\": \"choropleth\", \"z\": [1, 1]}, {\"colorscale\": [[0.0, \"#FECB52\"], [1.0, \"#FECB52\"]], \"customdata\": [[\"The latest government policy directive (6 March 2020) instructed local governments to extend coverage of dibao and temporary assistance programs, simplify the application and approval process, and increase the benefit level to cover the families who are affected by the epidemic (both directly through infection and indirectly through economic impacts). Examples are available at local level (information collected by WBG):  \\n\\n-\\tIn Hubei province, RMB 500 for urban Dibao recipients and RMB 300 for rural Dibao recipients were transferred as temporary living allowance subsidies. Temporary assistance (emergency help in nature) supported more than 13000 people with cash transfer of RMB 30 million and provided temporary resettlement for more than 6000 people in 69 sites.\\n-\\tIn Chongqing, a transfer of twice the monthly Dibao amount was introduced to some recipients if they were infected as temporary assistance. \\n-\\t In Shenzhen, the amount of cash transfer as temporary assistance could range between 2-18 times of the local Dibao threshold based on the individual recipient's situation\"], [\"Cash transfer for retention migrant population in Wuhan. One-time cash assistance of RMB 3000\"], [\"Unemployment social assistance for up to 6 months for the unemployed not eligible for unemployment social insurance benefits. Increased social assistance to families in difficulties.\"]], \"geo\": \"geo\", \"hovertemplate\": \"population=1392730000<br>Countries=%{location}<br>CT measure description=%{customdata[0]}<extra></extra>\", \"locationmode\": \"country names\", \"locations\": [\"China\", \"China\", \"China\"], \"name\": \"1392730000\", \"showlegend\": true, \"showscale\": false, \"type\": \"choropleth\", \"z\": [1, 1, 1]}, {\"colorscale\": [[0.0, \"#636efa\"], [1.0, \"#636efa\"]], \"customdata\": [[\"The Government of C\\u00f4te d\\u2019Ivoire established a Solidarity Fund in April 2020 to provide financial support to households impacted by Covid-19. Poor households and individuals (active in the formal and informal sector) who have lost their job or face substantial income losses due to measures in place are eligible for support. For the transitory phase, the 170 billion FCFA Fund is planning to assist 177 000 households in the Greater Abidjan area, through a three-month emergency cash transfer program. Discussions are currently underway to decide whether support will be expanded to the rest of the country, potentially targeting up to 1 million households\"]], \"geo\": \"geo\", \"hovertemplate\": \"population=25000000<br>Countries=%{location}<br>CT measure description=%{customdata[0]}<extra></extra>\", \"locationmode\": \"country names\", \"locations\": [\"Code d\\u2019lvoire\"], \"name\": \"25000000\", \"showlegend\": true, \"showscale\": false, \"type\": \"choropleth\", \"z\": [1]}, {\"colorscale\": [[0.0, \"#EF553B\"], [1.0, \"#EF553B\"]], \"customdata\": [[\"New cash transfer program, \\u201csolidarity income\\u201d, includes a one-off payment of COP 160,000 ($108)  for informal workers and their families. These include 3M households identified by via SISBEN and tax collection databases. Payment is planned for week of March 30-April 5 through bank account for half of identified households who have those; through electronic payments through cells phones for others\"], [\"Two existing programs will pay additional benefits: \\n-\\tOne additional cash payment to 2.6M households that are beneficiaries of Familias en Acci\\u00f3n. Transfer is of COP 145,000 ($98 in 2011 PPP)\\n-\\tOne additional cash payment to 204,000 beneficiaries of J\\u00f3venes en Acci\\u00f3n (COP 356,000, or $240)\\n- Remove conditionality\\n\"], [\"Another special measure consists in anticipating the implementation of the VAT Refund to the Poor Program that is expected to distribute 3% of the funds collected as VAT to the most vulnerable families. The transfer is nearly COP 80,000 per household ($47). This program was scheduled to start on January 2021, with a pilot of 100.000 families; however, now it will start on April 8, 2020, and will include around 1M people among the most vulnerable segments of the population . \"], [\"A program called \\u201cBogot\\u00e1 Solidaria En Casa\\u201d will provide poor and vulnerable families of the District with cash for the 23-day quarantine (03/25-04/13) to prevent them to have to get out their home to a daily subsistence income. The transfer is estimated to cover ~70% of their expenditure. Conditions and requirements include comply with quarantine and not having been reported of domestic violence. It will benefit 500,000 families (350,000 \\u2018poor\\u2019 and 150,000 \\u2018vulnerable\\u2019 ones) identified via 2018 Census, SISBEN, and District\\u2019s own data (plus data from cell phone operators). Transfer includes COP 423,000 ($286) for the poor, COP 178,000 for the vulnerable ($120).\"]], \"geo\": \"geo\", \"hovertemplate\": \"population=49648685<br>Countries=%{location}<br>CT measure description=%{customdata[0]}<extra></extra>\", \"locationmode\": \"country names\", \"locations\": [\"Colombia\", \"Colombia\", \"Colombia\", \"Colombia\"], \"name\": \"49648685\", \"showlegend\": true, \"showscale\": false, \"type\": \"choropleth\", \"z\": [1, 1, 1, 1]}, {\"colorscale\": [[0.0, \"#00cc96\"], [1.0, \"#00cc96\"]], \"customdata\": [[\"The Government plans to provide emergency support to the vulnerable in need, through social cash transfers. The number of beneficiaries is estimated to be equal to 23.5 percent of the total population, approx 160 000 people\"]], \"geo\": \"geo\", \"hovertemplate\": \"population=832322<br>Countries=%{location}<br>CT measure description=%{customdata[0]}<extra></extra>\", \"locationmode\": \"country names\", \"locations\": [\"Comoros\"], \"name\": \"832322\", \"showlegend\": true, \"showscale\": false, \"type\": \"choropleth\", \"z\": [1]}, {\"colorscale\": [[0.0, \"#ab63fa\"], [1.0, \"#ab63fa\"]], \"customdata\": [[\"The government is planning a cash transfers in Kinshasa and other affected provinces within the context of COVID-19. 2 million social transfer beneficiaries are expected to benefit from this transfer. Total budget allocated is US$50 million \"]], \"geo\": \"geo\", \"hovertemplate\": \"population=84068091<br>Countries=%{location}<br>CT measure description=%{customdata[0]}<extra></extra>\", \"locationmode\": \"country names\", \"locations\": [\"Congo, Dem. Rep\"], \"name\": \"84068091\", \"showlegend\": true, \"showscale\": false, \"type\": \"choropleth\", \"z\": [1]}, {\"colorscale\": [[0.0, \"#FFA15A\"], [1.0, \"#FFA15A\"]], \"customdata\": [[\"100 000 families affected by COVID-19 to receive around 50 000 CFA each (around 5 billion CFA)\"]], \"geo\": \"geo\", \"hovertemplate\": \"population=5518087<br>Countries=%{location}<br>CT measure description=%{customdata[0]}<extra></extra>\", \"locationmode\": \"country names\", \"locations\": [\"Congo, Rep.\"], \"name\": \"5518087\", \"showlegend\": true, \"showscale\": false, \"type\": \"choropleth\", \"z\": [1]}, {\"colorscale\": [[0.0, \"#19d3f3\"], [1.0, \"#19d3f3\"]], \"customdata\": [[\"One Off Payment to be paid on top of the current welfare payment next fortnight in the amount $400.00 per beneficiary. This one off support is to assist the most vulnerable as they are not only at health risk from the COVID19 but also likely to be exposed to its economic impact.  The cash is only available to those who are currently on the welfare list of INFIRM/DESTITUTE/PENSIONERS + CAREGIVERS\"], [\"For each child (age 0-16), currently already on the child benefit, an additional $100 on top of the current $50 will be allocated for every fortnight during closure of school outside of the school holidays. Application process not required.\"]], \"geo\": \"geo\", \"hovertemplate\": \"population=17562<br>Countries=%{location}<br>CT measure description=%{customdata[0]}<extra></extra>\", \"locationmode\": \"country names\", \"locations\": [\"Cook Island\", \"Cook Island\"], \"name\": \"17562\", \"showlegend\": true, \"showscale\": false, \"type\": \"choropleth\", \"z\": [1, 1]}, {\"colorscale\": [[0.0, \"#FF6692\"], [1.0, \"#FF6692\"]], \"customdata\": [[\"Monthly subsidy of 200K colones (USD 352) for three months to 375,000 families economically affected by COVID-19\"], [\"Emergency benefit (one-off 125k colones \\u2013 USD 223K) for 33K poor families in the social registry (SINIRUBE) who do not receive any social transfers \"], [\"The implementation of the conditional cash transfer program Avancemos will keep being active with transfers depending on grade levels ($40-$62). Similarly, the Crecemos program, which delivers an average of $35 scholarship per student, will not be interrupted\"]], \"geo\": \"geo\", \"hovertemplate\": \"population=4999441<br>Countries=%{location}<br>CT measure description=%{customdata[0]}<extra></extra>\", \"locationmode\": \"country names\", \"locations\": [\"Costa Rica\", \"Costa Rica\", \"Costa Rica\"], \"name\": \"4999441\", \"showlegend\": true, \"showscale\": false, \"type\": \"choropleth\", \"z\": [1, 1, 1]}, {\"colorscale\": [[0.0, \"#B6E880\"], [1.0, \"#B6E880\"]], \"customdata\": [[\"EC)$8 million approved from the Dominica Social Security to help people who would have lost their jobs (from the Redundancy Fund and the Employment Injury branch of the DSS),\"], [\"Plus, a minimum of $9.5 million from the government for relief payments to those who are financially challenged. More details expected new week.\"], [\"Heads of families and single persons who are unemployed will receive income support in the amount of $600 and $400 respectively, for the period April 2020 to June 2020 in the first instance. This assistance will be administered by social security. \"]], \"geo\": \"geo\", \"hovertemplate\": \"population=71625<br>Countries=%{location}<br>CT measure description=%{customdata[0]}<extra></extra>\", \"locationmode\": \"country names\", \"locations\": [\"Dominica\", \"Dominica\", \"Dominica\"], \"name\": \"71625\", \"showlegend\": true, \"showscale\": false, \"type\": \"choropleth\", \"z\": [1, 1, 1]}, {\"colorscale\": [[0.0, \"#FF97FF\"], [1.0, \"#FF97FF\"]], \"customdata\": [[\"Government has rolled out a \\u2018Stay at Home\\u2019 program (Qu\\u00e9date en Casa) with different elements, including (i) top-up to safety net of 5,000 pesos (US$92) for two months to 811,000 beneficiary families that have the Solidarity payment card to purchase food and basic necessities; (ii) horizontal expansion at the same amount 5,000 pesos (US$92) to 690,000 nonpoor and vulnerable non-beneficiary families in the SIUBEN social registry. The payments are expected from April 1 to May 30; a special transfer totaling 7,000 pesos (US129) to over 350,000 households where the household head is vulnerable to COVID19.\"], [\"Expansion of the Comer Es Primero cash transfer programme, as follows:cVertical expansion of conditional transfers of the CEP - 100% increase in the\\namount transferred to families. Horizontal expansion - inclusion of 100,000 families in extreme poverty, moderate poverty and vulnerable sectors on the verge of becoming poor due to the shock of COVID 19. This expansion will deliver the same increased benefits that will be delivered to families that already participate in the program. These inclusions are temporary. Horizontal expansion  - inclusion of formalized own-account workers who are listed in the Social Security Treasury (TSS) and who are at risk of falling into poverty due to the impact of the shock of the COVID 19\"]], \"geo\": \"geo\", \"hovertemplate\": \"population=10627165<br>Countries=%{location}<br>CT measure description=%{customdata[0]}<extra></extra>\", \"locationmode\": \"country names\", \"locations\": [\"Dominican Republic\", \"Dominican Republic\"], \"name\": \"10627165\", \"showlegend\": true, \"showscale\": false, \"type\": \"choropleth\", \"z\": [1, 1]}, {\"colorscale\": [[0.0, \"#FECB52\"], [1.0, \"#FECB52\"]], \"customdata\": [[\"New cash transfer of $60 has been introduced for informal workers earning less than $400 per month . (The main cash transfer is Bono de Proteccion Familiar, a transfer of USD 60 to 950,000 poor households and informal sector workers. The first transfer was made in early April and the second transfer was initiated in mid-May. (new) \"]], \"geo\": \"geo\", \"hovertemplate\": \"population=17084357<br>Countries=%{location}<br>CT measure description=%{customdata[0]}<extra></extra>\", \"locationmode\": \"country names\", \"locations\": [\"Ecuador\"], \"name\": \"17084357\", \"showlegend\": true, \"showscale\": false, \"type\": \"choropleth\", \"z\": [1]}, {\"colorscale\": [[0.0, \"#636efa\"], [1.0, \"#636efa\"]], \"customdata\": [[\"Ministry of Social Solidarity added 160,000 new households to Takaful and Karama Program (TKP) bringing the total number of people under to TKP to 3.11 million households (approx. 11 million individuals)  The TKP budget will also increase in the new fiscal year from EGP 18.5 billion o EGP \"], [\"A one-off monetary compensation  of EGP 500 for 3 months is being offered to informal workers registered at the database of Ministry of Labor and Manpower Payment will be done through post offices and banks Registration is still opened and is expected to cover 1.9 million individuals (out of 4.4 million applicants) working in construction, ports, agriculture, fishing, plumber, electrician, etc. The first payment was processed in April 2020 via Post Offices (4,000 branches) and Agriculture Bank of Egypt (1,100 branches) as well as 600 schools used as payment site \\u2013 a total of 5,700 outlets. Beneficiaries receive a free ATM card with their first payment in order to cash their 2nd and 3rd payment via post offices and/or banks. Accepted beneficiaries are notified via SMS regarding the location and time to visit to collect their first payment and ATM card, to avoid overcrowding and ensure the safety of beneficiaries.\"], [\"Increased payments are envisioned to women leaders in rural areas (EGP 900 per month instead of EGP 350).\"]], \"geo\": \"geo\", \"hovertemplate\": \"population=98423595<br>Countries=%{location}<br>CT measure description=%{customdata[0]}<extra></extra>\", \"locationmode\": \"country names\", \"locations\": [\"Egypt\", \"Egypt\", \"Egypt\"], \"name\": \"98423595\", \"showlegend\": true, \"showscale\": false, \"type\": \"choropleth\", \"z\": [1, 1, 1]}, {\"colorscale\": [[0.0, \"#EF553B\"], [1.0, \"#EF553B\"]], \"customdata\": [[\"The government of President Nayib Bukele has pledged to give $300 to some 1.5 million households (75 percent ) who work in the informal economy such as house cleaners and street vendors who lack a financial safety net. The government targeted households using electricity usage: any household with monthly consumption of 0-250 kilowatts/ per hour got the transfers. This criterion spurred some protests from people who demand to be included in the new scheme \"]], \"geo\": \"geo\", \"hovertemplate\": \"population=6420744<br>Countries=%{location}<br>CT measure description=%{customdata[0]}<extra></extra>\", \"locationmode\": \"country names\", \"locations\": [\"El Salvador\"], \"name\": \"6420744\", \"showlegend\": true, \"showscale\": false, \"type\": \"choropleth\", \"z\": [1]}, {\"colorscale\": [[0.0, \"#00cc96\"], [1.0, \"#00cc96\"]], \"customdata\": [[\"The government announced on June 6ht that it has sourced E25 million to create a Relief Fund in order to mitigate the effects of COVID-19 on laid off and unpaid workers in the country. This Fund will be managed by Government, employer and employee representatives, ENPF and NDMA. The Ministry of Labour and Social Security will in due course announce the distribution guidelines of the Relief Fund\"]], \"geo\": \"geo\", \"hovertemplate\": \"population=1136191<br>Countries=%{location}<br>CT measure description=%{customdata[0]}<extra></extra>\", \"locationmode\": \"country names\", \"locations\": [\"Eswatini\"], \"name\": \"1136191\", \"showlegend\": true, \"showscale\": false, \"type\": \"choropleth\", \"z\": [1]}, {\"colorscale\": [[0.0, \"#ab63fa\"], [1.0, \"#ab63fa\"]], \"customdata\": [[\"\\u2022\\tInformal sector in the lockdown areas entitled to one-off Government relief payment of FJ$150 (US$66) where holding a street trader or hawker license\"], [\"\\u2022\\tFijians in the informal sector who tested positive for the virus to be paid a one-off sum of FJ$1,000 (US$443)  \"]], \"geo\": \"geo\", \"hovertemplate\": \"population=883483<br>Countries=%{location}<br>CT measure description=%{customdata[0]}<extra></extra>\", \"locationmode\": \"country names\", \"locations\": [\"Fiji\", \"Fiji\"], \"name\": \"883483\", \"showlegend\": true, \"showscale\": false, \"type\": \"choropleth\", \"z\": [1, 1]}, {\"colorscale\": [[0.0, \"#FFA15A\"], [1.0, \"#FFA15A\"]], \"customdata\": [[\"A transfer of Euro 1,500 will be provided to the self-employed and other SMEs as part of the solidarity fund\"], [\"Guarantee payment of benefits by the Family Allowance Funds if the quarterly declaration of resources is not possible\"], [\"An \\\"emergency aid\\\" of 150 euros per family receiving active solidarity income (RSA) or specific solidarity allowance (ASS), to which will be added 100 euros per child will be paid on May 15. Families who do not benefit from the RSA or SSA, but who receive housing assistance, will receive 100 euros per child. Their payment \\\"will be automatic, without any action being necessary\\\" and will concern \\\"more than four million households\"], [\"A bonus for all civil servants who pursue their public service mission, despite confinement, up to 1,000 euros in tax-free bonuses are provided \"], [\"At the national level, on April 15th, the Government has announced a one-off payment of 100 euros per child for vulnerable families to mitigate the additional financial burden for families because of coronavirus, including the unavailability of nearly free school meals for children. \"]], \"geo\": \"geo\", \"hovertemplate\": \"population=66977107<br>Countries=%{location}<br>CT measure description=%{customdata[0]}<extra></extra>\", \"locationmode\": \"country names\", \"locations\": [\"France\", \"France\", \"France\", \"France\", \"France\"], \"name\": \"66977107\", \"showlegend\": true, \"showscale\": false, \"type\": \"choropleth\", \"z\": [1, 1, 1, 1, 1]}, {\"colorscale\": [[0.0, \"#19d3f3\"], [1.0, \"#19d3f3\"]], \"customdata\": [[\"\\u2022\\tOn May 4th, the Government signed the resolution introducing the three following temporary cash transfers (monthly benefits): \\n-\\tFamilies with a PMT rating score of 65,000 - 100,000 will receive a flat benefit of 100 GEL for up to 6 months. This will benefit about 70,000 families and 45 million GEL (about $14.13m/\\u20ac13.10m) is allocated for it.\\n-\\tFamilies with a PMT rating score of 0 - 100,000 who have three and more children under the age 16will receive a top-up benefit of 100 GEL for Targeted Social Assistance for up to 6 months. This will benefit about 21,000 families. The budget for this assistance is 13 million GEL (about $4.08m/\\u20ac3.78m).\\n-\\tPersons with severe disabilities and children with disabilities will receive a a direct transfer of 100 GEL for up to 6 months. About 40,000 citizens will benefit and 25 million GEL (about $7.85m/\\u20ac7.28m) will be spent on this assistance .\"], [\"Government postpone recertification procedures of TSA beneficiaries, simplified the TSA application and enrollment procedures\"], [\"People employed in the informal sector or the self-employed will receive a one-time assistance of 300 GEL (about $94.19/\\u20ac87.34) if they can substantiate claims of job loss \\u2013 the budget for this is 75 million GEL (about $23.55m/\\u20ac21.84m) .\"]], \"geo\": \"geo\", \"hovertemplate\": \"population=3726549<br>Countries=%{location}<br>CT measure description=%{customdata[0]}<extra></extra>\", \"locationmode\": \"country names\", \"locations\": [\"Georgia\", \"Georgia\", \"Georgia\"], \"name\": \"3726549\", \"showlegend\": true, \"showscale\": false, \"type\": \"choropleth\", \"z\": [1, 1, 1]}, {\"colorscale\": [[0.0, \"#FF6692\"], [1.0, \"#FF6692\"]], \"customdata\": [[\"Solo freelancers such as artists and nurses are to receive direct grants of up to Euro 15,000 over 3 months. A total of Euro 50B is planned for this purpose .\"]], \"geo\": \"geo\", \"hovertemplate\": \"population=82905782<br>Countries=%{location}<br>CT measure description=%{customdata[0]}<extra></extra>\", \"locationmode\": \"country names\", \"locations\": [\"Germany\"], \"name\": \"82905782\", \"showlegend\": true, \"showscale\": false, \"type\": \"choropleth\", \"z\": [1]}, {\"colorscale\": [[0.0, \"#B6E880\"], [1.0, \"#B6E880\"]], \"customdata\": [[\"A transfer of Euro 800 (to be made in the first half of April) to about 500,000 employees in companies/businesses closed because of COVID (also self-employed workers); this also includes payment of their social security contributions\"], [\"Financial assistance of Euro 400 was introduced for 155,000 long-term unemployed individuals, registered with the Hellenic Manpower Employment Organization (OAED) from April 1, 2019, maintaining their status until April 16, 2020 and not receiving any other benefit from the State. \"], [\"Beneficiaries of the Social Solidary Income (SSI) Guaranteed Minimum Income program will not be required to submit a new application upon expiration of the benefit recertification period, unless they chose to do so. Three consecutive extensions have been granted for the approved benefits that have been expiring since February. The same extensions are also granted for the housing benefit\"], [\"\\u2022\\tA special financial support of Euro 534 was introduced for employees in businesses whose operation has been suspended under a State decision. The amount is tax-free, cannot be seized and cannot be offset against any debt.  \"], [\"One-off income support was granted to households with minor dependents that are GMI/SSI-beneficiaries: Euro 100 for the first child + Euro 50 for all other children and up to max Euro 300 for each beneficiary (single-parent or co-parent families). The decision was published in the government gazette on May 4, 2020 and the benefit is intended to be paid out in May.\"], [\"Financial aid of Euro 600 to specific professionals i.e. economists / accountants, engineers, lawyers, doctors, teachers and researchers.\"], [\"Employees in the wider national healthcare system as well as civil protection staff, who are in the frontline of the fight against the epidemic received the Easter bonus - a benefit that had been abolished in the public sector during the economic crisis. \"]], \"geo\": \"geo\", \"hovertemplate\": \"population=10731726<br>Countries=%{location}<br>CT measure description=%{customdata[0]}<extra></extra>\", \"locationmode\": \"country names\", \"locations\": [\"Greece\", \"Greece\", \"Greece\", \"Greece\", \"Greece\", \"Greece\", \"Greece\"], \"name\": \"10731726\", \"showlegend\": true, \"showscale\": false, \"type\": \"choropleth\", \"z\": [1, 1, 1, 1, 1, 1, 1]}, {\"colorscale\": [[0.0, \"#FF97FF\"], [1.0, \"#FF97FF\"]], \"customdata\": [[\"The SEED CCT adjusted payment delivery, including initiating payment delivery to beneficiaries aged 60 and over at their homes in March; and introducing additional payment points for all beneficiaries in each Parish (district) in April.\"]], \"geo\": \"geo\", \"hovertemplate\": \"population=111454<br>Countries=%{location}<br>CT measure description=%{customdata[0]}<extra></extra>\", \"locationmode\": \"country names\", \"locations\": [\"Grenada\"], \"name\": \"111454\", \"showlegend\": true, \"showscale\": false, \"type\": \"choropleth\", \"z\": [1]}, {\"colorscale\": [[0.0, \"#FECB52\"], [1.0, \"#FECB52\"]], \"customdata\": [[\"The government introduced an emergency cash transfer \\u201cBono Familia\\u201d  to reach 2 million beneficiaries during 3 months (1000 quetzals or US$130 per month/beneficiary) Targeting is based on electricity consumption (<200whz) for areas with electricity (90% of beneficiaries). In areas with limited access to electricity, targeting is based on socio-economic characteristics (10% of beneficiaries).\"], [\"Bono Social \\u201cConditional Cash Transfer\\u201d. Government is waiving conditionality and making more agile payments.  \"]], \"geo\": \"geo\", \"hovertemplate\": \"population=17247807<br>Countries=%{location}<br>CT measure description=%{customdata[0]}<extra></extra>\", \"locationmode\": \"country names\", \"locations\": [\"Guatemala\", \"Guatemala\"], \"name\": \"17247807\", \"showlegend\": true, \"showscale\": false, \"type\": \"choropleth\", \"z\": [1, 1]}, {\"colorscale\": [[0.0, \"#636efa\"], [1.0, \"#636efa\"]], \"customdata\": [[\"The States of Guernsey has set up a Hardship Fund to provide emergency support for people in immediate financial need who may not otherwise qualify for unemployment benefit, sickness benefit or income support. Payments are for essential items such as food, toiletries, cleaning products, etc. The Hardship Fund does not cover rent or mortgage interest payments. The weekly rates payable are:\\n-\\t\\u00a3100 for the first adult in the household\\n-\\t\\u00a380 for the second adult in the household\\n-\\t\\u00a355 per child in the household \"]], \"geo\": \"geo\", \"hovertemplate\": \"population=\\u00a063,196.<br>Countries=%{location}<br>CT measure description=%{customdata[0]}<extra></extra>\", \"locationmode\": \"country names\", \"locations\": [\"Guernsey\"], \"name\": \"\\u00a063,196.\", \"showlegend\": true, \"showscale\": false, \"type\": \"choropleth\", \"z\": [1]}, {\"colorscale\": [[0.0, \"#EF553B\"], [1.0, \"#EF553B\"]], \"customdata\": [[\"ANIES also has introduced a new cash transfers program of 250.000GNF per month for 240,000 households (1.6 million people) in various parts of Guinea including Conakry. The program take place from June to December 2020\"]], \"geo\": \"geo\", \"hovertemplate\": \"population=12414318<br>Countries=%{location}<br>CT measure description=%{customdata[0]}<extra></extra>\", \"locationmode\": \"country names\", \"locations\": [\"Guinea\"], \"name\": \"12414318\", \"showlegend\": true, \"showscale\": false, \"type\": \"choropleth\", \"z\": [1]}, {\"colorscale\": [[0.0, \"#00cc96\"], [1.0, \"#00cc96\"]], \"customdata\": [[\"The government announced a one-off cash transfer to 1.5 million vulnerable families\"]], \"geo\": \"geo\", \"hovertemplate\": \"population=11123176<br>Countries=%{location}<br>CT measure description=%{customdata[0]}<extra></extra>\", \"locationmode\": \"country names\", \"locations\": [\"Haiti\"], \"name\": \"11123176\", \"showlegend\": true, \"showscale\": false, \"type\": \"choropleth\", \"z\": [1]}, {\"colorscale\": [[0.0, \"#ab63fa\"], [1.0, \"#ab63fa\"]], \"customdata\": [[\"The government is implementing an emergency cash transfer program focused on self-employed and informal workers receiving government support under the Covid-19 crisis. The program will benefit around 500,000 people, who are all new beneficiaries\"]], \"geo\": \"geo\", \"hovertemplate\": \"population=9587522<br>Countries=%{location}<br>CT measure description=%{customdata[0]}<extra></extra>\", \"locationmode\": \"country names\", \"locations\": [\"Honduras\"], \"name\": \"9587522\", \"showlegend\": true, \"showscale\": false, \"type\": \"choropleth\", \"z\": [1]}, {\"colorscale\": [[0.0, \"#FFA15A\"], [1.0, \"#FFA15A\"]], \"customdata\": [[\"An extra 1-month allowance is planned for CSSA payment, Old Age Allowance, Old Age Living Allowance, or Disability Allowance. Similar arrangements will apply to the Work Incentive Transport Subsidy \"]], \"geo\": \"geo\", \"hovertemplate\": \"population=7451000<br>Countries=%{location}<br>CT measure description=%{customdata[0]}<extra></extra>\", \"locationmode\": \"country names\", \"locations\": [\"Hong-Kong\"], \"name\": \"7451000\", \"showlegend\": true, \"showscale\": false, \"type\": \"choropleth\", \"z\": [1]}, {\"colorscale\": [[0.0, \"#19d3f3\"], [1.0, \"#19d3f3\"]], \"customdata\": [[\"Tentative plans are underway to stimulate private consumption via tax reduction or increased benefits .\"], [\"Families with children under the age of 18 will receive a one-time child benefit payment on June 1, 2020 of ISK 20,000 (US$ 140) or ISK 40,000 (US$ 285) per child, depending on their income\"]], \"geo\": \"geo\", \"hovertemplate\": \"population=352721<br>Countries=%{location}<br>CT measure description=%{customdata[0]}<extra></extra>\", \"locationmode\": \"country names\", \"locations\": [\"Iceland\", \"Iceland\"], \"name\": \"352721\", \"showlegend\": true, \"showscale\": false, \"type\": \"choropleth\", \"z\": [1, 1]}, {\"colorscale\": [[0.0, \"#FF6692\"], [1.0, \"#FF6692\"]], \"customdata\": [[\"Cash transfers of Rs 500 ($6.5) for 3 months from April to June to 200M women with a Pradhan Mantri Jan Dhan Yojana (PMJDY) (financial inclusion) account\"], [\"\\u2022\\tThe Government of Bihar has decided to transfer funds from the Chief Minister Relief Fund at the rate of Rs.1000 / - per family to the bank account of the labourers and needy persons residing in other states stranded due to lockdown. This scheme is only for those who are in residents of Bihar a and are stranded in other states due to the lockdown announced due to corona virus. The Bihar government has transferred money to 10.11 lakh workers, of the total applications from over 13 lakh registered workers \"], [\"87 million farmers who are beneficiaries of the Pradhan Mantri Kisan Samman Nidhi (PM-Kisan) program will receive a top up of Rs2000 (US$ 26.50) for 3 month\"], [\"The state of Uttar Pradesh transferred Rs 611 crore ($80M) in cash transfers directly to 27.5M workers of the Mahatma Gandhi National Rural Employment Guarantee Scheme\"], [\"The state of Uttar Pradesh will provide compensation to poor workers via online payments if they lost their job due to the pandemic. Vegetable vendors, construction workers, rickshaw pullers, autorickshaw drivers, and temporary staff at shops will be targeted by this measure . \"]], \"geo\": \"geo\", \"hovertemplate\": \"population=1352617328<br>Countries=%{location}<br>CT measure description=%{customdata[0]}<extra></extra>\", \"locationmode\": \"country names\", \"locations\": [\"India\", \"India\", \"India\", \"India\", \"India\"], \"name\": \"1352617328\", \"showlegend\": true, \"showscale\": false, \"type\": \"choropleth\", \"z\": [1, 1, 1, 1, 1]}, {\"colorscale\": [[0.0, \"#B6E880\"], [1.0, \"#B6E880\"]], \"customdata\": [[\"The second new unconditional cash transfer program (BLT Dana Desa) is introduced for village residents, who have been negative affected but have not registered in the social registry and are not recipients of PKH/Food Assistance Program/BST. This program is funded via Village Fund and will cover approximately 11-12 million households with the benefit of IDR 600,000 per household per month for 3 months, starting in April. \"], [\"The Government also allocates IDR 21 Trillion from Village Fund for social assistance for village residents, targeting approximately 10 million households with the benefit of IDR 600,000 per household per month for the next 3 months. (edit: A new unconditional cash transfer program (BST) is introduced for eligible residents outside the Greater Jakarta region who have already registered in the social registry but are not recipients of PKH or the Food Assistance Program. Approximately 9 million households will each receive IDR 600,000 (US$ 40) per month for 3 months, starting in April)\"], [\"Indonesia\\u2019s flagship CCT program, Program Keluarga Harapan (PKH), will expand the program coverage from 9.2 to 10 million beneficiary families (or 15 percent of the population) and double the benefit level for 3 months (April, May, and June). The PKH program budget has been increased by nearly 29% to reach IDR 37.4 trillion (US$2.5 billion). Furthermore, benefit payments have become monthly instead of quarterly. \"]], \"geo\": \"geo\", \"hovertemplate\": \"population=267663435<br>Countries=%{location}<br>CT measure description=%{customdata[0]}<extra></extra>\", \"locationmode\": \"country names\", \"locations\": [\"Indonesia\", \"Indonesia\", \"Indonesia\"], \"name\": \"267663435\", \"showlegend\": true, \"showscale\": false, \"type\": \"choropleth\", \"z\": [1, 1, 1]}, {\"colorscale\": [[0.0, \"#FF97FF\"], [1.0, \"#FF97FF\"]], \"customdata\": [[\"The government has also announced loans and amenities to the 4 million low-income families whose livelihoods have been affected by the outbreak of Covid-19 (approximately 500 million US$); cash transfers to households (approximately 1.3 billion USD); and loans to 23 million households which receive cash subsidies.\"], [\"Iran is planning to support around 3 million lower-income families with no permanent jobs with cash transfers up to 6 million rails (around $400) in 4 stages .\"]], \"geo\": \"geo\", \"hovertemplate\": \"population=81800269<br>Countries=%{location}<br>CT measure description=%{customdata[0]}<extra></extra>\", \"locationmode\": \"country names\", \"locations\": [\"Iran\", \"Iran\"], \"name\": \"81800269\", \"showlegend\": true, \"showscale\": false, \"type\": \"choropleth\", \"z\": [1, 1]}, {\"colorscale\": [[0.0, \"#FECB52\"], [1.0, \"#FECB52\"]], \"customdata\": [[\"The Supreme Committee for National Health and Safety, in collaboration with the Ministry of Labour and Social Affairs (MoLSA), launched an assistance package of 30,000 IQD (US$ 253) per person. This program, called Minha, aims to support the most vulnerable people who have been impacted by the COVID-19 curfew and lockdown measures. In order to be eligible, Iraqis had to self-register by April 16th using a newly launched website. By the deadline, approximately 2.5 million people self-registered\"]], \"geo\": \"geo\", \"hovertemplate\": \"population=38433600<br>Countries=%{location}<br>CT measure description=%{customdata[0]}<extra></extra>\", \"locationmode\": \"country names\", \"locations\": [\"Iraq\"], \"name\": \"38433600\", \"showlegend\": true, \"showscale\": false, \"type\": \"choropleth\", \"z\": [1]}, {\"colorscale\": [[0.0, \"#636efa\"], [1.0, \"#636efa\"]], \"customdata\": [[\"A benefit of \\u20ac350 (US$ 385) per week will be paid to the unemployed (self-employed or employees) for the duration of the crisis. It is designed to provide income security for a period during which the unemployed can apply for a full Jobseekers payment. Non-EU/EEA migrant workers are also eligible for this program.\"]], \"geo\": \"geo\", \"hovertemplate\": \"population=4867309<br>Countries=%{location}<br>CT measure description=%{customdata[0]}<extra></extra>\", \"locationmode\": \"country names\", \"locations\": [\"Ireland\"], \"name\": \"4867309\", \"showlegend\": true, \"showscale\": false, \"type\": \"choropleth\", \"z\": [1]}, {\"colorscale\": [[0.0, \"#EF553B\"], [1.0, \"#EF553B\"]], \"customdata\": [[\"The Decreto di Rilancio - \\u201cRelaunch decree\\u201d  - a stimulus package of \\u20ac55B signed on May 19, 2020\\u2013 suspends all conditionalities related to the Guaranteed Minimum Income program, or Reddito di Cittadinanza (RdC), for two additional months, until July 2020, with the exception of accepting an adequate job offer in the municipality of residence. The rationale is the minimization of movement of beneficiaries to social services or to public employment services, where they are expected to sign a social inclusion pact or a labor pact. A separate note stressed the importance of ensuring continuity of social services during the emergency, with a focus on protecting social workers and beneficiaries from contagion, promoting the use of telephone and technology to maintain contact with families, and paying special attention to situation of vulnerability for women and minors. Existing resources aimed at strengthening services for RdC can be reoriented towards activities most needed in response to the pandemic\"], [\"The Relaunch decree announced a temporary means tested cash transfer, Reddito di Emergenza, Emergency Income, for those vulnerable households not protected by any other social assistance measure. The benefit lasts for two months and the amount varies between \\u20ac400 to \\u20ac800 per month, depending on the equivalence scale. Applications are open till the end of June and payments will be disbursed during the months of July and August. The total available budget for the measure amounts to \\u20ac954.6 million.\"], [\"Workers with income less than \\u20ac40,000 (US$ 44,000) per year are entitled to a nontaxable, one-off benefit of \\u20ac100 (US$ 110) for March 2020 if their job required the worker to go to the regular workplace. Workers who carried out their job remotely are not entitled to the bonus.\"], [\"The Relaunch Decree extends the one-off \\u20ac600 (US$ 660) bonus to self-employed and professional workers, including agricultural, tourism, cultural sector workers by one additional month for April 2020. In May the bonus increases to \\u20ac1,000 for those self-professional workers who can demonstrate a 30% reduction in income during March-April with respect to the same period of last year\"]], \"geo\": \"geo\", \"hovertemplate\": \"population=60421760<br>Countries=%{location}<br>CT measure description=%{customdata[0]}<extra></extra>\", \"locationmode\": \"country names\", \"locations\": [\"Italy\", \"Italy\", \"Italy\", \"Italy\"], \"name\": \"60421760\", \"showlegend\": true, \"showscale\": false, \"type\": \"choropleth\", \"z\": [1, 1, 1, 1]}, {\"colorscale\": [[0.0, \"#00cc96\"], [1.0, \"#00cc96\"]], \"customdata\": [[\"PATH payments will be paid earlier than scheduled. \"], [\"PATH families with children enrolled in primary and secondary schools are receiving a top-up of J$150 per day while children in ECD are receiving J$100 per day for school feeding while school is closed. A total or 23 school days were paid for this benefit in May.\"], [\"Under Government\\u2019s COVID Allocation of Resources for Employees (CARE) Program, a direct transfer will be made to workers who lost their jobs (details to be announced). Supporting Employees with Transfer of Cash (SET Cash ) \\u2013 which will provide temporary cash transfer to individuals where it can be verified that they lost their employment since March 10, (the date of the first COVID19 case in Jamaica). Individuals who apply and qualify will receive J$9,000 (US$63) per fortnight, paid monthly from the month of their application through to June 2020\"], [\"Persons enrolled in PATH will receive a \\u2018COVID-19 PATH grant\\u2019 which will add another payment for the April-June payment period under the CARE program. PATH beneficiaries will therefore receive three payments instead of two payments for this payment period\"], [\"\\u2018COVID General Grant\\u2019 under the CARE program will provide one-time grants to different categories of small businesses and self-employed persons, including (i) J$25,000 (US$174) to barbers, hairdressers, beauty therapists, cosmetologists, market vendors, taxi and bus operators (who are registered with a Municipal or Transport Authority by April 30, 2020; (ii) J$40,000 (US$279) to bar and night club operators registered with a Municipal Authority by April 30, 2020; and (iii) J$40,000 (US$279) to craft vendors, and transport operators registered with the Tourism Product Development Company by April 30, 2020.\"], [\"The CARE program\\u2019s Compassionate Grant of J$10,000 (US$70) is available to anyone in need (e.g. tertiary students, unemployed, informally employed, elderly, pensioners, etc.) who completes the required application form, is not formally employed, has not received, and does not intend to apply\"], [\"for any other cash benefit under the CARE Programme, with the exception of the Covid-19 PATH Grant. Persons must possess a valid taxpayer registration number and not be in formal employment. Aa of May 6, 2020 - 250,000 applicants were eligible and scheduled to receive payment.\"]], \"geo\": \"geo\", \"hovertemplate\": \"population=2934855<br>Countries=%{location}<br>CT measure description=%{customdata[0]}<extra></extra>\", \"locationmode\": \"country names\", \"locations\": [\"Jamaica\", \"Jamaica\", \"Jamaica\", \"Jamaica\", \"Jamaica\", \"Jamaica\", \"Jamaica\"], \"name\": \"2934855\", \"showlegend\": true, \"showscale\": false, \"type\": \"choropleth\", \"z\": [1, 1, 1, 1, 1, 1, 1]}, {\"colorscale\": [[0.0, \"#ab63fa\"], [1.0, \"#ab63fa\"]], \"customdata\": [[\"Japan\\u2019s planned spending package of up to 20 trillion yen ($190 billion) includes: \\n- unconditional cash disbursement for all individual residents with a registered residence, including expat workers\"]], \"geo\": \"geo\", \"hovertemplate\": \"population=126529100<br>Countries=%{location}<br>CT measure description=%{customdata[0]}<extra></extra>\", \"locationmode\": \"country names\", \"locations\": [\"Japan\"], \"name\": \"126529100\", \"showlegend\": true, \"showscale\": false, \"type\": \"choropleth\", \"z\": [1]}, {\"colorscale\": [[0.0, \"#FFA15A\"], [1.0, \"#FFA15A\"]], \"customdata\": [[\"Due to the curfew, the government will deliver cash to the houses of all the current beneficiaries of the National Aid Fund (NAF) monthly cash transfer and quarterly Takaful programs for March 2020 [around 145,000 households]. \\n\\nNAF started the registration of the Bread Subsidy Cash Compensation Program, which targets up to 80% of the population with a small amount of money annually. Payments will occur over April-November 2020. Registration is using the same form for the Takaful Program.\"], [\"The government announced a program to provide cash support to poor and vulnerable households affected by COVID-19. The Program will provide: (i) temporary (6 month) CTs to 200,000 vulnerable households; and temporary (6 month) benefit top-ups for NAF beneficiaries whose benefits are below a certain threshold. The number of households benefiting from the Program will be about 293,000.  The Program will add about 210,000 household to the existing caseload of NAF (146,000). The set benefit for this program is JOD136 (US$ 193) for households of 3 members and more and JOD 70 (US$ 99) for households of two members.  \"]], \"geo\": \"geo\", \"hovertemplate\": \"population=9956011<br>Countries=%{location}<br>CT measure description=%{customdata[0]}<extra></extra>\", \"locationmode\": \"country names\", \"locations\": [\"Jordan\", \"Jordan\"], \"name\": \"9956011\", \"showlegend\": true, \"showscale\": false, \"type\": \"choropleth\", \"z\": [1, 1]}, {\"colorscale\": [[0.0, \"#19d3f3\"], [1.0, \"#19d3f3\"]], \"customdata\": [[\"During the state of emergency one minimum monthly wage (KZT42,500) is paid to citizens who had lost their income because of the state of emergency. Approx. 3 mln citizens could expect this compensation\"]], \"geo\": \"geo\", \"hovertemplate\": \"population=18272430<br>Countries=%{location}<br>CT measure description=%{customdata[0]}<extra></extra>\", \"locationmode\": \"country names\", \"locations\": [\"Kazakhstan\"], \"name\": \"18272430\", \"showlegend\": true, \"showscale\": false, \"type\": \"choropleth\", \"z\": [1]}, {\"colorscale\": [[0.0, \"#FF6692\"], [1.0, \"#FF6692\"]], \"customdata\": [[\"1,094,238 Inua Jamii beneficiaries will start receiving Ksh8,000 (US$ 80) each from the state to cushion them against the effects of the coronavirus. At the queue at the payment centers, the beneficiaries will be required to maintain 1.5 meters of social distance\"], [\"The National Treasury appropriated an additional Ksh10B (equivalent to US$ 100M) for supporting the elderly, orphans and other vulnerable members with cash transfers.\"], [\"3,000,000 new households\\u2019 beneficiaries will be added under NSNP/KSEIP\"]], \"geo\": \"geo\", \"hovertemplate\": \"population=51393010<br>Countries=%{location}<br>CT measure description=%{customdata[0]}<extra></extra>\", \"locationmode\": \"country names\", \"locations\": [\"Kenya\", \"Kenya\", \"Kenya\"], \"name\": \"51393010\", \"showlegend\": true, \"showscale\": false, \"type\": \"choropleth\", \"z\": [1, 1, 1]}, {\"colorscale\": [[0.0, \"#B6E880\"], [1.0, \"#B6E880\"]], \"customdata\": [[\"Early payment of 2 months-worth social assistance benefits. A measure amounting to seven million six hundred fifty thousand (\\u20ac7,650,000.00) Euros Also, early payment of farming grants and subsidies (for 1,702 farmers) is planned.\"], [\"All verification procedures for social assistance (and pensions) benefits are suspended until further notice (beneficiaries are required to visit public offices, etc.). \"], [\"Payment of an additional sum of thirty (\\u20ac30) Euros per month to all beneficiaries of social assistance and pension schemes who receive a monthly payment lower than one-hundred (\\u20ac100) Euros, for April, May and June, provided that they are beneficiaries of only one scheme\"], [\"Payment of monthly assistance in the amount of one hundred and thirty (\\u20ac130) Euros to citizens who lose their jobs due to the public health emergency situation, for April, May and June, amounting up to four million (\\u20ac4,000,000.00) Euros\"]], \"geo\": \"geo\", \"hovertemplate\": \"population=1845300<br>Countries=%{location}<br>CT measure description=%{customdata[0]}<extra></extra>\", \"locationmode\": \"country names\", \"locations\": [\"Kosovo\", \"Kosovo\", \"Kosovo\", \"Kosovo\"], \"name\": \"1845300\", \"showlegend\": true, \"showscale\": false, \"type\": \"choropleth\", \"z\": [1, 1, 1, 1]}, {\"colorscale\": [[0.0, \"#FF97FF\"], [1.0, \"#FF97FF\"]], \"customdata\": [[\"* Automatic extension of the standard one-year enrollment term for beneficiaries of poverty-targeted cash transfer which term was due to finish during the quarantine period. \\n* Low-income families with children do not need to report on their income and visit district social protection offices.\\nCategorical cash transfer to persons with disabilities [children and adults] will be prolonged automatically if their term finishes in time of quarantine\"], [\"Categorical cash transfers to persons with disabilities (children and adults) will be prolonged automatically if their term finishes in time of quarantine.\"]], \"geo\": \"geo\", \"hovertemplate\": \"population=6322800<br>Countries=%{location}<br>CT measure description=%{customdata[0]}<extra></extra>\", \"locationmode\": \"country names\", \"locations\": [\"Kyrgyz Republic\", \"Kyrgyz Republic\"], \"name\": \"6322800\", \"showlegend\": true, \"showscale\": false, \"type\": \"choropleth\", \"z\": [1, 1]}, {\"colorscale\": [[0.0, \"#FECB52\"], [1.0, \"#FECB52\"]], \"customdata\": [[\"Given that Lao PDR lacks a national cash transfer program, Government is planning on rapidly designing and implementing an Emergency Cash Transfer (ECT) programs to support affected people in the contexts of COVID-19. The program design will rely on the existing experience in setting up a nutrition sensitive conditional cash transfer (CCT) program in the north of the country and aims to build on the building blocks that the country has been developing to rapidly register and pay beneficiaries. While the program design is still under discussion, it would target poor and new poor families and informal workers in affected industries such as tourism and manufacturing, and also migrant workers from Thailand and other countries. Approx. 250,000 household beneficiaries (national) will benefit from this program\"]], \"geo\": \"geo\", \"hovertemplate\": \"population=7061507<br>Countries=%{location}<br>CT measure description=%{customdata[0]}<extra></extra>\", \"locationmode\": \"country names\", \"locations\": [\"Lao PDR\"], \"name\": \"7061507\", \"showlegend\": true, \"showscale\": false, \"type\": \"choropleth\", \"z\": [1]}, {\"colorscale\": [[0.0, \"#636efa\"], [1.0, \"#636efa\"]], \"customdata\": [[\"On 26 March 2020, the government announced [1] that it will allocate 75 billion Lebanese pounds (about 5 million US dollars) as a social assistance package to those in need, against the backdrop of measures to tackle the spread of COVID-19. The aid package is a treasury advance to the High Relief Authority to help people suffering from the effects of lockdown measures taken to counter the spread of the emerging Corona virus.\"]], \"geo\": \"geo\", \"hovertemplate\": \"population=6848925<br>Countries=%{location}<br>CT measure description=%{customdata[0]}<extra></extra>\", \"locationmode\": \"country names\", \"locations\": [\"Lebanon\"], \"name\": \"6848925\", \"showlegend\": true, \"showscale\": false, \"type\": \"choropleth\", \"z\": [1]}, {\"colorscale\": [[0.0, \"#EF553B\"], [1.0, \"#EF553B\"]], \"customdata\": [[\"Increase the cash benefit amount for existing beneficiaries, especially child grant support. Identify and add new vulnerable people \\u2013 children, elderly (60-70yrs), people living with disabilities and informal sector operators. . The project is expected to benefit close to 200,000 social grant beneficiaries\"]], \"geo\": \"geo\", \"hovertemplate\": \"population=2108132<br>Countries=%{location}<br>CT measure description=%{customdata[0]}<extra></extra>\", \"locationmode\": \"country names\", \"locations\": [\"Lesotho\"], \"name\": \"2108132\", \"showlegend\": true, \"showscale\": false, \"type\": \"choropleth\", \"z\": [1]}, {\"colorscale\": [[0.0, \"#00cc96\"], [1.0, \"#00cc96\"]], \"customdata\": [[\"For COVID-19 support to vulnerable households, the Government of Liberia plans to use existing Liberia Social Safety Nets Project to provide immediate relief in Greater Monrovia area and scale up cash transfers in the four most food insecure counties. Specifically, the government plans to: \\n\\u2022\\tProvide one-off emergency cash transfers to approximately 25,000 poorest households in Greater Monrovia via mobile money\\n\\u2022\\tScale up the Social Cash Transfer (SCT) program from 3,500 to 15,000 extreme poor households in Liberia\\u2019s four most food insecure counties (Maryland, Grand Kru, River Gee and Bomi) via mobile money \\n\\u2022\\tThe expected beneficiaries of 40,000 families are as follows: 25,000 poorest households in Greater Monrovia (new); 3,500 rural extreme poor households (current); and 11,500 new extreme poor households\"]], \"geo\": \"geo\", \"hovertemplate\": \"population=4818977<br>Countries=%{location}<br>CT measure description=%{customdata[0]}<extra></extra>\", \"locationmode\": \"country names\", \"locations\": [\"Liberia\"], \"name\": \"4818977\", \"showlegend\": true, \"showscale\": false, \"type\": \"choropleth\", \"z\": [1]}, {\"colorscale\": [[0.0, \"#ab63fa\"], [1.0, \"#ab63fa\"]], \"customdata\": [[\"Grant self-employed people with less than 10 employees a non-refundable and non-taxable support of \\u20ac2,500. \"], [\"Grant self-employed people (regardless of the number of their employees) a direct aid in the amount of EUR 3,000, 3,500 or 4,000 depending on the income level of the person concerned.\"]], \"geo\": \"geo\", \"hovertemplate\": \"population=607950<br>Countries=%{location}<br>CT measure description=%{customdata[0]}<extra></extra>\", \"locationmode\": \"country names\", \"locations\": [\"Luxembourg\", \"Luxembourg\"], \"name\": \"607950\", \"showlegend\": true, \"showscale\": false, \"type\": \"choropleth\", \"z\": [1, 1]}, {\"colorscale\": [[0.0, \"#FFA15A\"], [1.0, \"#FFA15A\"]], \"customdata\": [[\"Unconditional cash transfers of 100,000 Ariary to poor and vulnerable households in Antananarivo and Toamasina city. This transfer will be given out to households for the April and May. The program aims to target 150,000 households as first phase (to be revised depending on the evolution of the situation). Total project budget is 10,000,000 US $\"]], \"geo\": \"geo\", \"hovertemplate\": \"population=26262368<br>Countries=%{location}<br>CT measure description=%{customdata[0]}<extra></extra>\", \"locationmode\": \"country names\", \"locations\": [\"Madagascar\"], \"name\": \"26262368\", \"showlegend\": true, \"showscale\": false, \"type\": \"choropleth\", \"z\": [1]}, {\"colorscale\": [[0.0, \"#19d3f3\"], [1.0, \"#19d3f3\"]], \"customdata\": [[\"As part of the government of Malawi\\u2019s National COVID-19 Preparedness and Response Plan, the government has proposed measures to accelerate payment of Social Cash Transfer Program (SCTP) benefits, as follows: in April, SCTP payments will be fast-tracked, with a four-month payment covering up to June delivered in April.\"], [\"The Government is also proposing to provide top-ups to SCTP beneficiaries and increase SCTP coverage in both rural areas (as of June), and increase SCTP coverage in urban areas from April-June\"]], \"geo\": \"geo\", \"hovertemplate\": \"population=18143315<br>Countries=%{location}<br>CT measure description=%{customdata[0]}<extra></extra>\", \"locationmode\": \"country names\", \"locations\": [\"Malawi\", \"Malawi\"], \"name\": \"18143315\", \"showlegend\": true, \"showscale\": false, \"type\": \"choropleth\", \"z\": [1, 1]}, {\"colorscale\": [[0.0, \"#FF6692\"], [1.0, \"#FF6692\"]], \"customdata\": [[\"The Malaysian government has budgeted RM10 billion to provide one-off cash transfer to depending on income level\\n\\u2022\\tRM1600 to 4 million households earning <RM4000/month \\n\\u2022\\tRM1000 to 1.1 million households earning RM4000-8000/month \\n\\u2022\\tRM800 to 3 million single individuals aged 21+ earning <RM2000/month \\n\\u2022\\tRM500 to 400,000  single individuals aged 21+ earning RM2000-4000/month\"], [\"Civil servants will be given a one-off cash transfor of RM500 per person in April 2020. This will benefit 1.5 million workers. Public pensioners will also be given a one-off cash transfer of RM500 per person in April 2020. This will benefit 850,000 pensioners.\"], [\"120,000 e-hailing drivers will be given a one-off cash transfer of RM500 (US$125). The allocation for this transfer is RM60 million. \"], [\"As part of the Bantuan Sara Hidup (BSH) program, the payment of RM200 expected in May 2020 will be anticipated to March 2020. Such payments amount to RM760M and will benefit 3.8M BSH households.   Also, BSH 2020 recipients will receive an additional RM100 as well as RM50 as e-cash, which will be disbursed in May 2020. This will cost RM500M and benefit an additional 5M BSH recipients.  \"], [\"The government will also provide a special monthly critical worker allowance of RM400 (US$96) for medical doctors and other medical personnel, as well as RM200 (US$48) for immigration and related frontline staff until the end of the outbreak.\"], [\"One-off payment of RM600 (US$144) to taxi, tourist and trishaw drivers and tourist guides. \"], [\"A one-off cash transfer of RM200 will be given to all students enrolled in institutes of higher learning in May 2020. This is expected to cost RM270 million\"]], \"geo\": \"geo\", \"hovertemplate\": \"population=31528585<br>Countries=%{location}<br>CT measure description=%{customdata[0]}<extra></extra>\", \"locationmode\": \"country names\", \"locations\": [\"Malaysia\", \"Malaysia\", \"Malaysia\", \"Malaysia\", \"Malaysia\", \"Malaysia\", \"Malaysia\"], \"name\": \"31528585\", \"showlegend\": true, \"showscale\": false, \"type\": \"choropleth\", \"z\": [1, 1, 1, 1, 1, 1, 1]}, {\"colorscale\": [[0.0, \"#B6E880\"], [1.0, \"#B6E880\"]], \"customdata\": [[\"The government is planning COVID-19 related emergency cash transfers to 75,000 households. These are composed of 25,000 households in the capital and largest urban center, Bamako, and 50,000 households in the regional and departmental capitals across the country (targeting a total of 35 urban municipalities).\"]], \"geo\": \"geo\", \"hovertemplate\": \"population=19077690<br>Countries=%{location}<br>CT measure description=%{customdata[0]}<extra></extra>\", \"locationmode\": \"country names\", \"locations\": [\"Mali\"], \"name\": \"19077690\", \"showlegend\": true, \"showscale\": false, \"type\": \"choropleth\", \"z\": [1]}, {\"colorscale\": [[0.0, \"#FF97FF\"], [1.0, \"#FF97FF\"]], \"customdata\": [[\"\\u2022\\tA benefit of \\u20ac800 per month (\\u20ac500 in case of part-timers) to one of the parents (including single parents) who take additional unpaid leave to take care of children whilst schools remain closed, when both parents work in the private sector .\"]], \"geo\": \"geo\", \"hovertemplate\": \"population=484630<br>Countries=%{location}<br>CT measure description=%{customdata[0]}<extra></extra>\", \"locationmode\": \"country names\", \"locations\": [\"Malta\"], \"name\": \"484630\", \"showlegend\": true, \"showscale\": false, \"type\": \"choropleth\", \"z\": [1]}, {\"colorscale\": [[0.0, \"#FECB52\"], [1.0, \"#FECB52\"]], \"customdata\": [[\"The allocation of 5 billion ouguiya to support 30 thousand dependent families by women, the elderly and people with disabilities, most of which are in Nouakchott, with a monthly financial aid for three months.\"]], \"geo\": \"geo\", \"hovertemplate\": \"population=4403319<br>Countries=%{location}<br>CT measure description=%{customdata[0]}<extra></extra>\", \"locationmode\": \"country names\", \"locations\": [\"Mauritania\"], \"name\": \"4403319\", \"showlegend\": true, \"showscale\": false, \"type\": \"choropleth\", \"z\": [1]}, {\"colorscale\": [[0.0, \"#636efa\"], [1.0, \"#636efa\"]], \"customdata\": [[\"Eligible Self-Employed individuals will receive a financial support of\\nRs 5,100 (i.e. 50% of Guaranteed Income) for the period\\n16th March 2020 to 15th April 2020.\\n- Self-employed individuals who are either in business (examples: shops, hawkers, hair dressers, etc.) or are casual workers (examples: masons, plumbers, artists etc.) are eligible under the Scheme\\n- Self-employed individuals in business or self-employed casual workers whose total monthly household income does not exceed Rs 50,000 will be eligible under the Scheme.\"]], \"geo\": \"geo\", \"hovertemplate\": \"population=1265303<br>Countries=%{location}<br>CT measure description=%{customdata[0]}<extra></extra>\", \"locationmode\": \"country names\", \"locations\": [\"Mauritius\"], \"name\": \"1265303\", \"showlegend\": true, \"showscale\": false, \"type\": \"choropleth\", \"z\": [1]}, {\"colorscale\": [[0.0, \"#EF553B\"], [1.0, \"#EF553B\"]], \"customdata\": [[\"Advance of the payment of (non-contributory) disability pensions (payments of for 4 months at once, instead of 2) by four months.\"]], \"geo\": \"geo\", \"hovertemplate\": \"population=126190788<br>Countries=%{location}<br>CT measure description=%{customdata[0]}<extra></extra>\", \"locationmode\": \"country names\", \"locations\": [\"Mexico\"], \"name\": \"126190788\", \"showlegend\": true, \"showscale\": false, \"type\": \"choropleth\", \"z\": [1]}, {\"colorscale\": [[0.0, \"#00cc96\"], [1.0, \"#00cc96\"]], \"customdata\": [[\"\\u2022\\tTemporary increase of social assistance benefit (guaranteed minimum income threshold increased to 1300 lei (US$73.5) from 1107 lei (US$62.6)) per adult equivalent during the emergency period) \"], [\"\\u2022\\tPermanent increase of social assistance benefit for families with children with increased adult equivalency coefficient for children from 50 to 75%.\"]], \"geo\": \"geo\", \"hovertemplate\": \"population=2706049<br>Countries=%{location}<br>CT measure description=%{customdata[0]}<extra></extra>\", \"locationmode\": \"country names\", \"locations\": [\"Moldova\", \"Moldova\"], \"name\": \"2706049\", \"showlegend\": true, \"showscale\": false, \"type\": \"choropleth\", \"z\": [1, 1]}, {\"colorscale\": [[0.0, \"#ab63fa\"], [1.0, \"#ab63fa\"]], \"customdata\": [[\"The \\u2018Child Money\\u2019 monthly allowance, given for a total of 1.14 million children in Mongolia, will be raised to MNT 100,000 (about $32.80) until October 1 (6 months), 2020. As the previously increased MNT 30,000 from initial MNT 10,000 within the framework of the government\\u2019s first package of measures, was already granted to children in April 2020, the leftover amount MNT 70,000 will be compensated in the coming days\"]], \"geo\": \"geo\", \"hovertemplate\": \"population=3170208<br>Countries=%{location}<br>CT measure description=%{customdata[0]}<extra></extra>\", \"locationmode\": \"country names\", \"locations\": [\"Mongolia\"], \"name\": \"3170208\", \"showlegend\": true, \"showscale\": false, \"type\": \"choropleth\", \"z\": [1]}, {\"colorscale\": [[0.0, \"#FFA15A\"], [1.0, \"#FFA15A\"]], \"customdata\": [[\"Nearly 11,900 pensioners receiving the lowest pension and 8,500 beneficiaries of family allowance (social assistance as per the Law on Social and Child Protection) will receive a one-off amount of Euro50. For this purpose, the Government has committed Eur 1M. Payments are processed through the Post office and home deliveries, to enforce social distancing .\"], [\"Support to Agro budget through: one-off assistance to commercial fishermen; payment of contributions to insured persons on the basis of agriculture; one-off support for benefits for the elderly; support for the purchase of local products; support for payment of products to domestic producers within 15 days; favourable loans for the purchase of working capital and payment of interest to the beneficiaries of these loans in the grace period; prepayment of 80% of individual premiums\"], [\"The Government will provide one-off assistance in the amount of EUR 50 to all unemployed persons on the records of the Employment Agency of Montenegro, who do not receive any social transfers\"]], \"geo\": \"geo\", \"hovertemplate\": \"population=622227<br>Countries=%{location}<br>CT measure description=%{customdata[0]}<extra></extra>\", \"locationmode\": \"country names\", \"locations\": [\"Montenegro\", \"Montenegro\", \"Montenegro\"], \"name\": \"622227\", \"showlegend\": true, \"showscale\": false, \"type\": \"choropleth\", \"z\": [1, 1, 1]}, {\"colorscale\": [[0.0, \"#19d3f3\"], [1.0, \"#19d3f3\"]], \"customdata\": [[\"A three-month temporary transfer of  EC$900  (US$333) a month (food package and cash support) to persons who do not have any work and unable to access other Social Security benefits and other financial support\"]], \"geo\": \"geo\", \"hovertemplate\": \"population=4992<br>Countries=%{location}<br>CT measure description=%{customdata[0]}<extra></extra>\", \"locationmode\": \"country names\", \"locations\": [\"Montserrat (UK)\"], \"name\": \"4992\", \"showlegend\": true, \"showscale\": false, \"type\": \"choropleth\", \"z\": [1]}, {\"colorscale\": [[0.0, \"#FF6692\"], [1.0, \"#FF6692\"]], \"customdata\": [[\"The Economic Watch Committee (Comit\\u00e9 de veille \\u00e9conomique (CVE) members decided to activate a mobile payment device to transfer cash to workers operating in the informal sector adversely affected by COVID-19 (only for those who have been directly affected by the GoM compulsory confinement policy). . \\nThe electronic cash transfer program will reach half of the informal sector workers (estimated 3 million workers to receive payment). Registration has started on March 30, 2020 and the first payments are due to start of Monday April 6th.  The speed and scale is facilitated by the use of a health insurance fee waiver registry in the first phase and a simple payment mechanism. \\nThe program will be served by the Coronavirus fund created by King Mohammed VI, determined as follows:\\n-\\t800 dirhams per month for households of two people or less;\\n-\\t1,000 dirhams per month for households of three to four people;\\n-\\t1,200 dirhams per month for households of more than four people.\"]], \"geo\": \"geo\", \"hovertemplate\": \"population=36029138<br>Countries=%{location}<br>CT measure description=%{customdata[0]}<extra></extra>\", \"locationmode\": \"country names\", \"locations\": [\"Morocco\"], \"name\": \"36029138\", \"showlegend\": true, \"showscale\": false, \"type\": \"choropleth\", \"z\": [1]}, {\"colorscale\": [[0.0, \"#B6E880\"], [1.0, \"#B6E880\"]], \"customdata\": [[\"Cash Transfer -. Myanmar government has launched the COVID-19 Economic Relief Plan (CERP) on April 27. The cost of all action plans in CERP is estimated to be around $2 billion.\\n\\u2022\\tSPJ related cost is estimated around $ 200 million with a focus on cash transfers to most vulnerable and affected workers and households and it aims to reach around 5 million households. \\n\"], [\"Beneficiaries of the Maternal and Child Cash Transfer Programme (supporting mothers of children under the age of two, pregnant women) will receive a one-off MMK30,000 cash payment (in addition to the existing monthly payment of MMK15,000). Total budget is USD4.93m benefiting 241,425 households \"]], \"geo\": \"geo\", \"hovertemplate\": \"population=53708395<br>Countries=%{location}<br>CT measure description=%{customdata[0]}<extra></extra>\", \"locationmode\": \"country names\", \"locations\": [\"Myanmar\", \"Myanmar\"], \"name\": \"53708395\", \"showlegend\": true, \"showscale\": false, \"type\": \"choropleth\", \"z\": [1, 1]}, {\"colorscale\": [[0.0, \"#FF97FF\"], [1.0, \"#FF97FF\"]], \"customdata\": [[\"To support the households cope with reduced income, increased health related spending and other hardships due to the virus outbreak, the following measure has been proposed: \\n\\n\\uf02d\\tAn Emergency Income Grant, to support those employees who have lost their jobs due to the pandemic and its fallout. This is a once-off payment of N$750 to people who have lost their jobs, either in the informal or in the formal sector, essentially to stave off the vulnerabilities which arise. Applications may be made by Namibians citizens between 18 and 60 years of age who have lost their jobs and not receiving any other social grants. \\n\\uf02d\\tPayment will be made by Government in collaboration with the Social Security Commission within 7 days utilising the banking sector\\u2019s ATM infrastructure. The total amount for this measure is costed at a maximum of N$562.00 million, based on the national poverty line of about N$250.00 per person per week\"]], \"geo\": \"geo\", \"hovertemplate\": \"population=2448255<br>Countries=%{location}<br>CT measure description=%{customdata[0]}<extra></extra>\", \"locationmode\": \"country names\", \"locations\": [\"Namibia\"], \"name\": \"2448255\", \"showlegend\": true, \"showscale\": false, \"type\": \"choropleth\", \"z\": [1]}, {\"colorscale\": [[0.0, \"#FECB52\"], [1.0, \"#FECB52\"]], \"customdata\": [[\"The government announced a three-month provision for self-employed persons with financial problems.  Implemented by municipalities, it can be applied for in the form of an additional allowance for living expenses and/or operating capital. Depending on household income and composition, the living expenses allowance will top up the income to a maximum of the guaranteed minimum income and does not have to be repaid. To avoid delays in the payment of the allowance, the income of a partner or the assets of the self-employed person will not be taken into account. Support for operating capital will take place in the form of a loan at a reduced interest rate according to the Social Assistance (Self-Employed Persons) Decree (Besluit bijstandverlening zelfstandigen).\"]], \"geo\": \"geo\", \"hovertemplate\": \"population=17231624<br>Countries=%{location}<br>CT measure description=%{customdata[0]}<extra></extra>\", \"locationmode\": \"country names\", \"locations\": [\"Netherlands\"], \"name\": \"17231624\", \"showlegend\": true, \"showscale\": false, \"type\": \"choropleth\", \"z\": [1]}, {\"colorscale\": [[0.0, \"#636efa\"], [1.0, \"#636efa\"]], \"customdata\": [[\"New Zealand's government has announced a total of $2.8 billion for income support for the most vulnerable, including a permanent $25 per week benefit increase and a doubling of the Winter Energy Payment for 2020\"]], \"geo\": \"geo\", \"hovertemplate\": \"population=4841000<br>Countries=%{location}<br>CT measure description=%{customdata[0]}<extra></extra>\", \"locationmode\": \"country names\", \"locations\": [\"New Zealand\"], \"name\": \"4841000\", \"showlegend\": true, \"showscale\": false, \"type\": \"choropleth\", \"z\": [1]}, {\"colorscale\": [[0.0, \"#EF553B\"], [1.0, \"#EF553B\"]], \"customdata\": [[\"As a part of its response to the COVID-19 crisis, the Government has already adopted the emergency cash transfer program for poor, vulnerable households, and households with members working in the informal sector particularly affected by the pandemics, based on one off payment, and its implementation in starting in June, with the payments in July/August 2020\"]], \"geo\": \"geo\", \"hovertemplate\": \"population=22442948<br>Countries=%{location}<br>CT measure description=%{customdata[0]}<extra></extra>\", \"locationmode\": \"country names\", \"locations\": [\"Niger\"], \"name\": \"22442948\", \"showlegend\": true, \"showscale\": false, \"type\": \"choropleth\", \"z\": [1]}, {\"colorscale\": [[0.0, \"#00cc96\"], [1.0, \"#00cc96\"]], \"customdata\": [[\"In response to the COVID-19 shock, horizontal and vertical expansion will be adapted for quick scale-up of support using the existing National Social Safety Nets Project (NASSP) platform for existing chronic poor as well as transient poor (vulnerable households and individual to be affected by COVID-19 crisis).  The National Social Register (NSR) currently contains data of over 2.6 million poor and vulnerable households (11 million individuals) across 34 States and the federal capital territory. With the accelerated registration and rapid expansion, it is expected that the NSR will grow to total of 4 million poor and vulnerable households across all the states. Currently, there is a National Beneficiary Register (NBR) with a total of 1,028,416 poor and vulnerable households targeted for CCT support across 32 states. These are HHs registered in the NSR ranked from the 6th poverty decile and below. The government has made the decision to pay this category of HHs an advance payment of 20,000 naira (approximately US$ 52) each as bulk for that monthly payments for 4 months. Based on the current status of the NSR and the potential expansion, it is estimated that up to 3 million poor and vulnerable households may be enrolled under the NASSP CCT eligibility criteria and will be eligible for continued support (regular support + additional emergency relief fund); while it is estimated that 1 million will benefit from the COVID \\u2013 19 emergency relief fund.\"]], \"geo\": \"geo\", \"hovertemplate\": \"population=195874740<br>Countries=%{location}<br>CT measure description=%{customdata[0]}<extra></extra>\", \"locationmode\": \"country names\", \"locations\": [\"Nigeria\"], \"name\": \"195874740\", \"showlegend\": true, \"showscale\": false, \"type\": \"choropleth\", \"z\": [1]}, {\"colorscale\": [[0.0, \"#ab63fa\"], [1.0, \"#ab63fa\"]], \"customdata\": [[\"For those who were out of work or part of the informal economy, we provide quick access to the social protection system for April and May. They will receive an average of 7,000 denars (US$124) per household. The estimated coverage of the new measures amounts to about 20,000 new households from the informal economy and 30,000 existing beneficiaries\"]], \"geo\": \"geo\", \"hovertemplate\": \"population=2082958<br>Countries=%{location}<br>CT measure description=%{customdata[0]}<extra></extra>\", \"locationmode\": \"country names\", \"locations\": [\"North Macedonia\"], \"name\": \"2082958\", \"showlegend\": true, \"showscale\": false, \"type\": \"choropleth\", \"z\": [1]}, {\"colorscale\": [[0.0, \"#FFA15A\"], [1.0, \"#FFA15A\"]], \"customdata\": [[\"Taxpayers in the Northern Mariana Islands will be eligible for the tax rebates provided to U.S. citizens under the CARES Act. These refunds are valued at up to US$ 1,200 for individual filers and US$ 2,400 for joint filers, plus an additional US$ 500 per child\"]], \"geo\": \"geo\", \"hovertemplate\": \"population=56882<br>Countries=%{location}<br>CT measure description=%{customdata[0]}<extra></extra>\", \"locationmode\": \"country names\", \"locations\": [\"Northern Mariana Islands\"], \"name\": \"56882\", \"showlegend\": true, \"showscale\": false, \"type\": \"choropleth\", \"z\": [1]}, {\"colorscale\": [[0.0, \"#19d3f3\"], [1.0, \"#19d3f3\"]], \"customdata\": [[\"Launch of \\u201cEhsaas Emergency Cash Programme\\u201d providing Rs12,000/family and benefit 67 million individuals (10 million families). There are three categories of beneficiaries: 4.5 million existing \\u201cEhsaas Kafaalat\\u201d beneficiaries (all women) already getting Rs.2000 will get extra Rs.1000 emergency relief (total=Rs.3000) for the next 4 months; 3M affected households will be identified through the national socioeconomic database (eligibility threshold will be relaxed upwards); and those with income below Rs20,000. An SMS campaign will be launched to inform about the program. \"]], \"geo\": \"geo\", \"hovertemplate\": \"population=212215030<br>Countries=%{location}<br>CT measure description=%{customdata[0]}<extra></extra>\", \"locationmode\": \"country names\", \"locations\": [\"Pakistan\"], \"name\": \"212215030\", \"showlegend\": true, \"showscale\": false, \"type\": \"choropleth\", \"z\": [1]}, {\"colorscale\": [[0.0, \"#FF6692\"], [1.0, \"#FF6692\"]], \"customdata\": [[\"The Government of Panama estimates that it will benefit to disburse an amount of 6.7 million dollars to support the most vulnerable families in the territory throughout the country.\"]], \"geo\": \"geo\", \"hovertemplate\": \"population=4176873<br>Countries=%{location}<br>CT measure description=%{customdata[0]}<extra></extra>\", \"locationmode\": \"country names\", \"locations\": [\"Panama\"], \"name\": \"4176873\", \"showlegend\": true, \"showscale\": false, \"type\": \"choropleth\", \"z\": [1]}, {\"colorscale\": [[0.0, \"#B6E880\"], [1.0, \"#B6E880\"]], \"customdata\": [[\"Creation of the \\u00d1angareko food security program, for 330,000 families with a\\ncash transfer of Gs. $230,000 (US$36) via electronic wallet to purchase food and hygiene products.\"], [\"An advance payment is set for Senior Citizen Program (del Programa de Adultos Mayores) for 207,000 people.\"], [\"Additional transfers are planned for the Tekopor\\u00e1 social protection program for 167,000 families.\\n\\n\"], [\"Authorities are planning a subsidy of 25% of the current legal minimum wage to self-employed workers or dependents of MSMEs to 3 million individual recipients (Pytyvo program)\"]], \"geo\": \"geo\", \"hovertemplate\": \"population=6956071<br>Countries=%{location}<br>CT measure description=%{customdata[0]}<extra></extra>\", \"locationmode\": \"country names\", \"locations\": [\"Paraguay\", \"Paraguay\", \"Paraguay\", \"Paraguay\"], \"name\": \"6956071\", \"showlegend\": true, \"showscale\": false, \"type\": \"choropleth\", \"z\": [1, 1, 1, 1]}, {\"colorscale\": [[0.0, \"#FF97FF\"], [1.0, \"#FF97FF\"]], \"customdata\": [[\"On 16 March 2020, the Peruvian Council of Ministers approved an exceptional payment of about $107 for each vulnerable family to be affected during the 15-day quarantine period (9M vulnerable people). \"], [\"Bono Trabajador Independiente.  This grant targets 800,000 self-employed households at risk due to the pandemic. The transfer is divided into two installments of S / 380 each, that is, a total of S / 760 is being delivered to each beneficiary.\"], [\"The government launched a subsidy of nearly $100 to 3M million poor households to stay home (\\u201cI will stay at home\\\" program)\"], [\"Advanced monthly payment of the money transfer programs (Juntos, Pensi\\u00f3n 65 and Contigo)\"], [\"The S / 760 grant is aimed at those households whose members do not receive any income during the state of emergency. The Government announced that this measure would benefit 75% of the country's households, that is, about 6.8 million families.\"]], \"geo\": \"geo\", \"hovertemplate\": \"population=31989256<br>Countries=%{location}<br>CT measure description=%{customdata[0]}<extra></extra>\", \"locationmode\": \"country names\", \"locations\": [\"Peru\", \"Peru\", \"Peru\", \"Peru\", \"Peru\"], \"name\": \"31989256\", \"showlegend\": true, \"showscale\": false, \"type\": \"choropleth\", \"z\": [1, 1, 1, 1, 1]}, {\"colorscale\": [[0.0, \"#FECB52\"], [1.0, \"#FECB52\"]], \"customdata\": [[\"Under the Emergency Subsidy Program, the government will provide 18M people (low-income families and households working in the informal economy) with P5,000-P8,000 a month for two months (depending on the prevailing regional minimum wage and considering the current CCT grants and rice subsidy in the computation of emergency aid). \"], [\"Government provides P100,000 compensation to public and private health workers who contract the disease while in the line of duty. In case of death, their families will receive P1,000,000. \"], [\"Individuals with urgent medical and burial needs can avail of financial assistance from DSWD, through the Assistance to Individuals in Crisis Situation (AICS) program. But the number of beneficiaries to be accepted for processing every day is limited in adherence to social distancing measures\"], [\"Affected workers, regardless of status (i.e. permanent, probationary, or contractual) employed in private establishments whose operations are affected due to the Covid-19 pandemic to receive P5,000 from the Department of Labor and Employment (DOLE)\"], [\"The Overseas Workers Welfare Administration (OWWA) provided cash aid to Overseas Filipino Workers (OFWs) affected by the travel ban due to COVID-19 as well as those who were repatriated\"], [\"The P10,000 cash assistance, drawn from the OWWA Trust Fund of member-OFWs, was given to each stranded OWWA member-OFW. Per instruction of the Department of Labor and Employment to OWWA through a memorandum dated February 3, 2020, the cash assistance was distributed through OWWA regional welfare offices. Such assistance aims to \\u201chelp stranded OFWs ease their burden and assist them back to their places of origin\\u201d during the travel ban. The distribution of cash assistance commenced on February 3 for China, Hong Kong and Macau-bound OFWs; and, February 13 for OFWs going to Taiwan .\"], [\"The flagship 4Ps conditional cash transfer program waived the program conditionalities for the months of February and March, continuing the provision of full cash grants under the period.\"], [\"Affected workers, regardless of status (i.e. permanent, probationary, or contractual) employed in private firms whose operations are affected by the Covid-19 pandemic will receive P5,000 from the Department of Labor and Employment (DOLE)\"]], \"geo\": \"geo\", \"hovertemplate\": \"population=106651922<br>Countries=%{location}<br>CT measure description=%{customdata[0]}<extra></extra>\", \"locationmode\": \"country names\", \"locations\": [\"Philippines\", \"Philippines\", \"Philippines\", \"Philippines\", \"Philippines\", \"Philippines\", \"Philippines\", \"Philippines\"], \"name\": \"106651922\", \"showlegend\": true, \"showscale\": false, \"type\": \"choropleth\", \"z\": [1, 1, 1, 1, 1, 1, 1, 1]}, {\"colorscale\": [[0.0, \"#636efa\"], [1.0, \"#636efa\"]], \"customdata\": [[\"Portugal announced plans on 13 March 2020 to provide financial support for the self-employed in the amount of Euro 438 for 6 months. This is designed for parents with children up to 12 years old, and pays an amount of about 2/3 of the average salary.\"]], \"geo\": \"geo\", \"hovertemplate\": \"population=10283822<br>Countries=%{location}<br>CT measure description=%{customdata[0]}<extra></extra>\", \"locationmode\": \"country names\", \"locations\": [\"Portugal\"], \"name\": \"10283822\", \"showlegend\": true, \"showscale\": false, \"type\": \"choropleth\", \"z\": [1]}, {\"colorscale\": [[0.0, \"#EF553B\"], [1.0, \"#EF553B\"]], \"customdata\": [[\"All social assistance benefits can now be claimed electronically (e-mail, online applications). School attendance conditions have been relaxed. \"], [\"Unemployed workers will receive a special benefit equivalent to 75% of the gross average salary at the national level (RON 5,163 - approx. US$1,180, taxable) . \"]], \"geo\": \"geo\", \"hovertemplate\": \"population=19466145<br>Countries=%{location}<br>CT measure description=%{customdata[0]}<extra></extra>\", \"locationmode\": \"country names\", \"locations\": [\"Romania\", \"Romania\"], \"name\": \"19466145\", \"showlegend\": true, \"showscale\": false, \"type\": \"choropleth\", \"z\": [1, 1]}, {\"colorscale\": [[0.0, \"#00cc96\"], [1.0, \"#00cc96\"]], \"customdata\": [[\"The President Decree of March 20, 2020 introduced new allowances for children from 3 to 7 years will be paid starting from June 2020 for families with per capita income less than the subsistence level (to be continued as long as eligibility criteria are met). The amount of payment is 50% of the subsistence level for a child established by the regional government. The allowance will be set annually. As part of anti-crisis measures it was decided that if a family as of January 1, 2020 had a child aged 3 to 7 years, then the family will receive a lumpsum in June for the first 5 months of 2020. In total, 2 million families will receive a new allowance.  On April, 7, 2020 the new Decree called for acceleration of eligibility determination so that families with children between three and seven years old receive the means-tested monthly family benefits quicker. Almost RUB 105 billion will be earmarked from the Federal budget to this effect, and regional budgets will provide another RUB 31.5 billion. \"], [\"All social benefits and special entitlements over the next six months will be extended automatically, without submitting any additional information and no visits to the offices. On May 11, the President Decree established procedures for on-line applications to the new social assistance benefits via government portals\"], [\"One-off cash transfer of RUB 10000 (US$136) to all children aged 3\\u201315 irrespective of the family income. Entitled are all children who as of July 1 2020 will not have reached 16\"], [\"Additional one-off cash transfer of RUB 10,000 (US$136) to a child under 16 y.o. irrespective of the family income to be paid in July 2020. Entitled are all children born from 05/11/2004 to 06/30/2020. No applications need to be submitted in case parents previously applied for one-off cash transfers for children aged 0-3 and 3-15.\"], [\"In March a Decree stated that starting in April, all families entitled to Maternity Capital (grant) will be paid an additional RUB 5,000 (US$63) a month for each child under the age of three, for the period of 3 months.  The new Decree of April,  7, 2020 established that  In April-June  2020  monthly allowances in the amount of RUB 5000 (US$68) per month  shall also be paid to mothers who gave birth to their  first and only child in the period between April 1 2017 and January 1 2020. These extended the number of beneficiaries of these allowances because these mothers are not entitled to Maternity Capital (mothers of a single child are entitled to MC only if their child was born after January 1 2020. These one off and permanent additional allowances will cover over 27 mln. children in Russia\"], [\"These one off and permanent additional allowances will cover over 27 mln. children in Russia\"]], \"geo\": \"geo\", \"hovertemplate\": \"population=144478050<br>Countries=%{location}<br>CT measure description=%{customdata[0]}<extra></extra>\", \"locationmode\": \"country names\", \"locations\": [\"Russia\", \"Russia\", \"Russia\", \"Russia\", \"Russia\", \"Russia\"], \"name\": \"144478050\", \"showlegend\": true, \"showscale\": false, \"type\": \"choropleth\", \"z\": [1, 1, 1, 1, 1, 1]}, {\"colorscale\": [[0.0, \"#ab63fa\"], [1.0, \"#ab63fa\"]], \"customdata\": [[\"The Government of Rwanda is making following adaptations in the existing cash transfers under the VUP, which will also include expansion in the coverage to additional 56,000 families (over and above the current coverage of 310,000 families):\\n-\\tTemporary waiver of work requirements for public work beneficiaries to ensure continuity of cash transfers while social distancing protocols are in place in the country \\n-\\tExpansion in the coverage of Direct Support unconditional cash transfers to additional families with old age, disability, and critical illness as part of COVID-19 response \\n-\\tVertical expansion of the Nutrition Sensitive Co-responsibility Cash Transfers to include more poorer households in the existing 17 out of 30 districts where the program is currently operational\"]], \"geo\": \"geo\", \"hovertemplate\": \"population=12301939<br>Countries=%{location}<br>CT measure description=%{customdata[0]}<extra></extra>\", \"locationmode\": \"country names\", \"locations\": [\"Rwanda\"], \"name\": \"12301939\", \"showlegend\": true, \"showscale\": false, \"type\": \"choropleth\", \"z\": [1]}, {\"colorscale\": [[0.0, \"#FFA15A\"], [1.0, \"#FFA15A\"]], \"customdata\": [[\"Monthly payment of $500 for 3 months, preconditioned to enrolling in NIC for informal workers not currently contributing to NIC, unemployed or displaced due to COVID19. Estimated cost of $16.8 million EC\"]], \"geo\": \"geo\", \"hovertemplate\": \"population=181889<br>Countries=%{location}<br>CT measure description=%{customdata[0]}<extra></extra>\", \"locationmode\": \"country names\", \"locations\": [\"Saint Lucia\"], \"name\": \"181889\", \"showlegend\": true, \"showscale\": false, \"type\": \"choropleth\", \"z\": [1]}, {\"colorscale\": [[0.0, \"#19d3f3\"], [1.0, \"#19d3f3\"]], \"customdata\": [[\"The S\\u00e3o Tom\\u00e9 government, through the Ministry of Labor and Solidarity, decided to anticipate, as of this Friday, the payment of two bimonths [2,400 Dobras] to the beneficiary mothers of the \\u201cProgram Family as a way to mitigate \\u201dthe negative impacts of the coronavirus pandemic.  The program involves 2600 needy families in the country\"]], \"geo\": \"geo\", \"hovertemplate\": \"population=211028<br>Countries=%{location}<br>CT measure description=%{customdata[0]}<extra></extra>\", \"locationmode\": \"country names\", \"locations\": [\"Sao Tome and Principe\"], \"name\": \"211028\", \"showlegend\": true, \"showscale\": false, \"type\": \"choropleth\", \"z\": [1]}, {\"colorscale\": [[0.0, \"#FF6692\"], [1.0, \"#FF6692\"]], \"customdata\": [[\"For SA beneficiaries whose entitlement to SA benefits expire on March 15, 2020 and later, the government extended their entitlement on the basis of previously issued decisions, for a maximum of three months ( i.e. During a state of emergency) . The decision applies to: \\n-\\tFinancial Social Assistance  \\n-\\tCaregiver Allowance\\n-\\tChild Allowance, \\n-\\tmaternity leave benefit for the purpose of child care.\"]], \"geo\": \"geo\", \"hovertemplate\": \"population=6982604<br>Countries=%{location}<br>CT measure description=%{customdata[0]}<extra></extra>\", \"locationmode\": \"country names\", \"locations\": [\"Serbia\"], \"name\": \"6982604\", \"showlegend\": true, \"showscale\": false, \"type\": \"choropleth\", \"z\": [1]}, {\"colorscale\": [[0.0, \"#B6E880\"], [1.0, \"#B6E880\"]], \"customdata\": [[\"The Government plans to roll out the \\u201cCOVID-19 Social Safety Net (SSN) Cash Transfers\\u201d to vertically and horizontally scale up the Ep Fet Po cash transfer program to provide double the monthly benefits amount from US$ 15 (an estimated 15 percent of the average household consumption) to US$ 30 for a period of nine months. This is the same strategy that the Government had employed in response to the Ebola Crisis. This response effort is expected to reach 70,000 extreme poor households and households with Persons with Disabilities. \"], [\"In cities, the informal sector workers are expected to be the hardest hit through the indirect impacts of COVID-19 and the slowing economy. The Government plans to identify a total of 118,000 households in the major cities of Sierra Leone whose main source of income is from the informal sector and provide a one-time cash transfer to these households. The amount is US$ 120 HH ~ level of minimum wage in Freetown for 2-months) targeting households of informal workers in urban areas :Freetown, Bo city, Kenema city, Makeni and Port Loko (total budget of US$4 million)\\n\"]], \"geo\": \"geo\", \"hovertemplate\": \"population=7650154<br>Countries=%{location}<br>CT measure description=%{customdata[0]}<extra></extra>\", \"locationmode\": \"country names\", \"locations\": [\"Sierra Leone\", \"Sierra Leone\"], \"name\": \"7650154\", \"showlegend\": true, \"showscale\": false, \"type\": \"choropleth\", \"z\": [1, 1]}, {\"colorscale\": [[0.0, \"#FF97FF\"], [1.0, \"#FF97FF\"]], \"customdata\": [[\"All Singaporeans aged 50 and above in 2020 will receive $100 in cash instead of PAssion Card Top-up\"], [\"The new (second) stimulus package of S$48 billion ($33 billion) includes cash transfers to self-employed and low-income people.  Apr 2020: Temporary Relief Fund to provide one-off cash assistance of $500 for those who need urgent help with basic living expenses\\n\"], [\"Cash grant of $800 per month for 3 months, for low- and middle-income Singaporeans who lost their jobs due to COVID-19. Starting in May \"], [\"Self Employed Persons (SEP) Income Relief Scheme (SIRS): Eligible Singaporean SEPs will receive 3 quarterly cash payouts of $3,000 each in May, Jul, and Oct 2020\"], [\"Enhance Workfare Special Payment to $3,000 in cash in 2020, for Singaporeans who received Workfare payments for work done in 2019\"]], \"geo\": \"geo\", \"hovertemplate\": \"population=5638676<br>Countries=%{location}<br>CT measure description=%{customdata[0]}<extra></extra>\", \"locationmode\": \"country names\", \"locations\": [\"Singapore\", \"Singapore\", \"Singapore\", \"Singapore\", \"Singapore\"], \"name\": \"5638676\", \"showlegend\": true, \"showscale\": false, \"type\": \"choropleth\", \"z\": [1, 1, 1, 1, 1]}, {\"colorscale\": [[0.0, \"#FECB52\"], [1.0, \"#FECB52\"]], \"customdata\": [[\"Under Sint Maarten Support Relief Plan (SSRP), self-employed persons such as independent taxi drivers, vendors, tour operators, and artists, etc., can benefit from income support. \"]], \"geo\": \"geo\", \"hovertemplate\": \"population=40654<br>Countries=%{location}<br>CT measure description=%{customdata[0]}<extra></extra>\", \"locationmode\": \"country names\", \"locations\": [\"Sint Maarten (Dutch part)\"], \"name\": \"40654\", \"showlegend\": true, \"showscale\": false, \"type\": \"choropleth\", \"z\": [1]}, {\"colorscale\": [[0.0, \"#636efa\"], [1.0, \"#636efa\"]], \"customdata\": [[\"\\u2022\\tSubsidies for individuals who do not receive any income during the State of Emergency, maximum amount EUR 210 / month \"]], \"geo\": \"geo\", \"hovertemplate\": \"population=5446771<br>Countries=%{location}<br>CT measure description=%{customdata[0]}<extra></extra>\", \"locationmode\": \"country names\", \"locations\": [\"Slovak Republic\"], \"name\": \"5446771\", \"showlegend\": true, \"showscale\": false, \"type\": \"choropleth\", \"z\": [1]}, {\"colorscale\": [[0.0, \"#EF553B\"], [1.0, \"#EF553B\"]], \"customdata\": [[\"Self-employed who are unable to operate due to the crisis or whose operations have been significantly reduced will be entitled to a monthly cash transfer in the amount of 70% of the net minimum wage.\"]], \"geo\": \"geo\", \"hovertemplate\": \"population=2073894<br>Countries=%{location}<br>CT measure description=%{customdata[0]}<extra></extra>\", \"locationmode\": \"country names\", \"locations\": [\"Slovenia\"], \"name\": \"2073894\", \"showlegend\": true, \"showscale\": false, \"type\": \"choropleth\", \"z\": [1]}, {\"colorscale\": [[0.0, \"#00cc96\"], [1.0, \"#00cc96\"]], \"customdata\": [[\"Somalia launched the first ever cash transfers program in the country. The Baxnano program (which costs$65 million) is intended to provide cash transfers to targeted poor and vulnerable households and establish the key building blocks of a national shock-responsive safety net system. The program is anticipated to target 270,000 poor and vulnerable households (approximately 1.2 million individuals or 9.6 percent of the population) across the Federal Member States of Somalia and provide them with nutrition-linked cash transfer. The families will be able to use the money for their immediate needs, such as food and basic services. This programme will be executed in areas of fragility due to widespread poverty, acute drought and long-drawn-out conflicts and insecurity\"]], \"geo\": \"geo\", \"hovertemplate\": \"population=15008154<br>Countries=%{location}<br>CT measure description=%{customdata[0]}<extra></extra>\", \"locationmode\": \"country names\", \"locations\": [\"Somalia\"], \"name\": \"15008154\", \"showlegend\": true, \"showscale\": false, \"type\": \"choropleth\", \"z\": [1]}, {\"colorscale\": [[0.0, \"#ab63fa\"], [1.0, \"#ab63fa\"]], \"customdata\": [[\"The president announced a R500 billion (approximately US$25 billion or close to 10% of Gross Domestic Product) of emergency expenditure to counter the costs of the lockdown. The package included increased expenditure of R50 billion on social grants.\\n-The Child Support Grant \\u2013 paid to about 7 million parents or other caregivers, for about 12.5 million children \\u2013 will increase by R300 (US$13) in May and R500 (US$26) per month from June to October;\\n-Other social grants \\u2013 including the Old Age Grant (or pension) - (approx. 3 million individuals)- and the Disability Grant (approx. 1.1 million individuals) \\u2013 will be increased by R250 per month from May to October; (6 months)\\n\"], [\"The South African Social Security Agency (SASSA) will provide early payments of social grants to older persons and persons with disabilities (from March 30-31, 2020) . Other beneficiaries will be able to access their grants from April 1, 2020. \"], [\"All temporary disability grants that lapsed between February and March will be extended until the end of October this year. The same applies to the Care Dependency and Foster Child Grants that are due to lapse during the lock down period. The payment of these reinstated grants will take place before the end of May\"], [\"A new \\u201cCovid-19 Social Relief of Distress grant\\u201d, of R350 per month (US$18), will be introduced for people who are unemployed but not yet receiving any social grant or support from the Unemployment Insurance Fund. This will also be paid for six months. The president declared that the Department of Social Development would \\u201cissue the requirements needed to access and apply for this funding\\u201d Already 3.5 million people have applied for this grant and it is estimated that there will be around 20 million South African\\u2019s who may be eligible for this special grant and around 6-8 million beneficiaries eventually\"]], \"geo\": \"geo\", \"hovertemplate\": \"population=57779622<br>Countries=%{location}<br>CT measure description=%{customdata[0]}<extra></extra>\", \"locationmode\": \"country names\", \"locations\": [\"South Africa\", \"South Africa\", \"South Africa\", \"South Africa\"], \"name\": \"57779622\", \"showlegend\": true, \"showscale\": false, \"type\": \"choropleth\", \"z\": [1, 1, 1, 1]}, {\"colorscale\": [[0.0, \"#FFA15A\"], [1.0, \"#FFA15A\"]], \"customdata\": [[\"W200B to low-income households getting unemployed and to those under COVID-19 treatment/quarantine.\"], [\"Reintroduction of job seekers\\u2019 allowance for low-income households, with such allowance being increased from W200,000 to 500,000 for up to 3 months.\"], [\"The government decided to offer emergency relief payments of 9.1 trillion won to households in the bottom 70 percent income bracket. A total of 14 million households to become recipients. Payments to vary according to the household members: 0.4 million won (single-person households), 0.6 million won (two-person households), 0.8 million won (three-person households), 1.0 million won (four-person households\"]], \"geo\": \"geo\", \"hovertemplate\": \"population=51606633<br>Countries=%{location}<br>CT measure description=%{customdata[0]}<extra></extra>\", \"locationmode\": \"country names\", \"locations\": [\"South Korea\", \"South Korea\", \"South Korea\"], \"name\": \"51606633\", \"showlegend\": true, \"showscale\": false, \"type\": \"choropleth\", \"z\": [1, 1, 1]}, {\"colorscale\": [[0.0, \"#19d3f3\"], [1.0, \"#19d3f3\"]], \"customdata\": [[\"The South Sudan Safety Net Project (SSSNP) will expand access to safety net and provide income security for low income South Sudanese, while strengthening delivery tools and local level capacities. Nearly 430,000 people will receive cash transfers in 10 counties across South Sudan, including Juba. Specifically, the project will provide cash transfers to the poorest and most vulnerable people for working on public works projects. It will also provide direct grants to those who are unable to work, including people with disabilities, the elderly and pregnant or breastfeeding women, among others, Total budge allocate is US$40 million\"]], \"geo\": \"geo\", \"hovertemplate\": \"population=10975920<br>Countries=%{location}<br>CT measure description=%{customdata[0]}<extra></extra>\", \"locationmode\": \"country names\", \"locations\": [\"South Sudan\"], \"name\": \"10975920\", \"showlegend\": true, \"showscale\": false, \"type\": \"choropleth\", \"z\": [1]}, {\"colorscale\": [[0.0, \"#FF6692\"], [1.0, \"#FF6692\"]], \"customdata\": [[\"Spain is introducing Guaranteed Minimum Income (GMI) for around 5M for low-income people. No specific date was unveiled, given the plan appears to be in its early stages. While the measure is announced to help citizens weather the economic fallout from the novel coronavirus, the government is contemplating make it a permanent instrument\"], [\"Among the measures to support families is to guarantee the basic right to food for vulnerable children who are affected by school closures. Specifically, a total of Euro 25M is established to provide income support (wallet cards, wire transfer, voucher in supermarkets). \"], [\"300 million euros for an extraordinary contingency fund to support social services with special attention to older persons and dependents (transfers to be made to Autonomous communities and localities to this effect) (e.g. cover basic needs including through social assistance, people that need assistance at home, increases resources in centres, etc..) \"]], \"geo\": \"geo\", \"hovertemplate\": \"population=46796540<br>Countries=%{location}<br>CT measure description=%{customdata[0]}<extra></extra>\", \"locationmode\": \"country names\", \"locations\": [\"Spain\", \"Spain\", \"Spain\"], \"name\": \"46796540\", \"showlegend\": true, \"showscale\": false, \"type\": \"choropleth\", \"z\": [1, 1, 1]}, {\"colorscale\": [[0.0, \"#B6E880\"], [1.0, \"#B6E880\"]], \"customdata\": [[\"To pay LKR 5000 for 1,798,655 people who are the recipients of the \\u201csamurdhi\\u201d allowance (the largest cash-transfer program here) and for 600,339 families who have been identified as recipients of the \\u201csamurdhi\\u201d allowance and are in the waiting list\"]], \"geo\": \"geo\", \"hovertemplate\": \"population=21670000<br>Countries=%{location}<br>CT measure description=%{customdata[0]}<extra></extra>\", \"locationmode\": \"country names\", \"locations\": [\"Sri Lanka\"], \"name\": \"21670000\", \"showlegend\": true, \"showscale\": false, \"type\": \"choropleth\", \"z\": [1]}, {\"colorscale\": [[0.0, \"#FF97FF\"], [1.0, \"#FF97FF\"]], \"customdata\": [[\"$5 million allocated for Poverty Alleviation Program for households that might now fall below the $3,000 per month threshold due to a loss of jobs and income caused by this crisis - part of $120 billion economic stimulus package\"]], \"geo\": \"geo\", \"hovertemplate\": \"population=52441<br>Countries=%{location}<br>CT measure description=%{customdata[0]}<extra></extra>\", \"locationmode\": \"country names\", \"locations\": [\"St Kitts and Nevis\"], \"name\": \"52441\", \"showlegend\": true, \"showscale\": false, \"type\": \"choropleth\", \"z\": [1]}, {\"colorscale\": [[0.0, \"#FECB52\"], [1.0, \"#FECB52\"]], \"customdata\": [[\"Gov\\u2019t support for vulnerable and affected persons by expanding social assistance as part of EC$74.05 million stimulus package incl. Interim Assistance Benefits for persons not on public assistance nor in receipt of a pension (until 31 Dec 2020); providing support for displaced workers in the hotel and tourism sector, including cruise buses and taxis, through a Displacement Supplementary Income for three months in the first instance. \"]], \"geo\": \"geo\", \"hovertemplate\": \"population=110210<br>Countries=%{location}<br>CT measure description=%{customdata[0]}<extra></extra>\", \"locationmode\": \"country names\", \"locations\": [\"St. Vincent and the Grenadines\"], \"name\": \"110210\", \"showlegend\": true, \"showscale\": false, \"type\": \"choropleth\", \"z\": [1]}, {\"colorscale\": [[0.0, \"#636efa\"], [1.0, \"#636efa\"]], \"customdata\": [[\"\\u2022\\tAdditional (top-up) monthly payments through Suriname\\u2019s COVID-19 Emergency Fund include: \\n-\\tGeneral Child Benefit: Extra SRD 1000 (US$ 134) per household (in addition to SRD 525 (US$ 70) per child);\\n-\\tGeneral Old Age Provision (AOV): Extra SRD 525 (US$ 70) for elderly receiving only the AOV;\\n-\\tFinancial Assistance People with Disabilities (FB MMB): Extra SRD 675 (US$ 90);\\n-\\tFinancial Assistance for Weak Households (FB ZWH): Extra SRD 250 (US$ 33);\\n-\\tDeposits: Extra SRD 1000; and\\n-\\tPension: Extra SRD 500. \"]], \"geo\": \"geo\", \"hovertemplate\": \"population=575991<br>Countries=%{location}<br>CT measure description=%{customdata[0]}<extra></extra>\", \"locationmode\": \"country names\", \"locations\": [\"Suriname\"], \"name\": \"575991\", \"showlegend\": true, \"showscale\": false, \"type\": \"choropleth\", \"z\": [1]}, {\"colorscale\": [[0.0, \"#EF553B\"], [1.0, \"#EF553B\"]], \"customdata\": [[\"A supplementary temporary cash benefit to certain categories of beneficiaries on the payroll of the Targeted Social Assistance program\"]], \"geo\": \"geo\", \"hovertemplate\": \"population=9100837<br>Countries=%{location}<br>CT measure description=%{customdata[0]}<extra></extra>\", \"locationmode\": \"country names\", \"locations\": [\"Tajikistan\"], \"name\": \"9100837\", \"showlegend\": true, \"showscale\": false, \"type\": \"choropleth\", \"z\": [1]}, {\"colorscale\": [[0.0, \"#00cc96\"], [1.0, \"#00cc96\"]], \"customdata\": [[\"A cash transfer of 5,000-baht ($153) for 3 months will reach 9M (instead of 3M from last week) workers not covered by the Social Security Fund (21.7M people applied). The total program cost is $4B \"]], \"geo\": \"geo\", \"hovertemplate\": \"population=69428524<br>Countries=%{location}<br>CT measure description=%{customdata[0]}<extra></extra>\", \"locationmode\": \"country names\", \"locations\": [\"Thailand\"], \"name\": \"69428524\", \"showlegend\": true, \"showscale\": false, \"type\": \"choropleth\", \"z\": [1]}, {\"colorscale\": [[0.0, \"#ab63fa\"], [1.0, \"#ab63fa\"]], \"customdata\": [[\"Cash transfer of US$ 100 to households with monthly incomes under US$ 500 \"]], \"geo\": \"geo\", \"hovertemplate\": \"population=1267972<br>Countries=%{location}<br>CT measure description=%{customdata[0]}<extra></extra>\", \"locationmode\": \"country names\", \"locations\": [\"Timor-Leste\"], \"name\": \"1267972\", \"showlegend\": true, \"showscale\": false, \"type\": \"choropleth\", \"z\": [1]}, {\"colorscale\": [[0.0, \"#FFA15A\"], [1.0, \"#FFA15A\"]], \"customdata\": [[\"\\u2022\\tTogo launched a social safety net scheme called \\u201cNovissi\\u201d. This means solidarity in local dialect and is an unconditional cash transfer scheme designed to support all Togolese informal workers whose incomes are disrupted by the Covid-19 response. All informal workers, above 18 years old, who have a valid voter\\u2019s ID and can prove they have lost their income due to the Covid-19 response are eligible to benefit from the scheme. Beneficiaries, women, and men respectively get XOF12,500 (US$21) and XOF10,500 (US$17) per month to meet basic needs (food, water, power, communication). It already has 1.3 million people registered and has sent money to more than 500,000 in the region of Greater Lom\\u00e9 (the capital) alone . The money is sent via the Tmoney and Flooz mobile money platforms. Applicants can check if they are eligible by dialing *855#\"], [\"The government will support the ongoing Cash Transfer Program, under the Safety Nets and basic Services Project. The program is in the process of being horizontally scaled up to support the Government\\u2019s response to the COVID-19 situation in rural area. While the program currently covers 61,000 households or approximately 274,500 beneficiaries, it will be scaled up to 140,000 households or 630,000 beneficiaries.\"]], \"geo\": \"geo\", \"hovertemplate\": \"population=7889094<br>Countries=%{location}<br>CT measure description=%{customdata[0]}<extra></extra>\", \"locationmode\": \"country names\", \"locations\": [\"Togo\", \"Togo\"], \"name\": \"7889094\", \"showlegend\": true, \"showscale\": false, \"type\": \"choropleth\", \"z\": [1, 1]}, {\"colorscale\": [[0.0, \"#19d3f3\"], [1.0, \"#19d3f3\"]], \"customdata\": [[\"Rental assistance up to TT$2,500 (US$367) per month for an initial period of 3 month but not more than 6 months, for households where a wage earner was laid off or whose income reduced.\"], [\"Three-month top-ups for Food Card, Public Assistance and Disability Assistance beneficiaries ranging from TT$150 to TT$450 ($22-US$67) per month for three months, depending on household size\"], [\"Suspension of the life certification requirements for elderly social pension recipients (normally required to visit their local board to sign a life certificate register). \"]], \"geo\": \"geo\", \"hovertemplate\": \"population=1389858<br>Countries=%{location}<br>CT measure description=%{customdata[0]}<extra></extra>\", \"locationmode\": \"country names\", \"locations\": [\"Trinidad and Tobago\", \"Trinidad and Tobago\", \"Trinidad and Tobago\"], \"name\": \"1389858\", \"showlegend\": true, \"showscale\": false, \"type\": \"choropleth\", \"z\": [1, 1, 1]}, {\"colorscale\": [[0.0, \"#FF6692\"], [1.0, \"#FF6692\"]], \"customdata\": [[\"One-off cash transfer of TND200 (USD68) to 623,000 households working in the informal sector, who are not covered by any social assistance program and who are vulnerable to shocks (households registered in the social security system with low-cost healthcare card).\"], [\"One-off cash transfer of TND50 ($17) to 260,000 households working in the informal sector (a top-up of the already received transfer of TND180 in March, i.e., households registered in the social security system with a free healthcare card).\"], [\"One-off cash transfer TND200 ($68) to households hosting an elderly\"], [\"One-off cash transfer TND200 ($68) to households fostering children without parental support\"], [\"One-off cash transfer TND200 ($68) to households hosting a person with handicap. \"]], \"geo\": \"geo\", \"hovertemplate\": \"population=11565204<br>Countries=%{location}<br>CT measure description=%{customdata[0]}<extra></extra>\", \"locationmode\": \"country names\", \"locations\": [\"Tunisia\", \"Tunisia\", \"Tunisia\", \"Tunisia\", \"Tunisia\"], \"name\": \"11565204\", \"showlegend\": true, \"showscale\": false, \"type\": \"choropleth\", \"z\": [1, 1, 1, 1, 1]}, {\"colorscale\": [[0.0, \"#B6E880\"], [1.0, \"#B6E880\"]], \"customdata\": [[\"The Turkish government has announced 3 phases for financial aid to families in need. A one-time transfer of 1000 TL (around $150) are made to over 4 million current social assistance beneficiary households in two separate phases. All existing beneficiary households were eligible for this payment without the need for a separate application and cash payments were delivered to the households. The third phase of the one-time transfer of 1000 TL targets households that are not currently benefitting from any social assistance program but are adversely affected by the Covid-19 outbreak. Individuals except public sector employees, formally registered or retired workers, and those that benefit from the short-term work allowance or unpaid leave support can apply to nominate their households for this cash transfer, and applications are currently being evaluated on a case-by-case basis. \"], [\"The Turkish government has announced an additional 2 billion Turkish Lira ($300M) for financial aid to families in need according to criteria defined by the Ministry of Family, Labor and Social Services.\"], [\"Monthly budget allocated to the 1003 Social Assistance and Solidarity Foundations, who provide social assistance to various disadvantaged groups. are increased from 135 million TL (around $21 million) to 180 million TL (around $27 million) in total\"], [\"Healthcare employees will receive the maximum performance payments for 3 months and an additional 32,000 health care staff will be hired\"], [\"Social Assistance of elderly and disabled pensions and social assistance for elderly care will be made for three months (until the end of May 2020) without seeking income criteria and severe disability.  (Admin adaptation).\"], [\"Cash transfers targeted for women are increased. Amounts of conditional cash transfers are increased by 29% for health, postnatal and pregnancy payments. Cash transfers for new mothers are increased to 100 TL (around $15.5) and monthly transfers for women who recently lost their husbands to 325 TL (around $50).\"]], \"geo\": \"geo\", \"hovertemplate\": \"population=82319724<br>Countries=%{location}<br>CT measure description=%{customdata[0]}<extra></extra>\", \"locationmode\": \"country names\", \"locations\": [\"Turkey\", \"Turkey\", \"Turkey\", \"Turkey\", \"Turkey\", \"Turkey\"], \"name\": \"82319724\", \"showlegend\": true, \"showscale\": false, \"type\": \"choropleth\", \"z\": [1, 1, 1, 1, 1, 1]}, {\"colorscale\": [[0.0, \"#FF97FF\"], [1.0, \"#FF97FF\"]], \"customdata\": [[\"Turks and Caicos Islands Government will be providing approximately $45m in direct financial support and waivers of taxes, fees and charges, including: \\n-\\t$15 million is to be made available in direct assistance to employees and self-employed within the hospitality industry that would have been laid off, seized operations or terminated since March 16, 2020, with a proposed one-off payment of $1,200 (per employee, not household). This is in addition to the payouts that they may be receiving from their employers.\"], [\"The government also increasing the social welfare budget by 100 percent, including an additional $500,000 that has been added to the budgetary allocation to further boost the Home-help Programme (doubling its allocation) managed through the social welfare programme for additional persons that may become destitute due to the fall out in global economic activities. \"]], \"geo\": \"geo\", \"hovertemplate\": \"population=37665<br>Countries=%{location}<br>CT measure description=%{customdata[0]}<extra></extra>\", \"locationmode\": \"country names\", \"locations\": [\"Turks and Caicos islands\", \"Turks and Caicos islands\"], \"name\": \"37665\", \"showlegend\": true, \"showscale\": false, \"type\": \"choropleth\", \"z\": [1, 1]}, {\"colorscale\": [[0.0, \"#FECB52\"], [1.0, \"#FECB52\"]], \"customdata\": [[\"Cash payment to all citizens in Tuvalu of $17 per person per month \"]], \"geo\": \"geo\", \"hovertemplate\": \"population=11508<br>Countries=%{location}<br>CT measure description=%{customdata[0]}<extra></extra>\", \"locationmode\": \"country names\", \"locations\": [\"Tuvalu\"], \"name\": \"11508\", \"showlegend\": true, \"showscale\": false, \"type\": \"choropleth\", \"z\": [1]}, {\"colorscale\": [[0.0, \"#636efa\"], [1.0, \"#636efa\"]], \"customdata\": [[\"The \\u201cGirls Empowering Girls\\u201d urban cash transfer and mentoring programmes for adolescent girls, implemented by the Kampala Capital City Authority (KCCA), has transitioned to remote coordination, adopted a virtual mentoring model to ensure delivery continuity, and implemented remote enrolment for pre-registered beneficiaries\"]], \"geo\": \"geo\", \"hovertemplate\": \"population=42723139<br>Countries=%{location}<br>CT measure description=%{customdata[0]}<extra></extra>\", \"locationmode\": \"country names\", \"locations\": [\"Uganda\"], \"name\": \"42723139\", \"showlegend\": true, \"showscale\": false, \"type\": \"choropleth\", \"z\": [1]}, {\"colorscale\": [[0.0, \"#EF553B\"], [1.0, \"#EF553B\"]], \"customdata\": [[\"Britain would raise its main state-paid benefit. The universal credit standard allowance for the next 12 months would increase by 1,000 pounds a year, with the working tax credit basic element rising by the same amount as well. It is expected that the measures will benefit over 4 million of the most vulnerable households.\"], [\"For the duration of the outbreak, the requirements of the Universal Credit Program will be temporarily relaxed for those who have COVID-19 or are self-isolating according to government advice. People will be able to claim Universal Credit and access advance payments upfront without the current requirement to attend a job Centre if they are advised to self-isolate. \"]], \"geo\": \"geo\", \"hovertemplate\": \"population=66460344<br>Countries=%{location}<br>CT measure description=%{customdata[0]}<extra></extra>\", \"locationmode\": \"country names\", \"locations\": [\"UK\", \"UK\"], \"name\": \"66460344\", \"showlegend\": true, \"showscale\": false, \"type\": \"choropleth\", \"z\": [1, 1]}, {\"colorscale\": [[0.0, \"#00cc96\"], [1.0, \"#00cc96\"]], \"customdata\": [[\"The Government introduced a payment to support children of individual entrepreneurs who belong to the first and second group of single tax payers and paid a single social contribution, for the period of quarantine and for one month after the date of its abolition. About 300,000 families are expected to benefit from this assistance. It will be provided for each child up to 10 years of age in the amount of the subsistence minimum (for children under 6 years - UAH 1 779 (USD 70); for children aged 6 to 10 years - UAH 2 218 (USD 90)). \"], [\"The government introduced one-off cash assistance ($35) for seniors with low pensions. Pensioners whose pension is less than 5 thousand hryvnias receive additional assistance in the amount of 1 thousand hryvnias ($35). Expected to benefit more than 10 million pensioners. \"], [\"In addition, the state introduced a one-off payment to the current beneficiaries of child disability payments.\"], [\"Relaxed eligibility requirements for the GMI program to extend duration of payments and enable simplified enrollment online.\"], [\"Simplify administrative requirements for enrollment in the Housing Utilities Subsidy program (energy social assistance). Remove restrictions preventing enrollment for those who lost their jobs as a result of the introduced COVID19 quarantine measures.  \"], [\"The authorities have extended existing social entitlements for the period of the quarantine without the need to reapply\"]], \"geo\": \"geo\", \"hovertemplate\": \"population=44622516<br>Countries=%{location}<br>CT measure description=%{customdata[0]}<extra></extra>\", \"locationmode\": \"country names\", \"locations\": [\"Ukraine\", \"Ukraine\", \"Ukraine\", \"Ukraine\", \"Ukraine\", \"Ukraine\"], \"name\": \"44622516\", \"showlegend\": true, \"showscale\": false, \"type\": \"choropleth\", \"z\": [1, 1, 1, 1, 1, 1]}, {\"colorscale\": [[0.0, \"#ab63fa\"], [1.0, \"#ab63fa\"]], \"customdata\": [[\"Adults will get $1,200 each and children $500 each. The benefit will start decreasing at a rate of $5 for every additional $100 in income. The phaseout starts at $75,000 in adjusted gross income for singles, $112,500 for heads of household, and $150,000 for married couples filing jointly; it will phase out entirely by $99,000 for singles and $198,000 for couples (with no children).   \"]], \"geo\": \"geo\", \"hovertemplate\": \"population=328000000<br>Countries=%{location}<br>CT measure description=%{customdata[0]}<extra></extra>\", \"locationmode\": \"country names\", \"locations\": [\"US\"], \"name\": \"328000000\", \"showlegend\": true, \"showscale\": false, \"type\": \"choropleth\", \"z\": [1]}, {\"colorscale\": [[0.0, \"#FFA15A\"], [1.0, \"#FFA15A\"]], \"customdata\": [[\"The number of beneficiaries receiving allowances will increase by at least 10% or to 60,000 households included through the Council of the Federation of Trade Unions of Uzbekistan. \"], [\"Extension of the duration of the social allowances for low-income families that expire in March-June for 6 months (or until a child reaches age of 2 or 14, depending on a social allowance) (additional USD 60 million). Moreover, Government is about to approve amendments to simplify the application process and relax the income test (by disregarding certain incomes and categories) to determine eligibility to family allowances\"], [\"Additional support will be provided through a 10 trillion soum (~ 1 billion USD) Anti-Crisis Fund.261 Social assistance provisions under this Fund include covering the costs of quarantining persons at risk or in contact with infected persons.\"]], \"geo\": \"geo\", \"hovertemplate\": \"population=32955400<br>Countries=%{location}<br>CT measure description=%{customdata[0]}<extra></extra>\", \"locationmode\": \"country names\", \"locations\": [\"Uzbekistan\", \"Uzbekistan\", \"Uzbekistan\"], \"name\": \"32955400\", \"showlegend\": true, \"showscale\": false, \"type\": \"choropleth\", \"z\": [1, 1, 1]}, {\"colorscale\": [[0.0, \"#19d3f3\"], [1.0, \"#19d3f3\"]], \"customdata\": [[\"Increased monthly cash transfers, plus a one-off transfers (reaching 80% of the population), through existing programs and paid through the Sistema Patria platform.\"]], \"geo\": \"geo\", \"hovertemplate\": \"population=28870195<br>Countries=%{location}<br>CT measure description=%{customdata[0]}<extra></extra>\", \"locationmode\": \"country names\", \"locations\": [\"Venezuela\"], \"name\": \"28870195\", \"showlegend\": true, \"showscale\": false, \"type\": \"choropleth\", \"z\": [1]}, {\"colorscale\": [[0.0, \"#FF6692\"], [1.0, \"#FF6692\"]], \"customdata\": [[\"The government has announced an income support package of VND62,000 billion (US$2.6 billion) on March 31, 2020. Each poor and near-poor household member will get a monthly allowance of VND250,000 ($10.5), while social protection beneficiaries and national devotees would receive VND500,000 per person per month\"]], \"geo\": \"geo\", \"hovertemplate\": \"population=95540395<br>Countries=%{location}<br>CT measure description=%{customdata[0]}<extra></extra>\", \"locationmode\": \"country names\", \"locations\": [\"Vietnam\"], \"name\": \"95540395\", \"showlegend\": true, \"showscale\": false, \"type\": \"choropleth\", \"z\": [1]}, {\"colorscale\": [[0.0, \"#B6E880\"], [1.0, \"#B6E880\"]], \"customdata\": [[\"Financial support from state budget to workers on unpaid leave or reduced working hours, equal to VND 1.8 million/worker/month for the three months. Employers need to supplement with at least an equal contribution, for which they can access loans at 0% interest rate for a period not exceeding 12 months. The total wage received by workers during the period cannot be lower than 85% of the regional minimum wage\"], [\"Contracted employees/workers who lost jobs but not eligible for UI benefits, and workers without employment contracts working in business establishments closed due to social distancing measures. Workers will get support of 1.8 million per month. \"]], \"geo\": \"geo\", \"hovertemplate\": \"population=95540396<br>Countries=%{location}<br>CT measure description=%{customdata[0]}<extra></extra>\", \"locationmode\": \"country names\", \"locations\": [\"Vietnam\", \"Vietnam\"], \"name\": \"95540396\", \"showlegend\": true, \"showscale\": false, \"type\": \"choropleth\", \"z\": [1, 1]}, {\"colorscale\": [[0.0, \"#FF97FF\"], [1.0, \"#FF97FF\"]], \"customdata\": [[\"Un-contracted workers (from informal sector) who lost jobs, from selected work, with income less than poverty line, will get support of VND 1 million per months for maximum 3 months \"]], \"geo\": \"geo\", \"hovertemplate\": \"population=95540397<br>Countries=%{location}<br>CT measure description=%{customdata[0]}<extra></extra>\", \"locationmode\": \"country names\", \"locations\": [\"Vietnam\"], \"name\": \"95540397\", \"showlegend\": true, \"showscale\": false, \"type\": \"choropleth\", \"z\": [1]}, {\"colorscale\": [[0.0, \"#FECB52\"], [1.0, \"#FECB52\"]], \"customdata\": [[\"The Palestinian Authority Ministry of Social Development is increasing the number of social allowances to vulnerable families in the West Bank and Gaza. Its quarterly cash transfer program, which usually reached 105,000 vulnerable families, was expanded in April to reach an extra 9,000 families from Gaza, in light of the socioeconomic impacts of COVID-19. \"]], \"geo\": \"geo\", \"hovertemplate\": \"population=4569087<br>Countries=%{location}<br>CT measure description=%{customdata[0]}<extra></extra>\", \"locationmode\": \"country names\", \"locations\": [\"West Bank and Gaza\"], \"name\": \"4569087\", \"showlegend\": true, \"showscale\": false, \"type\": \"choropleth\", \"z\": [1]}, {\"colorscale\": [[0.0, \"#636efa\"], [1.0, \"#636efa\"]], \"customdata\": [[\"One-million households identified through the Social Welfare Department to benefit from the $600 million kitty availed by the Government to mitigate the effects of Covid-19. These are i) a universal emergency cash transfer to all urban households; ii) a transfer to households employed in the informal sector and iii) a transfer to informal sector vendors organised through their associations.\"], [\"On 31 March, the Government of Zimbabwe announced that ZW$200 million (approximately $550,000) per month will be set aside for the next three months for an emergency cash transfer program reaching one million vulnerable households.\"]], \"geo\": \"geo\", \"hovertemplate\": \"population=14439018<br>Countries=%{location}<br>CT measure description=%{customdata[0]}<extra></extra>\", \"locationmode\": \"country names\", \"locations\": [\"Zimbabwe\", \"Zimbabwe\"], \"name\": \"14439018\", \"showlegend\": true, \"showscale\": false, \"type\": \"choropleth\", \"z\": [1, 1]}],\n",
       "                        {\"coloraxis\": {\"showscale\": false}, \"geo\": {\"center\": {}, \"domain\": {\"x\": [0.0, 1.0], \"y\": [0.0, 1.0]}}, \"height\": 600, \"legend\": {\"title\": {\"text\": \"population\"}, \"tracegroupgap\": 0}, \"template\": {\"data\": {\"bar\": [{\"error_x\": {\"color\": \"#2a3f5f\"}, \"error_y\": {\"color\": \"#2a3f5f\"}, \"marker\": {\"line\": {\"color\": \"#E5ECF6\", \"width\": 0.5}}, \"type\": \"bar\"}], \"barpolar\": [{\"marker\": {\"line\": {\"color\": \"#E5ECF6\", \"width\": 0.5}}, \"type\": \"barpolar\"}], \"carpet\": [{\"aaxis\": {\"endlinecolor\": \"#2a3f5f\", \"gridcolor\": \"white\", \"linecolor\": \"white\", \"minorgridcolor\": \"white\", \"startlinecolor\": \"#2a3f5f\"}, \"baxis\": {\"endlinecolor\": \"#2a3f5f\", \"gridcolor\": \"white\", \"linecolor\": \"white\", \"minorgridcolor\": \"white\", \"startlinecolor\": \"#2a3f5f\"}, \"type\": \"carpet\"}], \"choropleth\": [{\"colorbar\": {\"outlinewidth\": 0, \"ticks\": \"\"}, \"type\": \"choropleth\"}], \"contour\": [{\"colorbar\": {\"outlinewidth\": 0, \"ticks\": \"\"}, \"colorscale\": [[0.0, \"#0d0887\"], [0.1111111111111111, \"#46039f\"], [0.2222222222222222, \"#7201a8\"], [0.3333333333333333, \"#9c179e\"], [0.4444444444444444, \"#bd3786\"], [0.5555555555555556, \"#d8576b\"], [0.6666666666666666, \"#ed7953\"], [0.7777777777777778, \"#fb9f3a\"], [0.8888888888888888, \"#fdca26\"], [1.0, \"#f0f921\"]], \"type\": \"contour\"}], \"contourcarpet\": [{\"colorbar\": {\"outlinewidth\": 0, \"ticks\": \"\"}, \"type\": \"contourcarpet\"}], \"heatmap\": [{\"colorbar\": {\"outlinewidth\": 0, \"ticks\": \"\"}, \"colorscale\": [[0.0, \"#0d0887\"], [0.1111111111111111, \"#46039f\"], [0.2222222222222222, \"#7201a8\"], [0.3333333333333333, \"#9c179e\"], [0.4444444444444444, \"#bd3786\"], [0.5555555555555556, \"#d8576b\"], [0.6666666666666666, \"#ed7953\"], [0.7777777777777778, \"#fb9f3a\"], [0.8888888888888888, \"#fdca26\"], [1.0, \"#f0f921\"]], \"type\": \"heatmap\"}], \"heatmapgl\": [{\"colorbar\": {\"outlinewidth\": 0, \"ticks\": \"\"}, \"colorscale\": [[0.0, \"#0d0887\"], [0.1111111111111111, \"#46039f\"], [0.2222222222222222, \"#7201a8\"], [0.3333333333333333, \"#9c179e\"], [0.4444444444444444, \"#bd3786\"], [0.5555555555555556, \"#d8576b\"], [0.6666666666666666, \"#ed7953\"], [0.7777777777777778, \"#fb9f3a\"], [0.8888888888888888, \"#fdca26\"], [1.0, \"#f0f921\"]], \"type\": \"heatmapgl\"}], \"histogram\": [{\"marker\": {\"colorbar\": {\"outlinewidth\": 0, \"ticks\": \"\"}}, \"type\": \"histogram\"}], \"histogram2d\": [{\"colorbar\": {\"outlinewidth\": 0, \"ticks\": \"\"}, \"colorscale\": [[0.0, \"#0d0887\"], [0.1111111111111111, \"#46039f\"], [0.2222222222222222, \"#7201a8\"], [0.3333333333333333, \"#9c179e\"], [0.4444444444444444, \"#bd3786\"], [0.5555555555555556, \"#d8576b\"], [0.6666666666666666, \"#ed7953\"], [0.7777777777777778, \"#fb9f3a\"], [0.8888888888888888, \"#fdca26\"], [1.0, \"#f0f921\"]], \"type\": \"histogram2d\"}], \"histogram2dcontour\": [{\"colorbar\": {\"outlinewidth\": 0, \"ticks\": \"\"}, \"colorscale\": [[0.0, \"#0d0887\"], [0.1111111111111111, \"#46039f\"], [0.2222222222222222, \"#7201a8\"], [0.3333333333333333, \"#9c179e\"], [0.4444444444444444, \"#bd3786\"], [0.5555555555555556, \"#d8576b\"], [0.6666666666666666, \"#ed7953\"], [0.7777777777777778, \"#fb9f3a\"], [0.8888888888888888, \"#fdca26\"], [1.0, \"#f0f921\"]], \"type\": \"histogram2dcontour\"}], \"mesh3d\": [{\"colorbar\": {\"outlinewidth\": 0, \"ticks\": \"\"}, \"type\": \"mesh3d\"}], \"parcoords\": [{\"line\": {\"colorbar\": {\"outlinewidth\": 0, \"ticks\": \"\"}}, \"type\": \"parcoords\"}], \"pie\": [{\"automargin\": true, \"type\": \"pie\"}], \"scatter\": [{\"marker\": {\"colorbar\": {\"outlinewidth\": 0, \"ticks\": \"\"}}, \"type\": \"scatter\"}], \"scatter3d\": [{\"line\": {\"colorbar\": {\"outlinewidth\": 0, \"ticks\": \"\"}}, \"marker\": {\"colorbar\": {\"outlinewidth\": 0, \"ticks\": \"\"}}, \"type\": \"scatter3d\"}], \"scattercarpet\": [{\"marker\": {\"colorbar\": {\"outlinewidth\": 0, \"ticks\": \"\"}}, \"type\": \"scattercarpet\"}], \"scattergeo\": [{\"marker\": {\"colorbar\": {\"outlinewidth\": 0, \"ticks\": \"\"}}, \"type\": \"scattergeo\"}], \"scattergl\": [{\"marker\": {\"colorbar\": {\"outlinewidth\": 0, \"ticks\": \"\"}}, \"type\": \"scattergl\"}], \"scattermapbox\": [{\"marker\": {\"colorbar\": {\"outlinewidth\": 0, \"ticks\": \"\"}}, \"type\": \"scattermapbox\"}], \"scatterpolar\": [{\"marker\": {\"colorbar\": {\"outlinewidth\": 0, \"ticks\": \"\"}}, \"type\": \"scatterpolar\"}], \"scatterpolargl\": [{\"marker\": {\"colorbar\": {\"outlinewidth\": 0, \"ticks\": \"\"}}, \"type\": \"scatterpolargl\"}], \"scatterternary\": [{\"marker\": {\"colorbar\": {\"outlinewidth\": 0, \"ticks\": \"\"}}, \"type\": \"scatterternary\"}], \"surface\": [{\"colorbar\": {\"outlinewidth\": 0, \"ticks\": \"\"}, \"colorscale\": [[0.0, \"#0d0887\"], [0.1111111111111111, \"#46039f\"], [0.2222222222222222, \"#7201a8\"], [0.3333333333333333, \"#9c179e\"], [0.4444444444444444, \"#bd3786\"], [0.5555555555555556, \"#d8576b\"], [0.6666666666666666, \"#ed7953\"], [0.7777777777777778, \"#fb9f3a\"], [0.8888888888888888, \"#fdca26\"], [1.0, \"#f0f921\"]], \"type\": \"surface\"}], \"table\": [{\"cells\": {\"fill\": {\"color\": \"#EBF0F8\"}, \"line\": {\"color\": \"white\"}}, \"header\": {\"fill\": {\"color\": \"#C8D4E3\"}, \"line\": {\"color\": \"white\"}}, \"type\": \"table\"}]}, \"layout\": {\"annotationdefaults\": {\"arrowcolor\": \"#2a3f5f\", \"arrowhead\": 0, \"arrowwidth\": 1}, \"coloraxis\": {\"colorbar\": {\"outlinewidth\": 0, \"ticks\": \"\"}}, \"colorscale\": {\"diverging\": [[0, \"#8e0152\"], [0.1, \"#c51b7d\"], [0.2, \"#de77ae\"], [0.3, \"#f1b6da\"], [0.4, \"#fde0ef\"], [0.5, \"#f7f7f7\"], [0.6, \"#e6f5d0\"], [0.7, \"#b8e186\"], [0.8, \"#7fbc41\"], [0.9, \"#4d9221\"], [1, \"#276419\"]], \"sequential\": [[0.0, \"#0d0887\"], [0.1111111111111111, \"#46039f\"], [0.2222222222222222, \"#7201a8\"], [0.3333333333333333, \"#9c179e\"], [0.4444444444444444, \"#bd3786\"], [0.5555555555555556, \"#d8576b\"], [0.6666666666666666, \"#ed7953\"], [0.7777777777777778, \"#fb9f3a\"], [0.8888888888888888, \"#fdca26\"], [1.0, \"#f0f921\"]], \"sequentialminus\": [[0.0, \"#0d0887\"], [0.1111111111111111, \"#46039f\"], [0.2222222222222222, \"#7201a8\"], [0.3333333333333333, \"#9c179e\"], [0.4444444444444444, \"#bd3786\"], [0.5555555555555556, \"#d8576b\"], [0.6666666666666666, \"#ed7953\"], [0.7777777777777778, \"#fb9f3a\"], [0.8888888888888888, \"#fdca26\"], [1.0, \"#f0f921\"]]}, \"colorway\": [\"#636efa\", \"#EF553B\", \"#00cc96\", \"#ab63fa\", \"#FFA15A\", \"#19d3f3\", \"#FF6692\", \"#B6E880\", \"#FF97FF\", \"#FECB52\"], \"font\": {\"color\": \"#2a3f5f\"}, \"geo\": {\"bgcolor\": \"white\", \"lakecolor\": \"white\", \"landcolor\": \"#E5ECF6\", \"showlakes\": true, \"showland\": true, \"subunitcolor\": \"white\"}, \"hoverlabel\": {\"align\": \"left\"}, \"hovermode\": \"closest\", \"mapbox\": {\"style\": \"light\"}, \"paper_bgcolor\": \"white\", \"plot_bgcolor\": \"#E5ECF6\", \"polar\": {\"angularaxis\": {\"gridcolor\": \"white\", \"linecolor\": \"white\", \"ticks\": \"\"}, \"bgcolor\": \"#E5ECF6\", \"radialaxis\": {\"gridcolor\": \"white\", \"linecolor\": \"white\", \"ticks\": \"\"}}, \"scene\": {\"xaxis\": {\"backgroundcolor\": \"#E5ECF6\", \"gridcolor\": \"white\", \"gridwidth\": 2, \"linecolor\": \"white\", \"showbackground\": true, \"ticks\": \"\", \"zerolinecolor\": \"white\"}, \"yaxis\": {\"backgroundcolor\": \"#E5ECF6\", \"gridcolor\": \"white\", \"gridwidth\": 2, \"linecolor\": \"white\", \"showbackground\": true, \"ticks\": \"\", \"zerolinecolor\": \"white\"}, \"zaxis\": {\"backgroundcolor\": \"#E5ECF6\", \"gridcolor\": \"white\", \"gridwidth\": 2, \"linecolor\": \"white\", \"showbackground\": true, \"ticks\": \"\", \"zerolinecolor\": \"white\"}}, \"shapedefaults\": {\"line\": {\"color\": \"#2a3f5f\"}}, \"ternary\": {\"aaxis\": {\"gridcolor\": \"white\", \"linecolor\": \"white\", \"ticks\": \"\"}, \"baxis\": {\"gridcolor\": \"white\", \"linecolor\": \"white\", \"ticks\": \"\"}, \"bgcolor\": \"#E5ECF6\", \"caxis\": {\"gridcolor\": \"white\", \"linecolor\": \"white\", \"ticks\": \"\"}}, \"title\": {\"x\": 0.05}, \"xaxis\": {\"automargin\": true, \"gridcolor\": \"white\", \"linecolor\": \"white\", \"ticks\": \"\", \"title\": {\"standoff\": 15}, \"zerolinecolor\": \"white\", \"zerolinewidth\": 2}, \"yaxis\": {\"automargin\": true, \"gridcolor\": \"white\", \"linecolor\": \"white\", \"ticks\": \"\", \"title\": {\"standoff\": 15}, \"zerolinecolor\": \"white\", \"zerolinewidth\": 2}}}, \"title\": {\"text\": \"Child poverty rate by state and child allowance amount\"}},\n",
       "                        {\"displayModeBar\": false, \"responsive\": true}\n",
       "                    ).then(function(){\n",
       "                            \n",
       "var gd = document.getElementById('662766e6-cecf-4499-92fa-eef6d0fdb583');\n",
       "var x = new MutationObserver(function (mutations, observer) {{\n",
       "        var display = window.getComputedStyle(gd).display;\n",
       "        if (!display || display === 'none') {{\n",
       "            console.log([gd, 'removed!']);\n",
       "            Plotly.purge(gd);\n",
       "            observer.disconnect();\n",
       "        }}\n",
       "}});\n",
       "\n",
       "// Listen for the removal of the full notebook cells\n",
       "var notebookContainer = gd.closest('#notebook-container');\n",
       "if (notebookContainer) {{\n",
       "    x.observe(notebookContainer, {childList: true});\n",
       "}}\n",
       "\n",
       "// Listen for the clearing of the current output cell\n",
       "var outputEl = gd.closest('.output');\n",
       "if (outputEl) {{\n",
       "    x.observe(outputEl, {childList: true});\n",
       "}}\n",
       "\n",
       "                        })\n",
       "                };\n",
       "                });\n",
       "            </script>\n",
       "        </div>"
      ]
     },
     "metadata": {},
     "output_type": "display_data"
    }
   ],
   "source": [
    "# create a choropleth map\n",
    "ct2 = cash_transfers.fillna(0)\n",
    "us_map = px.choropleth(ct2, \n",
    "                       locations='Countries',\n",
    "                       color='population', \n",
    "                       locationmode='country names',\n",
    "                       range_color=(0, 1),\n",
    "                       title=('Child poverty rate by state and '\n",
    "                              'child allowance amount'),\n",
    "                       height=600,\n",
    "                       hover_data = ['CT measure description']\n",
    "                      )\n",
    "us_map.update_layout(coloraxis_showscale=False)\n",
    "us_map.show(config={'displayModeBar': False})"
   ]
  },
  {
   "cell_type": "code",
   "execution_count": 359,
   "metadata": {},
   "outputs": [],
   "source": [
    "# create a choropleth map\n",
    "ct2 = cash_transfers.fillna(0)\n",
    "test_str = ct2['CT measure description'].iloc[2]\n",
    "max_char = 100\n",
    "\n",
    "def format_description(s):\n",
    "    words = s.split()\n",
    "    text = ''\n",
    "    len_row = 0\n",
    "    for i in range(len(words)):\n",
    "        next_word = words[i]\n",
    "        len_next = len(next_word)\n",
    "        if len_row + len_next > max_char:\n",
    "            text += '<br>' + next_word + ' '\n",
    "            len_row = len(next_word)\n",
    "        else:\n",
    "            text += next_word + ' '\n",
    "            len_row += len(next_word)\n",
    "    return text\n",
    "    \n",
    "# print(format_description(test_str))\n",
    "texts = list(map(format_description, ct2['CT measure description']))\n",
    "ct2['Description'] = texts"
   ]
  },
  {
   "cell_type": "code",
   "execution_count": 360,
   "metadata": {},
   "outputs": [],
   "source": [
    "color = 'rgb(176,196,222)'\n",
    "ct2['Color Value'] = 1\n",
    "us_map = go.Figure(\n",
    "    data=go.Choropleth(\n",
    "        locations = ct2['Countries'],\n",
    "        locationmode = 'country names',\n",
    "        z = ct2['Color Value'],\n",
    "#         text = ct2['Countries'],\n",
    "        colorscale = [[0, color], [1, color]],\n",
    "        marker_line_color='black',\n",
    "        marker_line_width=0.5,\n",
    "        colorbar_tickprefix = '$',\n",
    "        colorbar_title = 'GDP<br>Billions US$',\n",
    "        hoverinfo = 'location',\n",
    "        showscale = False,\n",
    "    ),\n",
    "    layout=go.Layout(\n",
    "        height= 600, \n",
    "        width = 1000,\n",
    "        margin=dict(l=20, r=20, t=20, b=20)\n",
    "    )\n",
    ")\n",
    "# us_map.update_geos(\n",
    "#     countrycolor=\"black\"\n",
    "# )\n",
    "# us_map.update_layout(coloraxis_showscale=False)\n",
    "# us_map.update_layout(annotations=[\n",
    "#             go.layout.Annotation(\n",
    "#                 text='new text',\n",
    "#                 align='left',\n",
    "#                 showarrow=False,\n",
    "#                 xref='paper',\n",
    "#                 yref='paper',\n",
    "#                 x=0.5,\n",
    "#                 y=-0.2,\n",
    "#                 bordercolor='black',\n",
    "#                 borderwidth=1\n",
    "#             )\n",
    "#         ])\n",
    "# us_map.show(config={'displayModeBar': False})"
   ]
  },
  {
   "cell_type": "code",
   "execution_count": 365,
   "metadata": {},
   "outputs": [
    {
     "data": {
      "application/vnd.jupyter.widget-view+json": {
       "model_id": "ea4c9788b78b4c4bb2ca9e2d4ff18210",
       "version_major": 2,
       "version_minor": 0
      },
      "text/plain": [
       "FigureWidget({\n",
       "    'data': [{'colorbar': {'tickprefix': '$', 'title': {'text': 'GDP<br>Billions US$'}},\n",
       "      …"
      ]
     },
     "metadata": {},
     "output_type": "display_data"
    }
   ],
   "source": [
    "clicker = go.FigureWidget(us_map)\n",
    "\n",
    "current = -1\n",
    "def show_info(trace, points, selector):\n",
    "    global current\n",
    "    index = points.point_inds[0]\n",
    "    with fig.batch_update():\n",
    "        if current == index:\n",
    "            clicker.update_layout(annotations=[], overwrite = True)\n",
    "            current = -1\n",
    "        else:\n",
    "            text = ct2['Description'].iloc[index]\n",
    "            mult = str.count(text, '<br>')\n",
    "            clicker.update_layout(\n",
    "                annotations=[\n",
    "                    go.layout.Annotation(\n",
    "                        text=text,\n",
    "                        align='left',\n",
    "                        showarrow=False,\n",
    "                        xref='paper',\n",
    "                        yref='paper',\n",
    "                        x = 0.5,\n",
    "                        y = - 0.05 * mult\n",
    "#                         bordercolor='black',\n",
    "#                         borderwidth=1\n",
    "                    )\n",
    "                ],\n",
    "                margin=dict(l=20, r=20, t=20, b=20 + 20 * mult))\n",
    "            current = index\n",
    "\n",
    "choro = clicker.data[0]\n",
    "choro.on_click(show_info)\n",
    "\n",
    "# clicker.plot(config={'displayModeBar': False})\n",
    "clicker\n",
    "# import matplotlib.pyplot as plt\n",
    "# plt.plot(clicker, config={'displayModeBar': False})"
   ]
  },
  {
   "cell_type": "code",
   "execution_count": null,
   "metadata": {},
   "outputs": [],
   "source": []
  },
  {
   "cell_type": "code",
   "execution_count": null,
   "metadata": {},
   "outputs": [],
   "source": []
  },
  {
   "cell_type": "code",
   "execution_count": null,
   "metadata": {},
   "outputs": [],
   "source": []
  },
  {
   "cell_type": "code",
   "execution_count": null,
   "metadata": {},
   "outputs": [],
   "source": []
  },
  {
   "cell_type": "code",
   "execution_count": null,
   "metadata": {},
   "outputs": [],
   "source": []
  },
  {
   "cell_type": "code",
   "execution_count": 249,
   "metadata": {},
   "outputs": [
    {
     "data": {
      "application/vnd.jupyter.widget-view+json": {
       "model_id": "899638d97f70483cb38d909c7523f9ba",
       "version_major": 2,
       "version_minor": 0
      },
      "text/plain": [
       "FigureWidget({\n",
       "    'data': [{'marker': {'color': [#a3a7e4, #a3a7e4, #a3a7e4, #a3a7e4, #a3a7e4,\n",
       "               …"
      ]
     },
     "metadata": {},
     "output_type": "display_data"
    }
   ],
   "source": [
    "import numpy as np\n",
    "np.random.seed(1)\n",
    "\n",
    "x = np.random.rand(100)\n",
    "y = np.random.rand(100)\n",
    "trace = go.Scatter(x=x, y=y, mode='markers')\n",
    "\n",
    "f = go.FigureWidget(trace)\n",
    "\n",
    "scatter = f.data[0]\n",
    "colors = ['#a3a7e4'] * 100\n",
    "scatter.marker.color = colors\n",
    "scatter.marker.size = [10] * 100\n",
    "f.layout.hovermode = 'closest'\n",
    "\n",
    "\n",
    "# create our callback function\n",
    "def update_point(trace, points, selector):\n",
    "    c = list(scatter.marker.color)\n",
    "    s = list(scatter.marker.size)\n",
    "    for i in points.point_inds:\n",
    "        c[i] = '#bae2be'\n",
    "        s[i] = 20\n",
    "        with f.batch_update():\n",
    "            scatter.marker.color = c\n",
    "            scatter.marker.size = s\n",
    "\n",
    "\n",
    "scatter.on_click(update_point)\n",
    "\n",
    "f"
   ]
  },
  {
   "cell_type": "code",
   "execution_count": 95,
   "metadata": {},
   "outputs": [
    {
     "data": {
      "application/vnd.plotly.v1+json": {
       "config": {
        "plotlyServerURL": "https://plot.ly"
       },
       "data": [
        {
         "autocolorscale": false,
         "colorbar": {
          "tickprefix": "$",
          "title": {
           "text": "GDP<br>Billions US$"
          }
         },
         "colorscale": [
          [
           0,
           "rgb(247,251,255)"
          ],
          [
           0.125,
           "rgb(222,235,247)"
          ],
          [
           0.25,
           "rgb(198,219,239)"
          ],
          [
           0.375,
           "rgb(158,202,225)"
          ],
          [
           0.5,
           "rgb(107,174,214)"
          ],
          [
           0.625,
           "rgb(66,146,198)"
          ],
          [
           0.75,
           "rgb(33,113,181)"
          ],
          [
           0.875,
           "rgb(8,81,156)"
          ],
          [
           1,
           "rgb(8,48,107)"
          ]
         ],
         "geo": "geo",
         "locationmode": "country names",
         "locations": [
          "Albania",
          "Albania",
          "Algeria",
          "Algeria",
          "Angola",
          "Angola",
          "Anguilla (UK)",
          "Anguilla (UK)",
          "Antigua and Barbuda",
          "Argentina",
          "Argentina",
          "Argentina",
          "Armenia",
          "Armenia",
          "Armenia",
          "Armenia",
          "Armenia",
          "Armenia",
          "Australia",
          "Australia",
          "Australia",
          "Austria",
          "Azerbaijan",
          "Azerbaijan",
          "Bahamas, the",
          "Bangladesh",
          "Bangladesh",
          "Barbados",
          "Barbados",
          "Belarus",
          "Belarus",
          "Belize",
          "Bermuda",
          "Bhutan",
          "Bolivia",
          "Bolivia",
          "Bolivia",
          "Bosnia & Herzegovina",
          "Brazil",
          "Brazil",
          "Brazil",
          "British Virgin Islands",
          "Bulgaria",
          "Bulgaria",
          "Burkina Faso",
          "Cabo Verde",
          "Cabo Verde",
          "Cambodia",
          "Cameron",
          "Canada",
          "Canada",
          "Cayman Islands",
          "Chile",
          "Chile",
          "China",
          "China",
          "China",
          "Code d’lvoire",
          "Colombia",
          "Colombia",
          "Colombia",
          "Colombia",
          "Comoros",
          "Congo, Dem. Rep",
          "Congo, Rep.",
          "Cook Island",
          "Cook Island",
          "Costa Rica",
          "Costa Rica",
          "Costa Rica",
          "Dominica",
          "Dominica",
          "Dominica",
          "Dominican Republic",
          "Dominican Republic",
          "Ecuador",
          "Egypt",
          "Egypt",
          "Egypt",
          "El Salvador",
          "Eswatini",
          "Fiji",
          "Fiji",
          "France",
          "France",
          "France",
          "France",
          "France",
          "Georgia",
          "Georgia",
          "Georgia",
          "Germany",
          "Greece",
          "Greece",
          "Greece",
          "Greece",
          "Greece",
          "Greece",
          "Greece",
          "Grenada",
          "Guatemala",
          "Guatemala",
          "Guernsey",
          "Guinea",
          "Haiti",
          "Honduras",
          "Hong-Kong",
          "Iceland",
          "Iceland",
          "India",
          "India",
          "India",
          "India",
          "India",
          "Indonesia",
          "Indonesia",
          "Indonesia",
          "Iran",
          "Iran",
          "Iraq",
          "Ireland",
          "Italy",
          "Italy",
          "Italy",
          "Italy",
          "Jamaica",
          "Jamaica",
          "Jamaica",
          "Jamaica",
          "Jamaica",
          "Jamaica",
          "Jamaica",
          "Japan",
          "Jordan",
          "Jordan",
          "Kazakhstan",
          "Kenya",
          "Kenya",
          "Kenya",
          "Kosovo",
          "Kosovo",
          "Kosovo",
          "Kosovo",
          "Kyrgyz Republic",
          "Kyrgyz Republic",
          "Lao PDR",
          "Lebanon",
          "Lesotho",
          "Liberia",
          "Luxembourg",
          "Luxembourg",
          "Madagascar",
          "Malawi",
          "Malawi",
          "Malaysia",
          "Malaysia",
          "Malaysia",
          "Malaysia",
          "Malaysia",
          "Malaysia",
          "Malaysia",
          "Mali",
          "Malta",
          "Mauritania",
          "Mauritius",
          "Mexico",
          "Moldova",
          "Moldova",
          "Mongolia",
          "Montenegro",
          "Montenegro",
          "Montenegro",
          "Montserrat (UK)",
          "Morocco",
          "Myanmar",
          "Myanmar",
          "Namibia",
          "Netherlands",
          "New Zealand",
          "Niger",
          "Nigeria",
          "North Macedonia",
          "Northern Mariana Islands",
          "Pakistan",
          "Panama",
          "Paraguay",
          "Paraguay",
          "Paraguay",
          "Paraguay",
          "Peru",
          "Peru",
          "Peru",
          "Peru",
          "Peru",
          "Philippines",
          "Philippines",
          "Philippines",
          "Philippines",
          "Philippines",
          "Philippines",
          "Philippines",
          "Philippines",
          "Portugal",
          "Romania",
          "Romania",
          "Russia",
          "Russia",
          "Russia",
          "Russia",
          "Russia",
          "Russia",
          "Rwanda",
          "Saint Lucia",
          "Sao Tome and Principe",
          "Serbia",
          "Sierra Leone",
          "Sierra Leone",
          "Singapore",
          "Singapore",
          "Singapore",
          "Singapore",
          "Singapore",
          "Sint Maarten (Dutch part)",
          "Slovak Republic",
          "Slovenia",
          "Somalia",
          "South Africa",
          "South Africa",
          "South Africa",
          "South Africa",
          "South Korea",
          "South Korea",
          "South Korea",
          "South Sudan",
          "Spain",
          "Spain",
          "Spain",
          "Sri Lanka",
          "St Kitts and Nevis",
          "St. Vincent and the Grenadines",
          "Suriname",
          "Tajikistan",
          "Thailand",
          "Timor-Leste",
          "Togo",
          "Togo",
          "Trinidad and Tobago",
          "Trinidad and Tobago",
          "Trinidad and Tobago",
          "Tunisia",
          "Tunisia",
          "Tunisia",
          "Tunisia",
          "Tunisia",
          "Turkey",
          "Turkey",
          "Turkey",
          "Turkey",
          "Turkey",
          "Turkey",
          "Turks and Caicos islands",
          "Turks and Caicos islands",
          "Tuvalu",
          "Uganda",
          "UK",
          "UK",
          "Ukraine",
          "Ukraine",
          "Ukraine",
          "Ukraine",
          "Ukraine",
          "Ukraine",
          "US",
          "Uzbekistan",
          "Uzbekistan",
          "Uzbekistan",
          "Venezuela",
          "Vietnam",
          "Vietnam",
          "Vietnam",
          "Vietnam",
          "West Bank and Gaza",
          "Zimbabwe",
          "Zimbabwe"
         ],
         "marker": {
          "line": {
           "color": "darkgray",
           "width": 0.5
          }
         },
         "reversescale": true,
         "text": [
          "Albania",
          "Albania",
          "Algeria",
          "Algeria",
          "Angola",
          "Angola",
          "Anguilla (UK)",
          "Anguilla (UK)",
          "Antigua and Barbuda",
          "Argentina",
          "Argentina",
          "Argentina",
          "Armenia",
          "Armenia",
          "Armenia",
          "Armenia",
          "Armenia",
          "Armenia",
          "Australia",
          "Australia",
          "Australia",
          "Austria",
          "Azerbaijan",
          "Azerbaijan",
          "Bahamas, the",
          "Bangladesh",
          "Bangladesh",
          "Barbados",
          "Barbados",
          "Belarus",
          "Belarus",
          "Belize",
          "Bermuda",
          "Bhutan",
          "Bolivia",
          "Bolivia",
          "Bolivia",
          "Bosnia & Herzegovina",
          "Brazil",
          "Brazil",
          "Brazil",
          "British Virgin Islands",
          "Bulgaria",
          "Bulgaria",
          "Burkina Faso",
          "Cabo Verde",
          "Cabo Verde",
          "Cambodia",
          "Cameron",
          "Canada",
          "Canada",
          "Cayman Islands",
          "Chile",
          "Chile",
          "China",
          "China",
          "China",
          "Code d’lvoire",
          "Colombia",
          "Colombia",
          "Colombia",
          "Colombia",
          "Comoros",
          "Congo, Dem. Rep",
          "Congo, Rep.",
          "Cook Island",
          "Cook Island",
          "Costa Rica",
          "Costa Rica",
          "Costa Rica",
          "Dominica",
          "Dominica",
          "Dominica",
          "Dominican Republic",
          "Dominican Republic",
          "Ecuador",
          "Egypt",
          "Egypt",
          "Egypt",
          "El Salvador",
          "Eswatini",
          "Fiji",
          "Fiji",
          "France",
          "France",
          "France",
          "France",
          "France",
          "Georgia",
          "Georgia",
          "Georgia",
          "Germany",
          "Greece",
          "Greece",
          "Greece",
          "Greece",
          "Greece",
          "Greece",
          "Greece",
          "Grenada",
          "Guatemala",
          "Guatemala",
          "Guernsey",
          "Guinea",
          "Haiti",
          "Honduras",
          "Hong-Kong",
          "Iceland",
          "Iceland",
          "India",
          "India",
          "India",
          "India",
          "India",
          "Indonesia",
          "Indonesia",
          "Indonesia",
          "Iran",
          "Iran",
          "Iraq",
          "Ireland",
          "Italy",
          "Italy",
          "Italy",
          "Italy",
          "Jamaica",
          "Jamaica",
          "Jamaica",
          "Jamaica",
          "Jamaica",
          "Jamaica",
          "Jamaica",
          "Japan",
          "Jordan",
          "Jordan",
          "Kazakhstan",
          "Kenya",
          "Kenya",
          "Kenya",
          "Kosovo",
          "Kosovo",
          "Kosovo",
          "Kosovo",
          "Kyrgyz Republic",
          "Kyrgyz Republic",
          "Lao PDR",
          "Lebanon",
          "Lesotho",
          "Liberia",
          "Luxembourg",
          "Luxembourg",
          "Madagascar",
          "Malawi",
          "Malawi",
          "Malaysia",
          "Malaysia",
          "Malaysia",
          "Malaysia",
          "Malaysia",
          "Malaysia",
          "Malaysia",
          "Mali",
          "Malta",
          "Mauritania",
          "Mauritius",
          "Mexico",
          "Moldova",
          "Moldova",
          "Mongolia",
          "Montenegro",
          "Montenegro",
          "Montenegro",
          "Montserrat (UK)",
          "Morocco",
          "Myanmar",
          "Myanmar",
          "Namibia",
          "Netherlands",
          "New Zealand",
          "Niger",
          "Nigeria",
          "North Macedonia",
          "Northern Mariana Islands",
          "Pakistan",
          "Panama",
          "Paraguay",
          "Paraguay",
          "Paraguay",
          "Paraguay",
          "Peru",
          "Peru",
          "Peru",
          "Peru",
          "Peru",
          "Philippines",
          "Philippines",
          "Philippines",
          "Philippines",
          "Philippines",
          "Philippines",
          "Philippines",
          "Philippines",
          "Portugal",
          "Romania",
          "Romania",
          "Russia",
          "Russia",
          "Russia",
          "Russia",
          "Russia",
          "Russia",
          "Rwanda",
          "Saint Lucia",
          "Sao Tome and Principe",
          "Serbia",
          "Sierra Leone",
          "Sierra Leone",
          "Singapore",
          "Singapore",
          "Singapore",
          "Singapore",
          "Singapore",
          "Sint Maarten (Dutch part)",
          "Slovak Republic",
          "Slovenia",
          "Somalia",
          "South Africa",
          "South Africa",
          "South Africa",
          "South Africa",
          "South Korea",
          "South Korea",
          "South Korea",
          "South Sudan",
          "Spain",
          "Spain",
          "Spain",
          "Sri Lanka",
          "St Kitts and Nevis",
          "St. Vincent and the Grenadines",
          "Suriname",
          "Tajikistan",
          "Thailand",
          "Timor-Leste",
          "Togo",
          "Togo",
          "Trinidad and Tobago",
          "Trinidad and Tobago",
          "Trinidad and Tobago",
          "Tunisia",
          "Tunisia",
          "Tunisia",
          "Tunisia",
          "Tunisia",
          "Turkey",
          "Turkey",
          "Turkey",
          "Turkey",
          "Turkey",
          "Turkey",
          "Turks and Caicos islands",
          "Turks and Caicos islands",
          "Tuvalu",
          "Uganda",
          "UK",
          "UK",
          "Ukraine",
          "Ukraine",
          "Ukraine",
          "Ukraine",
          "Ukraine",
          "Ukraine",
          "US",
          "Uzbekistan",
          "Uzbekistan",
          "Uzbekistan",
          "Venezuela",
          "Vietnam",
          "Vietnam",
          "Vietnam",
          "Vietnam",
          "West Bank and Gaza",
          "Zimbabwe",
          "Zimbabwe"
         ],
         "type": "choropleth",
         "z": [
          2866376,
          2866376,
          42228429,
          42228429,
          30809762,
          30809762,
          15094,
          15094,
          96286,
          44494502,
          44494502,
          44494502,
          2951776,
          2951776,
          2951776,
          2951776,
          2951776,
          2951776,
          24982688,
          24982688,
          24982688,
          8840521,
          9939800,
          9939800,
          385640,
          161356039,
          161356039,
          286641,
          286641,
          9483499,
          9483499,
          383071,
          63973,
          754000,
          11353142,
          11353142,
          11353142,
          3323929,
          209469333,
          209469333,
          209469333,
          29802,
          7025037,
          7025037,
          19751535,
          543767,
          543767,
          16249798,
          25216237,
          37057765,
          37057765,
          64174,
          18729160,
          18729160,
          1392730000,
          1392730000,
          1392730000,
          25000000,
          49648685,
          49648685,
          49648685,
          49648685,
          832322,
          84068091,
          5518087,
          17562,
          17562,
          4999441,
          4999441,
          4999441,
          71625,
          71625,
          71625,
          10627165,
          10627165,
          17084357,
          98423595,
          98423595,
          98423595,
          6420744,
          1136191,
          883483,
          883483,
          66977107,
          66977107,
          66977107,
          66977107,
          66977107,
          3726549,
          3726549,
          3726549,
          82905782,
          10731726,
          10731726,
          10731726,
          10731726,
          10731726,
          10731726,
          10731726,
          111454,
          17247807,
          17247807,
          " 63,196.",
          12414318,
          11123176,
          9587522,
          7451000,
          352721,
          352721,
          1352617328,
          1352617328,
          1352617328,
          1352617328,
          1352617328,
          267663435,
          267663435,
          267663435,
          81800269,
          81800269,
          38433600,
          4867309,
          60421760,
          60421760,
          60421760,
          60421760,
          2934855,
          2934855,
          2934855,
          2934855,
          2934855,
          2934855,
          2934855,
          126529100,
          9956011,
          9956011,
          18272430,
          51393010,
          51393010,
          51393010,
          1845300,
          1845300,
          1845300,
          1845300,
          6322800,
          6322800,
          7061507,
          6848925,
          2108132,
          4818977,
          607950,
          607950,
          26262368,
          18143315,
          18143315,
          31528585,
          31528585,
          31528585,
          31528585,
          31528585,
          31528585,
          31528585,
          19077690,
          484630,
          4403319,
          1265303,
          126190788,
          2706049,
          2706049,
          3170208,
          622227,
          622227,
          622227,
          4992,
          36029138,
          53708395,
          53708395,
          2448255,
          17231624,
          4841000,
          22442948,
          195874740,
          2082958,
          56882,
          212215030,
          4176873,
          6956071,
          6956071,
          6956071,
          6956071,
          31989256,
          31989256,
          31989256,
          31989256,
          31989256,
          106651922,
          106651922,
          106651922,
          106651922,
          106651922,
          106651922,
          106651922,
          106651922,
          10283822,
          19466145,
          19466145,
          144478050,
          144478050,
          144478050,
          144478050,
          144478050,
          144478050,
          12301939,
          181889,
          211028,
          6982604,
          7650154,
          7650154,
          5638676,
          5638676,
          5638676,
          5638676,
          5638676,
          40654,
          5446771,
          2073894,
          15008154,
          57779622,
          57779622,
          57779622,
          57779622,
          51606633,
          51606633,
          51606633,
          10975920,
          46796540,
          46796540,
          46796540,
          21670000,
          52441,
          110210,
          575991,
          9100837,
          69428524,
          1267972,
          7889094,
          7889094,
          1389858,
          1389858,
          1389858,
          11565204,
          11565204,
          11565204,
          11565204,
          11565204,
          82319724,
          82319724,
          82319724,
          82319724,
          82319724,
          82319724,
          37665,
          37665,
          11508,
          42723139,
          66460344,
          66460344,
          44622516,
          44622516,
          44622516,
          44622516,
          44622516,
          44622516,
          328000000,
          32955400,
          32955400,
          32955400,
          28870195,
          95540395,
          95540396,
          95540396,
          95540397,
          4569087,
          14439018,
          14439018
         ]
        }
       ],
       "layout": {
        "geo": {
         "domain": {
          "x": [
           0,
           1
          ],
          "y": [
           0.575,
           1
          ]
         }
        },
        "template": {
         "data": {
          "bar": [
           {
            "error_x": {
             "color": "#2a3f5f"
            },
            "error_y": {
             "color": "#2a3f5f"
            },
            "marker": {
             "line": {
              "color": "#E5ECF6",
              "width": 0.5
             }
            },
            "type": "bar"
           }
          ],
          "barpolar": [
           {
            "marker": {
             "line": {
              "color": "#E5ECF6",
              "width": 0.5
             }
            },
            "type": "barpolar"
           }
          ],
          "carpet": [
           {
            "aaxis": {
             "endlinecolor": "#2a3f5f",
             "gridcolor": "white",
             "linecolor": "white",
             "minorgridcolor": "white",
             "startlinecolor": "#2a3f5f"
            },
            "baxis": {
             "endlinecolor": "#2a3f5f",
             "gridcolor": "white",
             "linecolor": "white",
             "minorgridcolor": "white",
             "startlinecolor": "#2a3f5f"
            },
            "type": "carpet"
           }
          ],
          "choropleth": [
           {
            "colorbar": {
             "outlinewidth": 0,
             "ticks": ""
            },
            "type": "choropleth"
           }
          ],
          "contour": [
           {
            "colorbar": {
             "outlinewidth": 0,
             "ticks": ""
            },
            "colorscale": [
             [
              0,
              "#0d0887"
             ],
             [
              0.1111111111111111,
              "#46039f"
             ],
             [
              0.2222222222222222,
              "#7201a8"
             ],
             [
              0.3333333333333333,
              "#9c179e"
             ],
             [
              0.4444444444444444,
              "#bd3786"
             ],
             [
              0.5555555555555556,
              "#d8576b"
             ],
             [
              0.6666666666666666,
              "#ed7953"
             ],
             [
              0.7777777777777778,
              "#fb9f3a"
             ],
             [
              0.8888888888888888,
              "#fdca26"
             ],
             [
              1,
              "#f0f921"
             ]
            ],
            "type": "contour"
           }
          ],
          "contourcarpet": [
           {
            "colorbar": {
             "outlinewidth": 0,
             "ticks": ""
            },
            "type": "contourcarpet"
           }
          ],
          "heatmap": [
           {
            "colorbar": {
             "outlinewidth": 0,
             "ticks": ""
            },
            "colorscale": [
             [
              0,
              "#0d0887"
             ],
             [
              0.1111111111111111,
              "#46039f"
             ],
             [
              0.2222222222222222,
              "#7201a8"
             ],
             [
              0.3333333333333333,
              "#9c179e"
             ],
             [
              0.4444444444444444,
              "#bd3786"
             ],
             [
              0.5555555555555556,
              "#d8576b"
             ],
             [
              0.6666666666666666,
              "#ed7953"
             ],
             [
              0.7777777777777778,
              "#fb9f3a"
             ],
             [
              0.8888888888888888,
              "#fdca26"
             ],
             [
              1,
              "#f0f921"
             ]
            ],
            "type": "heatmap"
           }
          ],
          "heatmapgl": [
           {
            "colorbar": {
             "outlinewidth": 0,
             "ticks": ""
            },
            "colorscale": [
             [
              0,
              "#0d0887"
             ],
             [
              0.1111111111111111,
              "#46039f"
             ],
             [
              0.2222222222222222,
              "#7201a8"
             ],
             [
              0.3333333333333333,
              "#9c179e"
             ],
             [
              0.4444444444444444,
              "#bd3786"
             ],
             [
              0.5555555555555556,
              "#d8576b"
             ],
             [
              0.6666666666666666,
              "#ed7953"
             ],
             [
              0.7777777777777778,
              "#fb9f3a"
             ],
             [
              0.8888888888888888,
              "#fdca26"
             ],
             [
              1,
              "#f0f921"
             ]
            ],
            "type": "heatmapgl"
           }
          ],
          "histogram": [
           {
            "marker": {
             "colorbar": {
              "outlinewidth": 0,
              "ticks": ""
             }
            },
            "type": "histogram"
           }
          ],
          "histogram2d": [
           {
            "colorbar": {
             "outlinewidth": 0,
             "ticks": ""
            },
            "colorscale": [
             [
              0,
              "#0d0887"
             ],
             [
              0.1111111111111111,
              "#46039f"
             ],
             [
              0.2222222222222222,
              "#7201a8"
             ],
             [
              0.3333333333333333,
              "#9c179e"
             ],
             [
              0.4444444444444444,
              "#bd3786"
             ],
             [
              0.5555555555555556,
              "#d8576b"
             ],
             [
              0.6666666666666666,
              "#ed7953"
             ],
             [
              0.7777777777777778,
              "#fb9f3a"
             ],
             [
              0.8888888888888888,
              "#fdca26"
             ],
             [
              1,
              "#f0f921"
             ]
            ],
            "type": "histogram2d"
           }
          ],
          "histogram2dcontour": [
           {
            "colorbar": {
             "outlinewidth": 0,
             "ticks": ""
            },
            "colorscale": [
             [
              0,
              "#0d0887"
             ],
             [
              0.1111111111111111,
              "#46039f"
             ],
             [
              0.2222222222222222,
              "#7201a8"
             ],
             [
              0.3333333333333333,
              "#9c179e"
             ],
             [
              0.4444444444444444,
              "#bd3786"
             ],
             [
              0.5555555555555556,
              "#d8576b"
             ],
             [
              0.6666666666666666,
              "#ed7953"
             ],
             [
              0.7777777777777778,
              "#fb9f3a"
             ],
             [
              0.8888888888888888,
              "#fdca26"
             ],
             [
              1,
              "#f0f921"
             ]
            ],
            "type": "histogram2dcontour"
           }
          ],
          "mesh3d": [
           {
            "colorbar": {
             "outlinewidth": 0,
             "ticks": ""
            },
            "type": "mesh3d"
           }
          ],
          "parcoords": [
           {
            "line": {
             "colorbar": {
              "outlinewidth": 0,
              "ticks": ""
             }
            },
            "type": "parcoords"
           }
          ],
          "pie": [
           {
            "automargin": true,
            "type": "pie"
           }
          ],
          "scatter": [
           {
            "marker": {
             "colorbar": {
              "outlinewidth": 0,
              "ticks": ""
             }
            },
            "type": "scatter"
           }
          ],
          "scatter3d": [
           {
            "line": {
             "colorbar": {
              "outlinewidth": 0,
              "ticks": ""
             }
            },
            "marker": {
             "colorbar": {
              "outlinewidth": 0,
              "ticks": ""
             }
            },
            "type": "scatter3d"
           }
          ],
          "scattercarpet": [
           {
            "marker": {
             "colorbar": {
              "outlinewidth": 0,
              "ticks": ""
             }
            },
            "type": "scattercarpet"
           }
          ],
          "scattergeo": [
           {
            "marker": {
             "colorbar": {
              "outlinewidth": 0,
              "ticks": ""
             }
            },
            "type": "scattergeo"
           }
          ],
          "scattergl": [
           {
            "marker": {
             "colorbar": {
              "outlinewidth": 0,
              "ticks": ""
             }
            },
            "type": "scattergl"
           }
          ],
          "scattermapbox": [
           {
            "marker": {
             "colorbar": {
              "outlinewidth": 0,
              "ticks": ""
             }
            },
            "type": "scattermapbox"
           }
          ],
          "scatterpolar": [
           {
            "marker": {
             "colorbar": {
              "outlinewidth": 0,
              "ticks": ""
             }
            },
            "type": "scatterpolar"
           }
          ],
          "scatterpolargl": [
           {
            "marker": {
             "colorbar": {
              "outlinewidth": 0,
              "ticks": ""
             }
            },
            "type": "scatterpolargl"
           }
          ],
          "scatterternary": [
           {
            "marker": {
             "colorbar": {
              "outlinewidth": 0,
              "ticks": ""
             }
            },
            "type": "scatterternary"
           }
          ],
          "surface": [
           {
            "colorbar": {
             "outlinewidth": 0,
             "ticks": ""
            },
            "colorscale": [
             [
              0,
              "#0d0887"
             ],
             [
              0.1111111111111111,
              "#46039f"
             ],
             [
              0.2222222222222222,
              "#7201a8"
             ],
             [
              0.3333333333333333,
              "#9c179e"
             ],
             [
              0.4444444444444444,
              "#bd3786"
             ],
             [
              0.5555555555555556,
              "#d8576b"
             ],
             [
              0.6666666666666666,
              "#ed7953"
             ],
             [
              0.7777777777777778,
              "#fb9f3a"
             ],
             [
              0.8888888888888888,
              "#fdca26"
             ],
             [
              1,
              "#f0f921"
             ]
            ],
            "type": "surface"
           }
          ],
          "table": [
           {
            "cells": {
             "fill": {
              "color": "#EBF0F8"
             },
             "line": {
              "color": "white"
             }
            },
            "header": {
             "fill": {
              "color": "#C8D4E3"
             },
             "line": {
              "color": "white"
             }
            },
            "type": "table"
           }
          ]
         },
         "layout": {
          "annotationdefaults": {
           "arrowcolor": "#2a3f5f",
           "arrowhead": 0,
           "arrowwidth": 1
          },
          "coloraxis": {
           "colorbar": {
            "outlinewidth": 0,
            "ticks": ""
           }
          },
          "colorscale": {
           "diverging": [
            [
             0,
             "#8e0152"
            ],
            [
             0.1,
             "#c51b7d"
            ],
            [
             0.2,
             "#de77ae"
            ],
            [
             0.3,
             "#f1b6da"
            ],
            [
             0.4,
             "#fde0ef"
            ],
            [
             0.5,
             "#f7f7f7"
            ],
            [
             0.6,
             "#e6f5d0"
            ],
            [
             0.7,
             "#b8e186"
            ],
            [
             0.8,
             "#7fbc41"
            ],
            [
             0.9,
             "#4d9221"
            ],
            [
             1,
             "#276419"
            ]
           ],
           "sequential": [
            [
             0,
             "#0d0887"
            ],
            [
             0.1111111111111111,
             "#46039f"
            ],
            [
             0.2222222222222222,
             "#7201a8"
            ],
            [
             0.3333333333333333,
             "#9c179e"
            ],
            [
             0.4444444444444444,
             "#bd3786"
            ],
            [
             0.5555555555555556,
             "#d8576b"
            ],
            [
             0.6666666666666666,
             "#ed7953"
            ],
            [
             0.7777777777777778,
             "#fb9f3a"
            ],
            [
             0.8888888888888888,
             "#fdca26"
            ],
            [
             1,
             "#f0f921"
            ]
           ],
           "sequentialminus": [
            [
             0,
             "#0d0887"
            ],
            [
             0.1111111111111111,
             "#46039f"
            ],
            [
             0.2222222222222222,
             "#7201a8"
            ],
            [
             0.3333333333333333,
             "#9c179e"
            ],
            [
             0.4444444444444444,
             "#bd3786"
            ],
            [
             0.5555555555555556,
             "#d8576b"
            ],
            [
             0.6666666666666666,
             "#ed7953"
            ],
            [
             0.7777777777777778,
             "#fb9f3a"
            ],
            [
             0.8888888888888888,
             "#fdca26"
            ],
            [
             1,
             "#f0f921"
            ]
           ]
          },
          "colorway": [
           "#636efa",
           "#EF553B",
           "#00cc96",
           "#ab63fa",
           "#FFA15A",
           "#19d3f3",
           "#FF6692",
           "#B6E880",
           "#FF97FF",
           "#FECB52"
          ],
          "font": {
           "color": "#2a3f5f"
          },
          "geo": {
           "bgcolor": "white",
           "lakecolor": "white",
           "landcolor": "#E5ECF6",
           "showlakes": true,
           "showland": true,
           "subunitcolor": "white"
          },
          "hoverlabel": {
           "align": "left"
          },
          "hovermode": "closest",
          "mapbox": {
           "style": "light"
          },
          "paper_bgcolor": "white",
          "plot_bgcolor": "#E5ECF6",
          "polar": {
           "angularaxis": {
            "gridcolor": "white",
            "linecolor": "white",
            "ticks": ""
           },
           "bgcolor": "#E5ECF6",
           "radialaxis": {
            "gridcolor": "white",
            "linecolor": "white",
            "ticks": ""
           }
          },
          "scene": {
           "xaxis": {
            "backgroundcolor": "#E5ECF6",
            "gridcolor": "white",
            "gridwidth": 2,
            "linecolor": "white",
            "showbackground": true,
            "ticks": "",
            "zerolinecolor": "white"
           },
           "yaxis": {
            "backgroundcolor": "#E5ECF6",
            "gridcolor": "white",
            "gridwidth": 2,
            "linecolor": "white",
            "showbackground": true,
            "ticks": "",
            "zerolinecolor": "white"
           },
           "zaxis": {
            "backgroundcolor": "#E5ECF6",
            "gridcolor": "white",
            "gridwidth": 2,
            "linecolor": "white",
            "showbackground": true,
            "ticks": "",
            "zerolinecolor": "white"
           }
          },
          "shapedefaults": {
           "line": {
            "color": "#2a3f5f"
           }
          },
          "ternary": {
           "aaxis": {
            "gridcolor": "white",
            "linecolor": "white",
            "ticks": ""
           },
           "baxis": {
            "gridcolor": "white",
            "linecolor": "white",
            "ticks": ""
           },
           "bgcolor": "#E5ECF6",
           "caxis": {
            "gridcolor": "white",
            "linecolor": "white",
            "ticks": ""
           }
          },
          "title": {
           "x": 0.05
          },
          "xaxis": {
           "automargin": true,
           "gridcolor": "white",
           "linecolor": "white",
           "ticks": "",
           "title": {
            "standoff": 15
           },
           "zerolinecolor": "white",
           "zerolinewidth": 2
          },
          "yaxis": {
           "automargin": true,
           "gridcolor": "white",
           "linecolor": "white",
           "ticks": "",
           "title": {
            "standoff": 15
           },
           "zerolinecolor": "white",
           "zerolinewidth": 2
          }
         }
        },
        "xaxis": {
         "anchor": "y",
         "domain": [
          0,
          1
         ]
        },
        "yaxis": {
         "anchor": "x",
         "domain": [
          0,
          0.425
         ]
        }
       }
      },
      "text/html": [
       "<div>\n",
       "        \n",
       "        \n",
       "            <div id=\"4255d9e4-99fa-48e8-876e-dcc0a316933f\" class=\"plotly-graph-div\" style=\"height:525px; width:100%;\"></div>\n",
       "            <script type=\"text/javascript\">\n",
       "                require([\"plotly\"], function(Plotly) {\n",
       "                    window.PLOTLYENV=window.PLOTLYENV || {};\n",
       "                    \n",
       "                if (document.getElementById(\"4255d9e4-99fa-48e8-876e-dcc0a316933f\")) {\n",
       "                    Plotly.newPlot(\n",
       "                        '4255d9e4-99fa-48e8-876e-dcc0a316933f',\n",
       "                        [{\"autocolorscale\": false, \"colorbar\": {\"tickprefix\": \"$\", \"title\": {\"text\": \"GDP<br>Billions US$\"}}, \"colorscale\": [[0.0, \"rgb(247,251,255)\"], [0.125, \"rgb(222,235,247)\"], [0.25, \"rgb(198,219,239)\"], [0.375, \"rgb(158,202,225)\"], [0.5, \"rgb(107,174,214)\"], [0.625, \"rgb(66,146,198)\"], [0.75, \"rgb(33,113,181)\"], [0.875, \"rgb(8,81,156)\"], [1.0, \"rgb(8,48,107)\"]], \"geo\": \"geo\", \"locationmode\": \"country names\", \"locations\": [\"Albania\", \"Albania\", \"Algeria\", \"Algeria\", \"Angola\", \"Angola\", \"Anguilla (UK)\", \"Anguilla (UK)\", \"Antigua and Barbuda\", \"Argentina\", \"Argentina\", \"Argentina\", \"Armenia\", \"Armenia\", \"Armenia\", \"Armenia\", \"Armenia\", \"Armenia\", \"Australia\", \"Australia\", \"Australia\", \"Austria\", \"Azerbaijan\", \"Azerbaijan\", \"Bahamas, the\", \"Bangladesh\", \"Bangladesh\", \"Barbados\", \"Barbados\", \"Belarus\", \"Belarus\", \"Belize\", \"Bermuda\", \"Bhutan\", \"Bolivia\", \"Bolivia\", \"Bolivia\", \"Bosnia & Herzegovina\", \"Brazil\", \"Brazil\", \"Brazil\", \"British Virgin Islands\", \"Bulgaria\", \"Bulgaria\", \"Burkina Faso\", \"Cabo Verde\", \"Cabo Verde\", \"Cambodia\", \"Cameron\", \"Canada\", \"Canada\", \"Cayman Islands\", \"Chile\", \"Chile\", \"China\", \"China\", \"China\", \"Code d\\u2019lvoire\", \"Colombia\", \"Colombia\", \"Colombia\", \"Colombia\", \"Comoros\", \"Congo, Dem. Rep\", \"Congo, Rep.\", \"Cook Island\", \"Cook Island\", \"Costa Rica\", \"Costa Rica\", \"Costa Rica\", \"Dominica\", \"Dominica\", \"Dominica\", \"Dominican Republic\", \"Dominican Republic\", \"Ecuador\", \"Egypt\", \"Egypt\", \"Egypt\", \"El Salvador\", \"Eswatini\", \"Fiji\", \"Fiji\", \"France\", \"France\", \"France\", \"France\", \"France\", \"Georgia\", \"Georgia\", \"Georgia\", \"Germany\", \"Greece\", \"Greece\", \"Greece\", \"Greece\", \"Greece\", \"Greece\", \"Greece\", \"Grenada\", \"Guatemala\", \"Guatemala\", \"Guernsey\", \"Guinea\", \"Haiti\", \"Honduras\", \"Hong-Kong\", \"Iceland\", \"Iceland\", \"India\", \"India\", \"India\", \"India\", \"India\", \"Indonesia\", \"Indonesia\", \"Indonesia\", \"Iran\", \"Iran\", \"Iraq\", \"Ireland\", \"Italy\", \"Italy\", \"Italy\", \"Italy\", \"Jamaica\", \"Jamaica\", \"Jamaica\", \"Jamaica\", \"Jamaica\", \"Jamaica\", \"Jamaica\", \"Japan\", \"Jordan\", \"Jordan\", \"Kazakhstan\", \"Kenya\", \"Kenya\", \"Kenya\", \"Kosovo\", \"Kosovo\", \"Kosovo\", \"Kosovo\", \"Kyrgyz Republic\", \"Kyrgyz Republic\", \"Lao PDR\", \"Lebanon\", \"Lesotho\", \"Liberia\", \"Luxembourg\", \"Luxembourg\", \"Madagascar\", \"Malawi\", \"Malawi\", \"Malaysia\", \"Malaysia\", \"Malaysia\", \"Malaysia\", \"Malaysia\", \"Malaysia\", \"Malaysia\", \"Mali\", \"Malta\", \"Mauritania\", \"Mauritius\", \"Mexico\", \"Moldova\", \"Moldova\", \"Mongolia\", \"Montenegro\", \"Montenegro\", \"Montenegro\", \"Montserrat (UK)\", \"Morocco\", \"Myanmar\", \"Myanmar\", \"Namibia\", \"Netherlands\", \"New Zealand\", \"Niger\", \"Nigeria\", \"North Macedonia\", \"Northern Mariana Islands\", \"Pakistan\", \"Panama\", \"Paraguay\", \"Paraguay\", \"Paraguay\", \"Paraguay\", \"Peru\", \"Peru\", \"Peru\", \"Peru\", \"Peru\", \"Philippines\", \"Philippines\", \"Philippines\", \"Philippines\", \"Philippines\", \"Philippines\", \"Philippines\", \"Philippines\", \"Portugal\", \"Romania\", \"Romania\", \"Russia\", \"Russia\", \"Russia\", \"Russia\", \"Russia\", \"Russia\", \"Rwanda\", \"Saint Lucia\", \"Sao Tome and Principe\", \"Serbia\", \"Sierra Leone\", \"Sierra Leone\", \"Singapore\", \"Singapore\", \"Singapore\", \"Singapore\", \"Singapore\", \"Sint Maarten (Dutch part)\", \"Slovak Republic\", \"Slovenia\", \"Somalia\", \"South Africa\", \"South Africa\", \"South Africa\", \"South Africa\", \"South Korea\", \"South Korea\", \"South Korea\", \"South Sudan\", \"Spain\", \"Spain\", \"Spain\", \"Sri Lanka\", \"St Kitts and Nevis\", \"St. Vincent and the Grenadines\", \"Suriname\", \"Tajikistan\", \"Thailand\", \"Timor-Leste\", \"Togo\", \"Togo\", \"Trinidad and Tobago\", \"Trinidad and Tobago\", \"Trinidad and Tobago\", \"Tunisia\", \"Tunisia\", \"Tunisia\", \"Tunisia\", \"Tunisia\", \"Turkey\", \"Turkey\", \"Turkey\", \"Turkey\", \"Turkey\", \"Turkey\", \"Turks and Caicos islands\", \"Turks and Caicos islands\", \"Tuvalu\", \"Uganda\", \"UK\", \"UK\", \"Ukraine\", \"Ukraine\", \"Ukraine\", \"Ukraine\", \"Ukraine\", \"Ukraine\", \"US\", \"Uzbekistan\", \"Uzbekistan\", \"Uzbekistan\", \"Venezuela\", \"Vietnam\", \"Vietnam\", \"Vietnam\", \"Vietnam\", \"West Bank and Gaza\", \"Zimbabwe\", \"Zimbabwe\"], \"marker\": {\"line\": {\"color\": \"darkgray\", \"width\": 0.5}}, \"reversescale\": true, \"text\": [\"Albania\", \"Albania\", \"Algeria\", \"Algeria\", \"Angola\", \"Angola\", \"Anguilla (UK)\", \"Anguilla (UK)\", \"Antigua and Barbuda\", \"Argentina\", \"Argentina\", \"Argentina\", \"Armenia\", \"Armenia\", \"Armenia\", \"Armenia\", \"Armenia\", \"Armenia\", \"Australia\", \"Australia\", \"Australia\", \"Austria\", \"Azerbaijan\", \"Azerbaijan\", \"Bahamas, the\", \"Bangladesh\", \"Bangladesh\", \"Barbados\", \"Barbados\", \"Belarus\", \"Belarus\", \"Belize\", \"Bermuda\", \"Bhutan\", \"Bolivia\", \"Bolivia\", \"Bolivia\", \"Bosnia & Herzegovina\", \"Brazil\", \"Brazil\", \"Brazil\", \"British Virgin Islands\", \"Bulgaria\", \"Bulgaria\", \"Burkina Faso\", \"Cabo Verde\", \"Cabo Verde\", \"Cambodia\", \"Cameron\", \"Canada\", \"Canada\", \"Cayman Islands\", \"Chile\", \"Chile\", \"China\", \"China\", \"China\", \"Code d\\u2019lvoire\", \"Colombia\", \"Colombia\", \"Colombia\", \"Colombia\", \"Comoros\", \"Congo, Dem. Rep\", \"Congo, Rep.\", \"Cook Island\", \"Cook Island\", \"Costa Rica\", \"Costa Rica\", \"Costa Rica\", \"Dominica\", \"Dominica\", \"Dominica\", \"Dominican Republic\", \"Dominican Republic\", \"Ecuador\", \"Egypt\", \"Egypt\", \"Egypt\", \"El Salvador\", \"Eswatini\", \"Fiji\", \"Fiji\", \"France\", \"France\", \"France\", \"France\", \"France\", \"Georgia\", \"Georgia\", \"Georgia\", \"Germany\", \"Greece\", \"Greece\", \"Greece\", \"Greece\", \"Greece\", \"Greece\", \"Greece\", \"Grenada\", \"Guatemala\", \"Guatemala\", \"Guernsey\", \"Guinea\", \"Haiti\", \"Honduras\", \"Hong-Kong\", \"Iceland\", \"Iceland\", \"India\", \"India\", \"India\", \"India\", \"India\", \"Indonesia\", \"Indonesia\", \"Indonesia\", \"Iran\", \"Iran\", \"Iraq\", \"Ireland\", \"Italy\", \"Italy\", \"Italy\", \"Italy\", \"Jamaica\", \"Jamaica\", \"Jamaica\", \"Jamaica\", \"Jamaica\", \"Jamaica\", \"Jamaica\", \"Japan\", \"Jordan\", \"Jordan\", \"Kazakhstan\", \"Kenya\", \"Kenya\", \"Kenya\", \"Kosovo\", \"Kosovo\", \"Kosovo\", \"Kosovo\", \"Kyrgyz Republic\", \"Kyrgyz Republic\", \"Lao PDR\", \"Lebanon\", \"Lesotho\", \"Liberia\", \"Luxembourg\", \"Luxembourg\", \"Madagascar\", \"Malawi\", \"Malawi\", \"Malaysia\", \"Malaysia\", \"Malaysia\", \"Malaysia\", \"Malaysia\", \"Malaysia\", \"Malaysia\", \"Mali\", \"Malta\", \"Mauritania\", \"Mauritius\", \"Mexico\", \"Moldova\", \"Moldova\", \"Mongolia\", \"Montenegro\", \"Montenegro\", \"Montenegro\", \"Montserrat (UK)\", \"Morocco\", \"Myanmar\", \"Myanmar\", \"Namibia\", \"Netherlands\", \"New Zealand\", \"Niger\", \"Nigeria\", \"North Macedonia\", \"Northern Mariana Islands\", \"Pakistan\", \"Panama\", \"Paraguay\", \"Paraguay\", \"Paraguay\", \"Paraguay\", \"Peru\", \"Peru\", \"Peru\", \"Peru\", \"Peru\", \"Philippines\", \"Philippines\", \"Philippines\", \"Philippines\", \"Philippines\", \"Philippines\", \"Philippines\", \"Philippines\", \"Portugal\", \"Romania\", \"Romania\", \"Russia\", \"Russia\", \"Russia\", \"Russia\", \"Russia\", \"Russia\", \"Rwanda\", \"Saint Lucia\", \"Sao Tome and Principe\", \"Serbia\", \"Sierra Leone\", \"Sierra Leone\", \"Singapore\", \"Singapore\", \"Singapore\", \"Singapore\", \"Singapore\", \"Sint Maarten (Dutch part)\", \"Slovak Republic\", \"Slovenia\", \"Somalia\", \"South Africa\", \"South Africa\", \"South Africa\", \"South Africa\", \"South Korea\", \"South Korea\", \"South Korea\", \"South Sudan\", \"Spain\", \"Spain\", \"Spain\", \"Sri Lanka\", \"St Kitts and Nevis\", \"St. Vincent and the Grenadines\", \"Suriname\", \"Tajikistan\", \"Thailand\", \"Timor-Leste\", \"Togo\", \"Togo\", \"Trinidad and Tobago\", \"Trinidad and Tobago\", \"Trinidad and Tobago\", \"Tunisia\", \"Tunisia\", \"Tunisia\", \"Tunisia\", \"Tunisia\", \"Turkey\", \"Turkey\", \"Turkey\", \"Turkey\", \"Turkey\", \"Turkey\", \"Turks and Caicos islands\", \"Turks and Caicos islands\", \"Tuvalu\", \"Uganda\", \"UK\", \"UK\", \"Ukraine\", \"Ukraine\", \"Ukraine\", \"Ukraine\", \"Ukraine\", \"Ukraine\", \"US\", \"Uzbekistan\", \"Uzbekistan\", \"Uzbekistan\", \"Venezuela\", \"Vietnam\", \"Vietnam\", \"Vietnam\", \"Vietnam\", \"West Bank and Gaza\", \"Zimbabwe\", \"Zimbabwe\"], \"type\": \"choropleth\", \"z\": [2866376, 2866376, 42228429, 42228429, 30809762, 30809762, 15094, 15094, 96286, 44494502, 44494502, 44494502, 2951776, 2951776, 2951776, 2951776, 2951776, 2951776, 24982688, 24982688, 24982688, 8840521, 9939800, 9939800, 385640, 161356039, 161356039, 286641, 286641, 9483499, 9483499, 383071, 63973, 754000, 11353142, 11353142, 11353142, 3323929, 209469333, 209469333, 209469333, 29802, 7025037, 7025037, 19751535, 543767, 543767, 16249798, 25216237, 37057765, 37057765, 64174, 18729160, 18729160, 1392730000, 1392730000, 1392730000, 25000000, 49648685, 49648685, 49648685, 49648685, 832322, 84068091, 5518087, 17562, 17562, 4999441, 4999441, 4999441, 71625, 71625, 71625, 10627165, 10627165, 17084357, 98423595, 98423595, 98423595, 6420744, 1136191, 883483, 883483, 66977107, 66977107, 66977107, 66977107, 66977107, 3726549, 3726549, 3726549, 82905782, 10731726, 10731726, 10731726, 10731726, 10731726, 10731726, 10731726, 111454, 17247807, 17247807, \"\\u00a063,196.\", 12414318, 11123176, 9587522, 7451000, 352721, 352721, 1352617328, 1352617328, 1352617328, 1352617328, 1352617328, 267663435, 267663435, 267663435, 81800269, 81800269, 38433600, 4867309, 60421760, 60421760, 60421760, 60421760, 2934855, 2934855, 2934855, 2934855, 2934855, 2934855, 2934855, 126529100, 9956011, 9956011, 18272430, 51393010, 51393010, 51393010, 1845300, 1845300, 1845300, 1845300, 6322800, 6322800, 7061507, 6848925, 2108132, 4818977, 607950, 607950, 26262368, 18143315, 18143315, 31528585, 31528585, 31528585, 31528585, 31528585, 31528585, 31528585, 19077690, 484630, 4403319, 1265303, 126190788, 2706049, 2706049, 3170208, 622227, 622227, 622227, 4992, 36029138, 53708395, 53708395, 2448255, 17231624, 4841000, 22442948, 195874740, 2082958, 56882, 212215030, 4176873, 6956071, 6956071, 6956071, 6956071, 31989256, 31989256, 31989256, 31989256, 31989256, 106651922, 106651922, 106651922, 106651922, 106651922, 106651922, 106651922, 106651922, 10283822, 19466145, 19466145, 144478050, 144478050, 144478050, 144478050, 144478050, 144478050, 12301939, 181889, 211028, 6982604, 7650154, 7650154, 5638676, 5638676, 5638676, 5638676, 5638676, 40654, 5446771, 2073894, 15008154, 57779622, 57779622, 57779622, 57779622, 51606633, 51606633, 51606633, 10975920, 46796540, 46796540, 46796540, 21670000, 52441, 110210, 575991, 9100837, 69428524, 1267972, 7889094, 7889094, 1389858, 1389858, 1389858, 11565204, 11565204, 11565204, 11565204, 11565204, 82319724, 82319724, 82319724, 82319724, 82319724, 82319724, 37665, 37665, 11508, 42723139, 66460344, 66460344, 44622516, 44622516, 44622516, 44622516, 44622516, 44622516, 328000000, 32955400, 32955400, 32955400, 28870195, 95540395, 95540396, 95540396, 95540397, 4569087, 14439018, 14439018]}],\n",
       "                        {\"geo\": {\"domain\": {\"x\": [0.0, 1.0], \"y\": [0.575, 1.0]}}, \"template\": {\"data\": {\"bar\": [{\"error_x\": {\"color\": \"#2a3f5f\"}, \"error_y\": {\"color\": \"#2a3f5f\"}, \"marker\": {\"line\": {\"color\": \"#E5ECF6\", \"width\": 0.5}}, \"type\": \"bar\"}], \"barpolar\": [{\"marker\": {\"line\": {\"color\": \"#E5ECF6\", \"width\": 0.5}}, \"type\": \"barpolar\"}], \"carpet\": [{\"aaxis\": {\"endlinecolor\": \"#2a3f5f\", \"gridcolor\": \"white\", \"linecolor\": \"white\", \"minorgridcolor\": \"white\", \"startlinecolor\": \"#2a3f5f\"}, \"baxis\": {\"endlinecolor\": \"#2a3f5f\", \"gridcolor\": \"white\", \"linecolor\": \"white\", \"minorgridcolor\": \"white\", \"startlinecolor\": \"#2a3f5f\"}, \"type\": \"carpet\"}], \"choropleth\": [{\"colorbar\": {\"outlinewidth\": 0, \"ticks\": \"\"}, \"type\": \"choropleth\"}], \"contour\": [{\"colorbar\": {\"outlinewidth\": 0, \"ticks\": \"\"}, \"colorscale\": [[0.0, \"#0d0887\"], [0.1111111111111111, \"#46039f\"], [0.2222222222222222, \"#7201a8\"], [0.3333333333333333, \"#9c179e\"], [0.4444444444444444, \"#bd3786\"], [0.5555555555555556, \"#d8576b\"], [0.6666666666666666, \"#ed7953\"], [0.7777777777777778, \"#fb9f3a\"], [0.8888888888888888, \"#fdca26\"], [1.0, \"#f0f921\"]], \"type\": \"contour\"}], \"contourcarpet\": [{\"colorbar\": {\"outlinewidth\": 0, \"ticks\": \"\"}, \"type\": \"contourcarpet\"}], \"heatmap\": [{\"colorbar\": {\"outlinewidth\": 0, \"ticks\": \"\"}, \"colorscale\": [[0.0, \"#0d0887\"], [0.1111111111111111, \"#46039f\"], [0.2222222222222222, \"#7201a8\"], [0.3333333333333333, \"#9c179e\"], [0.4444444444444444, \"#bd3786\"], [0.5555555555555556, \"#d8576b\"], [0.6666666666666666, \"#ed7953\"], [0.7777777777777778, \"#fb9f3a\"], [0.8888888888888888, \"#fdca26\"], [1.0, \"#f0f921\"]], \"type\": \"heatmap\"}], \"heatmapgl\": [{\"colorbar\": {\"outlinewidth\": 0, \"ticks\": \"\"}, \"colorscale\": [[0.0, \"#0d0887\"], [0.1111111111111111, \"#46039f\"], [0.2222222222222222, \"#7201a8\"], [0.3333333333333333, \"#9c179e\"], [0.4444444444444444, \"#bd3786\"], [0.5555555555555556, \"#d8576b\"], [0.6666666666666666, \"#ed7953\"], [0.7777777777777778, \"#fb9f3a\"], [0.8888888888888888, \"#fdca26\"], [1.0, \"#f0f921\"]], \"type\": \"heatmapgl\"}], \"histogram\": [{\"marker\": {\"colorbar\": {\"outlinewidth\": 0, \"ticks\": \"\"}}, \"type\": \"histogram\"}], \"histogram2d\": [{\"colorbar\": {\"outlinewidth\": 0, \"ticks\": \"\"}, \"colorscale\": [[0.0, \"#0d0887\"], [0.1111111111111111, \"#46039f\"], [0.2222222222222222, \"#7201a8\"], [0.3333333333333333, \"#9c179e\"], [0.4444444444444444, \"#bd3786\"], [0.5555555555555556, \"#d8576b\"], [0.6666666666666666, \"#ed7953\"], [0.7777777777777778, \"#fb9f3a\"], [0.8888888888888888, \"#fdca26\"], [1.0, \"#f0f921\"]], \"type\": \"histogram2d\"}], \"histogram2dcontour\": [{\"colorbar\": {\"outlinewidth\": 0, \"ticks\": \"\"}, \"colorscale\": [[0.0, \"#0d0887\"], [0.1111111111111111, \"#46039f\"], [0.2222222222222222, \"#7201a8\"], [0.3333333333333333, \"#9c179e\"], [0.4444444444444444, \"#bd3786\"], [0.5555555555555556, \"#d8576b\"], [0.6666666666666666, \"#ed7953\"], [0.7777777777777778, \"#fb9f3a\"], [0.8888888888888888, \"#fdca26\"], [1.0, \"#f0f921\"]], \"type\": \"histogram2dcontour\"}], \"mesh3d\": [{\"colorbar\": {\"outlinewidth\": 0, \"ticks\": \"\"}, \"type\": \"mesh3d\"}], \"parcoords\": [{\"line\": {\"colorbar\": {\"outlinewidth\": 0, \"ticks\": \"\"}}, \"type\": \"parcoords\"}], \"pie\": [{\"automargin\": true, \"type\": \"pie\"}], \"scatter\": [{\"marker\": {\"colorbar\": {\"outlinewidth\": 0, \"ticks\": \"\"}}, \"type\": \"scatter\"}], \"scatter3d\": [{\"line\": {\"colorbar\": {\"outlinewidth\": 0, \"ticks\": \"\"}}, \"marker\": {\"colorbar\": {\"outlinewidth\": 0, \"ticks\": \"\"}}, \"type\": \"scatter3d\"}], \"scattercarpet\": [{\"marker\": {\"colorbar\": {\"outlinewidth\": 0, \"ticks\": \"\"}}, \"type\": \"scattercarpet\"}], \"scattergeo\": [{\"marker\": {\"colorbar\": {\"outlinewidth\": 0, \"ticks\": \"\"}}, \"type\": \"scattergeo\"}], \"scattergl\": [{\"marker\": {\"colorbar\": {\"outlinewidth\": 0, \"ticks\": \"\"}}, \"type\": \"scattergl\"}], \"scattermapbox\": [{\"marker\": {\"colorbar\": {\"outlinewidth\": 0, \"ticks\": \"\"}}, \"type\": \"scattermapbox\"}], \"scatterpolar\": [{\"marker\": {\"colorbar\": {\"outlinewidth\": 0, \"ticks\": \"\"}}, \"type\": \"scatterpolar\"}], \"scatterpolargl\": [{\"marker\": {\"colorbar\": {\"outlinewidth\": 0, \"ticks\": \"\"}}, \"type\": \"scatterpolargl\"}], \"scatterternary\": [{\"marker\": {\"colorbar\": {\"outlinewidth\": 0, \"ticks\": \"\"}}, \"type\": \"scatterternary\"}], \"surface\": [{\"colorbar\": {\"outlinewidth\": 0, \"ticks\": \"\"}, \"colorscale\": [[0.0, \"#0d0887\"], [0.1111111111111111, \"#46039f\"], [0.2222222222222222, \"#7201a8\"], [0.3333333333333333, \"#9c179e\"], [0.4444444444444444, \"#bd3786\"], [0.5555555555555556, \"#d8576b\"], [0.6666666666666666, \"#ed7953\"], [0.7777777777777778, \"#fb9f3a\"], [0.8888888888888888, \"#fdca26\"], [1.0, \"#f0f921\"]], \"type\": \"surface\"}], \"table\": [{\"cells\": {\"fill\": {\"color\": \"#EBF0F8\"}, \"line\": {\"color\": \"white\"}}, \"header\": {\"fill\": {\"color\": \"#C8D4E3\"}, \"line\": {\"color\": \"white\"}}, \"type\": \"table\"}]}, \"layout\": {\"annotationdefaults\": {\"arrowcolor\": \"#2a3f5f\", \"arrowhead\": 0, \"arrowwidth\": 1}, \"coloraxis\": {\"colorbar\": {\"outlinewidth\": 0, \"ticks\": \"\"}}, \"colorscale\": {\"diverging\": [[0, \"#8e0152\"], [0.1, \"#c51b7d\"], [0.2, \"#de77ae\"], [0.3, \"#f1b6da\"], [0.4, \"#fde0ef\"], [0.5, \"#f7f7f7\"], [0.6, \"#e6f5d0\"], [0.7, \"#b8e186\"], [0.8, \"#7fbc41\"], [0.9, \"#4d9221\"], [1, \"#276419\"]], \"sequential\": [[0.0, \"#0d0887\"], [0.1111111111111111, \"#46039f\"], [0.2222222222222222, \"#7201a8\"], [0.3333333333333333, \"#9c179e\"], [0.4444444444444444, \"#bd3786\"], [0.5555555555555556, \"#d8576b\"], [0.6666666666666666, \"#ed7953\"], [0.7777777777777778, \"#fb9f3a\"], [0.8888888888888888, \"#fdca26\"], [1.0, \"#f0f921\"]], \"sequentialminus\": [[0.0, \"#0d0887\"], [0.1111111111111111, \"#46039f\"], [0.2222222222222222, \"#7201a8\"], [0.3333333333333333, \"#9c179e\"], [0.4444444444444444, \"#bd3786\"], [0.5555555555555556, \"#d8576b\"], [0.6666666666666666, \"#ed7953\"], [0.7777777777777778, \"#fb9f3a\"], [0.8888888888888888, \"#fdca26\"], [1.0, \"#f0f921\"]]}, \"colorway\": [\"#636efa\", \"#EF553B\", \"#00cc96\", \"#ab63fa\", \"#FFA15A\", \"#19d3f3\", \"#FF6692\", \"#B6E880\", \"#FF97FF\", \"#FECB52\"], \"font\": {\"color\": \"#2a3f5f\"}, \"geo\": {\"bgcolor\": \"white\", \"lakecolor\": \"white\", \"landcolor\": \"#E5ECF6\", \"showlakes\": true, \"showland\": true, \"subunitcolor\": \"white\"}, \"hoverlabel\": {\"align\": \"left\"}, \"hovermode\": \"closest\", \"mapbox\": {\"style\": \"light\"}, \"paper_bgcolor\": \"white\", \"plot_bgcolor\": \"#E5ECF6\", \"polar\": {\"angularaxis\": {\"gridcolor\": \"white\", \"linecolor\": \"white\", \"ticks\": \"\"}, \"bgcolor\": \"#E5ECF6\", \"radialaxis\": {\"gridcolor\": \"white\", \"linecolor\": \"white\", \"ticks\": \"\"}}, \"scene\": {\"xaxis\": {\"backgroundcolor\": \"#E5ECF6\", \"gridcolor\": \"white\", \"gridwidth\": 2, \"linecolor\": \"white\", \"showbackground\": true, \"ticks\": \"\", \"zerolinecolor\": \"white\"}, \"yaxis\": {\"backgroundcolor\": \"#E5ECF6\", \"gridcolor\": \"white\", \"gridwidth\": 2, \"linecolor\": \"white\", \"showbackground\": true, \"ticks\": \"\", \"zerolinecolor\": \"white\"}, \"zaxis\": {\"backgroundcolor\": \"#E5ECF6\", \"gridcolor\": \"white\", \"gridwidth\": 2, \"linecolor\": \"white\", \"showbackground\": true, \"ticks\": \"\", \"zerolinecolor\": \"white\"}}, \"shapedefaults\": {\"line\": {\"color\": \"#2a3f5f\"}}, \"ternary\": {\"aaxis\": {\"gridcolor\": \"white\", \"linecolor\": \"white\", \"ticks\": \"\"}, \"baxis\": {\"gridcolor\": \"white\", \"linecolor\": \"white\", \"ticks\": \"\"}, \"bgcolor\": \"#E5ECF6\", \"caxis\": {\"gridcolor\": \"white\", \"linecolor\": \"white\", \"ticks\": \"\"}}, \"title\": {\"x\": 0.05}, \"xaxis\": {\"automargin\": true, \"gridcolor\": \"white\", \"linecolor\": \"white\", \"ticks\": \"\", \"title\": {\"standoff\": 15}, \"zerolinecolor\": \"white\", \"zerolinewidth\": 2}, \"yaxis\": {\"automargin\": true, \"gridcolor\": \"white\", \"linecolor\": \"white\", \"ticks\": \"\", \"title\": {\"standoff\": 15}, \"zerolinecolor\": \"white\", \"zerolinewidth\": 2}}}, \"xaxis\": {\"anchor\": \"y\", \"domain\": [0.0, 1.0]}, \"yaxis\": {\"anchor\": \"x\", \"domain\": [0.0, 0.425]}},\n",
       "                        {\"responsive\": true}\n",
       "                    ).then(function(){\n",
       "                            \n",
       "var gd = document.getElementById('4255d9e4-99fa-48e8-876e-dcc0a316933f');\n",
       "var x = new MutationObserver(function (mutations, observer) {{\n",
       "        var display = window.getComputedStyle(gd).display;\n",
       "        if (!display || display === 'none') {{\n",
       "            console.log([gd, 'removed!']);\n",
       "            Plotly.purge(gd);\n",
       "            observer.disconnect();\n",
       "        }}\n",
       "}});\n",
       "\n",
       "// Listen for the removal of the full notebook cells\n",
       "var notebookContainer = gd.closest('#notebook-container');\n",
       "if (notebookContainer) {{\n",
       "    x.observe(notebookContainer, {childList: true});\n",
       "}}\n",
       "\n",
       "// Listen for the clearing of the current output cell\n",
       "var outputEl = gd.closest('.output');\n",
       "if (outputEl) {{\n",
       "    x.observe(outputEl, {childList: true});\n",
       "}}\n",
       "\n",
       "                        })\n",
       "                };\n",
       "                });\n",
       "            </script>\n",
       "        </div>"
      ]
     },
     "metadata": {},
     "output_type": "display_data"
    }
   ],
   "source": [
    "clicker = go.FigureWidget(us_map)\n",
    "\n",
    "# def show_info():\n",
    "    \n",
    "\n",
    "# clicker.on_click(show_info)\n",
    "# clicker\n",
    "\n",
    "big_fig = make_subplots(\n",
    "    rows=2, cols=1,\n",
    "    row_heights=[1, 1],\n",
    "    specs=[[{'type': 'choropleth'}], [{'type': 'bar'}]]\n",
    "    )\n",
    "\n",
    "# big_fig = make_subplots(\n",
    "#     rows=1, cols=2)\n",
    "\n",
    "\n",
    "\n",
    "big_fig.append_trace(us_map.data[0], row=1, col=1)\n",
    "\n",
    "big_fig"
   ]
  },
  {
   "cell_type": "code",
   "execution_count": 94,
   "metadata": {
    "scrolled": true
   },
   "outputs": [
    {
     "data": {
      "text/html": [
       "        <script type=\"text/javascript\">\n",
       "        window.PlotlyConfig = {MathJaxConfig: 'local'};\n",
       "        if (window.MathJax) {MathJax.Hub.Config({SVG: {font: \"STIX-Web\"}});}\n",
       "        if (typeof require !== 'undefined') {\n",
       "        require.undef(\"plotly\");\n",
       "        requirejs.config({\n",
       "            paths: {\n",
       "                'plotly': ['https://cdn.plot.ly/plotly-latest.min']\n",
       "            }\n",
       "        });\n",
       "        require(['plotly'], function(Plotly) {\n",
       "            window._Plotly = Plotly;\n",
       "        });\n",
       "        }\n",
       "        </script>\n",
       "        "
      ]
     },
     "metadata": {},
     "output_type": "display_data"
    },
    {
     "ename": "ValueError",
     "evalue": "Trace type 'choropleth' is not compatible with subplot type 'xy'\nat grid position (1, 1) \n\nSee the docstring for the specs argument to plotly.subplots.make_subplots \nfor more information on subplot types",
     "output_type": "error",
     "traceback": [
      "\u001b[0;31m---------------------------------------------------------------------------\u001b[0m",
      "\u001b[0;31mValueError\u001b[0m                                Traceback (most recent call last)",
      "\u001b[0;32m<ipython-input-94-b2879a6788d4>\u001b[0m in \u001b[0;36m<module>\u001b[0;34m\u001b[0m\n\u001b[1;32m     18\u001b[0m )\n\u001b[1;32m     19\u001b[0m \u001b[0mfig\u001b[0m \u001b[0;34m=\u001b[0m \u001b[0msubplots\u001b[0m\u001b[0;34m.\u001b[0m\u001b[0mmake_subplots\u001b[0m\u001b[0;34m(\u001b[0m\u001b[0mrows\u001b[0m \u001b[0;34m=\u001b[0m \u001b[0;36m1\u001b[0m\u001b[0;34m,\u001b[0m \u001b[0mcols\u001b[0m \u001b[0;34m=\u001b[0m \u001b[0;36m2\u001b[0m\u001b[0;34m)\u001b[0m\u001b[0;34m\u001b[0m\u001b[0;34m\u001b[0m\u001b[0m\n\u001b[0;32m---> 20\u001b[0;31m \u001b[0mfig\u001b[0m\u001b[0;34m.\u001b[0m\u001b[0mappend_trace\u001b[0m\u001b[0;34m(\u001b[0m\u001b[0mus_map\u001b[0m\u001b[0;34m.\u001b[0m\u001b[0mdata\u001b[0m\u001b[0;34m[\u001b[0m\u001b[0;36m0\u001b[0m\u001b[0;34m]\u001b[0m\u001b[0;34m,\u001b[0m \u001b[0;36m1\u001b[0m\u001b[0;34m,\u001b[0m \u001b[0;36m1\u001b[0m\u001b[0;34m)\u001b[0m\u001b[0;34m\u001b[0m\u001b[0;34m\u001b[0m\u001b[0m\n\u001b[0m\u001b[1;32m     21\u001b[0m \u001b[0mfig\u001b[0m\u001b[0;34m.\u001b[0m\u001b[0mappend_trace\u001b[0m\u001b[0;34m(\u001b[0m\u001b[0mtrace2\u001b[0m\u001b[0;34m,\u001b[0m \u001b[0;36m1\u001b[0m\u001b[0;34m,\u001b[0m \u001b[0;36m2\u001b[0m\u001b[0;34m)\u001b[0m\u001b[0;34m\u001b[0m\u001b[0;34m\u001b[0m\u001b[0m\n\u001b[1;32m     22\u001b[0m \u001b[0mfig\u001b[0m\u001b[0;34m[\u001b[0m\u001b[0;34m'layout'\u001b[0m\u001b[0;34m]\u001b[0m\u001b[0;34m.\u001b[0m\u001b[0mupdate\u001b[0m\u001b[0;34m(\u001b[0m\u001b[0mheight\u001b[0m \u001b[0;34m=\u001b[0m \u001b[0;36m600\u001b[0m\u001b[0;34m,\u001b[0m \u001b[0mwidth\u001b[0m \u001b[0;34m=\u001b[0m \u001b[0;36m800\u001b[0m\u001b[0;34m,\u001b[0m \u001b[0mtitle\u001b[0m \u001b[0;34m=\u001b[0m \u001b[0;34m'subplot'\u001b[0m\u001b[0;34m)\u001b[0m\u001b[0;34m\u001b[0m\u001b[0;34m\u001b[0m\u001b[0m\n",
      "\u001b[0;32m~/miniconda/lib/python3.8/site-packages/plotly/basedatatypes.py\u001b[0m in \u001b[0;36mappend_trace\u001b[0;34m(self, trace, row, col)\u001b[0m\n\u001b[1;32m   1840\u001b[0m         )\n\u001b[1;32m   1841\u001b[0m \u001b[0;34m\u001b[0m\u001b[0m\n\u001b[0;32m-> 1842\u001b[0;31m         \u001b[0mself\u001b[0m\u001b[0;34m.\u001b[0m\u001b[0madd_trace\u001b[0m\u001b[0;34m(\u001b[0m\u001b[0mtrace\u001b[0m\u001b[0;34m=\u001b[0m\u001b[0mtrace\u001b[0m\u001b[0;34m,\u001b[0m \u001b[0mrow\u001b[0m\u001b[0;34m=\u001b[0m\u001b[0mrow\u001b[0m\u001b[0;34m,\u001b[0m \u001b[0mcol\u001b[0m\u001b[0;34m=\u001b[0m\u001b[0mcol\u001b[0m\u001b[0;34m)\u001b[0m\u001b[0;34m\u001b[0m\u001b[0;34m\u001b[0m\u001b[0m\n\u001b[0m\u001b[1;32m   1843\u001b[0m \u001b[0;34m\u001b[0m\u001b[0m\n\u001b[1;32m   1844\u001b[0m     \u001b[0;32mdef\u001b[0m \u001b[0m_set_trace_grid_position\u001b[0m\u001b[0;34m(\u001b[0m\u001b[0mself\u001b[0m\u001b[0;34m,\u001b[0m \u001b[0mtrace\u001b[0m\u001b[0;34m,\u001b[0m \u001b[0mrow\u001b[0m\u001b[0;34m,\u001b[0m \u001b[0mcol\u001b[0m\u001b[0;34m,\u001b[0m \u001b[0msecondary_y\u001b[0m\u001b[0;34m=\u001b[0m\u001b[0;32mFalse\u001b[0m\u001b[0;34m)\u001b[0m\u001b[0;34m:\u001b[0m\u001b[0;34m\u001b[0m\u001b[0;34m\u001b[0m\u001b[0m\n",
      "\u001b[0;32m~/miniconda/lib/python3.8/site-packages/plotly/basedatatypes.py\u001b[0m in \u001b[0;36madd_trace\u001b[0;34m(self, trace, row, col, secondary_y)\u001b[0m\n\u001b[1;32m   1646\u001b[0m             )\n\u001b[1;32m   1647\u001b[0m \u001b[0;34m\u001b[0m\u001b[0m\n\u001b[0;32m-> 1648\u001b[0;31m         return self.add_traces(\n\u001b[0m\u001b[1;32m   1649\u001b[0m             \u001b[0mdata\u001b[0m\u001b[0;34m=\u001b[0m\u001b[0;34m[\u001b[0m\u001b[0mtrace\u001b[0m\u001b[0;34m]\u001b[0m\u001b[0;34m,\u001b[0m\u001b[0;34m\u001b[0m\u001b[0;34m\u001b[0m\u001b[0m\n\u001b[1;32m   1650\u001b[0m             \u001b[0mrows\u001b[0m\u001b[0;34m=\u001b[0m\u001b[0;34m[\u001b[0m\u001b[0mrow\u001b[0m\u001b[0;34m]\u001b[0m \u001b[0;32mif\u001b[0m \u001b[0mrow\u001b[0m \u001b[0;32mis\u001b[0m \u001b[0;32mnot\u001b[0m \u001b[0;32mNone\u001b[0m \u001b[0;32melse\u001b[0m \u001b[0;32mNone\u001b[0m\u001b[0;34m,\u001b[0m\u001b[0;34m\u001b[0m\u001b[0;34m\u001b[0m\u001b[0m\n",
      "\u001b[0;32m~/miniconda/lib/python3.8/site-packages/plotly/basedatatypes.py\u001b[0m in \u001b[0;36madd_traces\u001b[0;34m(self, data, rows, cols, secondary_ys)\u001b[0m\n\u001b[1;32m   1764\u001b[0m         \u001b[0;32mif\u001b[0m \u001b[0mrows\u001b[0m \u001b[0;32mis\u001b[0m \u001b[0;32mnot\u001b[0m \u001b[0;32mNone\u001b[0m\u001b[0;34m:\u001b[0m\u001b[0;34m\u001b[0m\u001b[0;34m\u001b[0m\u001b[0m\n\u001b[1;32m   1765\u001b[0m             \u001b[0;32mfor\u001b[0m \u001b[0mtrace\u001b[0m\u001b[0;34m,\u001b[0m \u001b[0mrow\u001b[0m\u001b[0;34m,\u001b[0m \u001b[0mcol\u001b[0m\u001b[0;34m,\u001b[0m \u001b[0msecondary_y\u001b[0m \u001b[0;32min\u001b[0m \u001b[0mzip\u001b[0m\u001b[0;34m(\u001b[0m\u001b[0mdata\u001b[0m\u001b[0;34m,\u001b[0m \u001b[0mrows\u001b[0m\u001b[0;34m,\u001b[0m \u001b[0mcols\u001b[0m\u001b[0;34m,\u001b[0m \u001b[0msecondary_ys\u001b[0m\u001b[0;34m)\u001b[0m\u001b[0;34m:\u001b[0m\u001b[0;34m\u001b[0m\u001b[0;34m\u001b[0m\u001b[0m\n\u001b[0;32m-> 1766\u001b[0;31m                 \u001b[0mself\u001b[0m\u001b[0;34m.\u001b[0m\u001b[0m_set_trace_grid_position\u001b[0m\u001b[0;34m(\u001b[0m\u001b[0mtrace\u001b[0m\u001b[0;34m,\u001b[0m \u001b[0mrow\u001b[0m\u001b[0;34m,\u001b[0m \u001b[0mcol\u001b[0m\u001b[0;34m,\u001b[0m \u001b[0msecondary_y\u001b[0m\u001b[0;34m)\u001b[0m\u001b[0;34m\u001b[0m\u001b[0;34m\u001b[0m\u001b[0m\n\u001b[0m\u001b[1;32m   1767\u001b[0m \u001b[0;34m\u001b[0m\u001b[0m\n\u001b[1;32m   1768\u001b[0m         \u001b[0;31m# Make deep copy of trace data (Optimize later if needed)\u001b[0m\u001b[0;34m\u001b[0m\u001b[0;34m\u001b[0m\u001b[0;34m\u001b[0m\u001b[0m\n",
      "\u001b[0;32m~/miniconda/lib/python3.8/site-packages/plotly/basedatatypes.py\u001b[0m in \u001b[0;36m_set_trace_grid_position\u001b[0;34m(self, trace, row, col, secondary_y)\u001b[0m\n\u001b[1;32m   1846\u001b[0m \u001b[0;34m\u001b[0m\u001b[0m\n\u001b[1;32m   1847\u001b[0m         \u001b[0mgrid_ref\u001b[0m \u001b[0;34m=\u001b[0m \u001b[0mself\u001b[0m\u001b[0;34m.\u001b[0m\u001b[0m_validate_get_grid_ref\u001b[0m\u001b[0;34m(\u001b[0m\u001b[0;34m)\u001b[0m\u001b[0;34m\u001b[0m\u001b[0;34m\u001b[0m\u001b[0m\n\u001b[0;32m-> 1848\u001b[0;31m         return _set_trace_grid_reference(\n\u001b[0m\u001b[1;32m   1849\u001b[0m             \u001b[0mtrace\u001b[0m\u001b[0;34m,\u001b[0m \u001b[0mself\u001b[0m\u001b[0;34m.\u001b[0m\u001b[0mlayout\u001b[0m\u001b[0;34m,\u001b[0m \u001b[0mgrid_ref\u001b[0m\u001b[0;34m,\u001b[0m \u001b[0mrow\u001b[0m\u001b[0;34m,\u001b[0m \u001b[0mcol\u001b[0m\u001b[0;34m,\u001b[0m \u001b[0msecondary_y\u001b[0m\u001b[0;34m\u001b[0m\u001b[0;34m\u001b[0m\u001b[0m\n\u001b[1;32m   1850\u001b[0m         )\n",
      "\u001b[0;32m~/miniconda/lib/python3.8/site-packages/plotly/subplots.py\u001b[0m in \u001b[0;36m_set_trace_grid_reference\u001b[0;34m(trace, layout, grid_ref, row, col, secondary_y)\u001b[0m\n\u001b[1;32m   1348\u001b[0m     \u001b[0;32mfor\u001b[0m \u001b[0mk\u001b[0m \u001b[0;32min\u001b[0m \u001b[0mtrace_kwargs\u001b[0m\u001b[0;34m:\u001b[0m\u001b[0;34m\u001b[0m\u001b[0;34m\u001b[0m\u001b[0m\n\u001b[1;32m   1349\u001b[0m         \u001b[0;32mif\u001b[0m \u001b[0mk\u001b[0m \u001b[0;32mnot\u001b[0m \u001b[0;32min\u001b[0m \u001b[0mtrace\u001b[0m\u001b[0;34m:\u001b[0m\u001b[0;34m\u001b[0m\u001b[0;34m\u001b[0m\u001b[0m\n\u001b[0;32m-> 1350\u001b[0;31m             raise ValueError(\n\u001b[0m\u001b[1;32m   1351\u001b[0m                 \"\"\"\\\n\u001b[1;32m   1352\u001b[0m \u001b[0mTrace\u001b[0m \u001b[0mtype\u001b[0m \u001b[0;34m'{typ}'\u001b[0m \u001b[0;32mis\u001b[0m \u001b[0;32mnot\u001b[0m \u001b[0mcompatible\u001b[0m \u001b[0;32mwith\u001b[0m \u001b[0msubplot\u001b[0m \u001b[0mtype\u001b[0m \u001b[0;34m'{subplot_type}'\u001b[0m\u001b[0;34m\u001b[0m\u001b[0;34m\u001b[0m\u001b[0m\n",
      "\u001b[0;31mValueError\u001b[0m: Trace type 'choropleth' is not compatible with subplot type 'xy'\nat grid position (1, 1) \n\nSee the docstring for the specs argument to plotly.subplots.make_subplots \nfor more information on subplot types"
     ]
    }
   ],
   "source": [
    "from plotly import subplots\n",
    "import plotly.graph_objs as go\n",
    "from plotly.offline import iplot, init_notebook_mode\n",
    "init_notebook_mode(connected = True)\n",
    "import numpy as np\n",
    "x = np.arange(1,11)\n",
    "y1 = np.exp(x)\n",
    "y2 = np.log(x)\n",
    "trace1 = go.Scatter(\n",
    "   x = x,\n",
    "   y = y1,\n",
    "   name = 'exp'\n",
    ")\n",
    "trace2 = go.Scatter(\n",
    "   x = x,\n",
    "   y = y2,\n",
    "   name = 'log'\n",
    ")\n",
    "fig = subplots.make_subplots(rows = 1, cols = 2)\n",
    "fig.append_trace(us_map.data[0], 1, 1)\n",
    "fig.append_trace(trace2, 1, 2)\n",
    "fig['layout'].update(height = 600, width = 800, title = 'subplot')\n",
    "iplot(fig)"
   ]
  },
  {
   "cell_type": "code",
   "execution_count": 89,
   "metadata": {},
   "outputs": [
    {
     "data": {
      "text/plain": [
       "tuple"
      ]
     },
     "execution_count": 89,
     "metadata": {},
     "output_type": "execute_result"
    }
   ],
   "source": [
    "type(us_map.data)"
   ]
  },
  {
   "cell_type": "code",
   "execution_count": 96,
   "metadata": {},
   "outputs": [
    {
     "data": {
      "text/plain": [
       "plotly.graph_objs._figurewidget.FigureWidget"
      ]
     },
     "execution_count": 96,
     "metadata": {},
     "output_type": "execute_result"
    }
   ],
   "source": [
    "type(clicker)"
   ]
  },
  {
   "cell_type": "code",
   "execution_count": 91,
   "metadata": {},
   "outputs": [
    {
     "data": {
      "text/plain": [
       "Choropleth({\n",
       "    'autocolorscale': False,\n",
       "    'colorbar': {'tickprefix': '$', 'title': {'text': 'GDP<br>Billions US$'}},\n",
       "    'colorscale': [[0.0, 'rgb(247,251,255)'], [0.125, 'rgb(222,235,247)'], [0.25,\n",
       "                   'rgb(198,219,239)'], [0.375, 'rgb(158,202,225)'], [0.5,\n",
       "                   'rgb(107,174,214)'], [0.625, 'rgb(66,146,198)'], [0.75,\n",
       "                   'rgb(33,113,181)'], [0.875, 'rgb(8,81,156)'], [1.0,\n",
       "                   'rgb(8,48,107)']],\n",
       "    'locationmode': 'country names',\n",
       "    'locations': array(['Albania', 'Albania', 'Algeria', ..., 'West Bank and Gaza', 'Zimbabwe',\n",
       "                        'Zimbabwe'], dtype=object),\n",
       "    'marker': {'line': {'color': 'darkgray', 'width': 0.5}},\n",
       "    'reversescale': True,\n",
       "    'text': array(['Albania', 'Albania', 'Algeria', ..., 'West Bank and Gaza', 'Zimbabwe',\n",
       "                   'Zimbabwe'], dtype=object),\n",
       "    'z': array([2866376, 2866376, 42228429, ..., 4569087, 14439018, 14439018],\n",
       "               dtype=object)\n",
       "})"
      ]
     },
     "execution_count": 91,
     "metadata": {},
     "output_type": "execute_result"
    }
   ],
   "source": [
    "us_map.data[0]"
   ]
  },
  {
   "cell_type": "code",
   "execution_count": null,
   "metadata": {},
   "outputs": [],
   "source": []
  }
 ],
 "metadata": {
  "kernelspec": {
   "display_name": "Python 3",
   "language": "python",
   "name": "python3"
  },
  "language_info": {
   "codemirror_mode": {
    "name": "ipython",
    "version": 3
   },
   "file_extension": ".py",
   "mimetype": "text/x-python",
   "name": "python",
   "nbconvert_exporter": "python",
   "pygments_lexer": "ipython3",
   "version": "3.8.3"
  }
 },
 "nbformat": 4,
 "nbformat_minor": 4
}
